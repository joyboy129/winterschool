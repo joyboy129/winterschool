{
  "nbformat": 4,
  "nbformat_minor": 0,
  "metadata": {
    "colab": {
      "provenance": []
    },
    "kernelspec": {
      "name": "python3",
      "display_name": "Python 3"
    },
    "language_info": {
      "name": "python"
    },
    "widgets": {
      "application/vnd.jupyter.widget-state+json": {
        "d998f19bdb9d4ead8f0c7aa805b3cb86": {
          "model_module": "@jupyter-widgets/controls",
          "model_name": "HBoxModel",
          "model_module_version": "1.5.0",
          "state": {
            "_dom_classes": [],
            "_model_module": "@jupyter-widgets/controls",
            "_model_module_version": "1.5.0",
            "_model_name": "HBoxModel",
            "_view_count": null,
            "_view_module": "@jupyter-widgets/controls",
            "_view_module_version": "1.5.0",
            "_view_name": "HBoxView",
            "box_style": "",
            "children": [
              "IPY_MODEL_eea1489711194bb89934469af042680d",
              "IPY_MODEL_9b777b6ccbcb4267bc11eeadc371a3b5",
              "IPY_MODEL_5079d0713c9d4274bad01357d615fe96"
            ],
            "layout": "IPY_MODEL_47b2921e42ba4d1eb70d6e54a619859f"
          }
        },
        "eea1489711194bb89934469af042680d": {
          "model_module": "@jupyter-widgets/controls",
          "model_name": "HTMLModel",
          "model_module_version": "1.5.0",
          "state": {
            "_dom_classes": [],
            "_model_module": "@jupyter-widgets/controls",
            "_model_module_version": "1.5.0",
            "_model_name": "HTMLModel",
            "_view_count": null,
            "_view_module": "@jupyter-widgets/controls",
            "_view_module_version": "1.5.0",
            "_view_name": "HTMLView",
            "description": "",
            "description_tooltip": null,
            "layout": "IPY_MODEL_a4d7d75e127a474fb6a4ea25da841800",
            "placeholder": "​",
            "style": "IPY_MODEL_a815b920a34c4cfb899f7b2fab5c9d4e",
            "value": "config.json: 100%"
          }
        },
        "9b777b6ccbcb4267bc11eeadc371a3b5": {
          "model_module": "@jupyter-widgets/controls",
          "model_name": "FloatProgressModel",
          "model_module_version": "1.5.0",
          "state": {
            "_dom_classes": [],
            "_model_module": "@jupyter-widgets/controls",
            "_model_module_version": "1.5.0",
            "_model_name": "FloatProgressModel",
            "_view_count": null,
            "_view_module": "@jupyter-widgets/controls",
            "_view_module_version": "1.5.0",
            "_view_name": "ProgressView",
            "bar_style": "success",
            "description": "",
            "description_tooltip": null,
            "layout": "IPY_MODEL_fcbb585ed0884015b89cb548b38e6343",
            "max": 1469,
            "min": 0,
            "orientation": "horizontal",
            "style": "IPY_MODEL_51285d271b924fbca1d70d2dc9fb2a1e",
            "value": 1469
          }
        },
        "5079d0713c9d4274bad01357d615fe96": {
          "model_module": "@jupyter-widgets/controls",
          "model_name": "HTMLModel",
          "model_module_version": "1.5.0",
          "state": {
            "_dom_classes": [],
            "_model_module": "@jupyter-widgets/controls",
            "_model_module_version": "1.5.0",
            "_model_name": "HTMLModel",
            "_view_count": null,
            "_view_module": "@jupyter-widgets/controls",
            "_view_module_version": "1.5.0",
            "_view_name": "HTMLView",
            "description": "",
            "description_tooltip": null,
            "layout": "IPY_MODEL_6a494a17fc494c40ac01c67028b902f9",
            "placeholder": "​",
            "style": "IPY_MODEL_974231f44d8549f088a1d98b5f6e4157",
            "value": " 1.47k/1.47k [00:00&lt;00:00, 72.6kB/s]"
          }
        },
        "47b2921e42ba4d1eb70d6e54a619859f": {
          "model_module": "@jupyter-widgets/base",
          "model_name": "LayoutModel",
          "model_module_version": "1.2.0",
          "state": {
            "_model_module": "@jupyter-widgets/base",
            "_model_module_version": "1.2.0",
            "_model_name": "LayoutModel",
            "_view_count": null,
            "_view_module": "@jupyter-widgets/base",
            "_view_module_version": "1.2.0",
            "_view_name": "LayoutView",
            "align_content": null,
            "align_items": null,
            "align_self": null,
            "border": null,
            "bottom": null,
            "display": null,
            "flex": null,
            "flex_flow": null,
            "grid_area": null,
            "grid_auto_columns": null,
            "grid_auto_flow": null,
            "grid_auto_rows": null,
            "grid_column": null,
            "grid_gap": null,
            "grid_row": null,
            "grid_template_areas": null,
            "grid_template_columns": null,
            "grid_template_rows": null,
            "height": null,
            "justify_content": null,
            "justify_items": null,
            "left": null,
            "margin": null,
            "max_height": null,
            "max_width": null,
            "min_height": null,
            "min_width": null,
            "object_fit": null,
            "object_position": null,
            "order": null,
            "overflow": null,
            "overflow_x": null,
            "overflow_y": null,
            "padding": null,
            "right": null,
            "top": null,
            "visibility": null,
            "width": null
          }
        },
        "a4d7d75e127a474fb6a4ea25da841800": {
          "model_module": "@jupyter-widgets/base",
          "model_name": "LayoutModel",
          "model_module_version": "1.2.0",
          "state": {
            "_model_module": "@jupyter-widgets/base",
            "_model_module_version": "1.2.0",
            "_model_name": "LayoutModel",
            "_view_count": null,
            "_view_module": "@jupyter-widgets/base",
            "_view_module_version": "1.2.0",
            "_view_name": "LayoutView",
            "align_content": null,
            "align_items": null,
            "align_self": null,
            "border": null,
            "bottom": null,
            "display": null,
            "flex": null,
            "flex_flow": null,
            "grid_area": null,
            "grid_auto_columns": null,
            "grid_auto_flow": null,
            "grid_auto_rows": null,
            "grid_column": null,
            "grid_gap": null,
            "grid_row": null,
            "grid_template_areas": null,
            "grid_template_columns": null,
            "grid_template_rows": null,
            "height": null,
            "justify_content": null,
            "justify_items": null,
            "left": null,
            "margin": null,
            "max_height": null,
            "max_width": null,
            "min_height": null,
            "min_width": null,
            "object_fit": null,
            "object_position": null,
            "order": null,
            "overflow": null,
            "overflow_x": null,
            "overflow_y": null,
            "padding": null,
            "right": null,
            "top": null,
            "visibility": null,
            "width": null
          }
        },
        "a815b920a34c4cfb899f7b2fab5c9d4e": {
          "model_module": "@jupyter-widgets/controls",
          "model_name": "DescriptionStyleModel",
          "model_module_version": "1.5.0",
          "state": {
            "_model_module": "@jupyter-widgets/controls",
            "_model_module_version": "1.5.0",
            "_model_name": "DescriptionStyleModel",
            "_view_count": null,
            "_view_module": "@jupyter-widgets/base",
            "_view_module_version": "1.2.0",
            "_view_name": "StyleView",
            "description_width": ""
          }
        },
        "fcbb585ed0884015b89cb548b38e6343": {
          "model_module": "@jupyter-widgets/base",
          "model_name": "LayoutModel",
          "model_module_version": "1.2.0",
          "state": {
            "_model_module": "@jupyter-widgets/base",
            "_model_module_version": "1.2.0",
            "_model_name": "LayoutModel",
            "_view_count": null,
            "_view_module": "@jupyter-widgets/base",
            "_view_module_version": "1.2.0",
            "_view_name": "LayoutView",
            "align_content": null,
            "align_items": null,
            "align_self": null,
            "border": null,
            "bottom": null,
            "display": null,
            "flex": null,
            "flex_flow": null,
            "grid_area": null,
            "grid_auto_columns": null,
            "grid_auto_flow": null,
            "grid_auto_rows": null,
            "grid_column": null,
            "grid_gap": null,
            "grid_row": null,
            "grid_template_areas": null,
            "grid_template_columns": null,
            "grid_template_rows": null,
            "height": null,
            "justify_content": null,
            "justify_items": null,
            "left": null,
            "margin": null,
            "max_height": null,
            "max_width": null,
            "min_height": null,
            "min_width": null,
            "object_fit": null,
            "object_position": null,
            "order": null,
            "overflow": null,
            "overflow_x": null,
            "overflow_y": null,
            "padding": null,
            "right": null,
            "top": null,
            "visibility": null,
            "width": null
          }
        },
        "51285d271b924fbca1d70d2dc9fb2a1e": {
          "model_module": "@jupyter-widgets/controls",
          "model_name": "ProgressStyleModel",
          "model_module_version": "1.5.0",
          "state": {
            "_model_module": "@jupyter-widgets/controls",
            "_model_module_version": "1.5.0",
            "_model_name": "ProgressStyleModel",
            "_view_count": null,
            "_view_module": "@jupyter-widgets/base",
            "_view_module_version": "1.2.0",
            "_view_name": "StyleView",
            "bar_color": null,
            "description_width": ""
          }
        },
        "6a494a17fc494c40ac01c67028b902f9": {
          "model_module": "@jupyter-widgets/base",
          "model_name": "LayoutModel",
          "model_module_version": "1.2.0",
          "state": {
            "_model_module": "@jupyter-widgets/base",
            "_model_module_version": "1.2.0",
            "_model_name": "LayoutModel",
            "_view_count": null,
            "_view_module": "@jupyter-widgets/base",
            "_view_module_version": "1.2.0",
            "_view_name": "LayoutView",
            "align_content": null,
            "align_items": null,
            "align_self": null,
            "border": null,
            "bottom": null,
            "display": null,
            "flex": null,
            "flex_flow": null,
            "grid_area": null,
            "grid_auto_columns": null,
            "grid_auto_flow": null,
            "grid_auto_rows": null,
            "grid_column": null,
            "grid_gap": null,
            "grid_row": null,
            "grid_template_areas": null,
            "grid_template_columns": null,
            "grid_template_rows": null,
            "height": null,
            "justify_content": null,
            "justify_items": null,
            "left": null,
            "margin": null,
            "max_height": null,
            "max_width": null,
            "min_height": null,
            "min_width": null,
            "object_fit": null,
            "object_position": null,
            "order": null,
            "overflow": null,
            "overflow_x": null,
            "overflow_y": null,
            "padding": null,
            "right": null,
            "top": null,
            "visibility": null,
            "width": null
          }
        },
        "974231f44d8549f088a1d98b5f6e4157": {
          "model_module": "@jupyter-widgets/controls",
          "model_name": "DescriptionStyleModel",
          "model_module_version": "1.5.0",
          "state": {
            "_model_module": "@jupyter-widgets/controls",
            "_model_module_version": "1.5.0",
            "_model_name": "DescriptionStyleModel",
            "_view_count": null,
            "_view_module": "@jupyter-widgets/base",
            "_view_module_version": "1.2.0",
            "_view_name": "StyleView",
            "description_width": ""
          }
        },
        "10ad67514d8244358d183c16f7da9eac": {
          "model_module": "@jupyter-widgets/controls",
          "model_name": "HBoxModel",
          "model_module_version": "1.5.0",
          "state": {
            "_dom_classes": [],
            "_model_module": "@jupyter-widgets/controls",
            "_model_module_version": "1.5.0",
            "_model_name": "HBoxModel",
            "_view_count": null,
            "_view_module": "@jupyter-widgets/controls",
            "_view_module_version": "1.5.0",
            "_view_name": "HBoxView",
            "box_style": "",
            "children": [
              "IPY_MODEL_65ffa23496814a3596b44c2112bd6863",
              "IPY_MODEL_efba8686344c4315a50242413444522e",
              "IPY_MODEL_253d1551282247899431087889ad5fc1"
            ],
            "layout": "IPY_MODEL_3abc4b95a06d4f75b1881d6ff14a6dbd"
          }
        },
        "65ffa23496814a3596b44c2112bd6863": {
          "model_module": "@jupyter-widgets/controls",
          "model_name": "HTMLModel",
          "model_module_version": "1.5.0",
          "state": {
            "_dom_classes": [],
            "_model_module": "@jupyter-widgets/controls",
            "_model_module_version": "1.5.0",
            "_model_name": "HTMLModel",
            "_view_count": null,
            "_view_module": "@jupyter-widgets/controls",
            "_view_module_version": "1.5.0",
            "_view_name": "HTMLView",
            "description": "",
            "description_tooltip": null,
            "layout": "IPY_MODEL_bf7e055f703f4daeb7871c7c203c75cc",
            "placeholder": "​",
            "style": "IPY_MODEL_4f132234489f484eb4381da1ca043c7c",
            "value": "model.safetensors: 100%"
          }
        },
        "efba8686344c4315a50242413444522e": {
          "model_module": "@jupyter-widgets/controls",
          "model_name": "FloatProgressModel",
          "model_module_version": "1.5.0",
          "state": {
            "_dom_classes": [],
            "_model_module": "@jupyter-widgets/controls",
            "_model_module_version": "1.5.0",
            "_model_name": "FloatProgressModel",
            "_view_count": null,
            "_view_module": "@jupyter-widgets/controls",
            "_view_module_version": "1.5.0",
            "_view_name": "ProgressView",
            "bar_style": "success",
            "description": "",
            "description_tooltip": null,
            "layout": "IPY_MODEL_6e1892a5bdd34c73b4dbbb8be2fab713",
            "max": 115434268,
            "min": 0,
            "orientation": "horizontal",
            "style": "IPY_MODEL_aa0fcb9d00534c9c95e21299f1969403",
            "value": 115434268
          }
        },
        "253d1551282247899431087889ad5fc1": {
          "model_module": "@jupyter-widgets/controls",
          "model_name": "HTMLModel",
          "model_module_version": "1.5.0",
          "state": {
            "_dom_classes": [],
            "_model_module": "@jupyter-widgets/controls",
            "_model_module_version": "1.5.0",
            "_model_name": "HTMLModel",
            "_view_count": null,
            "_view_module": "@jupyter-widgets/controls",
            "_view_module_version": "1.5.0",
            "_view_name": "HTMLView",
            "description": "",
            "description_tooltip": null,
            "layout": "IPY_MODEL_d26c097b27f74a1394d083f97de17bc4",
            "placeholder": "​",
            "style": "IPY_MODEL_7d19acd9ed8143cba1e82cb146522788",
            "value": " 115M/115M [00:01&lt;00:00, 105MB/s]"
          }
        },
        "3abc4b95a06d4f75b1881d6ff14a6dbd": {
          "model_module": "@jupyter-widgets/base",
          "model_name": "LayoutModel",
          "model_module_version": "1.2.0",
          "state": {
            "_model_module": "@jupyter-widgets/base",
            "_model_module_version": "1.2.0",
            "_model_name": "LayoutModel",
            "_view_count": null,
            "_view_module": "@jupyter-widgets/base",
            "_view_module_version": "1.2.0",
            "_view_name": "LayoutView",
            "align_content": null,
            "align_items": null,
            "align_self": null,
            "border": null,
            "bottom": null,
            "display": null,
            "flex": null,
            "flex_flow": null,
            "grid_area": null,
            "grid_auto_columns": null,
            "grid_auto_flow": null,
            "grid_auto_rows": null,
            "grid_column": null,
            "grid_gap": null,
            "grid_row": null,
            "grid_template_areas": null,
            "grid_template_columns": null,
            "grid_template_rows": null,
            "height": null,
            "justify_content": null,
            "justify_items": null,
            "left": null,
            "margin": null,
            "max_height": null,
            "max_width": null,
            "min_height": null,
            "min_width": null,
            "object_fit": null,
            "object_position": null,
            "order": null,
            "overflow": null,
            "overflow_x": null,
            "overflow_y": null,
            "padding": null,
            "right": null,
            "top": null,
            "visibility": null,
            "width": null
          }
        },
        "bf7e055f703f4daeb7871c7c203c75cc": {
          "model_module": "@jupyter-widgets/base",
          "model_name": "LayoutModel",
          "model_module_version": "1.2.0",
          "state": {
            "_model_module": "@jupyter-widgets/base",
            "_model_module_version": "1.2.0",
            "_model_name": "LayoutModel",
            "_view_count": null,
            "_view_module": "@jupyter-widgets/base",
            "_view_module_version": "1.2.0",
            "_view_name": "LayoutView",
            "align_content": null,
            "align_items": null,
            "align_self": null,
            "border": null,
            "bottom": null,
            "display": null,
            "flex": null,
            "flex_flow": null,
            "grid_area": null,
            "grid_auto_columns": null,
            "grid_auto_flow": null,
            "grid_auto_rows": null,
            "grid_column": null,
            "grid_gap": null,
            "grid_row": null,
            "grid_template_areas": null,
            "grid_template_columns": null,
            "grid_template_rows": null,
            "height": null,
            "justify_content": null,
            "justify_items": null,
            "left": null,
            "margin": null,
            "max_height": null,
            "max_width": null,
            "min_height": null,
            "min_width": null,
            "object_fit": null,
            "object_position": null,
            "order": null,
            "overflow": null,
            "overflow_x": null,
            "overflow_y": null,
            "padding": null,
            "right": null,
            "top": null,
            "visibility": null,
            "width": null
          }
        },
        "4f132234489f484eb4381da1ca043c7c": {
          "model_module": "@jupyter-widgets/controls",
          "model_name": "DescriptionStyleModel",
          "model_module_version": "1.5.0",
          "state": {
            "_model_module": "@jupyter-widgets/controls",
            "_model_module_version": "1.5.0",
            "_model_name": "DescriptionStyleModel",
            "_view_count": null,
            "_view_module": "@jupyter-widgets/base",
            "_view_module_version": "1.2.0",
            "_view_name": "StyleView",
            "description_width": ""
          }
        },
        "6e1892a5bdd34c73b4dbbb8be2fab713": {
          "model_module": "@jupyter-widgets/base",
          "model_name": "LayoutModel",
          "model_module_version": "1.2.0",
          "state": {
            "_model_module": "@jupyter-widgets/base",
            "_model_module_version": "1.2.0",
            "_model_name": "LayoutModel",
            "_view_count": null,
            "_view_module": "@jupyter-widgets/base",
            "_view_module_version": "1.2.0",
            "_view_name": "LayoutView",
            "align_content": null,
            "align_items": null,
            "align_self": null,
            "border": null,
            "bottom": null,
            "display": null,
            "flex": null,
            "flex_flow": null,
            "grid_area": null,
            "grid_auto_columns": null,
            "grid_auto_flow": null,
            "grid_auto_rows": null,
            "grid_column": null,
            "grid_gap": null,
            "grid_row": null,
            "grid_template_areas": null,
            "grid_template_columns": null,
            "grid_template_rows": null,
            "height": null,
            "justify_content": null,
            "justify_items": null,
            "left": null,
            "margin": null,
            "max_height": null,
            "max_width": null,
            "min_height": null,
            "min_width": null,
            "object_fit": null,
            "object_position": null,
            "order": null,
            "overflow": null,
            "overflow_x": null,
            "overflow_y": null,
            "padding": null,
            "right": null,
            "top": null,
            "visibility": null,
            "width": null
          }
        },
        "aa0fcb9d00534c9c95e21299f1969403": {
          "model_module": "@jupyter-widgets/controls",
          "model_name": "ProgressStyleModel",
          "model_module_version": "1.5.0",
          "state": {
            "_model_module": "@jupyter-widgets/controls",
            "_model_module_version": "1.5.0",
            "_model_name": "ProgressStyleModel",
            "_view_count": null,
            "_view_module": "@jupyter-widgets/base",
            "_view_module_version": "1.2.0",
            "_view_name": "StyleView",
            "bar_color": null,
            "description_width": ""
          }
        },
        "d26c097b27f74a1394d083f97de17bc4": {
          "model_module": "@jupyter-widgets/base",
          "model_name": "LayoutModel",
          "model_module_version": "1.2.0",
          "state": {
            "_model_module": "@jupyter-widgets/base",
            "_model_module_version": "1.2.0",
            "_model_name": "LayoutModel",
            "_view_count": null,
            "_view_module": "@jupyter-widgets/base",
            "_view_module_version": "1.2.0",
            "_view_name": "LayoutView",
            "align_content": null,
            "align_items": null,
            "align_self": null,
            "border": null,
            "bottom": null,
            "display": null,
            "flex": null,
            "flex_flow": null,
            "grid_area": null,
            "grid_auto_columns": null,
            "grid_auto_flow": null,
            "grid_auto_rows": null,
            "grid_column": null,
            "grid_gap": null,
            "grid_row": null,
            "grid_template_areas": null,
            "grid_template_columns": null,
            "grid_template_rows": null,
            "height": null,
            "justify_content": null,
            "justify_items": null,
            "left": null,
            "margin": null,
            "max_height": null,
            "max_width": null,
            "min_height": null,
            "min_width": null,
            "object_fit": null,
            "object_position": null,
            "order": null,
            "overflow": null,
            "overflow_x": null,
            "overflow_y": null,
            "padding": null,
            "right": null,
            "top": null,
            "visibility": null,
            "width": null
          }
        },
        "7d19acd9ed8143cba1e82cb146522788": {
          "model_module": "@jupyter-widgets/controls",
          "model_name": "DescriptionStyleModel",
          "model_module_version": "1.5.0",
          "state": {
            "_model_module": "@jupyter-widgets/controls",
            "_model_module_version": "1.5.0",
            "_model_name": "DescriptionStyleModel",
            "_view_count": null,
            "_view_module": "@jupyter-widgets/base",
            "_view_module_version": "1.2.0",
            "_view_name": "StyleView",
            "description_width": ""
          }
        },
        "8586fe5bc7294a73bcfd728dc129379e": {
          "model_module": "@jupyter-widgets/controls",
          "model_name": "HBoxModel",
          "model_module_version": "1.5.0",
          "state": {
            "_dom_classes": [],
            "_model_module": "@jupyter-widgets/controls",
            "_model_module_version": "1.5.0",
            "_model_name": "HBoxModel",
            "_view_count": null,
            "_view_module": "@jupyter-widgets/controls",
            "_view_module_version": "1.5.0",
            "_view_name": "HBoxView",
            "box_style": "",
            "children": [
              "IPY_MODEL_ada4e90ddd3340168361c984f6dba2fb",
              "IPY_MODEL_61ad5b596bd64a3d89ccdfb70ec23ba9",
              "IPY_MODEL_a106473485ff4eaba16b899bb13ac6ae"
            ],
            "layout": "IPY_MODEL_106655e2b82c47dea1ec4ad331893c95"
          }
        },
        "ada4e90ddd3340168361c984f6dba2fb": {
          "model_module": "@jupyter-widgets/controls",
          "model_name": "HTMLModel",
          "model_module_version": "1.5.0",
          "state": {
            "_dom_classes": [],
            "_model_module": "@jupyter-widgets/controls",
            "_model_module_version": "1.5.0",
            "_model_name": "HTMLModel",
            "_view_count": null,
            "_view_module": "@jupyter-widgets/controls",
            "_view_module_version": "1.5.0",
            "_view_name": "HTMLView",
            "description": "",
            "description_tooltip": null,
            "layout": "IPY_MODEL_eef87a98ddd644e8bdae34641632de92",
            "placeholder": "​",
            "style": "IPY_MODEL_a1cec5fcfcfa4223926b4b08df59a23b",
            "value": "model.safetensors: 100%"
          }
        },
        "61ad5b596bd64a3d89ccdfb70ec23ba9": {
          "model_module": "@jupyter-widgets/controls",
          "model_name": "FloatProgressModel",
          "model_module_version": "1.5.0",
          "state": {
            "_dom_classes": [],
            "_model_module": "@jupyter-widgets/controls",
            "_model_module_version": "1.5.0",
            "_model_name": "FloatProgressModel",
            "_view_count": null,
            "_view_module": "@jupyter-widgets/controls",
            "_view_module_version": "1.5.0",
            "_view_name": "ProgressView",
            "bar_style": "success",
            "description": "",
            "description_tooltip": null,
            "layout": "IPY_MODEL_ad7aa420d493445f81876490a1b1e9f6",
            "max": 46807446,
            "min": 0,
            "orientation": "horizontal",
            "style": "IPY_MODEL_812bd0aad0134c77bfe2e8bc30cd6720",
            "value": 46807446
          }
        },
        "a106473485ff4eaba16b899bb13ac6ae": {
          "model_module": "@jupyter-widgets/controls",
          "model_name": "HTMLModel",
          "model_module_version": "1.5.0",
          "state": {
            "_dom_classes": [],
            "_model_module": "@jupyter-widgets/controls",
            "_model_module_version": "1.5.0",
            "_model_name": "HTMLModel",
            "_view_count": null,
            "_view_module": "@jupyter-widgets/controls",
            "_view_module_version": "1.5.0",
            "_view_name": "HTMLView",
            "description": "",
            "description_tooltip": null,
            "layout": "IPY_MODEL_1417364a462d49de9473162348154704",
            "placeholder": "​",
            "style": "IPY_MODEL_1644cc3c718a4a47a7675ba747fed5b8",
            "value": " 46.8M/46.8M [00:00&lt;00:00, 115MB/s]"
          }
        },
        "106655e2b82c47dea1ec4ad331893c95": {
          "model_module": "@jupyter-widgets/base",
          "model_name": "LayoutModel",
          "model_module_version": "1.2.0",
          "state": {
            "_model_module": "@jupyter-widgets/base",
            "_model_module_version": "1.2.0",
            "_model_name": "LayoutModel",
            "_view_count": null,
            "_view_module": "@jupyter-widgets/base",
            "_view_module_version": "1.2.0",
            "_view_name": "LayoutView",
            "align_content": null,
            "align_items": null,
            "align_self": null,
            "border": null,
            "bottom": null,
            "display": null,
            "flex": null,
            "flex_flow": null,
            "grid_area": null,
            "grid_auto_columns": null,
            "grid_auto_flow": null,
            "grid_auto_rows": null,
            "grid_column": null,
            "grid_gap": null,
            "grid_row": null,
            "grid_template_areas": null,
            "grid_template_columns": null,
            "grid_template_rows": null,
            "height": null,
            "justify_content": null,
            "justify_items": null,
            "left": null,
            "margin": null,
            "max_height": null,
            "max_width": null,
            "min_height": null,
            "min_width": null,
            "object_fit": null,
            "object_position": null,
            "order": null,
            "overflow": null,
            "overflow_x": null,
            "overflow_y": null,
            "padding": null,
            "right": null,
            "top": null,
            "visibility": null,
            "width": null
          }
        },
        "eef87a98ddd644e8bdae34641632de92": {
          "model_module": "@jupyter-widgets/base",
          "model_name": "LayoutModel",
          "model_module_version": "1.2.0",
          "state": {
            "_model_module": "@jupyter-widgets/base",
            "_model_module_version": "1.2.0",
            "_model_name": "LayoutModel",
            "_view_count": null,
            "_view_module": "@jupyter-widgets/base",
            "_view_module_version": "1.2.0",
            "_view_name": "LayoutView",
            "align_content": null,
            "align_items": null,
            "align_self": null,
            "border": null,
            "bottom": null,
            "display": null,
            "flex": null,
            "flex_flow": null,
            "grid_area": null,
            "grid_auto_columns": null,
            "grid_auto_flow": null,
            "grid_auto_rows": null,
            "grid_column": null,
            "grid_gap": null,
            "grid_row": null,
            "grid_template_areas": null,
            "grid_template_columns": null,
            "grid_template_rows": null,
            "height": null,
            "justify_content": null,
            "justify_items": null,
            "left": null,
            "margin": null,
            "max_height": null,
            "max_width": null,
            "min_height": null,
            "min_width": null,
            "object_fit": null,
            "object_position": null,
            "order": null,
            "overflow": null,
            "overflow_x": null,
            "overflow_y": null,
            "padding": null,
            "right": null,
            "top": null,
            "visibility": null,
            "width": null
          }
        },
        "a1cec5fcfcfa4223926b4b08df59a23b": {
          "model_module": "@jupyter-widgets/controls",
          "model_name": "DescriptionStyleModel",
          "model_module_version": "1.5.0",
          "state": {
            "_model_module": "@jupyter-widgets/controls",
            "_model_module_version": "1.5.0",
            "_model_name": "DescriptionStyleModel",
            "_view_count": null,
            "_view_module": "@jupyter-widgets/base",
            "_view_module_version": "1.2.0",
            "_view_name": "StyleView",
            "description_width": ""
          }
        },
        "ad7aa420d493445f81876490a1b1e9f6": {
          "model_module": "@jupyter-widgets/base",
          "model_name": "LayoutModel",
          "model_module_version": "1.2.0",
          "state": {
            "_model_module": "@jupyter-widgets/base",
            "_model_module_version": "1.2.0",
            "_model_name": "LayoutModel",
            "_view_count": null,
            "_view_module": "@jupyter-widgets/base",
            "_view_module_version": "1.2.0",
            "_view_name": "LayoutView",
            "align_content": null,
            "align_items": null,
            "align_self": null,
            "border": null,
            "bottom": null,
            "display": null,
            "flex": null,
            "flex_flow": null,
            "grid_area": null,
            "grid_auto_columns": null,
            "grid_auto_flow": null,
            "grid_auto_rows": null,
            "grid_column": null,
            "grid_gap": null,
            "grid_row": null,
            "grid_template_areas": null,
            "grid_template_columns": null,
            "grid_template_rows": null,
            "height": null,
            "justify_content": null,
            "justify_items": null,
            "left": null,
            "margin": null,
            "max_height": null,
            "max_width": null,
            "min_height": null,
            "min_width": null,
            "object_fit": null,
            "object_position": null,
            "order": null,
            "overflow": null,
            "overflow_x": null,
            "overflow_y": null,
            "padding": null,
            "right": null,
            "top": null,
            "visibility": null,
            "width": null
          }
        },
        "812bd0aad0134c77bfe2e8bc30cd6720": {
          "model_module": "@jupyter-widgets/controls",
          "model_name": "ProgressStyleModel",
          "model_module_version": "1.5.0",
          "state": {
            "_model_module": "@jupyter-widgets/controls",
            "_model_module_version": "1.5.0",
            "_model_name": "ProgressStyleModel",
            "_view_count": null,
            "_view_module": "@jupyter-widgets/base",
            "_view_module_version": "1.2.0",
            "_view_name": "StyleView",
            "bar_color": null,
            "description_width": ""
          }
        },
        "1417364a462d49de9473162348154704": {
          "model_module": "@jupyter-widgets/base",
          "model_name": "LayoutModel",
          "model_module_version": "1.2.0",
          "state": {
            "_model_module": "@jupyter-widgets/base",
            "_model_module_version": "1.2.0",
            "_model_name": "LayoutModel",
            "_view_count": null,
            "_view_module": "@jupyter-widgets/base",
            "_view_module_version": "1.2.0",
            "_view_name": "LayoutView",
            "align_content": null,
            "align_items": null,
            "align_self": null,
            "border": null,
            "bottom": null,
            "display": null,
            "flex": null,
            "flex_flow": null,
            "grid_area": null,
            "grid_auto_columns": null,
            "grid_auto_flow": null,
            "grid_auto_rows": null,
            "grid_column": null,
            "grid_gap": null,
            "grid_row": null,
            "grid_template_areas": null,
            "grid_template_columns": null,
            "grid_template_rows": null,
            "height": null,
            "justify_content": null,
            "justify_items": null,
            "left": null,
            "margin": null,
            "max_height": null,
            "max_width": null,
            "min_height": null,
            "min_width": null,
            "object_fit": null,
            "object_position": null,
            "order": null,
            "overflow": null,
            "overflow_x": null,
            "overflow_y": null,
            "padding": null,
            "right": null,
            "top": null,
            "visibility": null,
            "width": null
          }
        },
        "1644cc3c718a4a47a7675ba747fed5b8": {
          "model_module": "@jupyter-widgets/controls",
          "model_name": "DescriptionStyleModel",
          "model_module_version": "1.5.0",
          "state": {
            "_model_module": "@jupyter-widgets/controls",
            "_model_module_version": "1.5.0",
            "_model_name": "DescriptionStyleModel",
            "_view_count": null,
            "_view_module": "@jupyter-widgets/base",
            "_view_module_version": "1.2.0",
            "_view_name": "StyleView",
            "description_width": ""
          }
        }
      }
    }
  },
  "cells": [
    {
      "cell_type": "code",
      "source": [
        "!pip install \"openai>=1\" \"langchain>=0.0.331rc2\" \"unstructured[all-docs]\" pillow pydantic lxml pillow matplotlib chromadb tiktoken watermark"
      ],
      "metadata": {
        "id": "TPbT1OVBtljr"
      },
      "execution_count": null,
      "outputs": []
    },
    {
      "cell_type": "code",
      "source": [
        "!sudo apt-get install poppler-utils tesseract-ocr"
      ],
      "metadata": {
        "id": "W6uUCA38tsF6"
      },
      "execution_count": null,
      "outputs": []
    },
    {
      "cell_type": "code",
      "source": [
        "%load_ext watermark\n",
        "%watermark -a \"Sudarshan Koirala\" -vmp langchain,unstructured,openai"
      ],
      "metadata": {
        "colab": {
          "base_uri": "https://localhost:8080/"
        },
        "id": "8jZrTBnxtxK7",
        "outputId": "7a52bdb3-4f3a-4e42-d7b0-a3ab7917f15e"
      },
      "execution_count": 7,
      "outputs": [
        {
          "output_type": "stream",
          "name": "stdout",
          "text": [
            "Author: Sudarshan Koirala\n",
            "\n",
            "Python implementation: CPython\n",
            "Python version       : 3.10.12\n",
            "IPython version      : 7.34.0\n",
            "\n",
            "langchain   : 0.1.9\n",
            "unstructured: 0.10.19\n",
            "openai      : 1.12.0\n",
            "\n",
            "Compiler    : GCC 11.4.0\n",
            "OS          : Linux\n",
            "Release     : 6.1.58+\n",
            "Machine     : x86_64\n",
            "Processor   : x86_64\n",
            "CPU cores   : 2\n",
            "Architecture: 64bit\n",
            "\n"
          ]
        }
      ]
    },
    {
      "cell_type": "markdown",
      "source": [
        "# Data Loading\n",
        "Partition PDF tables, text, and images"
      ],
      "metadata": {
        "id": "1PEl8ss4zfpk"
      }
    },
    {
      "cell_type": "code",
      "source": [
        "import urllib.request\n",
        "\n",
        "url = \"https://sgp.fas.org/crs/misc/IF10244.pdf\"\n",
        "filename = \"wildfire_stats.pdf\"\n",
        "urllib.request.urlretrieve(url, filename)"
      ],
      "metadata": {
        "colab": {
          "base_uri": "https://localhost:8080/"
        },
        "id": "SjWh_xvRuJ6f",
        "outputId": "3740116d-ed72-4a92-b4cb-f9e1bb99ab4f"
      },
      "execution_count": 8,
      "outputs": [
        {
          "output_type": "execute_result",
          "data": {
            "text/plain": [
              "('wildfire_stats.pdf', <http.client.HTTPMessage at 0x7a0e80ab8ca0>)"
            ]
          },
          "metadata": {},
          "execution_count": 8
        }
      ]
    },
    {
      "cell_type": "code",
      "source": [
        "path = \"/content/\"\n"
      ],
      "metadata": {
        "id": "RsYwaybZuOLw"
      },
      "execution_count": 9,
      "outputs": []
    },
    {
      "cell_type": "code",
      "source": [
        "from unstructured.partition.pdf import partition_pdf\n",
        "# Extract images, tables, and chunk text\n",
        "raw_pdf_elements = partition_pdf(\n",
        "    filename=path + \"publication247fr.pdf\",\n",
        "    extract_images_in_pdf=True,\n",
        "    infer_table_structure=True,\n",
        "    chunking_strategy=\"by_title\",\n",
        "    max_characters=4000,\n",
        "    new_after_n_chars=3800,\n",
        "    combine_text_under_n_chars=2000,\n",
        "    image_output_dir_path=path,\n",
        ")"
      ],
      "metadata": {
        "colab": {
          "base_uri": "https://localhost:8080/",
          "height": 185,
          "referenced_widgets": [
            "d998f19bdb9d4ead8f0c7aa805b3cb86",
            "eea1489711194bb89934469af042680d",
            "9b777b6ccbcb4267bc11eeadc371a3b5",
            "5079d0713c9d4274bad01357d615fe96",
            "47b2921e42ba4d1eb70d6e54a619859f",
            "a4d7d75e127a474fb6a4ea25da841800",
            "a815b920a34c4cfb899f7b2fab5c9d4e",
            "fcbb585ed0884015b89cb548b38e6343",
            "51285d271b924fbca1d70d2dc9fb2a1e",
            "6a494a17fc494c40ac01c67028b902f9",
            "974231f44d8549f088a1d98b5f6e4157",
            "10ad67514d8244358d183c16f7da9eac",
            "65ffa23496814a3596b44c2112bd6863",
            "efba8686344c4315a50242413444522e",
            "253d1551282247899431087889ad5fc1",
            "3abc4b95a06d4f75b1881d6ff14a6dbd",
            "bf7e055f703f4daeb7871c7c203c75cc",
            "4f132234489f484eb4381da1ca043c7c",
            "6e1892a5bdd34c73b4dbbb8be2fab713",
            "aa0fcb9d00534c9c95e21299f1969403",
            "d26c097b27f74a1394d083f97de17bc4",
            "7d19acd9ed8143cba1e82cb146522788",
            "8586fe5bc7294a73bcfd728dc129379e",
            "ada4e90ddd3340168361c984f6dba2fb",
            "61ad5b596bd64a3d89ccdfb70ec23ba9",
            "a106473485ff4eaba16b899bb13ac6ae",
            "106655e2b82c47dea1ec4ad331893c95",
            "eef87a98ddd644e8bdae34641632de92",
            "a1cec5fcfcfa4223926b4b08df59a23b",
            "ad7aa420d493445f81876490a1b1e9f6",
            "812bd0aad0134c77bfe2e8bc30cd6720",
            "1417364a462d49de9473162348154704",
            "1644cc3c718a4a47a7675ba747fed5b8"
          ]
        },
        "id": "ORxUVB74uQka",
        "outputId": "9b32d44f-8b5d-4814-b7e2-7b39b6a15179"
      },
      "execution_count": 10,
      "outputs": [
        {
          "output_type": "display_data",
          "data": {
            "text/plain": [
              "config.json:   0%|          | 0.00/1.47k [00:00<?, ?B/s]"
            ],
            "application/vnd.jupyter.widget-view+json": {
              "version_major": 2,
              "version_minor": 0,
              "model_id": "d998f19bdb9d4ead8f0c7aa805b3cb86"
            }
          },
          "metadata": {}
        },
        {
          "output_type": "display_data",
          "data": {
            "text/plain": [
              "model.safetensors:   0%|          | 0.00/115M [00:00<?, ?B/s]"
            ],
            "application/vnd.jupyter.widget-view+json": {
              "version_major": 2,
              "version_minor": 0,
              "model_id": "10ad67514d8244358d183c16f7da9eac"
            }
          },
          "metadata": {}
        },
        {
          "output_type": "display_data",
          "data": {
            "text/plain": [
              "model.safetensors:   0%|          | 0.00/46.8M [00:00<?, ?B/s]"
            ],
            "application/vnd.jupyter.widget-view+json": {
              "version_major": 2,
              "version_minor": 0,
              "model_id": "8586fe5bc7294a73bcfd728dc129379e"
            }
          },
          "metadata": {}
        },
        {
          "output_type": "stream",
          "name": "stderr",
          "text": [
            "Some weights of the model checkpoint at microsoft/table-transformer-structure-recognition were not used when initializing TableTransformerForObjectDetection: ['model.backbone.conv_encoder.model.layer2.0.downsample.1.num_batches_tracked', 'model.backbone.conv_encoder.model.layer3.0.downsample.1.num_batches_tracked', 'model.backbone.conv_encoder.model.layer4.0.downsample.1.num_batches_tracked']\n",
            "- This IS expected if you are initializing TableTransformerForObjectDetection from the checkpoint of a model trained on another task or with another architecture (e.g. initializing a BertForSequenceClassification model from a BertForPreTraining model).\n",
            "- This IS NOT expected if you are initializing TableTransformerForObjectDetection from the checkpoint of a model that you expect to be exactly identical (initializing a BertForSequenceClassification model from a BertForSequenceClassification model).\n"
          ]
        }
      ]
    },
    {
      "cell_type": "code",
      "source": [
        "# Categorize by type\n",
        "tables = []\n",
        "texts = []\n",
        "for element in raw_pdf_elements:\n",
        "    if \"unstructured.documents.elements.Table\" in str(type(element)):\n",
        "        tables.append(str(element))\n",
        "    elif \"unstructured.documents.elements.CompositeElement\" in str(type(element)):\n",
        "        texts.append(str(element))"
      ],
      "metadata": {
        "id": "F70OZBxJyq4t"
      },
      "execution_count": 12,
      "outputs": []
    },
    {
      "cell_type": "code",
      "source": [
        "len(tables), len(texts)"
      ],
      "metadata": {
        "colab": {
          "base_uri": "https://localhost:8080/"
        },
        "id": "ER-9I7THzGxc",
        "outputId": "8c81fd14-334d-4bd8-eb9f-188e5cf838d0"
      },
      "execution_count": 13,
      "outputs": [
        {
          "output_type": "execute_result",
          "data": {
            "text/plain": [
              "(40, 61)"
            ]
          },
          "metadata": {},
          "execution_count": 13
        }
      ]
    },
    {
      "cell_type": "code",
      "source": [
        "tables[0]"
      ],
      "metadata": {
        "colab": {
          "base_uri": "https://localhost:8080/",
          "height": 70
        },
        "id": "38zNIyIRzKjg",
        "outputId": "267c6e6b-a7dd-477c-e6b6-c3c1476e6ee2"
      },
      "execution_count": 14,
      "outputs": [
        {
          "output_type": "execute_result",
          "data": {
            "text/plain": [
              "'Rapport d’activité 2 Comptes consolidés résumés semestriels 10 Tableau de variation de la trésorerie consolidée 12 Tableaux de variation des capitaux propres consolidés 13 Annexe aux comptes consolidés résumés semestriels 14 Attestation du responsable du rapport semestriel 29 Rapport des commissaires aux comptes sur |’information financiére semestrielle 30'"
            ],
            "application/vnd.google.colaboratory.intrinsic+json": {
              "type": "string"
            }
          },
          "metadata": {},
          "execution_count": 14
        }
      ]
    },
    {
      "cell_type": "code",
      "source": [
        "texts[0]"
      ],
      "metadata": {
        "colab": {
          "base_uri": "https://localhost:8080/",
          "height": 36
        },
        "id": "_-WnCf5DzOK1",
        "outputId": "94ad7b4c-e30e-4286-bfb5-54b8f0de2e5f"
      },
      "execution_count": 15,
      "outputs": [
        {
          "output_type": "execute_result",
          "data": {
            "text/plain": [
              "'Bolloré'"
            ],
            "application/vnd.google.colaboratory.intrinsic+json": {
              "type": "string"
            }
          },
          "metadata": {},
          "execution_count": 15
        }
      ]
    },
    {
      "cell_type": "code",
      "source": [
        "import io\n",
        "import os\n",
        "import base64\n",
        "import numpy as np\n",
        "from PIL import Image\n",
        "from langchain.chat_models import ChatOpenAI\n",
        "from langchain.schema.messages import HumanMessage, SystemMessage\n",
        "\n",
        "def encode_image(image_path):\n",
        "    ''' Getting the base64 string '''\n",
        "    with open(image_path, \"rb\") as image_file:\n",
        "        return base64.b64encode(image_file.read()).decode('utf-8')\n",
        "\n",
        "# Store base64 encoded images\n",
        "img_base64_list = []\n",
        "\n",
        "# Store image summaries\n",
        "image_summaries = []\n",
        "\n",
        "# Prompt\n",
        "prompt = \"Describe the image in detail. Be specific about graphs, such as bar plots.\"\n",
        "\n",
        "# Read images, encode to base64 strings\n",
        "for img_file in sorted(os.listdir(path)):\n",
        "    if img_file.endswith('.jpg'):\n",
        "        img_path = os.path.join(path, img_file)\n",
        "        base64_image = encode_image(img_path)\n",
        "        img_base64_list.append(base64_image)\n",
        "        #image_summaries.append(image_summarize(base64_image,prompt))"
      ],
      "metadata": {
        "id": "-YkM6HNk2rKZ"
      },
      "execution_count": 21,
      "outputs": []
    },
    {
      "cell_type": "code",
      "source": [
        "len(img_base64_list)"
      ],
      "metadata": {
        "colab": {
          "base_uri": "https://localhost:8080/"
        },
        "id": "MOhW5GQH3DB-",
        "outputId": "f7efcc1d-4d6a-434a-c840-e5326ec52759"
      },
      "execution_count": 22,
      "outputs": [
        {
          "output_type": "execute_result",
          "data": {
            "text/plain": [
              "1"
            ]
          },
          "metadata": {},
          "execution_count": 22
        }
      ]
    },
    {
      "cell_type": "code",
      "source": [
        "from IPython.display import display, HTML\n",
        "\n",
        "def plt_img_base64(img_base64):\n",
        "\n",
        "    # Create an HTML img tag with the base64 string as the source\n",
        "    image_html = f'<img src=\"data:image/jpeg;base64,{img_base64}\" />'\n",
        "\n",
        "    # Display the image by rendering the HTML\n",
        "    display(HTML(image_html))\n",
        "\n",
        "plt_img_base64(img_base64_list[0])"
      ],
      "metadata": {
        "colab": {
          "base_uri": "https://localhost:8080/",
          "height": 124
        },
        "id": "OygCBuSo3jgv",
        "outputId": "ec073558-3467-4e0e-aff1-5a6a113c5329"
      },
      "execution_count": 23,
      "outputs": [
        {
          "output_type": "display_data",
          "data": {
            "text/plain": [
              "<IPython.core.display.HTML object>"
            ],
            "text/html": [
              "<img src=\"data:image/jpeg;base64,/9j/4AAQSkZJRgABAQAAAQABAAD/2wBDAAgGBgcGBQgHBwcJCQgKDBQNDAsLDBkSEw8UHRofHh0aHBwgJC4nICIsIxwcKDcpLDAxNDQ0Hyc5PTgyPC4zNDL/2wBDAQkJCQwLDBgNDRgyIRwhMjIyMjIyMjIyMjIyMjIyMjIyMjIyMjIyMjIyMjIyMjIyMjIyMjIyMjIyMjIyMjIyMjL/wAARCABmAOgDASIAAhEBAxEB/8QAHwAAAQUBAQEBAQEAAAAAAAAAAAECAwQFBgcICQoL/8QAtRAAAgEDAwIEAwUFBAQAAAF9AQIDAAQRBRIhMUEGE1FhByJxFDKBkaEII0KxwRVS0fAkM2JyggkKFhcYGRolJicoKSo0NTY3ODk6Q0RFRkdISUpTVFVWV1hZWmNkZWZnaGlqc3R1dnd4eXqDhIWGh4iJipKTlJWWl5iZmqKjpKWmp6ipqrKztLW2t7i5usLDxMXGx8jJytLT1NXW19jZ2uHi4+Tl5ufo6erx8vP09fb3+Pn6/8QAHwEAAwEBAQEBAQEBAQAAAAAAAAECAwQFBgcICQoL/8QAtREAAgECBAQDBAcFBAQAAQJ3AAECAxEEBSExBhJBUQdhcRMiMoEIFEKRobHBCSMzUvAVYnLRChYkNOEl8RcYGRomJygpKjU2Nzg5OkNERUZHSElKU1RVVldYWVpjZGVmZ2hpanN0dXZ3eHl6goOEhYaHiImKkpOUlZaXmJmaoqOkpaanqKmqsrO0tba3uLm6wsPExcbHyMnK0tPU1dbX2Nna4uPk5ebn6Onq8vP09fb3+Pn6/9oADAMBAAIRAxEAPwD3+iiigAooooAKKKKACiiigAooooAKKKKACiiigAooooAjkiSQYdQw9xVOTSoXy0ZeF/7yGr+BS0AYrx6vZnMUi3CDsw+aiLxDBv8ALvEe3k9H6Vs1Bc2VvdoVniVx7igB8c8cyb4mDr7GpB0rl7jRr7TWM2mSsVHJRjmprDxOjyC3vUaGXpnsaAOjoqNJFkUMjAg9xTjnpz9aAFoopDQCFoqFriJZVjZwrt91SeTUgOaLdxK3QdRRRSGLRRRTAKKKKACiiigAooooAKKKKACiiigAooooAKKKKACiiigApMUtFACbazNT0W21FTuGyT+F1rUpCM+4oA4lZ9Q8PXHlyEtD6djXUadqlvqUQeFxnuvcVNdWsV3CY5UBB4B9K46+0660K58+Anys9R0/GgDuM+1RzSpDG0jnCqMk+lZ2kaxHqMYQkLMByvrVLxVBqWoWY07TVKtMcSTHoqd/xqopOVmRJ2jdHlnifxPc6l4oFxZTOqwttgA/iP071614X1G81LRop7+2aCcDB3cbves7w74D0zREV2Tz7gdZJOcfSurACrgDiurE1qcoqEFt1OfD0qkW5Se4p6UUtFcdzpcb6i0UwuB/EKaZox1cD6mnZj5l3JaKjDhuhz9KXJ9KXqNa7D6KSigBaKSii4C0UlZeq69Y6LHvvZtgxkcZppNuyE3bc1aK53w74stPEk1wlpHIEhP32HDVd1XX7DRY917MEHaqdOSlytakqpFrm6GrRXOeHvFtr4kuLlLNHCQfxt0NdF2pTg4O0hxkpK6FopOaKkoWikzRQAtFJRmgBaKSigANRywpPEySKGU9jT2baCSelc7D4vsbrxG2j2yvLIo+aVeVU+hqoxlLVIlySMnU9Nn0a6FzbFjDnhh/D7Gui0bWE1KEA4Wdeo9a0poUniaKRQVYciuJvrOfQtQE0WfLJyGH8qT1Hrc7oUtUtNv01C1Ey4zj5l9DVznIx3pWGLRS4opJAeTeO9Fm0OyguodTvJGd9rCRxz+QFX/Anh211PQlvb15ppHc8NIcCrPxW/5Adr/11/wq/wDDb/kUIf8AfP8ASvRlN/VVLzPPUV9Z5Se+8F2zxMbK6ubWX+EpJkZ/GuQtPF+seG9eOm6zJ59urBQ54OPWvVnYIMsQFHJJrxLxrKuv+Mmt9PHmuAIvk5yc9f1pYT942pq6KxPuWcXqe2QzLNEsicqy5Bp+cDNU9Nga1023hc/MkYBqprfiCw0KAPdPmR+EiXlnPsK4uW8rROtStG8jXzRmudtr/XL+MTQ2MVtERlRMctj6Aiq+oeINW0NfO1DTRNaj70lufuj1I5qlSbdupLqK1+h1WazddtoZ9HvPNiV8QuRkdPlNLpOs2Ws2i3NnOroeozyPrUmrf8ga9/64P/6CaUU4zSY5WlBtHnnwlXE2pD0b/CvQNatYbjSbzzYkfED4JGcfKa4D4Tf6/VP97/CvRdV/5BF5/wBcH/8AQTXTi7rEb9jnw1vYfeecfCYYuNSA6Bsfyr1HocZry/4Tf8fOqf73+FenswUEkgAc5oxv8ZoeE/hXYu6jcMVzM3i5J9RbT9KtnvZ0++yH5E+pqwZfEZj3iCzyP+WZz/PNc7pSW5v7RPY3s0ZrlLXxpFHqI07Vrd7K5PQv9xvoeldSrKVDLyDyCKmUJR3KjOMth26jNct4i8badoo8pJVnuiQoiQ5wc96XUvFf2OzRraylu7pow7RQgkJkZ5x0qlRm0nbch1YptXOoBzRnivPfDfxDm1bWl066sxE75xjt9a7DVtastFtTPeTBB/Co6sfQCnOhOEuV7hCtGa5jM8SX17ORo+mIftM4+ebHESdz9an8OeGrTw/abUHmXD8yzHkse9V7bU9X1MC4s9NSCJhw9x94j6cGoL7xJqehFZNV09WtTw08HIX6jmqtO3s4kOUebnZ1ueKrXtpHfWzQyDIPQ+hpLDULbUrNLm1lEkTjIINWscYrFqzszoTvscTYzy6HqxglJ8tjg56H3rtVYOoZTkEZBrH8QaWL21MqD96nOR3FR+GdR+02n2eQ/vYuPwpAb9FFFAHnvxW/5Adr/wBdf8KreBNP1ifw1G9rqawxFzhdmcdKtfFb/kB2v/XX/Cr/AMNv+RQh/wB8/wBK9FSccIrdzz+VSxTv2KeseFfEt9bso18sD/yz24BrC0bWYvB+oix1bSY4X/5+Uyd3vk5r1hsYrz/4qWkL6HDckASJIADWeHrOo/ZS2ZdekoR9pHodst9A+nm9Rw0GzeGB7V5f4XZ/FXjq4vrvMkMGSiHovp/KtHwPc3F54H1G2OWKK6xn/gPSs/4VOE1fUI2+8yD9Ca0jS9nCpbdETqe0lC+zPWPur247CmTQx3EDRSIHRwQQfSpRS9K85Pqd7R45ot1L4V8fy6cWP2WSXZs7Zbp/OvVdVOdFvT/0wf8A9BNeS+KV874lxrEMt50YIH1Fes6kCuhXYPUWz/8AoJrvxSV6curscWHbtOPRHn/wm/1+qf73+Feiar/yCLz/AK4P/wCgmvO/hN/r9U/3v8K9F1X/AJBF5/1wf/0E1GL/AN4fyKw38A84+E3/AB86p/vf4VufEjW5NK0MQwNtmuTtBHUCsP4Tf8fOqf73+FHxdjcCwl/gyVP15reUVLGWZlGTjhdDpfh9pSaf4bhm2nzrgF3Zup5rq+1ZHhiVZfDtiyn/AJYqPy4rYPSuGtJuo79zspRSpqxxfxF0ZL/QGu1UCa1IdWHXFN+HGsy6poRhnYtLbtt3HqRW34qKr4Zv2bp5RrifhJG4F/Jj5cqv6CumFpYWV+j0OeV44hW6kHxTs4be4sZIYVV5CdzDqetdz4U09bLw9aAnfJJGrOzdWyM81x3xZ+9poz/H/jXoOjj/AIktl/1wT/0EUVpv6tBBSilXkhiaVp1rdPeJaxJPgkuBzXlsusDW/H3mzQTXFraswWGNS3TjOBXrl2paznx1MbD9K8h+Hs62vjO5ikIDSb0GfXd/9anhdYTm9WkLEaTjFbM9DHihFUBdKvzgdBbt/hWP4h8QXGoaRcWcGhX0jSrj5oiAP0ruQMnPSlIFc0akYu9jolTk1a5558NLTVtPiuba+t5Y4eDGHGK9DByKTpkcfhSjpU1qvtJ8zRVOn7ONgIBHIzXJXcZ0XX47lBi3mPIHautPSs7XLL7bp0iAfOvzKfQ1maGgGDLuHI7UVmaBdm60uPcfnT5Wz7UUAcH8S9c0+/0+3tbW5jllWTLBGBx0q78ONe06PQBZS3MccsbnIdguenrXZLoelo5YWEG48k7AaZL4e0mX71hD+C4/lXb7am6XsrM5FRn7T2mg+41zS7eEySX9sqgcnzB/jXl3jDxC/i68i0zR4pJoUPLBTgt9a9GbwhoTn5tPQ+xZv8a0LTSrGwGLW1iiH+ytZ0alOk+aKuyqlOdVcr0RleEdAGhaClrLgyv80mPU1xF9YXHgbxaNUjjdtNmY7ygztB9a9YA68YqGaCO4Ro5Y1kQ8EMMilDENScpa33KlQTikuhHY6ha6japcW0ySIwz8pzioNV1uz0izee6lVcAlVzyx9AKpf8IlpiOWgje3yckRyEA/rU0XhnTI5BI8HmuOQZGLfzNZr2dynz2scV4S0K61XxHN4j1CIxxsxMSuOSOxrttf1G0tNJu0nnjRmgcAMwBOQa1VVUUKqhQOgA4qldaTY3sglubZJWAwC2audb2k1KWyIjRcINR6nm3ws1C1gutQSaeONpG+UOwGfpXomuajaWukXQmuIoy0LBQzgE5B6etKNB0vOfsEII6FVxUtzpFjdurXFqkhQYXdziqrVoVKnOFOlKFPkPNPhbf2tteags08aF2+XcwGeldz4t0JPEWhvApHmKN8be9Xf7A0rcGFhCpHcLitBQAoRRgDgUVMQpVVVhowp0GqfJI8+8B68dNR9C1fMFxCx8svwGGexr0ISKRnIx1zmqF/oenalg3VqjsOjdCPxFUx4VsBgbp9g/h81sfzqKk4VHzbXHThOC5dznvHesm+hGhaVme6nYB/L+YKPfHSt7wnoSeHdES3JHmn5pG960rLSLHT/wDj2t0QnqcZJ/E81cZQVKsMg8EUSrLk5I7DjTfPzy3PKfinfWtxcWEcM8btGcsFYHFd7oGr2Fzo1isV1CW8lF27xnIA7VY/sDSg5b7BCxJ6sM0sWh6bFKskdnGjqcqVyMVc6sJU1DsRTpSjUc+5pFQVIrx/xjoF54f8QjWrCNzAz78opO1u+f1r2GopoUnRo5FDoRgqRxU0K7pSv0LrUlUjY5TQPH+k6nbqLidbe4UYdZDjmtW88V6LZpue/hc9ljcMT+Aqpd+BPD95LvewVW9UJGf1qaw8HaJpz74bFC46MxLfzq5PDvVX9CI+3WjsTaJqd1qyS3Mls1vbk/ug4wxHrWyOnFNCgDAGAOlOXpXNJps3SstxfpSEZUg0tLSKMKwT7FrdzajhJh5ie3r/ADoqxqMflXtpdg42tsY+x/8A1UUAaZFFFFCEGKDmiigaFFJRRSGLRRRQIOtFFFPqLoJS0UUFWEpaKKTJCjFFFCBh0ooopsEGKKKKB2CiiikIMUlFFMYUoNFFAdApaKKSApamobT5c/wjIooopgf/2Q==\" />"
            ]
          },
          "metadata": {}
        }
      ]
    },
    {
      "cell_type": "code",
      "source": [
        "from unstructured.partition.pdf import partition_pdf\n",
        "# Extract images, tables, and chunk text\n",
        "raw_pdf_elements = partition_pdf(\n",
        "    filename=path + \"getty.pdf\",\n",
        "    extract_images_in_pdf=True,\n",
        "    infer_table_structure=True,\n",
        "    chunking_strategy=\"by_title\",\n",
        "    max_characters=4000,\n",
        "    new_after_n_chars=3800,\n",
        "    combine_text_under_n_chars=2000,\n",
        "    image_output_dir_path=path,\n",
        ")\n",
        "# Categorize by type\n",
        "tables = []\n",
        "texts = []\n",
        "for element in raw_pdf_elements:\n",
        "    if \"unstructured.documents.elements.Table\" in str(type(element)):\n",
        "        tables.append(str(element))\n",
        "    elif \"unstructured.documents.elements.CompositeElement\" in str(type(element)):\n",
        "        texts.append(str(element))\n",
        "len(tables), len(texts)"
      ],
      "metadata": {
        "colab": {
          "base_uri": "https://localhost:8080/"
        },
        "id": "gi5BHvPS4eww",
        "outputId": "26ef124d-ddd6-4d6a-d15f-e72032f4818b"
      },
      "execution_count": 24,
      "outputs": [
        {
          "output_type": "execute_result",
          "data": {
            "text/plain": [
              "(2, 195)"
            ]
          },
          "metadata": {},
          "execution_count": 24
        }
      ]
    },
    {
      "cell_type": "code",
      "source": [
        "tables[0], texts[0]"
      ],
      "metadata": {
        "colab": {
          "base_uri": "https://localhost:8080/"
        },
        "id": "0t0TaWlB4uCn",
        "outputId": "dd9c0838-af6c-469a-9a52-0cb1e52fd7df"
      },
      "execution_count": 25,
      "outputs": [
        {
          "output_type": "execute_result",
          "data": {
            "text/plain": [
              "('1-21 Italian Renaissance and Baroque Paintings of the 14th-17th centuries DADDI, GENTILE, MASACCIO, VIVARINL, CARPACCIO, MASTER OF THE LATHROP TONDO, RAPHAEL, FERRARI, BACCHIACCA, VERONESE, LOTTO, LANFRANCO, CASTIGLIONE, DOLCI, ROSA, RICCI, CANALETTO, MAGNASCO 22-40 Dutch and Flemish Paintings of the 15th-17th centuries VAN DER WEYDEN, MASTER OF THE ST. BARTHOLOMEW ALTAR, MASTER OF THE PARLEMENT DE PARIS, VAN ORLEY, MOR, VAN DYCK, HONTHORST, ELIASZ., KALF, CLAESZ., LOEVENSZ., REMBRANDT, GELDER, BERCHEM, STEEN, SWEERTS 41-51 French and English Paintings of the 17th-19th centuries DE LA TOUR, POUSSIN, VOUET, LARGILLIERE, NATTIER, AVED,',\n",
              " 'MASTERPIECES-OF PAINTING ~INTHE 4J.PAUL GETTY |‘MUSEUM')"
            ]
          },
          "metadata": {},
          "execution_count": 25
        }
      ]
    },
    {
      "cell_type": "code",
      "source": [
        "import io\n",
        "import os\n",
        "import base64\n",
        "import numpy as np\n",
        "from PIL import Image\n",
        "from langchain.chat_models import ChatOpenAI\n",
        "from langchain.schema.messages import HumanMessage, SystemMessage\n",
        "\n",
        "def encode_image(image_path):\n",
        "    ''' Getting the base64 string '''\n",
        "    with open(image_path, \"rb\") as image_file:\n",
        "        return base64.b64encode(image_file.read()).decode('utf-8')\n",
        "\n",
        "# Store base64 encoded images\n",
        "img_base64_list = []\n",
        "\n",
        "# Prompt\n",
        "prompt = \"Describe the image in detail. Be specific about graphs, such as bar plots.\"\n",
        "\n",
        "# Read images, encode to base64 strings\n",
        "for img_file in sorted(os.listdir(path)):\n",
        "    if img_file.endswith('.jpg'):\n",
        "        img_path = os.path.join(path, img_file)\n",
        "        base64_image = encode_image(img_path)\n",
        "        img_base64_list.append(base64_image)\n",
        "        #image_summaries.append(image_summarize(base64_image,prompt))"
      ],
      "metadata": {
        "id": "b0xgeSux45vb"
      },
      "execution_count": 26,
      "outputs": []
    },
    {
      "cell_type": "code",
      "source": [
        "len(img_base64_list)"
      ],
      "metadata": {
        "colab": {
          "base_uri": "https://localhost:8080/"
        },
        "id": "mIANQBX6996X",
        "outputId": "c6977fd0-583e-43da-e147-9276e35e4a02"
      },
      "execution_count": 30,
      "outputs": [
        {
          "output_type": "execute_result",
          "data": {
            "text/plain": [
              "129"
            ]
          },
          "metadata": {},
          "execution_count": 30
        }
      ]
    },
    {
      "cell_type": "code",
      "source": [
        "img_base64_list[1]"
      ],
      "metadata": {
        "colab": {
          "base_uri": "https://localhost:8080/",
          "height": 157
        },
        "id": "LgzsvNh-9uM5",
        "outputId": "85cc9ac8-8ddd-4bd6-87b4-54f9590da7c5"
      },
      "execution_count": 27,
      "outputs": [
        {
          "output_type": "execute_result",
          "data": {
            "text/plain": [
              "'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'"
            ],
            "application/vnd.google.colaboratory.intrinsic+json": {
              "type": "string"
            }
          },
          "metadata": {},
          "execution_count": 27
        }
      ]
    },
    {
      "cell_type": "code",
      "source": [
        "from IPython.display import display, HTML\n",
        "\n",
        "def plt_img_base64(img_base64):\n",
        "\n",
        "    # Create an HTML img tag with the base64 string as the source\n",
        "    image_html = f'<img src=\"data:image/jpeg;base64,{img_base64}\" />'\n",
        "\n",
        "    # Display the image by rendering the HTML\n",
        "    display(HTML(image_html))\n",
        "\n",
        "plt_img_base64(img_base64_list[55])"
      ],
      "metadata": {
        "colab": {
          "base_uri": "https://localhost:8080/",
          "height": 1000
        },
        "id": "t5gg-_R390zc",
        "outputId": "ae95c3ef-0d71-42d7-fc16-4021d3f27da7"
      },
      "execution_count": 32,
      "outputs": [
        {
          "output_type": "display_data",
          "data": {
            "text/plain": [
              "<IPython.core.display.HTML object>"
            ],
            "text/html": [
              "<img src=\"data:image/jpeg;base64,/9j/4AAQSkZJRgABAQAAAQABAAD/2wBDAAgGBgcGBQgHBwcJCQgKDBQNDAsLDBkSEw8UHRofHh0aHBwgJC4nICIsIxwcKDcpLDAxNDQ0Hyc5PTgyPC4zNDL/2wBDAQkJCQwLDBgNDRgyIRwhMjIyMjIyMjIyMjIyMjIyMjIyMjIyMjIyMjIyMjIyMjIyMjIyMjIyMjIyMjIyMjIyMjL/wAARCASaBioDASIAAhEBAxEB/8QAHwAAAQUBAQEBAQEAAAAAAAAAAAECAwQFBgcICQoL/8QAtRAAAgEDAwIEAwUFBAQAAAF9AQIDAAQRBRIhMUEGE1FhByJxFDKBkaEII0KxwRVS0fAkM2JyggkKFhcYGRolJicoKSo0NTY3ODk6Q0RFRkdISUpTVFVWV1hZWmNkZWZnaGlqc3R1dnd4eXqDhIWGh4iJipKTlJWWl5iZmqKjpKWmp6ipqrKztLW2t7i5usLDxMXGx8jJytLT1NXW19jZ2uHi4+Tl5ufo6erx8vP09fb3+Pn6/8QAHwEAAwEBAQEBAQEBAQAAAAAAAAECAwQFBgcICQoL/8QAtREAAgECBAQDBAcFBAQAAQJ3AAECAxEEBSExBhJBUQdhcRMiMoEIFEKRobHBCSMzUvAVYnLRChYkNOEl8RcYGRomJygpKjU2Nzg5OkNERUZHSElKU1RVVldYWVpjZGVmZ2hpanN0dXZ3eHl6goOEhYaHiImKkpOUlZaXmJmaoqOkpaanqKmqsrO0tba3uLm6wsPExcbHyMnK0tPU1dbX2Nna4uPk5ebn6Onq8vP09fb3+Pn6/9oADAMBAAIRAxEAPwCUazqJH/HxJ+dJ/bGo/wDP049s1RyR0pBz1riuwND+2dRXn7XJ+Bpw13UR/wAvUtZrHApm6i7C5qf23qB/5en/ADprazqGc/aZD+NZ6k7qU8g0tRXL661qBOPtEn507+19Q/5+ZPzrMUHdT6Fdjehof25qH/P0/wCdNOtaiTn7U+PrWcSQalUjbQ2xXLx1u/A/4+nz9aBreoH/AJen/OqJ29xSZA6GlqFy8da1H/n6lpU1nUc/8fUn4ms8sDSb8UO/cRpHWdQLc3Ln8aQ6zff8/D/nWeHyaDS17jLh1XUc/wDH2/50o1PUSc/aZD+NVMhu1Ozjii7EWv7T1ANzcyfnQdTvz/y8yfnVNwcZzSKM0XYF3+1b3/n4l/Oj+1r7oLiT86pkn1oAJ60XY0XRqt/1E8n50f2vqA/5eJPzqrjAphouxl06xf8A/PxJ+dINWvz/AMvEn51SxRsyKSchNl/+1b0DP2l8/Wk/te+/5+n/ADqht2nNJVaiL41a/P8Ay3k/Og6rfj/l5cfjVTGOlJnsaHcZa/tW+bg3T/nSjUbz/n5k/OqeM0hzSswuaP8Aal6P+W8n50n9qXuf+Ph/zql1pMHNAXL51O+I4uJPzph1K/8A+fmT86qnhaavJ5pajLa6pd4/4+JfzpV1O9IyLiT86qrG3tQylRikrgWzql5jm4k/Om/2pd/8/Ev51TwRyTTGY/NzT1At/wBo3p/5eZPzpP7RvR/y8y/nUIFDCjUCcaleA83Mv50v9qXf/PxL+dUiSKRiccUAX/7RvB/y8yfnSNqV5/z8yfnVQdOaac5wDQBbGpXgPNzJj60HUro/8vEn51UCMe9LtIppBYsrqV7/AM/Ev51J/ad5/wA/Ev51HFbs54Wl8h93So66lJaD/wC0b0/8vEv5006he/8APzJ+dDQsi/NVd85p6isWjqV1/wA/En50q6hdH/l4k/OqIDdzTwSCKTugijRS+ugc+fJ+dWodQuifnmkx9aoKRxxV+NQy8isptm8Yo01u52/5bP8AnUn2iYL/AK1/zrNYER5B2t6VJbzNJHg8HNZq6K5UaCXs69JXH40pv7j/AJ7v+dUmk8sdMmnq2+PPeldsLItC6nH/AC2f86jlu5zz5z/nULDFRtgrRdoaSY9r6YIR5z/nXL6rq928+xbmUbfetqVhGrN6CuPuC0t0754zWlO7ZMkiSTUrrzP+PmT/AL6qvJqV5ni4fH+9UEzY571UZyetdSSsY6F77fdlf+Ph/wDvqlF9d/8APw//AH1Wbu5qRTTSQtC6upXgP/Hw/wD31Ug1K8PP2h/++qzsZPAqRcAYxS0CyL39o3fe4cD/AHqj/tK6Y4E8h/4FVPq+D0rotE0VrhPNkGFolJRV2NRuR2keoyLzM4/4FSXn222BDTyHjPDV1KWIjHWorqGJlERQEnvWHtmaOkrHEnULkD/XyZ/3qVb266+fJ/31W7daA75MYGM9MVANAucfdrX2sbbkOkZBvrtjtWeT/vqr1i+o3BwJZMdzuq1F4fulbdsAP0qwbbULGM+WgI60nUi9ExqFtzbgaS3t4x5rbu53VDqmty2sGyKd9ze9c5Jrd1GDHKuDVJ5XuHDyMfbNYqk73Zd10NOLUJypeSVtx/2qEnuZJl3Svsz/AHqr21pJezCJASMda6Q6KiWaneRIB0qm7aCSJg+IkAlbP+9Ux8wICJm/OsNTcW02XBZBxWvDqMTxhcjPpXLLmTNkkQ3VzNbwMTMc/wC9XMte3SyFxM2c+tWdb1AmTYrHbWUboqevauinB2v3Ik0atrqPmyBbids4/vVYvo2RUeC4Y57bq5h5t7Z7561PBdPC4LuSvoap05XumCaNq1uXikKTsxY991NWeWO8O2VgDz96tUWMF/YG4hPzgdRWHFv+0EMSSDjmoUk1dA4W3NgTyMQfNY+26nebJ6n/AL6qsN2KVdxPWs7l2JRNIX/1h/OnCZgCDIfzqHaVTd3pB8wzjmncfIibzDnPmfrThKf7/wCtRovtUoUelHMKyGeYT/H+tLnPO/8AWnbB2FJjilcfIhN+Oj/rTRIc/fP50u056UhyP4aL9BqKHvIGP3/1pDuxgN+tR8g/dqbfgc0XaCyIvMZD98/gaiaaQnl3x9aldfMHFRiIlOeapMOVDfObZjefzqRCQudxz9aiMRVRzVhBkCpuJIaNzty5z9aJUfH3m/OhlIbOaDz1oTZXKmirKCAAC/51taTH5FtLcSNgAY5NZcoPGOp6Ve1BZ0tIok+4y5YetTOd9AiuVXRnX+oyTzNtbIHTBqkZ5O5b86lMcakgDDVWlXBq4WtZGM3bVkpucLw7fnVZ53dvvN+dUmjfnBNLBA7uQc1typEX5jRgieQgbm/Orc8yWcW1HO761nyXH2ONcH5qzLq6Ep3E4NQoObt0KclEs3N9K7n52/Os+WeRlALN19apm4POSSaYr75BmuqNPlMXK51GiA7/AJixH1roR94Y3fnXP6VGQiuBWwZyHBHArzq93N2O2nZR1JLvCxkgt+dc5dTtk/ORV2/vgQQKwp581rQg0Z1ZJ7CNM+c7yaYZXPeq7SkjrQW4rtSOVknmk/xmnLI+eHqrvFJ5oDVVgLryv/epnmv61UacA5oEm7pRyhctmfJ+9UgkYDhqygW3datKzBetDiPQ1I3cr1q/abietZMLnZya0bRj1rnnojWO501mCV5qaZvKQkVTsrhghUgZ9aZc3hMTAnoa8xxcpna5JIoXkhOfc1lPLtapLq5Z1IBOc1mSO+fvGvTpx0OKcrsnZqEbg1X8zijzMDg962tcyLiyYarMbk1STGAe9WomqJIpGlG3IrQhYcZrIgZi3JzWgkoUcjmuKouh0QZekZRG2emDXL6u6lhj0rVnuCyMoJ6Vz2plhtyecVph4tSuTVmmiqZcU1rgbCDVbzKjc5rvUUcxajlB5pWkqtGwFMdznrxVWRJcWcGnecAcCqSY60Fj1zzSsBpI+40/NUYXbb1NWlJK9alqxROelNambj61G7sDUlDmOKY7cVG0jYprvlPersSSB9opomzULOcdahLEHrTsJlzfmjdVTzGxwTUkbEjk07WEaEHzkCum0+DEYNc/p8O5xxXTwsYowMVw4qTWiOmiiK8faCKxJWzIav30rEk5rKZ/mPNVRXuk1GQu3Wmb+KWVlAqqZfeuqxkTF6TfVfzMnrShveiwE26lD4GKgEiZ60pde1FhEpPelLDbVYy54zSq4PWmkBIpwafu3VAXFKkgoGTq2GzUobNVfMAbnpUqOCevFS0BaQ81Or44qspqVeWqGNFyNQxGa2LWBCRWRD1Ga2YmSCIOxrnqt2sjelYuOxE8cS9Kq6wwRMd8VFZ3RudSyrcCquvXHzMM81hCDU0mXUacTDnlOfaq4bcabI5I61AZGB4Jr00jjZbVxim7xniqnmH1NNZ2HQmmok3LobJpd2KzxO4bqakFx607BctF6QSYqospMuCeKTzsMaLBcviTNG6qSznNP+0H0osCZa3fPRvwSKgEo604ENzRYLkwbml3VGOKXIoGOL03fTAcyY7VLtX0oA6889qXGFzS7gaCcis0DGdRSYFSBeKjcEHoaZIqj5s1IF4pFWndsVOwDQQD0pCc9qD1pyjNOIDCuTSgY4qTZ7UhXBougsxm3I5pMAdqmVaQhSeoouA0LTgi96XgUZpDQbB2pwjFIpwak3EdRimgGGMA8UmypWADcHNKDxyKTCxBsamJlW5FWWbA4FMZc84pARkc0oGBQeTSkH0oaBCE00inYprfShILoUDIox70inilGfwpiEKE96QJz1qUDigDmgBvWo3Uh6m47Ujfd96SY0IiZGc0pSmqzZxg1IKSd2NrQaExQSBShj6U/BPOBTQNJEOd3AFAQip88YIFMY47U/UVyBVI/iNPKkjO6ikPpSsG4mOMZqJu/vU2yl8oGpYyJM+tS44pAuDTsgDk0AiNk4zmgAEYxSkgnGaVxheOaYMaYzjINPSB5HAUZzSKx2gEVuaNbrK+4qT2pN2HFXK1vpUkwXBHPtWlH4ePGSD+FbFraJFEeDmrUWGUkZNTz6mqgupkwaUIwc4P4VWurRIjluB16VqSzsrbQefSoJT5ow4GKhyuylHQ527Cyt8h4FZ7pz1rZvVWMEcAZrKfG6tFsZSTuRhMj0o2YAOO9DSAdKGmG0D3pMSJ/TFX4XCrzWbvxgmrCNvXg1DVzSLZooQ77m6elTBcjKLiq8JGOtXIMk4FZuLNbiqgK5daHComBVopkAEUSQrt6VGxSKvlsBlulMkXAqaSPfHsDHiojtRMFuRUtp7FIz7yM+Q+OeK49yQXGOc11F/qSRMVDAnGMZrlLiQmcsBwa1pJmdQhnXiqpQGrv34iTVEEliPeumLZztCbMGpQgAzS4G3NNV8nrxT1YiZFVRzzUsSCQ4A59KqSsQ428iur8LxWsyYlAL5qJvlVy4Ru7FPT9Cku5Vd12IOeRXYxQrBGsSdAKuRQxxIVAAFQuoXLLyfSsJ1OZG8VyjSgJxupnlRswyMkHrSiWPfjIpruvLKRWPNc0SHyMqD7vFPUxlNxIFVWmXb8xrHvtVCIRGc49DRHXYT01NqadQhKsMVzurauVUxRNlqyzez3CHbJgVUPyku5ya3hT194ylJvYTaXbe/LmmKryPtXJH0rQ0/TJ9ScMgIX1xXX2ejWtpAFdMv61s6sVoRyNmfoYlgKnysFR19a6Ar5igt3pu6ONiFXBpzMSBgVySd2b8pC9rEWwwyDXOa8sVghkiOG9K6CaUhxXCeKLiR74R87PWqppylYmb5UVWb7Quc7jVOVWQHIzUMdw0LjaflrSiljul7BumK67OJmnczgfkz3zTyxen3EJjk6cUxSMZyKu9yHc6zwpfkxtbn9aLiPbqDDisvwwjm+O0E/Sti7P/ExORg4FcUkozdjaLb3Jtvy0iKeTinjgCpFwE9/SsrGyITymCKRMYxUj88UwJhqdtRjhgcUu/HakA5zSMDmmkQyQN7UE80mMCjvRYB4PHSmNkmnCgAGk9GUmREk1FcyeWm7GashCe1NkiVxgjNF+4NEdtIJId2Me1SHhetNWMIu0DApzLkcU20KzK7ElalUEY+lMx8tToAR+FTzFDB859KCuKcq8mms22i47aDrGPzr9QRlVq9eSL52CMgcVXsG8py+PxplxJlyc1hK7kV0K11sBJC8msucjNacitM2E5+lLHo7SnMh2j3rWM4w3ZhOLkZFvas7j+6e9STbLdmwM8VrTeXBEIkA/wB6ucuWZS4LZ5rWE3UfkRUjyaFO7nMp9MVnSYfip5m61UJ+bmu6KsjmbuRy4U9Kltk82VVAxUUuC1aujW/mTqcZGaqbtG4oq7OqsLTy7DO4Z+lMMLBSpkGfXFakYRIAmR9KpTYDE4ryOduTPQlFKJhXMLHORWTeR7Ofat+9b5TgisC4ywIPWvQoyujkq6FDdlaGb5aawIPQ4qLcScV1oxuOOR3pmctT2pFBzQA1hk09OKQ43UZAoAVW+bpU4fdgYxVZetTx/epMpGhEuUArYtYsoKyoMcCugsY9yDiuOvKyN6auy2YBFb7gSTVK5KxxY6k81qxqXBBHygVi3xyzDPTiuWk7s1noZUpBfb61SmYKemaluDtfIqjK+TXpQRyN6gZPl3UofgVCT+6x3oJIwParsTc0opAygYq2oIxzWZZlmkAwcVsKBkVlPQ0jsWbVTuGTWgyjANVEAXFWVJKVxy3NVsRSRblJBxWDrLgSquOgxW/KxRPeuV1WTzLnk8CtaF3Iia0KWR6U1zxSimvyMV3IwI84pZOgph6UjMSw9KdgJ06U4IXHWmJ0qSNwOKLASxrt4NWl7CoByvSrMacg1mxoMVFKSG4q4yDHFVpVO7pUpobViqzHHNR596ndMrVZ0I6VoiRW4qJx83XtS7iRUeSTVIGxyjJxmp4uTiq4ODVm0G56GJHUaVbYwc/pWvcuIo8e1UdLGEFGouQp55xXmT96djrUrR0My6nJY88VRL802Zzgn3qASZ712xikjByuMncgHNUyxNXZcTL1wRVQrg4xWyM7jAxzT0YsOtG0AVGpxkCn0EAXB61J/D1pp4pVOTigBMHGc0qsRTnGBTQKAELGhSQaVhim96TGiX71W4UBXFVFNXbfpUse7LKLmrCIB1ao0HPFSrGXcc8+lYNlXLUK7yBVqZv3W00sEAjjyetU7iUBjzWN+aRpqkWdEQm6dw2AKo60xadua0tLBjs5Zcdc4rFvmLyfzpwV6lxTdopGaw7ZqKQbe9TOCZQMcVDOhxxXajBojX5hTlPOKVAAvNNX79UIcQobGKayilbl+KXFAEWMHdRGnBJ5yadJwmKIz8tIBRgHgU85Azimnpx1pF3E8mhASqpNSoMCmK4qVWB7ikWL14phbBxUgx1qJh81ADl5bdUnme1REgYwaXI9aAO/NoVWo1jwOa15CuORVGYLuOBXNCTZc0kVyABxTCM0rZzQK01uRoB4phPOalYc1G4wfaiQriAZOaeOKanX2pxoiJj91NJyaYpJp/FVZCTuPzgVGFw2acMk89KdgVL0DcYPmp6JzSAqOgq3bWzToXBobRSRX2fPV22s2l5YcVINObcM+la1pBiPaSc0rlpGc+mdwKiFgxbGK39nqMU3YFJIGaj2nQrlMF9PYcAVWktXQ10aqS+GWm3FvFnnApcwcpzBj20Y4q9cQKD8vSqrxH+GtE7mTViuRigDNSbMjBHNKEwmaYmiuFpxyBUm2lwMc0DREucVIozQQvTFPyAOKVwsRMnpSAHHNSBaMfN7UJAMxS05gACe1NJHy+9CVgbEzinq3y0gUGgjHSkPcCaaXzxSHvTP4c96okXpTSMtmlzSZwfakxjgexpwIqAtzSBznrQkFyVm5pGIJ5pnJpQM8miwIdtAGaQtinKCTipkgDPgikFrsLeEysM11elwi3wMdaztMsk3Ddg10cUSRoCMVEtTWGg6R9q4xjJqJpPLGE60sj72waix82e9ZtGqZDHjzC0nWqdxKMkqe9WZAzueMVRltn5wMilbULuxl3jM78nIqLyN61eNlI78jirtrprS8YxWvMkjNxbMI2e44RSauW+g3UsZYR4T3FdPbafHHcrsAYDrWk4wCB0qecagcTbaLLNNsk4Nbi+HY4lA3c1caKQSbk4xTZrmRSGz0pc5SijNOniN3ANOjj8uPaBls1Ksryzn5Dg1YEaxqWYjPYVHNcuxXRGPJanyybF5GaT5sFiM+lMOWiJIrOZSKc8hVGIOK5q61CQs0aPz61oaxqSJmJTyawYwGYkjrRCOlwbGMrMcucn1qrKATirc7iMdcCqRVmlyORW8EZORC52LtqukRJJzU0ytnDdagy2eDxWyRDYu07DzUaDCmn9BUZDdjVEkhNT2eoS2c25DxVXBNKqkHNS0noyo3TOph8XuI8MuW6VaivNQvfnClFPeuVRV2hsDIOc12OmaxbT20cBcKRWEoqOqNFJsjltL0Jkv83tTUtroKuJDya2HfcWdOmOBXN3OoX0EzZGFzxmsk+bYt6EN7eTwTNG5OBxUCXH7gqq7ie9Mmae5UySEEk02IFBit1FJEcxIqhI84x7VIrh4f9TkZ61bstMuNScOV2xjqDXTW+mWkduIggPPP1qJSUdGUlfYytDv4oP3JXaTzW+H8xge1c9qlgtjMJY+ua0dPvBPbj1FYzXUqK6GgEIfpn3o37Cc805JfLGDzUZIY1LkirELsHfpXJeJLJmfzAtdjtAfrxWTqt5ZhSjlXPoaqM3GVyZLmiecbKcu6L51PNX5oU887VAX0qLyMtXepJo5+Vpk1tKt0uyThsdahks5EcqBkGpY7bDhs49637dIJIgDjd61jOpyao0S5kUrC5/s2DKrmU96vW032ycSN941UnVVyQKNOYpJ8vrWTs1cuCNpwUYelTrHyDUGWkX5utSCQqOTXO7taHQmkNcfNTW4FPPNNPJ5qkQ7Mbu+WlBzS7RjpTQpB9qpMVx5BpuDnrS5b1pGGeT1ouTccFIGc044xx1qFmK4waeoJGQeaRSZJu20FqaeetJkDcT6UWDmHZB61G5I6U7/AJZ56mkGT/DS0C7GEAJTlxjighfL5FIpCjFFkUh+cA1E5yFp7MADRCokkXIyo6ilLRDVyYEQxYNQsvmv8vTFS3RBOMcUkGAOFrnv1Bu+gW4WF+RRd3ZKsAcUyZtrZxiqE0o3HdzmnGHM7sUpWViG5uvkNYdzNlS1S305HCHisx5NyEZNejRp2Rx1J3Imkzk1Xd+ae+AtQkZrrSsYiqPMkArrtBg2YOO9cvax/vVOO9egaRa7LMPjBzXLjJ8sPU3oQvIlmbHAHNZ80jk4rTuCAhPf1rMlYZrhp7HRNlC74WsWc/PWzduC5HasSVgWau+ijmqPUryj5TVIcPVpmOcZ4qBlGcgV1rQxCk+bdx0pFyT1pxb0piuDbfxqM0p65ppzQMchyatwpgbveqsC/PV3O1MVLZSLEL5kFdPpcmWArlLZvnBNdFprEuNvFceIXum9J+9Y6idEhtC/tXLXfzFjW7fzFbFVJOTXLXMxGRk1yYWDd2zbESSsjMuGwxqlIcHNTTuWc81XfnrXrRRwvcYMsc1LGm/k1AsuDipkmCjGKpiTL1mu1s1pxrukFUbMqeSK0IPmfiueozWJfSPdVgLhQPeo1VlUHNTODsBFcLdzpSVivfjaoNcbetvuZBXWXshERLnIArkJSGldveu3DIwq2uRlsCmqdzn6U5gCKjPynjiuowGAYDH3pppxPUU2mBKpxxT0X5qhU/MKtxrkihuwFyNMqBVpY8LUUKEgCraqe5rmk2VEa42iqr881ak561WYelNaBJ3K7dcGq0vtVlxVZ+K0iTcr54NIvOae8RUZzUQO1T61oSOPSr+mRbnqhH8xrotGgXIJUVnVlyoqOuhu2CbUqvqA3AmteOOGODqNxFZE/wA/AOR3rzacryudMtFY524GFP1qoOtal5GucAcd6zXXAJFehF3RyvcQDioyKcpPc0r4C8VoIhYcVHEvz1K3SmdDxTQxJOtC8DND9aUfcxVBYUvuFKuKhAOaceBxQIey55puOaVSfWngDd0qQALkVftU4qpjB4q7bZx1qJXGty/BF89Xba3DT8moIMggmrseA26uWcmzaKW5JeMsERwaxJG8zNTahc7m27qrQ5aVFHQ9adOFldim7uyOit4jHpIrnboEOxrp55PLshGOOOlcxeMS3Wpw7bbYVeiKags2aimO2pQSOhqvIGZuTmu1GI04xTCPm46U/FKAAKYhQBj3pcUzvTmbAoAhlYFsYp6rkdMUwcvVkJleKbAh24oqx5XyEmoAPnwaEx2ALinjrShTR0bFIFcm/hpKcinGT0qN+OlANiYoxRzRzTuB6TLMOgqu0mO2aYeBnNQsxNc8YlyZMSHHpSYx3qPdhaajEtzWiItclDZNEg3e1Iq7aR3OehxSugtYVRtGM0hpQpHJFNYgUrgC8DNAbLUbht60zPHHJobtuCXYnEgHGKQzjsM/jUSk55Bp6Q7TuNZTqWNY07oQzL2UmtnT5hFAFI5J6Vj+YTcIoUD19q0IwSckjNc86jNoQN2OUMFPTFW1n3uFUBTXOLemJwCDgVYhuvMuBJvC+xpKq0U6aN2QN35qFnKuqdjVddSLnaBketTMw27sZNauonqZ8rJyctx1FMmg81dxOKGkwFIU5PWlMoZtuafMgsUDZc/M36VBNZbZPlbIx6VoTuAfSq5k5x1qlPQhxM2W3IOP1qk7FW2Y/GtuUhjWbcxKJM1ak2TJFXcKCc9BSbfelHA9apMhoYcjnFKeR1xSswxTW5AxTbCw4A+tI+R0oDZ68VIQAlPULIjILR4zTcEY9qdux2pQ1Ahg3etOJwOaQvikPzLmk7oFawZzSbflxmkwQuabupasNOgm7FIW3AjFOKA96QKATzTBoi5waaoJapQvBoK46UxWsKv51IOnSooxg81LuBPWkMcOOatWytI+QKrAgdRmr1syqMggUnsVHc27SIou7NaKMzJjFUbSVWi4INXERmJYNhcVmaDiwXjqaXy26jketV/O2E7hk5xT2uyE2LUtFJkwVVbLn8KbJFGw3KOPSo9wdt2d30qXzd6/KpAo2KTGpbKBv/SpkGz7vFNDHbjHenMQF96l7FIlsFwZHB4zirTKQvSs+2l2RiMnqeavNdA5HapBsCgMeTxWa1sJbng4SrrzfIfQ1XEgiiOep70CEmkigjZIgOKz0V5JNxyF602W4WSRgtSmURwAVnKS6FoDPvyqjAFUrq4NvCdxwKqXusQ2sbDI3fWuYutZlu2KEnbU8rkNtIqyytcXZdjx6VajAUZJxUFtGS+SDVoxFvl6CtpSsZoiYq0nK7h6VYF5GgGLYce9CwiP3qGV0U84FTzXHylC+dbqbzETyx/d61U2DFWpCD06VEVAHBroTZk0V3j460zge9SOCeADTRGT1q0TYRcbsGgsC2BQR8/PFOSE9aCkO/hxmlGI8FMgjvmkKkGlbpSHZnR6VrCi32yNlvXNWhNHqU6x7RxXHQAgEg4q5Zag9lceYMk9MVzzo6txLjU6M9AbSbMwqPLGe+KiTQ7INkrTdI1D7VDvJz7Vplge1Zxm1oy2l0GlEhUBFwPanrtROBz1qKWYbcZ5oWQsh+U5oeoLQZewG5gO4DnvWDYfuNQMJOBXSHLR4JxgZ5rl9dbyLqKZBtz3qFr7pb01OjBGzLc5rOvNVt7MEO/zD+GsWTxEyW4jVST6iucnlmupWkkbOTTp0HLWTIlPsdBceJPNDLCCG9c1hzM8spdmJJpsSbRyKlABrqUIx2M7tjMHHWgKc9aWpoE3NQ3YErsmhg4DMcj0qc7Yx8tSYCx4qhNId2Kx+JmlrIfLMHGMYqbT87+ves4v71c08t5nQ1bjaIRepvKTs60v1pkZOMGn1zpM1bH9aaeDSilPB6U7CY0H2qTcCMYpmRSimSJSHninHA6mm5B6HNAg2ZIp56YFMVvnxTzSauNCU113IQDinZoJwKVrFWFHEQHpSKxJpy4K4qM/KeeKTGhkvC0wtkA06XlaacbaYk9Bud1X7HaImYjrVADOAPWtRIvLh9KyquyKjuQzLkg461Hv8ttop8khIbIxjpVCSQ5z7VlHVCk7Ek77+M4rGv5vL96sSXGGPPFYd9cFnPOa7KNO5zVJlW5k805PFVd2BkmnSNUOC1egkkjBu4ScmmH5R61M4UKORmq5IY4zVx10EbGi2/2mWNehLV3crCALEnRVANc54Rtg00krDhVyK1ncyMzZ715WKblUt2O2grQuEzFkJqhL15NXt4KkEgVk3sm05U8UqSCbKlwSxLViTkhzzV6WZthy1ZxJYnNejTjocs3chBOck0bgTSODnApRGcVsZiqAFNMAwDzUu3A61GcAdaYyJ2x2pA3tSN1oAoAs27DfnFWZCMDjrVaIYqVzkCokrlLYtRAIVHXNdVocOW3HtXK2+XuIwOa7jT4TDbliCOK4cXLljY3oK8rkWrOrYAbAFcrdnLnBrc1GUEnFc7cN85pYWNkKtK7KMjYaoyc0+UcE1WZiK9COxgwCjPWp4gpGMVAFNTxDFNkl6Ftq4ArWsFzyTWVCMkVt2a7VGRXLV2NYbmirZAFTuQYMgdKrRgk9DUxbjZ+NcMkdSehiaxNttW45rmO3+9Wr4guCJTF61ihjha9OhG0Djm7skPFMY8U5s4qFmBHBrdEjcZPXFFNOcU8gbOopgOVcnrV+3HFZ6MPWrsBOaiYGtB1FWNhPeoLftV+NciuObsVFaFORCBUB+6avzYxVCQ81UW2Jld1qpKnvV1+maqS9a3ixFWXcDjNVmBJ61ZlP7yq7D58CtUJFi3XDDvXVaWAqiuatEJYcV01kQoFc+IfulQWptlAzgZ4xVCRFiZu4qdZsjINQyqXOcVwR0ep0S1Me6GS1ZzLuBrauYdqE96zdmM13U2c0tzOI2nFLIp8sGpZEJbgUrr8mK2uSQOmEHNQGp2zjkVC1NDGswJxim7vm9KTGHzmkPzHNWDJMBjwaR+mKjQkPTzzQIcpp5baw4qNBzUhHzCpAlQ5PStG3HFUYwMirsRwKzkC3NWIKQOae77VODmqiSqBTJZ89K53F3NEVLkl5Cc1o6LEJbhcjpWVKSTXReH4T5JkIOB3q6vu02OmrvUl1GRS+AcAVz90wL8HNa1+6l2I6ViSsCxqaEbIVR3ZCx4qA5BzUxIJ60xlrpRkIBSOdoz1pwO7gVHIMLVAIpyM1HI27jpT0+7UZ+9TQDlHNWo3+XGKrripM4NDAtbsIahCZy1SRnccVKqDaam9i7XK20+tKkfPJqxtX1FIQA1K7CyDoMVC4zUhPzU1qaJYmOg9adspozuX0qbI9RTA7aXHaq4BJ5qZqZisUNiY4pUXmnqpJxVhbYsPlFWhEOKjkVieO1XVtiCQx59KUWz7CxXHOKiTSKUWUQWK81BJnNbDWoRCCBWfLGFDA9e1Spq5XKykrnABq/CqYB71UMG9Qwp6hgwGaynK5cFykkpAfipBkrUW35snmpgTuwOlZstFeIlSzyDmrazFgCvXFEg3bQVGD1pFXaxPTHYVDHGTHsxAyRk1GrEnrilM4IPrUTPk0irsuR3RQhRWxHLi3DMee1c6CAc7RmrKXEkhCEmlsPc0k1GTcVxTGvZVlzxVOYlCM1CzFjnNGu40kWri8klPXFNhu2TIZsmquCWIJ4qPgNgUk7EPUv/bQTye9NnmVlqmShbpSM46VqptC5Ux27NOU4WoNw9angIbryK0VTXUzdMYTnNKP4aeUBJxQU4GO1dCdzC1iE9dtSb6TaM570bRnpWghRzS4pQmelTJbs1ZtDK+zNNZSOBWnHZHuKdJY4XOKYGVzs5qMjKVoS2zfdAoTTnYdKYluUDjtTdpzzWiulyhugIoexk2Ehce9LQbTKSjtSrHk1MICnLcmhUOeOKYEBixSBADmrLrUZTPUUWJBQG6U7dspARHzim53HNAX1NPTrzy1Ic1vRXcciAKeMVyYBPerMMzxLgE1Eo3NFI27mVUbOe9Ujdbi4FZ8ty79zUIkcEkMRmhRSBzNq2uWDkVowyZj5POa561kYNksa14WUpuLYo5UUpal8Fl5zxTWkNQ+cu3AaoZJ8HrWL7GyfUv26Fjk1cfaExVCzuQTz0qd5VAYk/QUrWQ76jWDDktkelVbqVtuBUsTF1JNV7k4rN6IZTCnBcnGKwNV1ZogVRz+FW9a1QWsZgRsOe4rlJHMjfMc55pQhfVjcrBLM9z8zMSadbxfveaI1OfarMYAOcc1q9FZEruyzENgqTzOM1FvGKY2SvBrDlu9S72Qr3IXrVCe4DGpGXJINVJojnit4RSIlJjjylMbg0A4GKeMMOa1II6ULmm9CSelPUEjihjW4jQbjmn7dqYqSJxuw3NOdNxJHSovcdkVT1qCR8GrMkZAzVSQZNXETJIOVpwADgEfjTImxwOKmwSc5oe5Bc03UZLG5ILfJ6V29pd+dbh/71ebyAlxk967jTVdLGInpisKyW5pCTNP5ZeScUqyxRnBOR9awtT1eOxyinca5uXVbmXLCVlHpmso05SLdRI7+XU7SJGz1x61xuuaiL540iP3TWQ9zM4+aRj+NKhC/Njn1raFJQdzOVS6LoaIx8Cqj43cUi7h3obORVpE8zJj0FAFKo5GfSpVUelBoiNVzU8Y281FGCWq4EXbms3IpIerArVKYjeasiRBkY7VlXEzLKeuKUI3Y5MdIMNWhpjZmFU3wyA45q3pg/fCtJu8QjubmOc1IelNX3pzf6vIrlbZqgxjpTSTmmqzelP+o5pq5LGgEmpBxSZqNmPY0MRIcNSBlj4xSDFNMZZs7uPSmIfuB5AqTqtNAG3GKdQMZtxRwTg0bxuxUYPJOahspMkYhF4600OH4NRuxI96ROOtNLqxMXktzSSjDAD0oZsGkzufB9KoVixYx751GM1oTt5WcjPtUOjKfMeQ9F4FPuZBJKQOtcVV3lY1WiKU8nFZkz/MfpVy4bPSs2YkMc9MVvSiZSbZRlfIasyZdzVoykKGrPLAua74I5ZblJ0Ik5qJmw/FWZ8s/FVSME10R1MyJ2OabEu56eyFhxT7OMvcIoHU4NaN2VwWrsd74btzb6bJK38QqTIwcetXDH9m0NEU4z6VlhtsXXvXh355OR6NrJIWQ4BJrIvnC/L61pTOGjxnmufvGcynLE110os56rRSlkzVfdgYp0qMG61FL8pFd8Voc9wB+al8zbTcjIpsg+YUxDi+aTAK5pinjmkL5UgUwGPihabjuaeB8wxTQFi3OafLkEAVHF8p4qRyWZQOtR5lLsbWiWvmTxsema7C4nS3tnX2rF0eERxIxXtU19MGBU85ry6v7yodcPciZdxOrqTWPNJl+KtTsFBxwKzXOXOK7qcbI5ZO42RsriqzVLnOajbFbIgkHSpYRVcEnvVmGm9ho0bZcsoNbUJAAFZNsvIxWjACDkmuOqaQNGJsHFPm+QGT0FQRfM3FGqTeTYsc4OK5OW8kjdv3TidWuPtF4x9DVYfdpjtumdjzk0uGPfivXSsrHGODlhg1CcA8VIelRPweKoBx5GKGGFpF6A+9SSD5gO1FxMaiZXNX7c9BVROOO1XbZRuHFTLYEa1umQDV+M7RUFqo2jirDYDAYrhnq7GkVYgkYc1RmI3cVZl71UmHyZB71pBEsrs+eKgepJRtcVDK2BXQkSypJ/rKYCA5Jp55OTTXAzWiAvWcgzmte3uAorDtQAOlaUO3HSsKiuO5sW025a1IFV4yT1xWTbIBjitSKVUQjFcVXyNqbM+/XArIcfNWlqE+WIFZZfgnvXRSTsYz3IiMGo3HFTLyDnmoiecdq3RJXc/KagbrVyRVx0qm/wB6riwIRyaUjFOwB0FITkc1YDO9SLUY+9UgxQA9FxJUu3JzUSkg5qUOBUMB6jFWVfC1WU5apnwE4qGBN5tRyy4GajLgLUZYMhz60KIycHzMV1+nr9n0kn+8K5Gwiaa4RB3NdhdsLW0jh9q5sS9FE2p6XZg3Mudw96yZHwxq3cMQW571SGGbmuiEbGLIyaUt8tOKrtPFRNWhJIgwM01vnNKTgUimmhiBccUxlqwMdSKgDfvOelNCBF5pZARUpAEeR1qNTvGTSBkkJIwan8yoAccCnvwmRSZVxol5pzSE1ABz0qTHFAhA53U8t8tR4FPTk88igBzPtxRupkxBYYpQeKYHflSe1J5Zz1rS+xsRxzTDbbTk1iaOJWiQhxxnPFa1sFQHd2qpFhZAKnkH3u1RJtbDjEbKyGQyCq012zjap71E1wEt9veolHGa522zZJFpZnlc5OBiqNyGllGOAKkaQBcA1UMgDHkmhDdhMMBgNxUqoxG8dKizjvUscpVMdqbZmJnLYqQMAaRipXIHNNzU7gtB8hCsOpxTC53nHQ1HI5LUwyYfA5p2KuWRGAuc0zK+tRNKxXHNRBjnmlZhzFkyHOKWK4IbAHI71WD/AD9aA5DHAp8iYczRbnuy49xTY5SVzVMHJ9/SnbyGwOlLkDmuWfOJc01HJc5qM5C570qn060+VBccCcnvQ5IFICyKWINR7mc9DQlqK4Bi3erMDMBjNUmJDcVOku1eTzVOIKRejY4OakAI5zVa2lV16irygFcjpW0GYz7kRWmgYNWjGKb5G9sitOYlK4xAewrQt0JA4qskTdAK1LCJj1pXQ1EcVIbpT/LMmOauiBVGWINRrGWuMrwuKXNYvlK32TLZ6n0p4URjBWrzPCjYPWozPHnC4/GlzhyFeC2CKGAJz2NDIeQV4qdZxuAxxSPOvPShDaM6e0QoSBg1leW5cgIa3xmVyuKR444o+gzWsWZSjdmGIGYZIxUTRMDwua1wVb5cVJFFGHG7GKVw5UYbWzvgbTQ9lKi5Zdo9a60i2cBUUZ9aglg3na2MelJsr2Zy4jdWA65p+7ClTwRXRDT4+CcDHrWZd2A80sOh6UXuTyNGYxOOuaZux2q0bfa2KY0XtQKw2Ofb/D+tTrck+oFVdpHalH1ppXQPRmgk235s5oefPNUgSRxTcsWxWfJ1L5jSW72rgD9asx3ivjd/OsfDU5Qc9efSk0mikzeNxhcg8elU7u5AjL1WR3Py4PSqOqziO2I3AH0zWEo30NkzmdQuGnuzK2celRQknr602fJanRkAda3UVbQzuXUxinFttVvMwOtKZMjrWbjqXfsWlbNK74GKrh8UNLU8uo0IxOaiZ8dak8wdahk2seCKuO4myGRtpxQhOevFNmXLUm7aMCtCR7Z6ZzzVhGEa5PNV14+ZuKfHmQ+1RIEtR0YLvu6VMQw4zViOEKKkEY61DlqacpnsDnBqCRa0JkHaqMuAcVcWS0QZ2nipFfA60wjA54PvTOSaszJo/wB5Mo966a/1Q2lhHGnUD1rAskVZd7kBQDyfWobmZriQgn5R3rOceZ2KvZETyyXEm6Rs08DjBpAoFOrRaKxmKADxinFOKYDzxT1NSwHdKQDe4FKTT4APNyelIuKJNuMUobHanPjdx0phxUo1HR/L7093J4HFQITmp1GV5qWtSokWxs53UySJW6irQAzSNH3xxQnYbVymDxtrQ08fvgc1SkXa49Ku2fEw57US2EtGbWeKfuwmMVAnWpGYY61hdmg5c9c0ZyaRCNvWhztGaQmB64pMZpAcjNOFMQY4pm/npUh6Gogp8zocVQicMce1DPhsYpp4pmcrk9aljGlSW3ZphyX608MMdabgkZFIB2R0xTSaQc9etIQPWnYBhfJpGfpjqKaQD0NOgQyXKR9yabdkCNu3/d2PHyluaqSHq27mn3U5VhF0C1nTykNgHiuOMW5GjasIzgA5NUJ5Aw4FOupAB8rA1myz7R1rsp0+pzymugy5bIzVH7rZzT5J95xUDE12Qi0czd2DMAc4zUDDccDvUhG3jrmr+j6VJfXiqFJGecCtJSUFdgk27Iit9NkMBlPQe1WNI09jqSDHGc5xXaXWlR2loI+OnNZtu0VqzycZA4rh+tuaaR1ew5WmybUbwMggU/d71mSOfKyDSGRGkdiw596gklDDHQVnTp8qsOU7laW4bkDisuWXLEsamupghODWXPIWU461304WOWbuxZXLng4qByxYD9aN/rQQS2Qa6CSTaRg0jEZzTC7A9c0hO6gaHsRtziouhzTnOEx3pp6CgLCM2e2KcrDOajxk4p6pQFidW3dsVcsYPNuFHvVFOHArpNGtiWDlTj1rOpLli2XBXkdACtvbquMnFY15KWc81cuJW37axrmT5zXBShrc2nLoVrnkHmqG7bnvU00uR1qoxyK74I5w65prLQDgU4c1ohDITu7VbhG01BGmKlViD7VL2A17VgWA6Vf3ELxWVafM45rYjQ7Rwa5Z7lwL1oCFBI61l+J7tY4BGOpFasDkD5gVUDqa4jXbh7m9YA5UHHFZUYc1S5tU0iihH8wJPY1IW3DAGKhB25FCk5r0vU5rD2OOKjc809zmmkcUwsC8rUp5YH0qPICdeaATQJonC4Gc1btjjBqsv3Kt2y5I4rOWwG7aHKippB845qrbtggCrcpHBFcL+I1WxRmbGeKozyE8Dir8/I6VnSpit4mRHKwIFU52qxJxjFVnGetbxAiBpG5o74pMZatBMnikCpV2GfjpWaRgcVatiTUSjcR0cE4ZQdtXQ2FzjNZFsTtAxWonMWTXDUjZmsXoZ9587EgYrNOeVrXmQEk1myLiQ1rTIaGBsKahAySafNlWAFBG1a2JInNVW5apmb5sVCT81VECAthsUrDnr2pJB83FGefwrQBo+9TxUS/fqUUDRITxTQxzTQSacMZpNCJUJNTMCUxuqFac0gA61DQCy8Y5poPGKY77iKcOSAOtOwzoPDsBkuBIeAoPFXtYnLMAe1S6PD9msPNK4zWdqUvmSGuH46t+xu1ywM6dsiqinBJqzKQV4NVl6H612RMGG7g8VHnJqQimAc1RIpHFIq47040YOKaAM546VC/ynrUtNaPNABuKx8809CNowKCn7vmljX5PxoARjswetOd/lAxTZMMQM09hhQRyPagYIVyBipXUAcVVZiDxTlnOQMZpDuhWB9KXPHSpQ6snalCCgNCsQd1SeWfWnuPm4FPzTCzPXhGqjEf61C9u5yW61eEeU44NVX3Kp3Oc1xJnQ0VdgRslar3xYruBxV1ZFYFS3OKozlGUqWyKLiWhnMQwBqQMNv4VFcKIZgufl9KrifcTg4GcVPKyrk25cnNNKp1qq7MD14qxHE0kWc0rWFcSaH5Rg01W8oDdzTSX34JOKaz4fk01cVyUzbhwMU3zKaCp6jNI0eOe1JiYrtzSoBncaYSO9G8AH0p7juPZhnioC3NKjbiaa67TnNUkJjRmnAsPpTVJ9akzxQ0DIxJiSpz0zVVgPMqZWOME02gQPIcUROSaZIeOKjjZlPWlZWC5eZyRg0gO0ZqDczd6ed3l5zU8o7kZzup/GRmmjOeaUkFgCM0xl+28qMYPpWjCVeP5axlQtg4rUs1wuA2KlOwONy6CCvSnxJ/F60wEqVGamVznGOKrmZFlcei7Xwe4q5DII0zVMsSenNSocrgjinzMtJGktwGXpTGLkfJx71XiZi3DcVb3uAFA49adgICwUYblvWonBEmRUs8JY8HBqAl0680KKJbH7yvFMaQBsGkdwvJNVZZwxGOtaJWJbbLqyY5XrUUkhJ5NRxo7HhjjFV7gOp+8aYiaM/vasZGazUeQtkE1OZiMgnnFNO5D0NGOQKeOuKmEoK5b71UoiNqHPJNX2WCOVWJDe1DNE2NQtJK5Y4X0qOdVcr2qaWQBDwtZVxcOh3HBx0qNblSasSyW+0sy4JrKmceYQ36VJ9teRjltqmkIiB3MwNWjJtDI8uMYqZLbIPy1ctEiI7Zq8sChcgCk522GoaGNHZs7bcY5q4ulYIJNX1QDtzUqEnrzUSm2WoJFMWBxnAqFrMByxHOKvF2wQCaiaNmGdx+lRqXZIqRw7ct2ArlNVk8+9Ma/dFdm4KxMCOvFcpfadNDO0qrkGktxvQxZYcmoxDhqss/zYY0vy9RzVXaRJWKYNG2p3wFzioC9PcNmKxwKQEMMGmM9R+bt+tPlHcnO0DFRNheaYZC3TrQ2SvPNNKwXEzuqRIdwzQEAA4q3Gg2jFJtCSK0qYj59akgwBU0kPmJioxasvQ4pXVhrRljzfkp3m/JVfym3YzxTJCyAjNSoovmHSSVSnO6SpQd3BqJ8A8itbWM2xs5+YUkY3H6iiQ7j05q7ptm08ygjvQ3aIkrjbhfKt1X1qmhyprS1xBBOsYPGOlZikdhSjsEnZjmbAoRgRzTXIz0pqjninYlssKo6ilJxSLwBTpF+XIFSIj8zNTwnK/jV7SdJS9tpJGIyo4qskWxmX0NJtbFpNK5J/DUTU8Z3Y7UpUHtULQ0EiU55qVyAeKbzQQTSZS2ED5OKsSH92KrhRmp8hlxSHdlSY8CrNpyy1WuRg1LZN+8AJqmroV9TcToKXbmo84Ao3t61gXcnA/hpsh3cU4evemN9/igByLgU8CmjOKcCadwDFHSjJpOtK4Ck0w0pOKax4pWER8YOKSMMc805QPSpNg28UirEJX5uvNRup9ac42nNVwSW5PFVYRIQFHFXNMCiZpn7DArPZncBVXDVcDGCEBhjvWdR+6NILubMjE9TWVLc/Nin3V0BnJ5rKkuFL5q6VKxnKZLI5NU5gSKk+0A1BNcKDgV1Ri0YuzINhBzSFTTvO3cCtOx057kZK8Vo5KOrFyt6Ii0/TZLwjA5zXb2VnDpFqJMYk9aZYaf9hg3hVB9ag1LUN0JQnmvLr1pVpcq2OyFNU1d7lXUNTeeQ5biskvvB5qK4JbnNRLlBXXCkorQylNyY12KvVd7naDmpJmZlz3qo8RKZNdEUjGSaKs8m8k1Vbmrhh4NMW3LRk963TSM1cpyL81PxhamNuxNDR4HSruhFU9aKe49BTFBJosMR+TmjOacyjFMxg0WC4oTBzSr1oycUsYJNIEWbKEyzKD6129rbi3tVP41gaVaBAJHGa6C5l22wAOOK8/FTcmlE66MbJtmdeTAZYVgXMxZzV64kY7sscVizO3mHk1vShoY1GBfNMJFMDUrAFc966FoZjTnPtUg+8KaB8vNSxqO9MB5OKFbNJJ8x+XipoIgSARmpb0Av2CZK1vouFFULG3AAworUQqg+auCtO70OmlDTUj1S5Sz01mJ5IrgXcvIzH+I5roPEt6sm2EHK9xXPuVBA9uK6MJDljd9TKtK8tBhXjNAFOJ4pVxXVczGDrQ1FIaLiuM709aaBk0q8GmImAbya0bHIwDVIPwBnir1ofmFZz2A2LePB3VNIcLTYT8oFLPwtcT1ZreyKtw1UZmy2Papp3JHWqLMxOSa3ijK9xGXqapM+59tXN/UVQOFlJreIXEX/AFlLjMlMXJfirUUBZwc1bdhXFSHcRitKzsW64p8FuqqGIzVxZ1jGBxXNOb2RSRbht1ABqQ7SdgNZ5vCBwxFMN1xu3fNnrXM4ybNE0kW5hsyM1my8tU5m34JOTUL4J4rWGhmysQXfPpUUjHBzU5JAOOKrN8yN65roiTYiAyd1RkZanjIBGaRhgcVYiDFNP3qlWNuee9LKio3I5qkwKrfepQxFDHmnhAw460FADil6GgrSkHIoFYXfgUmd1LtDDFIIznrSsFh1W7OHzZ0HqcVVI6VuaJAHuFYjgVFR8sWXFXdjdkl8i1WH0Fc9dS7pTWtqMo3HnkViuVZySK5aEbalVHrYhzkGoxwDUjjHSo24FdRkyNmwKchzUfBbGKkUY6UxBKcEUofcKZJknmlUYFMAfhcingYQE0mQRg0124x2pASE7hTc7BimhsNikY7pKYC9W5qb/licVWJ2vz0xSwynY2TkUWAU/epIx8xpWI601DhqAJlHBp6knikiIOaXBVsg0hoduo3VEdxPBpefWgLntBc7io/Oq8h3Ahh+NOEyLuYsKypr5iWUDvXDY6UyK7fYSEfmsx5nX1P41O6u7l8E1Ec5+7VJWBuxC8ryyhmz9KaF/eE9AasBOM4psiNs3KpNPmuSiMru+WlSR1G3GB60wBivoafguMd6TSAceTuxVGbcbrjgYq6GO3pUezc249aLiFXAXkVGXYnrxTm4+lRHOaBMcXycYpHU7DzSAHdUjg7OlMRDCdmc88Um4gkk5HpSqDzwaQj5KAuKGpQ3GajXJ7U5sgUw5hucvUwTjOaqFiDmp0ZinAJpOI7g2c4xTTwcYpy5IzuFKBkZNAMC21KUSBkxmmt0xSAqpxjmgETBsjpQjL5mSKApA5FNCHdnHFJos14ZYmULs/WrcMQHINZMH3wO9dBbwbogcVEbXHfQRULbWznFSkFW4PFSPLHbxbTiqM99Hnhh+dVKSRKj3LDMwOQaT7QVOCayzqBD8UfaRI+dw/Op57jcbbG5a3Knoc1cS6w2DxXNG9WE4yD9DVi2vTJJnaQvqapSJ5TbmuB5m7Ptiqstw5OE5qvLcJuGCDSjO7eDxVXFykbyO3FMEbZBPSrIVcZ4NIQX9hVp3JasSGbYoA6+tQyNkZJqR5IkXBIz61WM6McDmtLEOQ0SnHpULud5JbORUjLmm7AByM1dkjMcl0RgZ6VIdQA7HP1qqQM4xSFF9KTjfUpSaJnvJH7kfjUDyO4wSTT9tKAMUML3IFXsc0qxljyeKnK+1KVx9aQXsXdPiYyYzx61uIoB4ORWTp9tJs3549K1lKrgZx9axaVzeJIUBHFNWM5qUkBMinoQVyOaNCiKODIyeKka3CgHGatKAY8Ac0kiuFHBxSGZ00RJwRxWdLE7SbNuRWzMcDNWbeGJ4d/BNZ9SnscVf+HDJD5scePbFYE1jLbuEZCua9djVNmwqDWdqGmw3OGKLxV3JaPLWt5CCCMfWoDbOTjFelrolpKSSmcdqG0KxX/ljzTU0gsnueaGzkZ9qrn3xVZoCJCDwRXpradboh2xc444rgb9fLvpVA71MZ3dkDjZXKKxANTWG446U95CrHimx/Mck4FW7k3HHsKmVjwBVZnyaljbHFS42EmXFBAzuoLEdTUaNgZzmmsruflUn6VKV2UtSTzl3ccmpFtHukZgMY9qtaZo8kx3ujAe4roILNYlZAvUU21HYtRucI0bISCuKidc+9dpP4eaY71I+lVV8NyF8EirVRWJdM5i2gaacLjFdppemCCESOPm+lWbLQ4bYgsAWrRkUBQB2rKc+daFxjY8+8SRkX+7tWSmB2rp/E1seZApxnriuWLAdDW8HdGFRWZIcMelA4YcU0GpUXJoJJo03YFWfLDLio4lwRVlRgVhKRqkWtFkMUkkXXIqiXDXLrjvVjTTi9b021Uc7blyeOaFZtlN6Ie67WpV5oyG7ilxihDQoGacVwKRetPepbLIiKVMg5oyM0GQUwK9xyaLQ4nBpZD5hqS3i2yAkVV9COpsqQyjilXBOMVECQBUkZ5rEsmBpQMmogTmnqaGrDHtgLQvK5pr8rihCVTFIBc0oPFMwfSnDgc0AIR70xjxipGGRURXNCAAvvTiSBigEUpx3NFkMgcEjrULLirMmNnFRqu447+lJuyHZjIYZt3n/wAP93FFzceYu1uDVue4W3s9gIzXNXdyxcnPaognU1JnLl0GXrbnwDVBkI53Uu8vJkmo53IHFehCLWhyPVjWfBpj/MwpFyw5FPiTe9XsBc0208+4VQO9ehWtnHb2gAUbgKxPDNgAPNkXHpmtq/u1iyikV5GLrOpU9nE9ChBQhzSKs18BGUIP51z15MGzjP5065uTvPNUC+9zzW9CkomM6lwjWSWQY/KrbQsE/wBXk1nNeGJ8Jx71GdRuEOc5FdfI3sZJ2NIojpjbg1XltgV4cD2xUEN+XbFWpCGwc9qWsXZjtdGe0DDPehYzHEc81fDJtxxmoptrR4HWrUhOJUTa3GKHtS33eaesYWpkk2N14pttC5TJltmDYIwahFuQetbcsfmHzBz9KqMu1uRVqZMomWUPNRkEnpWn5S4qBoQD0rTmJsUivy1PaoWbpUhi3cVcijWJM8ZpSkCWps2vyIM9PSi5ulK7enFZ63LBDVZ7jfnd1rkVK7uzoU7IdPKpUgdayphhs1YkfPQVVc5NdUEYydxm3nGal2bRyc0zqwqV8cc9qskaoyalUYqNTxipUIxyaQCqnNXbWE+YMmq6DLCtW1QAjNZVHZGsY3NW2UKoPtVO/n8mIyZ6dquAgR4Brm/EF0Adkbgjvg1yU488zSpLliZFxOZ52du/QVAQS3WheakGMda9JKysjluHVcUA4oDAHkjFNZh2IoAcFz3pjHacdacp4OKhc5NMRIvrS46HPWmA4Q0A8LQBYXOa0rLnqO9ZkUg3c1qWpG4VnU2BG5DjAFJOwxinQYKg54qrdnB61xr4jR7FJ+QTVRmJzgVPcSbelVGckcV0xRkiJmKkmqsr4wcdakk3ZJJpsy/u09a2W4Mktoi7CteGDkA1n2aNkVsI+zrzWVR62Cw8jy0rPnm2t1qWe7y2Kzbly5qYwuVcn+07uBTXmIIWqhOB8vWmhmzzzWvIhGtFLnAqwvPeshJSKuwSEjms5R6gSuOKhC4PWrbAEcVA6lX5FEZCZVYZlFOKZGM1IVG7NQSPg1abEQsSuee9QyuWbNOck5qAkk1ohoXvQCQetN5ozQwZKGLn0qTOBjrUAOKUMTQFyQZLcUqhs9aReuTUsYyaQXGQqS4BPeus01PIg3YzWBZwebcKoGTmusulS0sVUEbiM1zYie0TSC6sxbxy0rc1QOd3WrFwxZs1XGc81cFoQ22xjgnvUZBLAZqZuelCJzkiqEQhMNUgodSHzg49aKpCGt16UhFNY808crmgBnekZDjOaM808kY60CIwcnrQBhs5zTQpzTvu9aYCS/MtAAWAjvTuCKYmeQelNAKTwKdERnkUrAYpExjrSAnQhT0qRyNuah/gzTmJKUDGgH1o2n1oJ4puaQz02WUYxk1Gir5ee+aeykv14pABnBrzzqKzvt6VCUdjkVYlQF8CnxL82D0pXsTuyPP7vpTTGWXdnHtVt1UDAAqjK5Wbr8uKSd9gvyjCuGNRKrF+KeZMt7VLGR2q2TcTyAUJBpkceQQetSh1C4AqMg9UOKSbAhkXbJgjikbbt6U5g55Y5NJn1qkFiBY3p2GztPSrUH3MsM0HDZwOaTlcLEaKgBB64qtMBtOKsiI7ySe1Vphg4HSqiJrQiztpc7hTZenFRRs2/GeKu1xEkkfy5p0T7I8U7knB6VFIpHApoQv3eKcDgUwZIyeaeFJWkwAMM5NRSEk7hUxj+TmmrHjjPFCGmxn2hmNXIAXXLH8Kr+UByBTlcqcUpajuzVt7mG2i3OmWzip2135cRrisRZC5+bmpVXPSsuVdSlIutcSXHV6ruCr7c5pIwFfA4p+Ru560h3GshC7qamc1MW3LimjAoGmRoVz7+9WRK6Dk4qKRVBzilUBhk0b6hYnjkYvuY8Yq/DOJI9u6ss42YFFuSh60XHyo2k3Y60DeWxmqttdB+DV9FVkJHWuiDMZIiaHcfmNMNrt5Bq15Y2gkUu32rZMyktSv5bUhUg1bOF7VGSC33eKbYrFfYM0eWDU/kqTnP4UoiGetNMLFfyT60oixUrIc8U5UOOaQEKpk4o2ZlxVjZtGcUgAzkLzSY1c0rOZdgU8VccbWAABX1rIi4HNXY5yY9uM1i0brYklaQSAA/Ke1aNnEduD3rMUkuCR3rYtW3IX9KnqNExUL0qWK3MwyWx7Uw8LT7adVO05zmhjEe1RcgjNLDbrAvqD2qZ5BuyQMVD5gD7e/rUgJL+7O4d6j2l+D3p0rDHPNRLPzmqAeUW2QnGTiq0z7o1fGKtuwlTJ/OqMwaUbE+6KVhplJtzn5egrj9W0mV7p3jQnPPFd2sARTg4pqwhTuOCvpSirMp6nktxZTRkhkOfekWNli5WvUbvS7W5BZo1qhJoFk77QgAxWjkiFA84WF2bhCav2+myynd5TAfSu7TSbOIApGCfpU5hVMYQL9KXtLhyWepyFrozuQpUj3NbttocMBDNhj6VqqgK4wKhRvLlYHqelZybNErbCNG0LBEUAU/wAkqRnr1qVsOeRzSqhB60kDGYKrkVFBIzykMmB61dEfOe1L8rphVwfWh7AiIKC9NMa85qYJjnFDIvelFaDb1My/05Lq1dSM5rznUtLlsp2BQhCa9XwBwDWPrlil1YudgLjoadObhK3cmcFI82VKsxrhaURYYrjkdalVcdelbSepioiBsVIXO2miPLccVLBA80/lAnNRZFK5c0izcs0hHaqN1FiZ/rXaW9tHa2SjA3HvXOatalJCyjg81Cd2OUdLmSh21MJBUIA3YI4pkrBfu8VVrsUZ2LwZFpJJ4wPes1pHx941C7MTyaFTLc9NC8tynm89MUxpNzfLVB92ODVmDIX3q3FInmbLSLwKuIMMtVIjkCrpGNprGTNY7F3GQKcBikHG36UoznmouOxIBSn5VzTQ1PzuXBoARWzzS5pAvYUjHbSsA7GO9OGMdeai6ikUkDrQA8k/hTQflNG4njNDLheKOoxpOKaGzxQ3SkXg0ADEAAH1qWyQea8j9B0qu6mRwoPU1amK28Qj7ms6j0sNOxn37fKawLgBgTnFbF9KMYzWJcDK100YtI5qktSBcLzmmOc0IOaU49K6kjEReOK19IsPtL5xxmsuNQW5roNJult+BxzWNdtR0NaSTep1dssVpCkffFZOpsXl+WpPtQmlHrjiknXchI6jvXlU4tT5mehJpxsc5dNVLzQrGrFy4JNZspycjrXr042OJ6DSS8homO1KYZBHGT3qvJOz9zit0iGx6S+W4rTjm3R5rHZGPJFSQyyK20scUSjcSk0aUkhxx1qPfIaVHXZnqalQ8Z21k9C9yMlsU3D9ashlbtinbMcZouFhlq5A+bpmrF0iOAUXmo9gVeKejAdajzHbQzihFNKmtiax3LvQ8dazbhSrYAxVqdyWrFYL81SA54pAP3gFTBAGGBVtisROCoxUDIetWpDk1XmbpihAys7barE7jVmYDb0qsAQa0iQ2JnbSht3NRtn1pEJHGe9VYVywGqWNdyGoDwRU0TEDrSY7lqM/OK04jjBrKiVt4JrTVgkWTXPUVy4y0JLm98mAkVy9xKLiRiauXlwZXKAnHpWeQEbOK0pU0tSZSuKo4pvSgkjoaStiAZcikCUuakUd6AGxDIemFeRT0PJxxmldSGH0oAaBxijbT1Wg8UwEUfOK2LOPcBWWFBYYrZsARgVlUegI2IV2Rc1SuyM1eIKpknisyc7pDXJC9y5bFKU5FVSMA1PISM81XZxjHeuqCM2QSdDTC2SgqUrkZqHb+9FaIEaNr1q62e1UIG2sK0UYHArGe472KEykNmqkma2J4coSBWdLEVUk1cHcTVinmkyd3tSNkUqZI61o0MnXGPerMTYFU0+9z0qwjCoaA0Eelk+Y5qnHISetW1OVrO2txMgcYGarPzV2RcqapsMNVJiItmENVu5q0xIXGarheTmtENDD0pq9aU5waZyO9VuDJsU5VpiknFSZwvHrSEP2/LUsa0w5+WrFqu5sHmobGbegWitNvbqKuau+Vx6cVa0W3UR+Z0GKzdTkDucHIrhv7SqzV6QRlyNwKiJp0vTiq7M3rXUjEnXrT8UkaZb8KYWIZhnvTAkbGMGmYSmM2RUZz2pgBQE8UoBVCDTGLL3qXBcA57VQiLHFJipmQBajNMBGwBxURy3WnmmE80ASRgY5p+EqEN2paAHMPvfSmJ0FPzQANvAoAkHK048LSJylNkY4wKBiYoxQTilyKBHpik8moijbi2fwp7OVOMUx5MEj2rzjrZCGLSc8U/Oxt27NRHO0kCqrSMWxmly3EXi+8dcVWl/u9T60qn5eDTOSc04xsQ3cZjgD361NGMA+1IFz0FLDkswqriE2EyYxUhQqanh2kkkinFQyk1DlqWig0gU5K5FPiiNweBt+tPkXbyADSxyhBzwfahvqgRKQqIRtzVbbk8cUPMc4Iwfeo/NIbmkkxvcSQlByapTMSetWZm3rj3qDyt1bJWJZC/TjmmxxuTvC1aW3C96lC7R04p866ElZN2/leMU5hk9KmJGKiduelSndgM27R61NbrvzxTBhqlify2Ixx6027jXmSm3DLuz36UPDGq8dackwWM8856VCSxbPNZq9xuwjqFOKBEOvrTXb56fuAOCeKq7BCx24OeQKQjb0pTJt6HilBVk6jNTd31Gxqvh+lOdfmzmo3GG4p2SSODR5h0FU4NPI4zTSMAU4kbetJoExoy/Jpeh46U5R8uaaaEUL5oxjbUi/N7VAASelWI+BzSemw0ywluc5VsVo2wZI8E5qpanzDWksW0YFXSk7hUSFyTj2pQM0+NPmwakKgV1o5XuR4z2prqdvAxU4Ip5AIoCxWjiyMk4pgGHxirQIBxSmIdT3phYgIGamht2nfC8VIlvuOe1Xbd0t27ZpNlRjqQnTWKcsM+mKZ9gKrnGfwrXjJl+YDih1cNgKSPpUOTNEkZ0Vmo+8tTGAJ90cVcMZPSk2FVweTSKSKar8wyOM1pRR4U44B7VWYAckVZimG3BIqXuA8ttGDzVaSYRsW7U+Q7h1qLyi6EZH40hEisXIYE8ipAjAZJyaUDy41Xg8dqb5hzjFFgHSH5M1XbrgCpN25sdqAhYHI5pjHIyhNp5zSYEalVPJ70giOc1G2fMoAa7qCFGTnvUW8EFQeM09i6MAQKjwyqenJoHcY7lUwDmoXmO4kJjAxVkZKDOOtRsnLcUrDuRecx+UD8aewZl5HNP2sYwVA3VLtYRjcMn2qbDKyoetRPAXlVs4x2q4CB1GKVQCaQ7lWRSG4FOZioBqVzsOCtNaIMKQrki8qF9akRVUY71CMqM9+lP+Y9QQaHsNC5GM0104zTljO3kVJs7UIRTZcjjrUTIfLZWGQauum00hUMOBSaKTPM9Rh+zX0gxw3T2qnk5C4ya9JvtDgv33uoU1BF4bsYWGULN1zWnMjPlONtdPnnwFQ8+1dHpujranfJguPat2K3S3YBUAFK6jex4NJ6jSsU/KEkYUjGKp39iJ4Sq9fXFarr6ChIe5P4VGxR53qFsbVsN69ay5TuPFd14h0vzYSyjnPauMmg8lDnqK0hqZTjroVs0bc80jcClRht61o9BDG4HSp0+5xUJGadbklsHpQ02iluW7Y5IFaWc7RVGIBTVyM5Irmmax2LuPu/SlPSlXkj6UpWoGOCijODjFGRS57UwHdBnNRPyaXnNBHrQAJ0xihhgU4tjoKaTuHNJAQhzvxinO5xSFcHNOI4qrAJUcjbSDin5HrUcnc+3FSMfApbMvQLUV5cAgZ5PrVtGCWR3DBPrWPeyqCKiMeaWopuy0M65lMrfexVZ3429fepWYnpioyMtzjNd0VbY43qRqNvJ5ofHXFSNt24yM0jABeeKodhoIQetWLWYA5qk4OKiVnV8DNNwuJNo6yynDyqQP1rXmxFAzN0YflWDo0bthip45qzrGoAQiIMM159SHNU5YndGVoXZgXXyuRnPNVWjOM5qZ28zmoJpl2bUYFvQV6MDnkVJh260sSjutL0UlvvelIJwOBWhASPjjNIo7k81Vkdi2cUeb8wwaqxNy4JfJf5jxVtNQi24/rWTM4OM9KYrL2BqXTT3GptG956sOBimCdiazluhkCrSSK3IIqeSxalctCcg80/fkZqk7HtTg7belS4jua9rOwGGbIqZ7I3WTEOQOlY8cxU88VpWV+8Uu9WGOhrGUWndA3cpSxmOQhl2laYXAOcVtX0AvY/NRcHuBWNLAYjg8VcZ8yEQh8g8VXl5qdsKMd6rHPXFakNjJVbA44qIjIq3JJ5iBAtQlcdapCZVK5FNC9/ep2XC1GPu/jVp6EjmXgGpIxxTT1FSxqfSkwNGCIOA2cVDqE3lKUHPFWIjsgHbFYt3KZLgg1hFXdyyDJbLZ5oYBhSNwcCkyfeuhEsQntSNwaeR6Ux+opiFC5Gc1K3ypTV+5Tn5SgCNTg/dp2cnJ60oIzjvTSf3ntigB6nIzjFMel8zgrSqN/TmgCaFd2DW3ZIWwRWZbxHb0NbViQoA9656r0GizIrBOTxWVK21z3rYumHknFY0uC2aypg2VLhhiqTPjtU9w3NVm5FdUdiR247cVWLHzc1Mx6VGQM5qkBbhfJFaET/OKzIiFPJq3G/IINRNXGbW0NHVG8hxGQKs20owMkVJJtk44rnUmmBzMy7Kh3YrS1CLHQVmEEdRXXF3QkOVzuqeNsmqucU+JiDTaBl+JNp61cRu1ZscnPJq9C2aykrDJncBcYqo4BOasvyKqyKRSi0Iide9QPw34VaYcc1BKvNaXEVTxmkyPSnP0qEk9qsCYHFLndgdOaYnbNT7BtznmkBYOAqnrV2xiMjgKM1SRdwXvXUaDZqrh3GB71hWnyRbLgrs2URbWwEYOWK9awLyLjOa0rucjcAcjNZM0pdD9a5KKd79y6rWxQl9KrOMVYnIAzUIw1daMSVGI+b2qFslifWpSQq9RUO4HPNNADDjrSqPU03cM4JppbHSqEOddwwDil5VQM03NBJK0wF+YEEnIoY4GaD2pkh44oAG6D3qFvvUrsdq1CZCGNNDJlHNODZOKYr8U1Sd/Q07AW2KiPOKYCCmelMLHdg9KXkKaQiePhDTMZbrRGTsNIGAPJoGNIyadikHOcc0u4etAHpbLvcnNV3+UkVE05HQkU1HLHk159mdTauTE/JUPlqDk1KBu4BphjOeTS1uJofGqbaYQAOKOg4pDwtDRNiSPv9KEXDE1B5hQdaUSM3RjTSEXbeLK5p0p2rikikaNMVBLJvY5JrPdlIjZwRzTdwahgpHWmFVHQ4NWkLYRzvO6opCWepPuiombHAqkFxVUmnhNvNRBz60pkY9zTd2A9jzQTkYqF5MGgS0uUQrnaKQDdT1xKcYqzDCo6gU78qGldlJEOakK9jU8iBenFVncg8nNTzNiaHlSEzTdxWozcn7uaaZc1Six6En3mzSyetMDYNLLMANuOfWnYaQ3dkYqRKhHA3GlaYKOBRYCzuBpc/KMetV0YMc9qe8o6KMVDTGmiSVsAUucrUBlyvPJpUkJ4pWsLQtbsIBQVyahG49TUhcge9KxVx4GOacATTYn3tjGa0YIEkHJxUt2Lirj9NVDLtJra2qW+U5FZ1lp21/O7elaCLhvl4FbQXUzmxdmGzT8L5fNPwCcEUhjB4xXQjGxWKnNOcMBnNWAo9KR4w46UO4IbFblk3k1K6ZCinxZSPbnj0qxDCZCCaV2i0rlSMPvAXpWtDapsDsMt6Uv2MR8jAqWP5Rz1qXIaVh8YAPAwPSpNwHam5PWl3etSUJxTH608FfSmS4I67feqsLUiIDHBphUDpU2wZ9R601l54osgGpjvUh2gDFIqjuKJFGABxRZDHFxkClIAGaYseWGfSnMMcE5oAVQi0OwzkHrxUaoznpgVKIU3YJzxUWYEeGTv1qFiSatMEA60wqhfigCnIjB+WzTwrNjjipjCM5xT0yuaY7lZxhAMc5pAmXFWDGZVOTTFUKOTzQAmxR0oJGcGpDGByGzUTQs0m7cQPSkMUxqRkimqRnAFWQFWPnk1UMoRzgUrgkOeIbQc5qRdhUfLUYbnHannrxRcLDgq9gM02RV2fNw3tSMcAZPekYFnHzVLBCfjSHr1pjMNvHWhfmHNJAODKeM5NPRRmodm19yrUqe5xVDBiQeaQuA3ApHJK9eabRoF2DkMc4qIAbqkYEqRmolU4PNMQjxkKOacVxGMdaV8H6UikcVNyrjZI1dcOM8dK53VtGilQsi4NdPJGThlbFVp1Vl27RmkpcruFro8pngeGYxtUYQZwK7bUdBW5JdQFb2rLTwxdAk4BX1NbKaaI5GjBaPamcZ7URQSId+xsV1lloKL/r8HmtZ7G02CNYwfwqHWSGoPc4UH5hVuNulT6hphtp/l6VAoIIOOKmSTKRpp0FSMeKgQkkc8YqXPrWTXYYYpyjmiiiwwY80NytIaaWO7GeKAE5ozThTX68Ux2AGlYrtpnUYxzTZc5AFAhDxTXYbAO+aXd83PSoHYSTqi8Uhonu2PlKBWLcuCcGti+O0Kue1YU/L06SvqZTK+ajkbBzT+B1qGdgRxXVHUwGFtxzTTJv+XdTAw2nNRAgNxWiQrk6lnOK0NPsWnlxt5qrpymd8V2ui2IgjaWQDPY1z4iqqcdNzWjTc2OjjjsdPckYbFcbqF0ZpP9rPFdJrt5ldit9a5JsGQuRms8NBq8pbs2qy0siR5Fijwazt6hi4ouZCTyTVc9OOld8YnO3ce8pZs1EjEvTgvalCYPFXsSIMkHNMCgNxTwaCOeKLiHBAxwelIyhelKATRtNFwsNKjPFSq/lrzUfQ0SHJH0pDLccu8VKGxVGLduwOBVgNjrSsh3ZaLoaVSP4WxVTK+tKMdQahxKUjatbmVOC2VxT2UTtk1kRTNvwCa0IJHx941jKFth3IprYiTmq7xYU4rWYrKvPWqUkRUEVUZdAcWZ4G05oI3VZ8obeRVeQFenFaJkWIZkwmKasOVBp8hJIBOauWyqy4IpuVkK1ykyYYVPEMCrj2oLZ2iqUuYmx0pKXMFmhlxdMq7RWd8zSZbrU8jBjk1GpBk5q4qwDSP3gzTX9qklxu4pjdOKsTEDCg8nikIXb05pVwMUCHY4p/8NLgFKQkKwFK4EYH76mnqfrSl+cjrQvIJNMkbjJqxar89RBcGrdsAD0pPYaLkfyritKzTIzVGFVY8itizUCM8d65qsrFR1IrxsREVku3ymtO7OWIPT0rHkbkjtSpoTepUnOWqJlxj6VJKQpyahMm9uBxiumKEBPFMHWpF5zkUxuDxVhYTd81WEkxVYDJqQfeFTYLGrBLlRVxX+YVlwsBirscgNYTiA65i8wVk3EG01tl8iqlyilc4GacJW0YXMYphaQcVLKMPjtTNua6EBIozzVuB+1UlJHGamjbaetRJdBGgx4prrlaarblFWNo2dKyAosTnmmS428U+dgD0qu75XitEgIGGeKYVxUo9ajZhtNaIAPUVKxwBUI55qWNTI4GaQGtptq0xX0rsUiWCzGOuKz/AA/bIIQXUGr97IqsQvC9hXm1p88+VdDoguWN2Ztw4wazZHHQVZnbOaoOfm4renGyMZDJFBjJNNRUp75KY7UxVA7Vr0JYyRcio41UHmpmqNlBGe9NMCOQLv4puKcE53GmknNUIftpQOKUEYpc0ANxzTGFSnGKiZsUAQ4zUcqYIqwAMZqM/M3PNMY3b0pelK4OOKcoUjkc07gGd2KkI3JmkCgdqfj5eOlSAqDEfNJ5YanEgDGKYG5oTBII12gim7KcDuJwcUbxVWKO36imDO7I6U8/d4qszMG46VyFF2EtvJz2p6oztw2Kpx+Yx4q9DGV5ZgPrWckkXF3ARH1qORSHxmrEkigcEVVZ9zZqNxsjkYbduOc9aYpIpH+9QoJq0SXPOLUhYk9qgVsHGachJn247VLVih7Nngio9mOakZf3mO9OK8UgtcgbnjFRsmGyTU7ABuajkX5vamKwwLk5xTsAdqmDKE5IzUEkg6imDIJyoPWmoy7c4qB5lZuaDz0rXlYi3HIoORxUjXIxgHFVY145pr4B6VDjqNMlluGxUauXXmk4YU3cVOAKpJIm48pjmkpN5I6UHI61SVwuKM5p+AeT1qLzPSk8wmpaGmybOPpQyq49Kj3cUhcikO4vO/APFPz83SliQFsscU8oAeDSe4JCKuWzU6IFGcVDnb0qXzPlqWMehzUoAYYIqBCN3FTBgG61IyeNAnOat2u0tyapMcpwamgRhyKzkuppA6C3DRN8zZQ1LuCSjJ4NZcbyow35I7CtG3kkkbO0FR271tTldEVI2ZcdcoNoz71GqtjJ4qRJD3U49KWRv3fA5roRkxvUUJkjpUqqCKTaoJzmmKw1Sc8jitGOVUUDFUEQHpmpx97rUyLjsW/PLHBNSKCTUEEXmndV5SAcVBQLxx1p23PagABs1IDTsBCQKa0e8YPSpuPUUZAqhEW3aMAcUhWputLtFAFY8dqZgs2c4q1sBpjLg8UCuQ5Ik9afweqmnoozk044HaiwXGKx28ilELM2Qcg0qDMXIxSjAHLYqSiFrdgeTxT0jBbpQWw+Sad5gHTrQArFajIDDinbg/anKgA4osAxMIpBGc1GY1IqcqCKjZCKLAQnA+6KazkA8ZxUzDaMdajIAXHrUWsURbxx70bUakMeWPpQIjTsA5to5o8xcdKewXoRTfLB5wcUrXGMZwe2aGwOR+VPKALkDmowpU5NK1gIyRyMdKceFGBQqkhmIpvJYAHilYCRSQucUhBK7sVFJuwAD3p4LDAHIoAUHLZ7UYwcUu0jtSGmAjNtzUBJCk9anKFl6UmAI8d6AI0ZXTrVeR9q5zjmrO0lcKAKQQYT58NzUgRxyFsYbIp7LkccmkkYKAFAC1Io2JuHNGnUaK+wYyw5qBySSM4q6WBGDxVeWFGTPO72qXboUiltJfI6VOyEAFcZp8VqEbfuyKmJXHtUOyKsUGskkBMuDWLqFpHCvyY5Nb0hZASea5e9vkmvvLRgQOuDQm2IRfkGOtOJpNvJNOK5FUhWF8wDjFG/nGKYVGetIeHAzQBMw+XIpuwsc09TtGTS+ZjtSYDCD6UKh3c0NnGc0K+E9TmlcdhzbQelQP8AfzTi5PUU0kdzTQXsRFgFLY6VHbIWYykYGeKkAEkhhXkv6VZudsEIhHBA5qZS6FKJnX04znrjisiVwzZq1cHBOTWZM+D1remtDmmxkrjOBVYtnOaC4V8k1E8gz1rpSsZCM3NOWIlutRhhmr9opdx8pxVPRCZtaLprmQMBx64ror64Wzs8Z59Kq2c32TTS7cHHeue1G/edzvfArzHCVapfod8GqcCteztM5OetZ0rYXH61Mz4Gc1VkIfuK9KEUlY5pSuytKS56YoVSF6U/IpjElhtPFamRKsZyKcy7RT15A5BqMk55oAaEAGaa2Aw47VL/AAUmwkjikAijvT2AUZp23AokIK4ByaAIHXNCR5GaBnuKeDt4oAlQKozVeWTJ4pXJ7GmmPIyaYCKQwzilWTAoXAU1A2c8UBcvwsN2a0IZVA5rDiYocmr0Lq3G8Z+tRKNx3NRHyeuKnCB1zuFVIYy/SrYhdB0OKwkrbGsW2QyRYFUZEycVrEfLgjFVHjBbinCTQpIzJF5qSFisgPanzQkHoagPyDNa7md7G1BIr9fSsjUDmQ4p0N1tH3hmoJCZJOaiELSuXKV4lJuKYDnmpX6kVCx+bANdFjMVqHO0DvTN3zAE1JJg4xzTEyENlak7A0ip8vSnkfKAKBCluAKANxyTTHyMetCsaVgBV4LUoOegp0YHlkGnonNFxIb1OMVLAcNjFSCPnNOijw2TxSbuMuW/BFb1uoW3znvXPR7gRwa2opf9G61y1oscCteMMGsd+Ceat3cp3EGsueU54q6cWJ7jZBvqAt5Z4FSPIQtVgxYnNdC2Anjl3cGmuajJ2nijJPWmA9amUZpsa5q3FGCKluwCRKd1W4uTjpTUTa2cVLEmWz0rNsRPHhqS4TKcUwNtNSsdyVD3AyJI8y1WlJQ8CtGRMSZxVOcHP3TW6YirkjmpEJ4NMYfLTs4AFU0MvxP8oq9n5AKx4nOQK0Q/yisZKwDLgKw6VSZPSrbc9aicL5ZORVRYipntULqcEZqYjgmmH3rRMBmcECtHTbYzXAqjGu6QCur0S0Aw7DHPU1nVnyxbKiruxvWUa21sfpVC7lBG3POetaE7BISM1j3RU9OTXnU/efMb1FZWK0xGOtVevNPmzioI8812R2MGTbcrnNQuMd6eT27VC/1qiQJzTGB9aTNIT700AvRcVBnLYqcc1CRh+atCLGOBgZprcGkEpXgDNNJyc0gFLcVXkPNSseKiPNMBwfAxikHWnIAVOTTR96mMUt82MUqoSc5phHzZqVCPWgBzcLmmhj0pzfcpoHIpAOdxjpzUW7BpzdfamnFOwCEkHinbvamMeaNw9aodzvRw5FRuuTU0qYbI601UJPPNcTZo0T28W1c052ycU5ThMComIJ96xepQHmjAC5oTBHNKRz7UAQMhJz2p8Sc08Z3Y7U4DHShybEhwt1b5qcgVJVfHtSAnbgGk3AIAfWpbuVZEjYkdmAqCQ7TSvPt4BxVaSbJp2YXsDNuOaa8mDioy+Dx0qN8scg8VokK49pODUZf5DTfakOMYq0lcllUr89WkjyAaYu0AErmrKMOoGF9KcpMECr2qOReae0gDcdKjZi3epKGAbVpm/JqZ/m6dKYI1zzVEDQ2aJmwoqYxqF46037Pv60+ZIaREuMUcZqZ4gBwMVA0TdaegEnGBQ2MVAGO7FTKQetTygixwelG005CvYVOm09RWTZZCsZ70NzxVhSCDTCg25qbsCOIbWNOXl804Y9KcAM8DFO41sWFXKirUR2ioYlOwk+lWYo/lXI5rGZrFF+2zOScfdq7bIysTjiotLjkUksuFPWtEY80hemK1pImo7jSCUyOuadtO3mlUEMcnin5Xua6kzBoaARTwuRk0uB609duzHf1oBIaAO1AHNOZMLmms20dKVx7Fm1l2jFWlUt82ay4M/Lk4J7VficgHd60milIsD5OSacJBVSScZximeePSp1GXty0m4ZqsZAf4sUgchvvZFCAuF/loZ+KrGTcMA0okx15qkIsoeKazc1XM+DxQZMnrTAlyWOBQ5wOTUYbAzUUxyKBWLImBjqOSYAAYqsmQvJ4pWkXbihghzyfMDmnpuf5hVcFG6jHvVuJwiYUcUrFEo4qQHiog5YdKYZSjYNICZuaQjjrURl3dKfjK0XAeQDULqC+BUjMAaaP9ZntinYAEYAwaGQY4p4ZX4NOwPWkwI1jBHz9aRhhcCpXXNREHdjGRUjQgXCZxmmmNW6nFPZmAwOKj2kn5ualjEaPEWKg8or83arbbscgUw5xz09KbArYXqRTwfQU7KKfu5pfNAbAWi4CFS1N8tweAKkEh9KazktSbAa28LziodpY1Yzx0zQqnOcVLZSIguaGU44qQrtZsHOKaHP8AFSuBXMW5vm6VMUCpxSO4yPTNDttxzx6UrodmRvFuGaryjCADrmrbSHHSoDgygsOCOlIaRC0oTaO3enEAcn7lMkjVk4HJNQX14ltaYY8VErspGH4h1b7NbGOJv3hrk9OkZ7vcxySabfXRurguxLc96XTxi4BrojT5YMycrs6QnpRvxTV5Iz6U4qPSsVsaBtAprAA5petIw+WmTckX5l56UvyniiMZTFNbCngUrjQNINvSmI2Rn3oLZoGAtJDFIzzUEnFSB+cZ4qKZgelUhD7FRCr3MvX+Cobm58w7j1Ip95IDCqLwo6CsmV2PU1EY875mNzsrDZyGzis2ZauMTjOaruVY12RVjF2kZ8+M/dqCQVpSqpHSqMyHNaxehk0RxcNyM10mj6e8/J4FYdtEGYDHOa7vSLcrbr2rDE1eSJpRp80tTN1q58oC3T0rmrl9+Frc16Mi9JFc+AWuevFVQS5boqb1sE3yqBVMnmrl1x1qomGBOK6FojGW4oQYpEAFOJA6VHn5qYFhcCmtzQuAMmnH1ouAAYFGTuqQAHtRtAPSlcLEZYg02MbnpX+9T4wByBSAWSMCq8hw3HpViVsioSgaMnHNUkIi3VOeUFRRxc89KthBt6U27AUwpJ5pxiHarBTHagoR0pXCxXWMZ56U3aRN8tSlTmp4Iczjim3oC1Os0TRZWsFnlHBq/LHAg2Bc4rZSTy/D8SoMfL2rHs4vtBZn9ec14sqkpvmZ6cKairFOeFHGAuKyrm0ZTlRXSzpGmRwaoyqD24rWnUZNSmmc6ylhg1VngG3itK7Ty8kcVS3b1IJrthJvU4pqzsZxi2qTTPM7+lXbiBjEdp71UEDYwy7R61qpGbK0gy9VsHzausuOoqAr3ArRMloidfm461Ihx1pUT95kikC5Z89qq4DkpV+9UIYjvT1b56liYSDL0m2pMAuDQVPagQ+Nc9qtJHx0pYk+QHHNWo4ix/Cs2xpESRcjirkVrvH3afDbNnNaMICR8jmsJ1LbFpGabRh0FDB4YTn1rVeaJV6DNZN/cBk4PFTCUp7jdkZd1NuaqLnNPnkBfjrVd344NdijoQK/IqMDAoJJ70o4Tnrmr2Ab3p5Hy06RQAMDFIoJ60hMsxLnFXoUqjBkjitSAYxms5MY5lwKfGuaHBLY7U6PINZN6DQ2aPalOgG5alkw6YxTLZWBI7Zqb6CtqQTx4bNUZV5rWuQB2rMnIBrWDuJmc/WmkfMKe/JpnOa2EAkw4q/BJvGKzDw+TVi0lxmpkrodjQkHFVpAdpxVrIIGajk2helQtAZSAIQmo2GasMcqRURWtAJ7KDzJlrtrGJYoBu6Vz+iWwZwWXNdS6KIwuOMVw4mpd8ptTjpchncNEw79qyJfvVoPw3tWfO3z8VFLQJsgmX5arquM1ak5WoQK3i9DN7jCuRUTJVrA9Kr5JkOelWiWQFMUxkJbIqd/ao1z3q0IUYA96Y67qk2j0pDgUNgRZpeopXA7CkXlvamhEbc8UxRzU5QHJpuFXtVANReDUR4arHSPIqEjJ5oQC5+WlWmjAp6YKnigZJ1pMGlQjzgD0qdAuTkd6Q7FZ1O2oScVclxjpVUqSfammJqwxgT93pSYFSsAFwpwaPLX1q7iPSWgzzmkVQPlx+NWcfLUBO015d2dDWo2RML1xVPaQ5OallmJOO1ROwx1ppAxynBzUjSKeMVULkVJG6leetNxAkdht465pFY+tMd1x6VC0oHcUKJNy2soA6VFNL6CqjTe9J5pIoUBkhcsc1GZRnGKA5A6VEQWatEhE6kMOlAGOtCqUNOc5PFDGIwGOOtV5DhsVPsxzTHTL57UCYkaBowTT3x5e1RihiFTANOTBXk0XGVSjAdakRDszmpyitxkVII0EfLAUnICskZCZJzSmLJ3VI+AuAakQrs25GaL6AQ7QF96aCc4BpzqVJJ+760wMM9aW4EsgA96QR704poJYU6NmXqDih6DSIms2zkH9Kb9mYdTWik645olwy7lFL2kuoNFCIEHk1MZVQ4zmlaP0qH7PufJNGgEocleO9SBiqc1GAU4xxUxTcOeKlpDQ1WDdqsIAU6VHHDlxite30+RlBC8fSpZpGJUgyegrRhQyOoVelW7XTSvL4FaaRRRkbE59ar2fNqVz2QkJKw7T19akhwp5HNGABzQik8itoxSRhIdj5/UU8RBvapY4wBk1J5YPSqBK+5XaMdKfFHg4p6rluauxxJgHIqWwSKLo2cUnl7uCK0zCmMnFMEIzxQmOxnpDkgntUp65zVpol29cVWZNpxmquKyGMob603yjtzipAhzUwiYx0+YLFeRB2NIBhMZ5qYREnkGpvs4HakMpBipqXouSanKIBytL5aEcjAoAqkc5zSg5bGasmNPSmbUDZxRYBuOOtRualZ06Aim4DU7MVyBiSMA4qEjaOWyauEAJypqsE3nceB70WsA1cMMHip1kKjAqPZ2FOGR2pBctJOpHXFNYhjycn1qDYFNPXbnANSUSjGMdKlVwBjGaYse4daNuyiwA+d1Lg7cg/hTwMjmnIADk0XASNPkOetA642mnM6q27Ip/mKRxg1LYEY3Ec8Uqg5qN3OcA0qEqD81DaGh+wuck4pCB0piOwJyaYZOam6GTNCD3qJoSOjU4SDb1pquTzSsgGGImmDdv+7VnecYxUL7gcigYHI7VGzBeSKV93Y1A+8rjBPNSx2LPDL8vWmsXxgURpgA5xTmB9aV0OxA743MO9VzIzLz1q20ePeoyFVuRUWZRUMv8OMmnKWlkAPAqVokLeYKco2LuxzSsBE5YHFRSKxZcNz6VIXyT60gG87x1FVsA1ztRVI+auT8V3WyPyx1NddLt+8SCQK898Rzefeld2QKcdZJDeiMNQCuMc+tW7MhbheKrEYHFW9NiMk2/BIHeumXwmHU3N2COO1SA5FR59e1Ga5TVDl9aUndxikj6U/b6ChhYXOEwKaRxyM04AjsaAxPbikMjC8ZNNIyOKmPK1GFwpFAiHaQSc1CyHzduecZq1jmi2QXFxLJ/dWk5WHa5RlVlTJ5qm6/uznrWxcqBxjisickZ9KqnK5nJWMydyuRVEyFWyauT4JNZtw2013QMGy20oPamPjb0qokmTVxBvUY5p2sO90WdPhzKp7V29sdkCqPSuc022yF4rqkhwq4rzcbNOyOzDxtqY2s2bzMZQOMVyGwrcsDXol0cxFcdRXFahbtDMx2nnmtsFUvGxOIp2dzJuj+8x1plvjpimy7mc54p0CEHcWAHrXf0OWW5G33iKYBzUvBc45pm056VRJOqEpmpwFKY71Dv8uLOOakhGfmJqRiClI5zUxj74puzOaEBWJ3c1JGKVYc5FX7ezLD7ppSaSHFNszuScFakEZI2gVqppbu33T+VXY9Ffg7Tj6Vm6yQ1TkzAFu2MYqZbZiK6AaQwP3T+VPGmMvVSPwqHXRqqLRzhtT1z+lMeLauetdK+mfLwp/KqEtnsGMU41lcTpWMVYi59KvW0H74HNWPswRMkYqa3hPmjANOdT3boiMNTrbNzLYCL0FY93JJaBkTOTzxWtblVjCrwcVDcWVzM+UTI+lebBpOx3tXRz8Ulx5oaUkqa0/KLwls9KrXUMkMyq6kc+latvCWtm+U9K1qNL3kKF2+VnNX0Z2ZJ61kvGQ3BrofEEfkxoBXPb/Wumk7xuctZWnYid3VfWoxdZ4dMipmYEVXKAt1rZIwkXFtVuxmHB9qrz6dNEeUxTI52tnyjc+1a0GoG5ULNj60m5RElc54oyknb0qLBXcSOtdO1gkhbaMg9xVC708oudpx64q41k3YTizBZaI0J71Y8kk9KesWDWrYiNVOcVMkeafsA5qW2Ql+RxUthYnjQbQKuQx/MDmoxFjpVy2jOwkjvXPUloNFyCIYwT1ouB5aYzSxkg1UvZuMZ5rmV27FuyRQuZWPQ1l3Up2dauTOCODWdON1d1OKMyuRu5zzULKQ3WpuAw5FMfBPBra4CBaRhxinAinhQVPrQDD7wHtT1TnFNA9qlUcik2STQpgVchb5wPSoYxxUkX+srJjLqkMelKBtPSkhK7+SKshVPcVi2UiKGMvnnFWYoNoJzTM7GwBU6yLs+8KzlJlJLcoXYyTWPP8AexWxdc5I5rKlADfNx9a6Kb0IaKDcGkzjmppVGeOagbA4rdAMb5jTYDhyMUpIzSxj5simBoiT5M46VG0m8dMUq48rHf0pg4FZoTGEYp8KeaQBxmkAycVo6dACy5HenJ2QJG5pNv5ZFbEvI+lQ2sSpgj0qVsEHkV5VSXNI61pEzpuCeKoyAE5q9csApFUyM1vDYxe5Cw4qI8VPICOtQnitokMY3SogMjNSH36VGThTirRLGbc01hg4qQAnsaRh3NMQgGaryttqQv6Gq8jZ61SAeDkVFuKkipF6U3bmqsIQOQpHrS9smkxTmzt4oARW3KRioycHFSwocHimSLhulNDGnhc1PEoCfWoMZ4NWQMR8U2NEKtmfNWfMG7pVPkScCguwzkGiwJk8jBjjOKMrjGagU7qmQKetKwPUiwu/NL8tSMFXtTdv+yaZJ6ZIJB2wKgYr0zmrlxfReUVZQTWOXO4kHivNWp1SZJNgLketVjzSu5PU8Uxck1olYi44RFu9OCiPg0mcScdKZM/zcGjcTYkrjOBUe3dS8ED1zU20BM1Wwiqyc08KAfemh80u4Y96YxHBzRGpJqVBu681KVCjgYpN20ATGaCoAzTFY78ZpJGODzU6jELgnApGPFMjTc+TU0hUAALmmO5XbINJvIqaVcniodp381SaEKJCDk0huM8Ux1JbA6VCEO6m0guT+aaQzMOlOWFupocKOMc0lbYViP7Q7na3Sl3Uw9eKkRM9abSCxKj1cjAeL3qmFAqxC+Fx71lNFIPKYttFOk8yJQlWImw26lcic9Oaz5+5aK0kwxwKYjbualaHHSotjBuvFNWsElqTYyo+tPfhKjBwKRmY96WoiSIyLg1t2N6Qyq54rIhlGMNzUwBd8qcYqZas0izsIyHUMDkVOEwM1maS4liC5ORW0FzgMMCtIPSwnEYYg3NN+62BVjYe1RGI+ZmtkRYlTkVKopqDjGKlUVVwI9uealRjihlGODTACowDWaAm3nHNJubtUeT3pUYjrVCJiQabtUtTaUKx5AFGwEqolKcDpURDAUFiGUetJyYyZQMZpdwIquzsOAcChM9aAJWCkc0ADHzdKZtLN14pryjdsp3AkcjFV3cDjFDMdmSaTbvXKmncTRCeT0pPm7VIYmJ609YytO7FYiP3eSagLLnYM1dkBI4qNYT1pcw7EEceGzk/SpsYqTyWHNJwOCKLhYaGz1FSRlOeKCvycU5Yxt5zmpuxjotoOc/hUmVfiohEoOR1p4IXtSux2JNopQozQAMcigDBpXGL5SluaXylHSlxxnGaUEj+Gi4rDDAM0phULTiTnrQ+TzmgCv5XzGk8jKVYCEjg804javNFkFyqYKYUKtirgO6mSIdw4oshkIQ0FKmGQDkUnB7UAQbQzdMU0QjPDVYZd3amLGEyCKmwyN49q5zTCOKl2k5HWlZABzxSaQXZAxYjkYquxw5XqcVckUuMA1CLYgbu9QXcrrkggjAqN2YtjtV/ywUweuaiIjywOOKAKoIyzEUhljjVsA5K5qVwMZ/hPao5IwVOB1FJq40Z808nlOxHyhTzXnV5L513I3qa73WmMGnSbTjjFeeDl2JrSktbkzegkuEjGO9dHpNkItGe4PUvXPpH5rhTzzXcPCsHh1VC4zyadSVlYmEb6mSRnn3oAqNXJVRmpFz61kWPHFOyabRk9qGA8MTxQn3TQvJpcY6UhgajYgdae6kDg1AysRnNADXcAHFPsgY4JH/vVWfrtHU8VebEcKRdz1rOb0KSKk77hWXdA4rWaPNUruML27VVNpaGc1oYLocnNZ9woY4rXmHB4rNkiJbivQgzlaK0cfNXIUYEYpsSfL0rUtLcNj5aKk7LUcY3NXS1Py56VuymQFdtUbC2+QcVpOSqj1ryK0k5Ho07qJDL8yrWJq9uGjLVqzMw71RvD5kDA81dBuL0Co7qzOHnQibHapUizbGnXC/v2zQrELtzx6V7C2uee1qV1TbUbMQ3FWnjZTntVcpkk4qkxNBksMGrcSfLUKx/LV23jLDHWk2Fhq5IxQsTseOlaFvYu/8ADVn7G0a4HWsvaI1UGUoLMlgTW1Z2fy1BDby471s2cEgHOa5K9R20ZtThrqi1bWKYyRVwJGvAFNRWA68U/AXtXntt9TqSsIY0I4FQvGDxU+8A57U0qGORTV0DsQCLAwRVK5sPMbKitjbn+KnCHI61UajTFypnJz2Tq4Ujinxw7JlrpJbaM8soJqjLahG3kV0KtdWM/ZahAQXBrVimCkD2rIQBZOOKn8whqwlG+xdxL6z+0zbgOan2iG02jrTo5sHNSFo3HQVMpStYqNr3OZ1qIzlM1iyWIANdLqYVmAA6VRaDK8iu2lPlgkYVY3ZzMluQ3tUDx7TXQT2vBwtZs9q2eldcalzllEzZAoNRu5QZU8VNLAR1FVXUjtxWqszJ33LUWozxp8rcirq6qLm1KSoc+tYW7cdmMVZikMa7c8UpU49BXZdihRzgd6W4sijDaOCM1HE5zlTg1djkkJy/zLjHNZyumOxmNEw69KswJxWqbaCaIEAbu4pltbKkvz8rSdVNahYWK334q8iLFFg+tTwQqEJAFQTggHJrmc3J2NErIikmVEOOtY1zPuepbmbGQDWa7ZauilDuZydxrPVWZ/mqUmoJx0IrpSJISOc0zvUrEBRTQoNWOwuFxxTlqI8MMVNwMUNCHCrMUe6q6kelWoJOaiS0FYnUBeKniChsVWXJNWIkywJrJgy1FErZxVjARaiiAUjipRhjzWTGhG+9UXPI96ll/wBniq5fbyTxSWo7iSOoXaazbsoXq1K6Mc4rNnIZ63hERCzY+aoHOTn1qRyOnamYGfwrcCIjNSQjBpABk05CA1OwFsH5qRuhpgb1605DuyDUoTFhBLgCuj0y1yoJrG0+HdLuYZArqLUqoAAxXNiJdDSCLeNq4Bpiqdpye9KwGM1AJMEg1xJX2NW9SC4X5utQ9KnmAPIqq8gXrXREye5FcMc1BnNTOQ0uD0qB/vcetapWIaBulRkVZCA4yKY6DsKaZIgGFqvK/BFSyOQMZqo7ZFUtQGdDmo2G6pOowaQritAAfKMU4Ad6ZtJ70o460CFfAWkz8tI/Sg8LQMdGSFNRFyz81IDxTCBu6UwGs2DUglwtQv1pA2eKYEucc0xzupeufpTT2pjsOhIDZNTB1z0qBTt5ojkBfmgESPIGapBIuKp4O4/Wn0CPQpOeSKhcjHFWJWVh1FVWwDjNcKZrqyNmwMUIeelIwDcZpVIXimDHHg5qJxnvUrsB1NQswz1oSEMBOcU9nJXFM4zS9adgIsENirSQjaCeahUfPVh5VVAAQaUl2BFtY40QGopJV6BagEzSnaPTNMOQ3NQo3epQq9c1I0fGM0w/dBFPznFNiHwxgMd3IxUUp8piRyKfvC9TUUzq/Qg0K9ygjmDj7tDJu5qCI4YCrgBPQZokrbElcKAxBqF8K3SrDowbkEVGYw3U0x2JPMGzpVN8ls5qR8g4qJ+MVaSQrgeCBmpEyO9VyT5o69KsJ0p2C5JGTnkVdj2lenNUw4XqcVKkmTx0rGdykXYj+8xjPFLNx90YqsJSh3A02SV5BkGs+Rtlc1kWHkqMjcuc4qFXOfm4+tS7sL1p8thOVxqg78ZqQLmmR8vntVpgoXgik3YdxsUDO3FXI7V1kVip5qC2Zo261fXUARsIHHespylfQ0p2tqdHYRIkK4AFa0WH+90rk7bVNoCnpmuktLqKWIbWUt6A0ozfU0aT2Lix55prL81MWfDYqwpyOlbKVzJoaEwOlO2ml3dqkQ8VfMTYjEXGTTWAXpVjqvpUGzdJjtVcwho5FSBAy56VIsOKkVAEp8wFYRkGpRFxzUqbSMnFOyD0ovcCIRDNNaMbgfSrA5PSnbM0AVjDk5pDH2FWdvtTW4OMUDIFXB5pHijZsgYNTiMHnNBioEVvKDDDCgoqYC8CrRXNQyIM9aLgMKYA5pyKO4pwX5hTsAU7sCBkxSKKmYA0gXApDsJwF6VH5YByeakxmlI4A70mwGOFMfFEbbU6VMEUR4xzSFQyYAxQCGZDDqM0ADuKFg2ndmn7aYxu4F8ClP3qYIysuaeQ3XBqQJOi5pm8k03LdMGmc56GgCUtk0x3I6VFub3pVYk4IoEyVHJGMUpYnjFMyegFNActxzRYRPwOlNZ2wPakEbDrmnqueoplEYJIOTwacGUdqcwANNwD0FFwEMqCo2ffyBUjA/3aaAR/DUtgMcnAK8Gmtkj5hmpHPy07grUNlEQOWx0oDc4zxUpClc7eaa8Q7U7AR5Xdg1nTcTOAK02t8JuzzVd4RuVuuetJjKm7HBXIpMHj0HNSjBbinsoIweAB1qWtAOS8VTeXYkEf6w8e1cK7bFIxmur8YT+Y8Ua9q5VlyK2pK0SZ7k+mgyagiY+8a9B1OLytGVT1xXC+HojJrUQU7ue1eg69xp4B7VFbcqnscmq/ID6VItAA8vHemMSKgaJWpvSmmQ+lAbPXrQwJFbHann1qNeTT24FIY2ViBmoHYqmaskBo6rSj5SBTELawGdg+cYOcVNcIWfPepLNCtsWAquzkyHLVzN3ZohgznFR3KcYPPFXRHkVXnBX7wI+tOL1FJaGFcRdQBVMxAHk1rTMOcc1RljDnriu6nKxyzRWhQEYxWrYgBgNveq1vEK1LKPEi8cZzmorTVmVSjqbtooEe3oacSpYgnpTIwOSDx61Xb/WNg15W7O1uyGXO0nANZ8p+Qg/StFrfa2Sao3aYrqpOxnI5a/i8ubrnNVCMCtDVF/egjmqRGRXrQleJxvcm4khz3qF05GBVixTzZdg5FdHY+HnuXDFCBnHSodVU9y1FzWhg2dhJOQAvX2rp9M8PNgM44+ldXpnhmOIKxAOK6IWMSwhVTn2rhq4uUvhOmFCMdZHGjSfJTAQUkGjmYncBnPpXWvYhmwQalSwWA5U5rmc5Lqbe6jnotJQJt8v5vWlGnlBnAFbzw8FulUb6aG2h+Y81jzTZV4mW6BBzgVTklycAVA1012+FbirccIjj3MQTT2eoDAvyZP5U1pAvSiVwASTis5Z98pGc1otiWzdhiDKDVryRjFMsgGjFaPljAqNW7F2MmWLFUpoyeprali56VSli5p7AZRiIbOaMDPNWZkwelQtFk5q1IhoAeKhZ2U8VNjHFRsuaq5JRkDSvkjFSMuMDHarWwE9Kk8kEZxVuXQnl1uZjwbh0qnLbc9K3TEAOlQPDk/dqo1LEuFzlrq1wPu1mS2+K6+ez3g54rKuLIqcAE/QV2Qq3MZUzmZLbByODURUgZNb8lrzgiqkln8p4rpU9DBwKECtnrWhHIykJnjrVYxlOxpElIepkubYVjYgKkkjg1aMYK8dayrdmzmtG3mPQiueUbMtCrJNEpy1VJ7ptp3VelKng8VTubcMuVOeO1KFr6ikmZEsm9iarng1YmhKAnmqbE9e1dcLMysxmeaZIeMUrdOKjOSM1qhojfninwjccUw1JBw3NMZEw+bNKWyRxSA5Y0EfMMUySVKtQjHNVkB9KsJkVEgLqJV2CLPOapxMOOatq5ToK55MCZ+Dj9afGNvJNQ793J4oZ+OOagaGyuUBzVKa4+QrjknrUsshYYqjKQF6jNaRiIaZCvB5zULHJzTGf5xTS1bxQIY/Wj3pjtz1ozxVgA6mgKQetMyd1KSR1pgTMamgBLiq6ncRWnZxZ5x3rOWiA07GEIvPOa1rdcsDVW1QbQKuxYU1wVXc1iTyfdqoRgk1ZkYYxnmqrMRxis4aFSK8rHnmqTku2KvOowTmqoX5ye1dETKT1Izw2aZ6n3pcncc0uzIyKskkzwOKY7hecZpzsAgqo75aiOrExkjbqgC/N1qZqYODk8VpHYRE42t1pvJ70sx54NRg1aAk3EU0vzSA0hxnqKAJQNy5pGGRjNN3HOB0oJPvQA5jsx3pp9aRjlhSuRkAEdKYEbcmmRqfMxmpcCmthXyDTQDm+UnvmmE9KVju6c00g+lMYbuOlIh2tmkbpQlAiYAHmkoJA4zTuKAO8deajZfmrRkhwxBWq/lYzkV56kmbuLRnupzxSJweasTAA8VXIqyBrtuNRNkGpdvPNNbFUgGJknmpUHNIq5qZEob0AjC/OagkyHIqxLkH5TioijfePNJMB8AKnJ9Klb5qbF056UrsAOKnqNMRjsQCmGQgVFKzE8mmhiQcmq5RD95YkGmjrTE3ZOTVhYS0eRwaewyBGzIK04jgA1RihxyasbyoAz3qZO40TuN9RGMU5nGzjrTrfDH5hmsm2lcoq+QW5NI1uG49KvyqFXgYqPCIpYnGaam3sDVtzP+zMzZHapkgwOanSaMA81E0wLcGrU2yWkRNCSBmrUUaiPHem/eODTyCpzUSd2NakRjbB9KaDtSpCXY4DcUNCWHWnewhqgsNxo3BhgU8EImDUSjn5RgUMLEgbatSKWk4FMAGORmrUO2Jc4rORaWhJHw5qFXwx+tOhZ3b7tLLGEfGMHrUlEqS7ea0LK5kQ5DYrHJK96midscGonC5pCVjprXVmiY7/AJs966O1nWZQ4PBHSuBgdwcFsiuj0y/VMK547VCbiy+W6udICp4xUiqKrRtuT5WyDU6cDk10pmO7JGwV4qOJSG5qUDHSlAHXvTEPxxRikzSFqpMBy7cdKVSMUwMaAQTTuJkmR2pBJk4oxkcdaQIBz3ouIlpCoJyaZupc1Nx2F4FGVppxQBTTCw4imFRu5FPwfWl28U7gyPC4xihwMU4io5AccGi4hpAph68dKY5YP7UiuQuD60FEvGOuKRm2OhxmhAJOMZokjl428YoQEm6gN1qLY+3rzUqD5aYmIjZJFPpAgzwMUvTrTEAUY+brSEnHNOYZ60mwucA4qWUMBG7mn7l9KPL2ZB5NN/hqbgIdvpTcqO1OGTTXBX5sZFK7GKHXpinR4BzUIO7nbgUuGPQ4pczHZEwcd6eHXGBUAHmcjilwAOBTEPYBulAXFCsB1FKHBfFADd2aQmnFNtAAI6UmCImXI5pyAEYpTGW4pVhIrMohcEdDSLkjLHmpfJbHSovJct04p6isDMAvWqshb7oq79mycEYpfspJ5GPenqBRIQINo5prkgKSM54xV5bTaOajmTaoIHTpUalo8x8T5fUzxgDtWAyV0niRWOpPuHJ71iGM1upaENFvwlubX4gABzXceJoHWzf61wOjyG21qB1O35hnFejeJWzpCsv8XNTUfvDgtDis4PvingA9aTjcTTgM1AxCoFMIy2RS7uOabnimImQ4pxOabGvGTQxqGU9gLfLVcgyShF71OcYpbVQtyXI4A4pSaSBaj5pREghU4IHNUi4ib5hnNPnIedjUEnJ5qFEbZfVs9DVS+LY/CprWElQS1R3a4ZgW4AqYrUbXumN82TTQOeauSIBHkdao7iXIrri7nMzQgtxvNbVrbqsJb2rItS2eTWzbZaJsngdq5K8mdFJWHEmOHC96gjkYvyBTLic7Ng61XiSVs9jURgrXZTZokq6k7ulY99MASAc1bOY4jk1h3suCcGtKNO7IqTM28fdLVbIpZyXJ55qvyeAea9WC0ORO7NrRYgJh9a9I0dRtArzrSMida9F0xcKrBsGvMxj1O+hax1dqoCYqVuOlVLaUjAI/GrZIyPSueL0LYxm5p24Y5pJNueBTMEnOeKdhDJpERCzdBXDeIdSM83lwnmui1y8EED4OOK4a3czSmdvXvTpRs7sHroadkscEe6TrUdzqgVdq1VllaZ9qkgVSuXjtl+fBNaRpczuxylyomnupGXOeKSz3tJms23ma7uCithfStu2Ty2AracFFWM4y5mdPpvMYrbWMbBWNpYwBkVuKR3rihY6HoV5IxiqUsYzWhJgnjpVSUc0pIEZk8YquygVelT1FVZFHpQgZWKjtTCtSEYNKFzVJk2IgMU/d8tKQAelBUVVybCD3pdoNLs4pyoPSoY0VJYtxqFrQN1rR2e1MdTmtFOxLVzDuLEdqoyWWO1dM0QftzVaS1XNbQrMycLnLT2HHSs+W0MfIrsJLXK8rVKWyBBBQGumFczlTOeiVguat27EHmrX2TD4C4FSLaY6LVSmmJQaKdxJzTRJlcVNPatnlaqyxOrDYDjFNKL6kyTuMlhEinNZsluqxtzWsA7ptxzVSSwkckAHFaxaXUzaZkbOKaE/dH61qNpsobBXAqH7KVYpjPetlONyGmjM2fKcUmCtaf2KQA/JgVDLaMB0quZAjNAwaQkhsirLW7DqKZ5Rz0p8yEORicGpsncKYqbRU4AxnFSxWJkcAjirqygiqCtzU4YFaxlG4yd3BXANQmXb/ABVFI+FOKg35PIpxigJ5GyKpynJqRpfmxVZ3JJ5q4oTGdWprcU4ZLdaUgdxmrBFY8mn9Binso6gU0ctzVjIx97NO+/xSsBvxQg54pXAkjXDgVv6fEMAetZUEWcEjJratxsUEcGsKr7DW5qKgTFSR8mqiyk9TmrMWT0OK4WaIczZkpsmMc0rrhs96ZJ05oQyC4YBeKrRtkGn3HKGqZkZOhIroijFvUlZaAdoxUYm9ajlmBkAHTFOwD5G3Aiqr8Ukk+1utV3uhWsUFydmwKryzcVG9yCKrM5Y1pGKFcmabLAUvmVWzg5p6tmq5QJN5prOaOduc0hA4zSES+ZgA1KH3LVb73FORipxRYCXPz0nVqbu5zQGxRYBXbBpMbi1NbJpwOB70AOipxIHWmRnCEnrSsMjJpjY0kHikyoqJjhqAwPamhEjnBFP3cUxhuxincUXA9q1OzEJLfpWM44PFdVqtq80RYZOK5x0yCOpHWvHi7HbJXMacYJNVz9K05osg8VUdAK6IyTRjKJScmouc8mrLKKjaIjkggVd0QOjYYxU4kVR0zVPoMg5pqykn2o5biLka+Yc9KdMgC7adFtEeQRUDyE5NRd3sMQHauKgLHdSkljiopXCdxVKLAklIJ4pi8MaYWw3WrEK72yRxiqem4BEAMlql35XapxTJFwpHvTY3CnGKTV0BMeBUEj44qTdmmtHvOalWHYWJi5x7VajHl85zUUUWwZNO8wZxmpkrjTsWHlDjGMVVuhvUAHFRxyEnmknfnilGNmDlcREHrUixqDmqyyEGrMbAjk1o01qSmmTcKc5zSSNvGQcVA7ehpoZtneo5R37EwJUZzUDTOG4NP3fJUYXJp27g9BWkLNViNhjGKiKgD3pobA96TswVy0WA7ZpFYk8nio0YkZwaeBuqdi02WluCPu8Ukjs7biarKNvOakDqV5IzU8qRY/BYdaljO0VGnSlLYpBexbRtvzda19LljeZQ6k57ZrHUKUA3Cr1ttRSyuAwHHNZSijaL0Ozt3UDavAHarTBnXhsVg6VOJ4MM2W7kVtxou0fMa1i9DNqzLIJI61IjcVCM7akTgc1ZI8nimke9O6ijigABAXGaVE4zu703K+lOUjHHSncB+MDrSlTjOajZ8DrTt2V4ouFhoUg1JjAxUewZ70/aByDSGIB83PSlyB3oLY7UgZTQId+NBPvTTj1FIBnvVADZI61GzE8VIykCowpJ6GlqKxXlLbRzQoJAzViWP5RSqgwKEyhFTaoqbA296jbgU/PGKpCEOS2RQqEDBNOB2+9G4selMTF8s9jSFcdeaeM+lGM0xDTTSTt44NPx60oXJxUlEagkcnNMY7RjFTkbTTSAe1S0BEvNOJ4x2qRYgBSbOKTQEYxjGKQox+6KfgKckVIvIyOKnQLFfYQ2F4p64HUU5T8/SngA07jIXGegpq8NkirO0CmtGDzQ2AwEt1Wl2nPSngEVIvTmlcERr9KeqkmnjFCnB6UhjCSV45pkYfutTMML8qmiHcRluOabEQyK3cVGS/QnIq3J+dRH6VDGiHcxGMVWuFYRFs4C81eOMVDLtaIgjIPYVLQ7nmvidx9sDbchqxJBsTdjNdj4wskXypEX61yzIrpgEGrvZF+hk7xDcLJ02sDXf6nqEV54egMZzxzzXn12u2PBHJrQ0+/JtFtieM8A1c4tpSRnF20L+Mruz17U5TTdpC0mSKhFCsoz1oYDHFRtnNLvwuKYiRGOMUjUwOe4xTgwPGeallXBmwKcW2wk96ic9B3pWyYsYNZySC+hCFbJbr7U1l+XJ4q1D8qEkVWudxjJAIFNO7sLZFm2bMYwOlQXBBLHHWnaTJujKmpbqEIuB35rPadim/dM+RB5XB5rPELiQnqKvyqygVJjCAhcmt1KyMeW5btLbdFvPFWovlJw3XtSQgmBBnBPWq8qtAxbORmuRvnk0br3UOkRfNBbpTDtD5XOKUOJE3NxUckixjJ6etWl0E2R30pWLOK5u6k3Meau6jqBeIr0rCecn3ruo02lc5qsrsC/zEYqCJj5xzQZeai8zDZrsSsZR3Oj0idBcLk969H0yRHRSDXken3SLOOK9A0fUF2qM15eOpvRo7sNNW1O6imG0AVe3hkBrBtLgSLgda0o5Gxg150anQ6XEs7txpzEbc7qiHNR3DhIyNwz9a6U7K5Bz2vfvFYVzjARx7FGK6y4gEykmufurYhyQDj1qoNA11MxpRGxcD8Kwr8TTuSDxnpW+9qxOMGprfShKcY4rrhVjDUzlFzRz+lo8M24jtXU2ELSsGIqzH4ewwKite10xoVGBWVarGew6VJw3L1lEEQHFWzg8A4pIkxFjGDUbsE471yxVtTe9x7ZX3FVpOTTyzFcnpUROaTGQSjIqoyVcbmoWWkDRTaPnrSYAqVxUDA0XEMbrmlHNNORSp0pogkyMYxTlOO1RgjPWnjmhiuKDk9Kf5eRSKBmpsYpAV/JwetRvb571dABPUUFBVJtAZ7xA1FJAu3OK0GjyOOaryccYpczRVjKlgBBwMGprW2DFQe9WygKHinAeWUOK1cnYlK7GR2MUj7XUE+lT/2Dbz/LGVB9DT2jeQiWLr3q9brFxuyH7nNSqjWwOKZgXHh1oyQNufaqD6f9nPzrn8K7U28T5y+D65qCe1sVGJHLNWvtXYhwRxr2EsylxHxUUempEC8keXz0rr/JZztjQqvuKI7NVJLqDzUfWHEfsIs4p7UyZAiKj6VVuNM+TcWVfqK7y8SKOEssYz0rAn0ZrnLSMyg9q3p4hPfQylh+xyEtuhU8iqJtctxiulvPD00Y+QkismTSZ0PIb8q7oTjLZnNKnJbooSWh2feFNZPk24p8tnOr8bqrvFMOprZEWE6d6USADGajdSKhZWzVctybonkf5CQagWQlqbhvenbSBnFCikIe+M5qBhg1JtJNSiIY5prQGVOQcinjnqKtCDJ6UhhI7UXBFNqaBhqmdKhcFe1WMRh82afEct0qNTmrFunz9KlgaNvH0rSVcqMdqpW4wRmtOErjqK5ZsaHQod4zVrf5YqvvG/5TSswI61g1dlokMuZNtMkkwcYzUakmXNNOSGJHQ01GwXI5HBFUpjUkj8nHNQMc9a2joZjWOBUDEE7t2MdqWZyV4FUXLe+K1jG4Esjgt1qs7jrikUEv1pjrwa0irMkVWDdqXGfaogSDipCcVSVgArx1oAIo3cUmaYDzkLjNNyTTcmnqMqakBU5fFSQkNJtNVw2HqRWCnINDAlIwTzTSeetMByetDDFAEwxtzUZODRH060jdaAHo24Y6VOQBH1qop2mntLlcUDGNy1HApoNBpoRZjxs60n402Llabg0gPpOVVuLeSNDtPqayY9DnOdu0juaY+r+bAoztPerem6rHGSrvuHvXi3PRsV7rw8ohBzjjmuU1OGOGQKpyRXeTahFco8QbAxkVyGo6cTIZM4HY1campEo6GC+MDApsjZTbU8+2E7QM1XZizZIroRhIg8s4OPSoUjbmruxj04ofbGvTmr5iBitsVVqNwRn0zTPM3UGTH3jmjl1uK4pIC571TmG5qmdvTpTFTccnmmlYYbcuKuxcACqrDHIpUmPcnNEldAWpeBmq5OOaSSUsnWoTIfWiMQLKnHWneYAeKqeae7UvmfLRyBdlxrj5MCoGY9arCbLYqQOT1NHLZgPUtSsrEZzQJAKRnLd+KLagRAHfyauoPlqsoG7JFWI3GcUm7iSsSJFhfn60w5ztqeSRcVEGBO6s7sY0AgYpo4apfMU8Y5ppAPQU0xO7I2bmm5+elx8+T0phO1qp2KWxbVsLUkY3GqXmNjg1OkxA4PNZuNy0TnA4qMjB4piEn7xyaeWAbFIZMshCVIvz9aiVCwGKtwQbmAJxUspDolOeauREBwuKb5Z252irdksTOA+B71hNnRFGrpBVMoByTXRRkjC4rM0rTcSebvyp6VvmEIQc81dNWImR7TsqRYiwBp4xjGKlQ4X2rYyIijKKYYu5bFWiwYY6UxrfzOppXAgVflpVHGKsLCB1NBiGeKYFcx7xinpAQOtS+XjrS4AfGaVxibKayGp8D1pQF9aYirtNJ5WOatlV+tG0Y6UAVdlAXac1OMeZjHFKyg9BSAj27hRsxUoGF4pjBvWgCEwHqxpV2A4Bp0gYjpUaQ8dMUXGOOzdSHG/ilMQHJFKI8nNUnYQzpQGw1SFQKjK5bincB3mc0hlxQIj1zTWXB5FK7Ae0gPNCSgmmhAV6UgiC9qLgSNIM0m8U3YM8ijYvpRdiuPLUm89KQimkEClqMeF3Hmh0IHBpg3sMbqVtwHJpWGIq46mnlwoyDUSgE/Mc08ooTIHFFgHLIWHHWnRGQt84GKgCnOV4FKgctyxxSaAssPShQQOaj3nPFOEhNICUdaWo9/FG+lcYpkJoDHFJGM9aeMdMUrMZE7nFMDE0+UZ4FCrhahpjuJ/DVaViqNjrVzZmo3hAY5Gcik0xnN6zbte2p45HNeezBoLhk9DXr0tsGUhQBXDeKNEa2ZrqJMKBkgVpB3dmNs4y7+bmorRsTp9akYlgc02BQJ0471vtGxk9Xc3i+RikzSYGKQYz96sUVcSjGQKTI9KevIoBAy9KQrtcGntyKidznk0mVoIjbrjHpU4GGIPQ81VtgdxY9T3qwSc8mspu70AmEXzcdKrXo2QuvrVyFxtxVW8UyqT1rODtLUb1RQ06QxtiteZS8YJrEiPlvmte3m82IgnOKur8V0KG1mVLqPGMVAjEHFaMqbsZqD7OA2aandBKFizHI7JwBUMnmSnaamihyhKnApsbYc4GayWl7A7kMwEUWDxWXc3SNGV3Vc1SY+WciuYuJl3GumhT5tWZ1J2Evm4rLL1YmuRKMVTbg816UFZWOZu4ucmkIpN3pTlDNWmyELGdrblroNJ1Mo4DHvWNHbnoBVlLaSM5UGsqkYyVmaQbWx6bpWoLJGMHmuhguVKjLV5PY6rJZuAzHFdGviWIQjBwa8WvhZqV4o9CFaNtTuDeoo+9VKfUYjwWFcausy3Z+RyopslwzyBfMJOOtKNGa0Y3KL1R28dxFIoAbk0k2nB4jgda4j+2jZTL85OO1dromtRagioxANDhKGrHzJmc9mUPK1atI0XjHetm6tA4yuMVRSIKeeKznctM0YAu0cVbCqoziqMTbcYarglyvJrSKViJPUjB61EyqxyetP3qAahdwKLjiwZeMVEwApwcmo360rFEJFRPUp+9iom5zUjuV261A9TSZFVXYjvTQhrvzSbsComPNKTxnNWkZtj93NTxmqIlG/FWAxxwcUnERZXJOalBzUKuQvSnRue9SiicDvS0o6ZoyKV7hYQLgVC8WakZmzwKfnPBFBSK6w5qX7OHXFSiPPTipgqqOvNO4WKsZ8j5anVM/NSSwZIOKWNxGQHz1o0AjkDHjJFNSNy27G7HrVg3EfmkbTilEoHyIhOaQWJQgt05O6Q9qieVY4ztGWPWpEtpX+8pBq2mnKCDxmi1w2MZLWW5cM4wvpWgNPAxuHFaa24AFSSR7kAp8rFzGBNYIM8ZrPlsIm4MddO1t71C1qN24gEUKMlswunucjNoUUqnCYrGuvDYwcCvQWtiCeeDVWW0B6itI1qkHuKVOEuh5bc6BIASBWTPps0bcqa9RurX5iAvFY91YjBJUV208W3uctTD22PPDG0Z5WlEingpXSX1hHHyAOazHtFB4FdsJ8yMXSkilEyMcbKvwW/mMuE4zVUwvCcinpfSRetWzNxZtR2UYJDKKbJawjstZD6tIQcZ3VW+3ysCWY1HJIixan08SSHyhWNcRMhZW6g11nh+F597u2QRxmsXV7cxzS8d61TsJPUxkjzV6FMMKrwqSvvmr4wgHFTKRRZQ1YRyGxVSM5FSK+DWLVwL0RBz608/dX61WicbulSeZzjNQ0O5NGcMagnkYKwHTNOd8D5Tg1UllI4JyDSSuFwDL5ZPeqkkoDUskgCHbwaoSsc5zW0YiJZJcJVZnzxSu2VwahNbJCuGdppcbqaOWqVcCmIgK96TdkVOycVH5YHOKYEeeaWnYXsKZ3pjsOzTg+FIppFMOc0CAnnNGaMZpwUUAOUEc05mz1prPjAFAOaAJYx3pD96k5C8HFABPekAj9qSnMDTBTAWnCm05RQBJF8uKeRzUa8daX5vWgD1d34YZ61X89o24Y0mc96hmGDnNeU4HZzNFw3cgTcrYNPS/eWLbJzWZuIA9M015CrYXpS9mhOoXJI0bnvUflKBkkVX89qjkmOOvNUoMzk0W3MYj44NZ05yT3qOSZtvXvUXnccmtVBpEDC2BxUTOSKerKUOSAahB5PpWthWHbvl/GrEcgxjFVGYdM0CTHehxGW5cYquwIGc0LJupJfu0JAKDletMzzRGCwxQDhsULcBr5LUjNg0+TAHXmoMnvTESbweAOakRuKqnPYGpckKMUWC5JuNKjHNMAzQSQaGCLZYbOBzSJnOc1XSQ5qdQWHFRawySRj0Bpgcr8tKowMmkxubNJIByyYOSKeH3NgcUwrgCnR4D5oaAkyMAfrTwgNVyTmp4myOazaKTsgIUcYpfKwM5pXA7VIeUGKRSZX2NnO6nBSzDnFPCnuDUqRg8npQ2Ui/ZrAgUyOGHpXQxxaZLGpDYb61yqhM7RT8tHyCcVhKLvc2VkjtZNIjktiYuSOwpmnaDIz/ALxCM9qq6BdT/aURyxU9a7uN14KrTgr6MJPlK0dmYI0ROAKnMbt2qXcS+akVverSsZuVyBIzjOacgYttIwPWiWaGJd7HaPeqUuqRjhQfrTJuaO0dx+NODKpx29axn1aBV2luvvWfca68QKxsNvqaOVsEzpmZexoDgDrWDp+sRzL87AH3NaaSCUZQ5+lKzGmmXMhhTCoZs1GG2pknFLHIrchgRSYywAKXaKYrA9DS55qhEgUDpRTQfWjcPUUABA3Zp4AK02lFSgFHFHFKFprUwAnNMbgZpeaZITjgUABz3FRsSOlOMhIwBQDxkigZAG+bDNUqsNvSoyFaTfjApHlUr8pFMCRtx+62KZskPVhTFckU9mO3hhmgB5BxgUsYIX5uuaYp2nlx+dDSqDy4/Oi6AkcgLmow4JxikYh1+8MUhXaMjmjmC1yQMM0xplI6U0A+Z7Urw5HWs+ZjsNMoC8DnNO8wFeaYItoyaYAHbG4U02FiXCnvUiYxjORVcKM43VKo2r1ouFiRhjoKAfwpnm47Um/dTuImAUClCgD1qABivvTVEnfI+tSxonJ9sUmSRmjy2K5zTk+VcHrUsqyHhto6UgfL9KUYpHGBkVQhTgmkZu2KYpY9jS4PoaLASk5HHFJtyvJoWnFcrUajGFcgKDzmqWqWYuLGdXwRjA4q4FYPnBp8qb4yuOD1q46O4Hit5ZNA7LjvVGKIi4UZ711OuWrw37IR07VzwIN8OMVpzXFY0duVOaYIwDT2OCRSryKyQMj2inoBt60zmlHNUND9vvVSfrVhgwXODVSRueTj60hlm3TCZzQWBbFNVyF4qMtjnvWFrsHIsBiDgCrfk/usnnNZyzM2ABzWpDl4wCwFZVPd1LgkzEuo/LapbGVQxUnrU+pwE9AaqWkQVgG4Oa2upwuRJe8aMmXAK8Y71C5OMZq6SmwRge+aoXDbTwazgavYniYmI/NiqRkdJCFYYqT7RhMbTVCZyMtgirhH3mYyZV1K4c5DNkZrAnOWzV66mLOc9KzZWyeK9KlFJHNN3ZXbA6UwcnmnuDjpTUXcxroMxVAJ6VoW0IYdKgtoCzHjNbdnb5HSsqk7DSuxgtfLdSSDn2rRWIYztomjCsmasIVCHJFckqjep1RgjFuYQ02McVXe3boGxWlcFRPyRmoWIraMmS46lSCeaDirUd/tQlvvfWoWAYcCqk2FNWoqW5PM4jpDNLNvzxXS6HLNEQQSK5NLoow7+1dt4dMV0oCspb0B5rHE+5C72NKK5paHfaPercwfvDg+hqWeHD5xwe9YaRtAwZTgCtuK78+IJjmvL+I7WrEW4L0pXudkeSKjmQqSAcVXL4UqwJNLVBoyc3IOCKn4Krg5zVG+eOG23fdOO9VtHunuXYE5A6UtdwsbGzANQy5HvUxPGO/pVaadF4LCqbdhXG55yaa3Q0yO7SXpz9KlLDbnFS9CinJ9KpzcGr8hGOeKozYzVRBlWRsdqhkl2pmkll5qpcy5TrW8VdmLZIku9s4xWlC421iW5J6VoI5VaJoSZpBix61Mp45rOSQ1YSQkVmWi6GzxTsVAjc1MDWZSFBIPWpVGRzURIzxUitx1oGSrwafGoY81EjAtjPNPVsGgZaC7qk8pSR8opIuQD2qyFFC1JI1tUOSUHPerMNusfJCk/SkCuvOcipg/y1aRLYjKd+eMelIAd2Kcz800yj1Ga0SRLZKMCk3ZNMDlh0pATu709BD2H+z+tIUGw5ppABGcjNSF0QYP60WHco+S4yS2fTiq8itmr7ybmChDg96jW08tpJZHHl9iaTp3HGVjLktzI/AzWTqbQWikFd8hHY9Kt6hqyKxiteCeM1hSRM5LuS2euaKdNRep0Ri3qzHkhMzl3OSegHaoZLQKPu1sLHGckkKenNQyxfNjIrrjVtsaulFmC9tu61Vlsxg4Fbv2V2zt5+lQGDGQRk5raNY5alBXscxPaMMlTg/Sq3lH7h6+tdJNGgUk4xmktNNS4mBPT1rohO559amoalrQI3S2H8OP1rM1xQzyMO9a95dR2SbIiCcY4rnrq5adjkVVjmW5kJwpHTmrAYNgUx4Tn5Rk04RkMMinKN0O5aQ7eKmRQeTVcEZ61ZT7tYsZLwq5FN3c1GWPSkyRUgKXPrUEzjNNkkwcVUllO6rjEB7Pk4qrJyaeGyahcndWqVhMYWpA3HSmbsmnCrsIVRhwafICq5pEOHprOxbGDigB+ScClx+7IPXNMDnd04prOTnFA0IDt96ReTSgEilQYPNMYCmnlqkcYFRE0EjiNo9aA3tQDuSoycUABUk9alVcITnpTAaljOTjtSAAcr6UoB9ac4A6HNRk4oAkLD0qMn2p3WmkfKeKYCI24E4qRT7VHGPlNPXk0APyCaduFRge9O20Aem5xUU2SM1IxFRPIM47V5u7OlsYoO3mlEeeaQtuGBxThuA60rk7lWVwDxVdn+bmnuOaifB5raOxNiJ2ycVGac/HNR81aJsJtzSbe1OTOeaVvv0XYxvkkjio2iYGraGkYEnrSuwK20rTx84xUrgYqNBhuKe4DkGzP0pqruc1LjJOfSnWyZVyRkilca3Ksq/NUcimrF0Nr8cUiDcnPNNPQkqrkVKvNEgwaRSRVBYsIlNlT5qcrEd6UnJJPpWetwSK6j5qtRttFVVJ8wntU8QJfn7tNoZK5AFMV/Smup9aanC4pJATlsim78UzcBQzLijqIWNznmpSSTkHiqzMBTVmO7FDVwReBKjJNSLNiqKzEtg9KsKN44qHEtF5W3oKuW6IcBulZYcxirUF0pT5uuaxlF7o0izTtrSOe9VNwVeuavTaUqTlE+Zaxkl+YFTg1t6Zev5gL/MPesJOSV2dEXFm1olugcAIwI7mun3YwB6VRgdPLGwAfSrisOM9K0p9yZu5IHIod1Vcs2KglukjGQefSsi7vTPPtA+WuhaswYl9cvPNsDfJVd5GEWAealhhBY7qJUjQcEHNUkJmdKD5TE9aySsoJLNkeldHNABtG7qM1nPHEWKr1qo6MzkjLWUo3ysRXR+Hb+Q3PlMxIrCuISozWh4cw12FJIPrSqLQqm3ex2rupyp6GljRVjwKrFcqDyealQtWBq9iUvn7vFC79/LUgU+tJyH68U+UCfd6mjKn+Kq5+Z8E8Uv7tepo5Q0ZOG/2qN3zdarh1D4U7hQch+TxRYLIs7iWwGxUnmqBgHJqme59qjgbBJpCsaBamGQAc1CXOetMkbinYY9pdvI60omzFyKrI2WNS7tqYPNJ9hiNG0pyGwPSkKqOBSK/zY7UjEdQKF3EKoO7npTlxmmIS3enxrxk1aYDygPNRMqk4xz61NximsBnjrUySsBGI9vfj0p+7PAppHOTSj24rMpC5Io3GpFjJHJo8sipew0QuGZcCq6QOHzmr4QDrS7V9aQyrysnSnklh0q15ankgUNEuzjg5ouMrqCFyRml8nPIOKt+UAgxyaR0O3gCi4hipil2gnBqQgf3qbt53ZpiHAALiocc1IzAMKULu5FOwEIBNPCnbingAd6cCM/epgIqhV5pcrTcgAknNMDgnpQBIAKUpkcGj6UA4+tAEbI6gnNOjJ8s5odzj2pU5FAHIeLLBz/pCLz3rgGj/wBMUkd69ruLaO6Uxy8qR0Nec+IdCbT7vzY1zHnimrK7LW1jHYfPijO2ngg9uaRwCOBUkjDSqQDzSZzSMMCi4JCySDge9ULr/XhfWrZAxkjms12aS660RQ29C+nypUJO7JqQ5xioyMVlYJK5NGVAyOtX4H4rIViGrQt3BFRUiVF2LkwymMZrO8jZNmtCOUMdopggLyE4yKyjJx0NJJPVAo4zVCcZetIr5anPPtWfOrK27tVU3dkvYpzS7BWfcXWUYe1OvrpQnArGnuNw4PWu6lTOScrCSvuAqi5w1SGQnvUL8n71d0Y2MG7gx3Cn2sLPIcdKijVmHWtexgwuTmicuVDSuT2luqIeOa0rZtnamQxLtOM5qxAgDfMTXDOVzaMbPUju2+59aUOOQfSq+qSquNrYxVZXkkAIc5ojFuN2W5JEl6R9oz7VVeTAondmkBJzjrVaRie9bxj3MucRrnauBVcyFwc0jr81O2cito2RFyuwwc1q6Jqj6fcBgcVRMfPSp47XdziicYzi0yoNxd0er6ZqMF9bZyN2KuwOYn9s15tpt9PYSAAsF9K7TT9WivFALbW6Yrxq1B0noepSmprU6TcrruIzVC+AQeYDinw3IQbTyPWqmpXMbwFV+ZvSsk+ZalWscxqGoXF3cCJWJXNdLocYhiA/iJqraeHQYvOc7XPIrTgtfsK75GwBzWtVxsoxM9S1d3EcAO44Nc5Klxqd0RCxCetJqt19vuQsTEAdcVpWHlWVpyBuNZ/AuZ7mnLoS2+n/AGaMZbNWuCgFVluxJxnNTx/NWTfM7sLFe4wDtrKuX2niti4iAO41z15MFkIzWkFd6CehWmkRRWdPMGbApL24WNTk1mx3HmPnPFd0Kb3Oaclc27c7UzU/nZ4rPjnwMZ4p/m+hqXDUE7GtE241cQ4FZMU4GMVcimLHk1jKLNIs0UbmrCHNUYGyeatocVi0WSDrT0+9imhSOSKeoycgYpAmTKgB3DrU8UOVJNRIpzmrUIJ4PSktStiaFeNtTqQOO9Ii4OQtSBAWztrVIzbHZOPakzTnGFwKYFNUlqSRqzGTmpAAATjvT/LHWlCZWqQhAx2kgU6F9wLEdKcoKrg08BUPHQ9qpCuNchjnH0p0a+YwAQFvejOeVAwPyqK41KGzT5Pmc9cdqGrBuF08NmN0zjd/dFc/fX1xqEnlr8kApZF+0ZuLhzgnoapXWrWtt8o2kVSUnsaJRhq2KLLacuBVG5KhGXIBrP1DxXFJNtjwo6cGs461CWO9iWPTFaww1SXxBPGwjsaBeOMFnOcVC9yrngcnpWZNfeZ9yMt7GoYLiYTIWwoDcA1s8NyxdjBZg3JKxoaldLptmJlz5p7VSF3PMkUuFBbsK1dQsm1a2wpy6iuXPmWUhVwVKcVjQUJq3UK9SV+boWr9ZniVkHfkCqY1WSIeWi/MKn0+9+0T4HPWqF7ugv2ZUxXXTvF8rOer765i1FZT3jb5GxmrsWjQhgsko55qjDPeOuFzih0vGOWB+tbq5zMvXFjbW33CGNc7fghzs4rRzcKcYJHrUFxEWXJiyaoRmxzc1fgmBQ/Ws94tuSFxTVn8vg1Eo3NEzW3jrTJJQBVdWLRbgaZN9zrUchQ2V90oqCX71Kx796jdsjNWkJjckdKicsakZsYxTNxqxEW3HNOVhnmgneSBTjGBHnHPrVEibhu4qQc1XRTnNWENADCccU3pSufmz2pgyTz0oGh27HSpEOetJ8u3pzTAeaBji24GoQetS7doqF+PuigkWN+tH3mqJCc9KlIwMigBW609TgU3AIpVHNADw2TS4zScBulL9KAFxihm+WgHI5ph5BFADl+4abHnfSpwMU7ocjigBwHNSYpgp2TQB6PtLjrigRgcE5NSDCjkgVEzjzMAivMNmxGAB4pjMVFLITjPvRwVoSKKUh+TOKrH5R61puyOgG2qk6DdwO1aRYmio3zDpTdtTmM7elNKcdK0uSRZFGM80qRknmpfKAWhiIPYGnDI707aAetLtJ7UrgIwyM01BxmpSOMd6YowhprYaGFuCRV3TkBjbPeqkS7sj2q7YHGRUT2BFC9/1uKjjbC4xVm/XEpNVFPNXHVCegj/ADNTAcHFSH71NdcDNUIeXxxSlsRbqrqWY5AOKkkYeUFzRyjFiG8HtVhPkTHf1qKAYjqWl1AiZiRmmodxxRKMU2PiSjYZJKhC9ajwcVYKljwCaUR+opJisVnGR1p0KLjk807yc96RYmEvHSm2FiQIN3FTxDaetIiilb5azbKQ+VwG24zT404yKg8slskGrMZ2gCpZSJUyvJPFaVndGJMAZ96zDllqeKTYKxnHmRcXZnTW2syRKFIJ/GteHUpZlGAcfWuNWTOCDmuk0khoctmoirGjRfld+tRIcnpz60/cpBOCeaQzRgds10oxZYVw3NMZAQ1Ro20ZzVa4ucMQM59qd30ETXIYwq2cYqiRkZqa4nHlIATn0qoZTuxjiqXmJoZPnHNQ2181jOsi8DPNSynIqjKC528YppJ6A3y6o7K312OaNBnBrUiuCy5HevPbebylUHjBrqrK4NwqlWwR2qHBApXRumcYqIzljgL+tQpGzClCqpwTzTSKuSndjJOKYTTSyjgE00tVCIzI6j92cVYivAQFcYb1zVKUMPu8Gq4WQn5jzUuNxXsb6zRFcFxQpTHBH1rnpFkwcMRiksb9oJD5p3LUSg0UpXOi3Angn8qcSCMYrPF/Go3eZxT11OJgfmH50tSiaXCsFXrmpCckcVQW8jkYkMM/WqlxqjRS4AOKljSubK4LnPGKfsGOuc1lpqSNESxAJ9TVzJeJHQ5GOgqVIGrFraFGBTPugjNNSYMRGww2O9PZD1ouDQ3n1pOS3WnBc85pHyq4UZ+lAWGl/lqRFJTcOaFiBXJ70eVIFOOBSY0SYcnrT+aYgepQDjnrU7jGkZHJpNopWU+hpAdtOyC47c1PAJHNQrI3UqcVOhyuTxS5UFx+N3fFNMR/vUvJo37aNgGGM+tIVYLjNS76Xg0rgRAZ4Jpyuo4zTtgPWmeUM0cw7CsADgc05YuaaBjmnmT5aq6ENaMAEZpojwetLkdc0ZFF0BIF96NoJpM0oGaLgO2LikA5wOKBkU4jAoTHYU9s4yK5PxW5FvgkEE11LcmuV8VQEWgY+tEnoOO5xPAznrTQQD1obqRUZFShAx9KaD8uDSE0meaYwf7hrMhb/SySK0ZG2oTWZblWuTlhTjsyZGmDkZxioXbLYAqzwU4qvtC5z61mmVIaE7k8VOns2KZtDjANTi3AX7wzSctBpkkR2HPWpkuCj47GmBD2GaQoMBycYNYuzLLkpCpnqTWTdysc88VPd3G0AA54rCu7s4IHNaUKV2Z1J2K14FZDWRKAenFXZZGZeQapMrZ6GvTgrHG9Ss4+XFMC+1WViLN0NSCICteYTGW8ZHBFbVtKkUPIGc1mK4WlaYNWc1zaDi7amk+oBAdgGahbUpcZArPDZenuflqFSSLc2yG6lllYZar1hLtDBhnArMdyW6VbhcLA7ZwcVpJXVidRS/ztk5yaYWDGqokYgnvmnxsc8g01GwluPY/N0qcDJBx2qMDe4FatvaHaCVP5UpSUSowcipFbl5BxV+O3K8YrQt7IErgVoHTyJh6dzXNUrrY7IULIzPs+7HFOMLwHdGSGxW2ttEj/ADMoHvVO6dVc7cEe1YKtzs05EthtprEsS7ZgSPrWpa6jZO4eQ49iaxFtzMc4wPepVsyOApP0qJ06bNFKZ2dvqtuy4Dgj0zWXq9zJOBHCc59DXPNDLF91iKiN5PbsBuyetZxw7TuncTn5G/FZNbIruvzGq1xNKz8Z2+lV012V8LIpOBViK9ilPzAD602pp3aLc+ZWNPToHkG4nH1rWUCPqar2s8QiAVlz7GkubhUTk81hzK9gYy9uAgOTxXH6ldJ5hO7FaWo6im0/MPzrjtRud5bBrrw9Jt3ZhWlZaFS+vTJJjnFLBcKpAqk0Rbk1A+5PWvUVNWsjic3e7OhF0uAAf1q1DJuFcpHcOG4ya2bG5Zh9OtZTpWRcalzfierkc205xWZGxPSpkk+fBNckkbps3rWUE88VeRgelYkEgJA3DFaETECuaWjNE7l9JmY4qxGGJqlACT0NaUPB6VjLQtImhJJxirca7eahiXir0aZWqhEJMepOM1MnTOM0CHCc1KAEXFbKNjMaV3UgUDqafupjLnvTsJbjSPekR9vU013WJeWAqAEzttX9KQE7TLu45FNDFczSNtjHrUMrwWSF5JFyP4c81y2p+JNznLjYOig9auMZPZA7dWbeo6m2wpA2yLuxrGutdtoIgCwLdevWuSvNfmuN8ceQhrNCz3DjIY8V1xwre5jLERjpE3r/AMTyywlIz34xWLsvL8n5m59q1LHTgXUvHxjuK6C2tViTKotdkacYqyOOVRy3OYh8Ms5BkJFWmsrPT4juTc4rXvLpLdsFxn0zWWscuoz4VcR92IrS5k9dzPN203ywQhT2qeHQ5mQXF44jTOcetaUv2HSo/nKs/saxb2+u9Yk8qPeIh0wKiTtuXCm56RRJDqvkakEib930zVrVre3vI964DEYNJp/hhzgsGz6kVeudFkhiyCSBXnVFD2nPB2PWp0J8nLM5eO2XT4WZeXzway7yWW5mJAxXQ3No56g4qKOxQckV0Qko63uyfq0pe6jMsr97cYcZrQTUoJ22SHaTT3soT/DVSeyiVSRx71rGomYVME0WvJUyDZKu00TWkrL8qgj1rLjtJ3fEbsR7VYSe+tOHyy/Sq50c7oSSuRS2vO102n3rJvrVUPB7V0q6rbzuElUKx9ahvrCORNykHI4FWmZbHMxuVjIokclcVaktjEDlSBVSYccU9x31It26mnpimjIByCKM8Giw2xh5NGPejqaMe9NCuEY2k+9SYyuCaYCAetD/AHhimIdtAXFNzilAOKQ0AOOPL6UnG0Uv8FNfHBB7UAM5zSZwaC46UoGaB3HqdwqN+QccVMu0DGRn0qLjJoERqhJ61KVwtIMbuKSRhjrQAmcVIv0phwcVIooACOc0opTgDmkJwM9qADOOKCuDmgcmnvgY5FAER5NOXpmjBPIFC/dNAEqDdj3p+w0yJtuKf53tQB6NMwJqNUBbdUeGZutSE7FxXnWZaJflY7TUcu1RxUe/P1pjZPWlZmnMM3YqNzuanSsB0FRhsc1Y7ik4GKbTHYk8ULk9TTRLYAYoOSfapMJ605duOKTYrEJiGM0wnZVo7dvSq8ignpTi9QsRs37ykDZOKbtbOaXG0Z71bBMeYyqlhUth/rOTTocS25UjJqvbKUusZ4qZaporqTaiuDWemAea2L9Qy5xWMcB/anTd0RIHIzxSufkFMkwRx1pATjmtLCuCny/lpHGGpWHz0rYLfhQMmi+5Ti2KYjYFKSDU7iuMkfJpin56a5+elJAbGOaZRdRsLxQZAOtQR78/eOKeIyx55qEgQ5GDGplABNNjiUHpTpAAeOKljY3IVcj1py/vKQKNvIqaFVBzilshDS2Dg0/HHFPmVCeFGaRR8lTe5oPjJxzUgGajjODz0q2oTb0qG7MpImtIvOcIOK6axhNtHsJzXKRXHlzBlOK2YdRYrjcc1n1Kb6Go82wlfWmYLc1WU+aVYtzjrVyN0UfM2a6YpmUpInlj2xKQay0YvKwPY1LNfgpsBqnGWAZgcE96izKTTJJ5sPj0qHz6gk3Fxk9aAvvVoTLRPyGqbdDVp1IXg8VCFU5BoE0U2LM2Pxq/a38trhg3SoNgwTURXPHb0qrpk7aHY22pi5XeJNtTC6IPDA1yKlkGEJA9qkW6uFbG4kVKTLOne8ZTkkU3+0D6iuaku5cfNUX2pvQ1qo9zNyOqS+Rl+ZuaRJy3IIrmWuMHipFvWUdTQ0JSOhaVgx3YIIxUIMYUgjrWUL1igO45p5usr15pvYa3Nb92Rs3VVvXjt4sg/N7VnC9w2e9KZjOTkZFZydi0SQXwCHduHvSrO0r7skj3pxiAiUkDFWEiQQfdFYynfQ1jFlK6lCwfKx3VrafqJMKfvOg6VlvEshPvULwSQnfGSPpRbQHudWb5pWBVCSKmF2WXDAj8a5+01QpEEYc+tTyXkbtw2T6VmtGU0a0l6ygbelWobkyREqRWPES64PNH72JiASB6VVrk3NmSWUIpzVqORjGM1j214g2pKec9TWpbuJFODkZqJKwE3nbTipkfK5qp5bb/AJhmpYy3YcZpJDLBam5B7U5RxyKXFU0K4pUY203POKXnOcc0zy2LbgcUrjsTA8YpML3pACOp5oKZoATODin8D60hUdcc0mDuzUtDuPGc+1B605TkYNBA9KQDaa1Bzv46UDnrSGNC8808AUrbdvvUQbmk3YCQUHO6oyxB608NxzTQD1JBzTvMqFX7MakOzHBqrgQyOx5Fc74plY6aN3XJrpCRt4rl/F526avrk1MndlROH3ZzRTV6Zpc1YmNJXNMYjfx6UjCkTl+aEIZctiFvpWVZjfdD61b1KUpEQpxzUGn4Dbsc1duWLIbu7GwpA4xSTR5GcYp8e4noKkkRyM4yK5LtM26FWJNvNT71DDNQ+YQ20rinSFSucc1T1JRPHN3qO4cqvseaiMyKcAcVUuriSQYUnaKIwuEpWK95ct5oVemKynZmkNXpNp+YnJAqlK+0qV4zXbTVlocr1YxmyaCgPJqASc8miS7VBituVi0JgoBqIjLVXa7JYBaT7Q9Wovcd1YssEqMlAKqm4zTHkLJkGqUSbonaZQeKia5zxVdQSM96TZg81SSC5P5o3AVeG0W9ZarudcVo3SmK2THU1Muwrsiyo6dalRd1VkXHOKuW4J7UpPQa3L9pAsjr8tdMkARVGzjFZ2mQbSCy5roreMzyqv8ACO1efiKvvHo0KasNtrdpHG1OOtW2jaNhvXg10Njpe6IMo2gdRTdR09tgx26Vxu71N1JXschLbTySYAOKpzxhDhgciulkV4QexrLlhaVyAOetXTqtLUTihtpCGtyVBJoUiNTvOGqe1mktxsKZqvduk0v3ADU+83qV6FSdmY1XEG9smtZbQyLu28VNa6Y9wx2oOO9aKvGKtcn2d2ZyafuXgVHNatCM4rcMIgbDttA6moL17dwMHNRCvJyBxXQ56O9urZvvE0XGsXEvXPSpbmNOwFUmXDdMiutKDd7GLcloipNNJJndVJk3NzWvIItnQZqp5AduBXTGSRhOLZnPHiqdymRWzcQFB0rLuxgfhW0X2MJR0M9BtIPvXU+HbVJzKW9K5fOeB611vh51jiz3PWpxDahcdGKuWlXZIRTDwxqeTBYkUwplq427nQkWrZugrZhGYxWRboAy8VuQLwBXLUZrBF61jzV5YsHrVeBCCMVdVMnJ5rFK7uaXJ4UAI5rRjA21RjUdhVgS7RgLWsXYgsRMTndQc7sVGjE+9MkmkWQjYT8vGKpO5O492IIA9aWQlsBetRwJJNH5kymNR3NRXeqQWcZ8pC8g7tVqLewr20Jmt1j+e7cbfSsTVPEcFoClsACB1rO1DWZ7tSOa5+ezub197dAMc10UsO5amVSsoKxHqWuzXhKqWJJ61nJZz3J3NurbhtbW0iO8AvVabVliBWJAMeld8KUYrQ4alaUyGLSPLXLEVaC21qPmIzise51CZh9481RknkYfMSa0uRqdTJqltbovIqpJrZm/d2+ST6VhQ2lzfSKi7iPWut07Q00+ITSKC3qaW240inbadPeSia4Y7Rzg1LqWsR2MIhtVBfp+NW9Q1CO3tiE++3AUVl6Xooubn7XfOQM5ANZzqxgrs1pUXUZTsdNvNYui8gbHpXfaP4ajs4g7pk+lVYdY0/THYpED0AxWjH4xsin3GBrzqtScuh6tOn7PSKLvkpGp3AKKy7ue1UlWlU/jWVqusz3j7YXYKewrDmil6uSTWUKfNudFpbs0dRMHkM0WKxmDMFxQWk2FSTt9KSLeWxzgV1Rjyoad2QNI6tgirEVstzGd3HNbVppcd6uAoLetRXelz22QgIx6Uc99EHIr+8zLGnvCcx8imEKzbZBV6K5miOHUn61NLZR3ibo8B6nnafvD5I/ZOfutIWRTIgwRWY0s1uCshzg8V2wsXERDDpWBqWnhyQF7VvSrX0ZyYnCK3NEzIHjuRh6qX1mF5So5Fe0kwMipRcGVACea6U+x5MotMyZo9qYqPyvkrSmjUjkVX8vK/SquK5R8vHSkKGrDkJ2pgy/Q4poCuetSAZpvGadvAGBTEP6Co15BoL8YoUgUAKDksPamsMAfSlXAz7018k9aAGFacvy0vao2zQBKjIZajk6tt9aaFOc4wfWnDAyM5zTAbHnNKy5oJ4460nzetIAzg1MHyKgCkvTxkZ5oAmblaQj91QOUpc5jIoAYr08jc1MCc8VKRsx60ASKu1ah9acJCTjNMb2oAliYbaTcKbGvyil2igD0CKQg4xU5yeCPxqvGcNzVvcCvFcDLTuiHocAZowT2qRVwS1RyTYOAKQ47ELR7j1ppjGNtN3mnqcjmh3RRCy44oBA7U+Qc00LkVQmR7aeoxz2pKeuduMUMaGlsmms2ByKk8s9cVDLxQkgFDA9qdgFcVGSAOtPQ5TNPYQ62GJCue1QyZhnyR+FCuUnDdq0ZbYXiiRR09KTaT1KWqGzjdblqxJBkGuhaMi1IYEH3rCnAVyM06b7CkiorYbBpx5bFG35sgVJtG7JrYgRxk5ppb5sY/GpBg01+KQw3bacDmmFfl3UKaVtBMR+HpTy4+lE3DVJGmQCaBiq5zjFSo+O1KkJLZAOMUjIQehqNAJ/MHpSE7jmocnHenxjdzSsiibG5ABTwcDFIqgjrTtg9agaQ4KX5zTwONtSW0ZI5BxVryFPOay5rbFFNFpz5A4NTCHGajKc80+ZMu5GB81XoCwjPGaqnaG6ip4iTjawxQ9yd0aEZkKLhscU4+YP4qx5bi4jmKjOO1ILu4PGTXUtDBptm1An7vc55qRZAFPv71isbhosiTFQhbxmwGOKTaYopo3QVaQZ7D1okmtoh8zgVk/ZLry9wkqubSWUkMxb6UKKK5maT6zb4K5/Ws99WQSHGSKonT5VfkULaNggjmqtFg5SLsWtxZIZT+dTx6rbM2CcVjCzZn27eac+nSg5Ao9mugKbOmjuIiAdwqyDERndXKpBcqoyWFWY5p41GGzR7NobkbzKuc01QGOMYrKW9uTwB+NH2m5HSk0K5qPGN2Kf9nBTIPNY/m3jPwc1ODekgFsCovYu1zQMLquT0pEDk42nFNgjlUbnYt7VOgmlbaFK/hUupYahqPihDtk8VdzBEnbJqCKzk7tinnTtx+diTWfOmapaBNcISsYb3qx9oi8gKGBNZ8mnhG3bjnpzTBaMo37uPWpTVx9DTijUsPQ96SXaGxuBHTFZ8k0tpAp3bs1TivHmuQDkAmtG7qxD3NnyVboOapzxNC+5c1tQxDyQ2RVK9jJ6EVn1NE7kVtquw/N/Oti2voLsdQG96wY7SM/dBpzQbGPJX6VTdkQom3JAZJ1IHyg561dE5s4eBkZ65rmINQls3y5Z4+mKnbXbefgnA9DSj7wS0Ovhv45QGLgZ7VMt1GDgSCuUDIkaYlGPrU0c6BsGUfnVcgrnTteIBy4ph1CIfxVkrtZc7sj60hiB6Amly9wNg6lEBkuBR/aMe8DdnIrnXtpZGyQwA9qhZZE6kj60eyTBTZ1q3cbnAbmrCScZPSuNheUHIY5FXINSuIGxKrMO3FZum1sUpI6rcCM0m4elYH9tsF+4ah/tybd8q8e9Lkk0CkdMDjmkZwDiuUl1y5LbQMe9SQazP5nzjIqXGa6FJ3OmDDG7FRnrycZrPg1iOZMY2/WrTOsiqd4H41AybJDYNAHOaAyuAcjigsB3otoAdTQfmYAGk3bulMMY37ixz6UXAkdCXHYU4JxjNJuGMc5pDIB3ougHBdo61zPjID+zV9c10Zcetc34wIbTV5GQelHUqJwaA4oZttCN2NEmCOtaCYxn7baOFGaQMMc0yVv3LNnGKYjLv3DzeXnrzmrFoioo+YVmg+ZcEk5rQjKqtXPaxknqakO0ckmnyXW07QcLWW9zsX71VGuXl4B5rFUW9S3UsjTluNx9felBMq4FUIJAn+s/Wle82n5CBVcnRCUkWJSI2yTmoDONhwOKzZr4setQNeNtraNFkOepZlkAVj61RlkBx7VHJcb1xmowC1dMKdkYN6jHbHeoyu4cmn+WzHoalW3ZugNa7CKxHcdaMP61fSyJP3TU62QHUYqZVEh2MhYyT0p7RfL1q68YTtUD80ua4yrGQrYIpHIPQUsuAMjrTFye1WkAqfK6mtG+yUiU+maoRjdMg9TW3qMQVoR/sDNTLcCpBBu4rYsbDd/8Aqqraxc57V0dlBtQEkVyV6jirHVQpKTLNtbiMAtXTaJZCVsle/Wsy2s2uWSMKfyrutMtY7eMLgZArz78zO2doKyLcUCpGoXgU9oEYfMuakGMipVUHvXTGKWjOXmd7nO6hpCSHKjFZctlHZgbh8x6V2E3zDgYNYOqWzyAZB45zWNaCjH3TWlUb3OavIGjBYY/KqFtbNNcZYjFaFx5sjsD0FERt4YS0md3tXNdqJ0jLjMCeWD+OKigv5kfbF+NNvLtpW4UY9aSwI8zPBJOOKnlsrtGi1RPNHJcKzE/UVjShkVv5V0FzKbfhVzuHasO7kwxOOtaUJSvsZSRiyO7nrikBO3BNWtyZ5GKnRImTlea73LlOfluYsgOeKmt2C9VzVyW3QPnI+lUpm2HirTU1YzceViX0qMvC1jyKJIz2qeWVnqHohropx5dDCbuzKICTYxW9pb/JgHFYdwMOWrQ0+QgA9q1qRvEim7M6RfmNTiPJzVKCQHHNX43A4rzp6HVHUsQDLgYxW5aqCBWTDgkYrVtWAHWuWobJGvEABmrqAMnpWbC+VxmtCP7orKLBliMbR15p0ZLH1pmQgzkVHIyxnzppVRP7uea1WpLLHmhTiPk0rzw2x8yeTLkcAdqx7nWI1Uvb4A96yXvPtE2XJORXRRoSlqRUnGO5q3+sFhsVyfQA1kS73OXlJB7UxpI1fOOagnu1LV6UKUInDKvKWxOWjjOCwNVbi8GCIziqT3Bkc4zVduATmt07LQwd27jJpJJGOW4qlJuAIVcn1pZrwR5yRVM3UrvhBmle40h8kZDAFhk9sVq6bo0tyN7j5Ae4p2laWzMJLgE9+ldPFsjiIU7QB0oegIjt7KGzRdsYzUV7f7Uw/Cii4vkgQPuGQO5qpptjca3cmUj9wDz6VjVqKKuzejT53boM03Tzd3bXVxxEgzg06S6F3fJHCP3Q4wO9XdZkFqY7G06kYbFVNOtDG4PG4GuGU76yPZo01Fe6OfSZZZTtX5e1H9meV98E10NsNxIduPaopYlL4DfnUc7LU0jOt9PI+Y4pJ7MnOcVrpb8AZPNEtoEU5zS3F7VXOTntSuRj8aLF4Vl2utbslksgOATWDfWTwOWAI/CtFqrM05lLVHZafapFEHjXk+9XX+z7ds4GSepNcLY6vPbMqO521Yvr9rvDLIevasJQlzWM+Vs6Way09iQpQmsC80+a0Yywj5ayhJMH4kYmt3TtTWSLybjn61Sco76opxaRXtbtZfkfrVa/tQ+WjXjGKfqtt9luFlhBEZ5q5b3CTwY28ik/ctJdS4tSVmcTqFkATuGTWBPGYHJFd5f2u8sdprmL+15PymvQoVk0edisPb3kZTOrLx1qEHKntzUj2zJyuT9KrSZBGK6dDzHFobKgx061XcFGCg9auEgqAar3AAlFUhIrGMjvTRy+Kk5Jo24bNMQx15wKacjtTmb94D2p4IPWgBhByKeQAuaUAE06VcAUARmM4zmmMNoqcsCgFQydKAIzuJ5PFIy7ehqUAYpp5pgRBsNUvbNRkVIPu0ANAO/rTgMk0Y+alXg80gJANqUwDGakJynFMoAc5xjFNyT1NIck0447UAIo+brTs80i/eo70AKoO3r0o2t60biOgp26gDvc1PE+Ex71VGe5pxfaODXG0BcL4GarSdc0xZiwwTT/ALwqLWKiyLpQG+anMppEXnJFPctsazc03zMUso544pvljbyaATGhqeJMVEVOeKdsOM1QakwkqN2U9aYuc4pHWlYdyNjlKXfsixTDkHHag88GqSuSIZuK1NOu/Kj5OfassxjHAp0ZMf3TilKKkrFRlZnQO4kBrCvYMOWrVtzuQmqt6mVPpWVP3XYuavqY4bAqTG5ahbAbHarEbDFdDMSNRhzTZDhc+9Of5TTHIMdFtRli3TenNRyxGM5FLBIVj4OKWVyRyaWoEBG9wasrxgVWXO7ip0bLfhTlqBbik28U2R8HNNQrjPemOwNY8ruO5fgijljzSGJEyoqrFK0YwrECl84+Zyc1LTuMsBcHNTJFupY2jaP7ozQJdp44qXd6FJljd5aCniZQAD1qiZWb7zE0qneetTyBcv8AnIBmoJJNx4FCx7V3HkUwPhvaklYLkRBPNNjkYTgA8VJI4A44qGFl+05arV+o7mgctIuVqR7cZyeKU3EYAPFVri9HrWnM7EWLCgeXT0lCDbis4Xq7sDpUUt8Q/wApwKi0mVc2lk/dk5o3pHHuXrWXFdho/enC5VuKLSQaF8T92KmljuUabouMelUiQkWTUcUgflXx7UWe4JpmlIYPPDbl46gUrTW7ShgRtHas4xlnzjJ9aQWshfCjiqu+4cqNcrbSpvBA9qqA27ybRioWtpRGwBwRTYrOUAN096LvuTymolrEV+XGaUx26ff6+1QI8aLhpMn0zViNEdM4BrNyaNFF9CJlBPyLipo4WIDNSqSZMEAD2qcZzjORWEqjuaqDsPhKqemeKswIJG3A4rLnmMGWUc4xVaz1aRLgB8lO4prmYbHSMwHNMFyN1ZDa3G8hAT5fSqEmqMJ2xkLjgVpZk3OsBikHPNR3UaGDYpxWHpeqFyVkPPYmtadsojZzmhuxSaZA0CyQbGPK1QmsjD+8Q81qvDhSe5quIXblm49KzVawclyO11hoVCSjirb3YkTdGVOe1Zl3b4U4FUY1dX4JFXz8wlGx0Fur/LVjyyc5HNZ1pq4jws0Q4rVj1C2kTIGDTk9BxK8tqGQ/LWRPpTl8rxXVWii4bDOoWrp0hGDFmGPUVMJOI5JM4xbCZ12+aeKY9rcLwJDgd67ZNFgB3LICAOcU8aBbFc7jk10RncxlBHK2M15bkc71HY10EGrhsLJHtPrT20GMPxIwpz6MQvyHcfU0NJi2HLdxSnGcUSRQnauQc96iOjSKvyj5qcNPuQAMHNCikO7Yq20Ue5g4p6QCUqzMMVH/AGVcOfnLBTUq6XIq7fMbFHURI1rE5xvU07+zUVeMVAunPnJkarUdq4XHmk0Sdhq5X/ssM2TjFB05V6CrgimXo/FGybvIKjmZSRQlsSFGOPpUbWsoAAkarz784zR8xHJqLpjsU9s8ZA8w07dL3kNWCpLZ700gjrSaiO7KwlmAOJDSpLcbd281PjH8NRyEgYC8UmojVxvnzk/fo33Dfxmk/iAxinBtr4PSo0uNIikluUY/OawdenlksmDtzmuim+aue8QRYsc981SSWw7nN7SpyT2pCacf4c+lBCkdKL2EMIyKrXbbbZhVjOKp6i37jg1Ud0J7GLC58w4q+suF5rPjQ7+OK0rayefqTXRUstzBXexCUeQ57UjypENqj5quzq0aFUGKy3jfeW71EXzBLQiaWTfkn8KaZGNSNGzHpzThCcdOa2ViDPIemlXIxWhHCX6rViOwLNkrxTdSKEotmTHau3OKnW1cdq3EsgAAABUr28aY6VnLELZFKBkQ2LZxir0enFDkjip/tMMfOBVW61jB2qeMVlzVJle6ieUwQpnjdWXc3Iz8tU57xpWOSajJJHWtoUrbkyd9EEs5Y1GXytNcEVHvJroSsSNYZNPVaaQetThDsyOKd7AEMf72L/erVu5PNmx6ACs1CRcAelXU5Yk8n1rOe9xxLtsrKoJ6V0ECl4QwbGK5+OVgMdR6VpW07Mm3PHpXFWTep2UJpHo2hxxny3rp0VQ2R0rl9C2GJQK6ZTtwMZrioPe5rVu2WDg09Tio1Ix0oDc11RdzFitVa4I2YIBBp7uR3qpdPuTGaG1YSTuYuqW5WNiigZ9K5ScS8D3rsbtmIxnjHSuduUYScDiuVpKR1wZSMgeLAHNSWkTLiTpz0pkaFM5FPFx5TYYZHpU1FpaJpGRPd3WADjOKwrm73uRtrSubtWUkDjHSqdnbrdTAseCaqjFRXMwqbaFa2sLm9b90hb8K0RpF1aDMsJbjNXDrYsnNvaIFx/HViHVpXwJn3BuoredSSW2hnGJzcxRmLFNpHGKzJ0LKcVratEI5XkUYDHiqcEYk6mtYNJcxnJa2Mp4MDNUbgMvA9K6C8hCrxWLL79a6qc+bU55RsYs6sc5q5YviPFNu0wM9qZaMA2K6OhhHRmxazndWxBKCMt1rnY32HINXYrvA5NctWnc3jI6aKdQBjrV+CbAzXIx3xyOTV6LU2AxvNcU8O2bxlc7FLqPI5xU51GNCEMgx1zmuJOovsySfrUDX5kkClieKmGCfU0corVs7e98Qx20e2PDmsV7+5v5sux2egrPtrR7hwXJ8vrzWgk8du4VFHFd9LDRjqzjq4rW0CYusMWxjk1XNz84PTAqpNdK75Y85qGWcbsl+MdK6NOhy6v4i1Pd85zVSW44zurPmvkbKjk5qnLO7cAnFUhWRoTaikQ+U81RfUZpm2ICc1XSFpiONx9K3LTT47eIMyAuegq1FEtmclhLIN8mfpXQ6TpaoBI8fHvVqys2wGkHXoDWoynYEHA9KewWZAAE+70qC6vEgQ89afOxtwSfu4rFigk1XUBGrEpmspy5VqaU6bm9CxbRTavchFT5B1NdYbi10PSfIYhXI7UkEFvoNm7ELuIrjb67kvrzLEsM8Zrz3J1Za7I9iFNRjZGpYMJJJryQl/wC7mpLWRmmL4xmoxtgs0hAwG6ipYV8pcKOvNZSdzeGiNJJ9tWTtcgms5GyPmHNTRzAnBNKJDV2Xo2Y/8BqXzd6sCM5rPS6kBIAHNWIp2GSy8USI5BrvtAUDBqtfIDFllzVu4USBHU4HpSSqHt8bsmi+zHB2Zyt5Z4G5RWf5kkbYPSujcb4ySM1lXlsQuQOoreEk9zaWquiBLqPueaV51jG5Cc1lSbo2J70qXDbwC3Faez7GXt7aHZWt3FqFktvLw/Y1msr2F5tYnZWcl0Yp0kVsKO1dDceTf6eGX/WdhXNJcj5Xsyr63QTRmeHegG0iuYv4CpbNbVleyW7i2mXg9M1Dq9seWUZBq6XuT5eg5PnVjjpUMZwe9ULuAqQV6EZrXvY2zn0qrt3xHPJFegmeXUh0MknDAVG43nd6VLMpEtIwxEcVqcTVmUjkUA5FSSDiohnaaoQ3vThikK5X3pdhxQAZwaJGLEH2pSoI6U3B3Y7UAAYfjQRmhFGTxzStxQA3FGB3pTxTetMBCB2pyim4pckd6AEZx2pEYs2DTcc1LCo83p2pAO+7xTGanH7xz2qMjJoAmxwKbSqSZAD0pWHJ9KAGr96nDlDSINzYFO2EKeaAEU8UmaAp9aNpoA7jdjvTgdy1G6kUsfC1yja1H421ah5FVCasROAOtRJD2J2jqMrjip4n3DmmyDJzisk2OxWaPueaTaG4xipTkHpSMQBkVoIhVMDnmgjFObimhuKGCTbGnA7U0rnvTid3FJsNNGlrEDJk1GeJNtWCD6VXdSZM0xItCIFM7hVWX5DT45DnGaZKQT1oje9hs0rOXMWcU9/30J4war6X8+5atRjDMp45rKSSkaq7Rz1yhilPOabHL2q7qkW1ycVk7iGrojZoxasy7yRuNRzMMY6UpkPlVXclhmmhE6OFj9aczbhVYZCVIGyKLATKMLmiLLMTSj7lFu2M5qWBKM7cUEGl3VKigipuFiGnou49aYeOtOj+/ntQ0NFuFwjYPPFSfePFVSMHINPjkKtWbjroFyXy2NPCMgBzVgMMZApjHe3HSo5hxQu9iuCeKYRnvSzDCjbzUQY9+KEihJMgVUZmEmRVqV+Kg425NaRYh6ebNhVPNJKjJlX7Vc0uVUulJGRjFWNXVWyVQ5PtRzpOzHy6XMZVK89aYPmyMVaSzlZTwfypr2siDofrWl0Rysmt7Kd7cyKhxUMaSR3IRgea6LRyyWJVsH2qhdRGS+XAxWanqXy6C3sBWDAcVix70J+bJHaujubRhB8zYz0zWLDbkXDA01JWE4u+g8S3IQMFOKngvpVbLKa3IFtzaqh2lvTvVK8jijzhcVHPF6FKDM038zytg8Gm/wBoT5254ohQeVubg+9K0KbNwIq3ykXZXeVmkzk5rQiupY4gASB61SEDZ3EHHrWxb2yT2fUZFJ2KV2VUvpIW38mrP9rseSh/OoFtvNHTpWhHpCNaNKSOKyag+hfvdzPa8aaTHQUjAoCMjJ71TBCXJXcMA1pCMMAc8U7chF7kSxfnSSRZxillvI1bjFQyXh3ZVTjFNJg2OZJFIMZ2mrkN5c7VVskCqC3ZyOKsm7RUyMZocX1Fc1F1CVjig6jg4YYqhZ3kbk1Wvb6NJcbc1m6aZoqjRrteI/ynnNRh4w9R2fl3UY2qc1Z+yAvwDRyJFc7ZLDBE/PBq2sEJG3IDe1U0sp1UrGST7VD9kvFyVf5hT5WHMaqQeV0kbPWpk1S6iYx7iymsVJb4fKwJPrinGa5V8lalwvow5zWgvbqHcA5AY5wa3rbxFGAsciYYDk1yiXsgTLx7j64qP+0TuO+Mj8KOW2w3JM7+PVIpmGzac1aFzHu27lJ9q4iwvoYVByST69Ktw6ooumO0EfWq1RCaudcG/iBH0pw3YySD+Fc2db2yYIIFPfWyq56D1NOzGdCHbODjFNZjnt+Vc4dZlbBUVaXUbgoDtoV0BsYJ9KbwOoGfrWK+o3IbHlVKLyckb4iPep1Gau4+gprA9cCqyTkru2083Bx0o1AVkyaAmRTPNx14oEwB68VLGKy7femE9Mr1pzTqc8g8UnmA7aGkFyJyVPzcD1oZTt9aW4jWdAMkYoHyR45OKnRFFaQnIyMClLx8E0GbL4K/nUTEsegrNtFJEjkEZFc94jJNoBnvWyznBFYGvuWtwPelza2Q0tDnVkDfL3FKMg5qKJMOTmnM6juK1t0RAkjACqNxG9ydkfNWYo3uDgg4q/DaeSMjr603UUB8vNsUbLSDuBkI+mK0pIFijwgwfWnmWNVyzqD9apXV1EP+Wg/OseedR6j5YxRDODiqLKOpFNk1VDxxUDagpH3eK6YwmlsYSlFs0IbdGXdwKbsQNjiqX9oAR8cVTN+xc4NWoTJ5om2Ggj/hpj3sMYzj8M1hyXb461Ve4L8E81aoX3Jc+xvTakjRFlOD9azX1JiCC9UFmVepz7VC8ybuhrWNFIhybLrTs/c1HJlRyc1WSQk+1WCdy1olYLFdmJ7VKj8YxQUAXNNGO1VoAM+e1MGM9KKcooAlAXHSns67cDioHbC1CWNS1cL2LCP/AKVjFaCg5qhajdcgmtMAZ4qZ7gieHrye1PFwYWz1qDLAdDTGBPWsbJ7lqTWx6D4Y1ZJUALYb0zXc29yJAMNmvEtJvTY3iyckZ6CvTtIvkuY1eNhz1Ga82tS9lO62Z206nPHU6wSYGCaQOM9aqKScDNSrGfWrgyWgkkHrVdjkGpHGOxNRFgVPGKbGirIvtmqktn5gyF5q/glxip1iKSA9RUWuy0znJNMkJ6Y/Cs+5tfLbLLmu0cAnkYrF1K13KWHX2ptNIcZ62OSuYzg4GAam0+ER4Y84qxPC2MEUkI2JipbvCxrcx9S2NcELx7ipdNuFlPlkHI4yTUuoWOIvMHJosLLy087vnpXQ1GVMiLfNYTV0xAMnOCKwt7oflOK2tRkMg21kuoHWrpW5bMmekiGeVnXk1mXJ2jOa0JOlZd7yDj0rqproctRsz55d/wBKrpL5bZxmh+Cc1CxrqS0OVvU0I7gZ5q5HcJjG39axQcdDUiSuOBk1LiXGpY3PtEa9eKPtadsms6NXkTNaFomR90Go5bF+2fQtxi4nAG04rYtLKONQ8gyarW8u1QoXJq5IW8nPOaE+hlKbe4+W6I+WMYXFVlnbBODmpYoy0ZYg0ixnBO04+lCRFypIjsRjvUTW8zPgnIx1rR81FVSV6VSu9TCsVQVd7vQm+hWa2SIHccmkhtXuD+7Q49aktoZruUMyttPfFatxdRWMAihAL9yKaWo29CBkgs0AUBpPUVd0+3nuJldvu/Ss+zspbuUOQSM5rsIUW3gCgYOKptIUY3JdgUDGCQO1V3co+8/dqLfKm7GWz6VmXl5JI/2eM7mPpWTlZXZtTg5OyGyyTajci2hPfrXTadpcWnQZYYkxnNVtE0pbaHzj/rTzzWhfzu0BG05A6gV51aq5uyPVo0lFWRzGt3sks4iEmRWfBEWuUUH8adJ+8vCeuM81Pp6brvJHSmlyQ0OnqW5YmLrk9KsxKc8tSyFd3HNPUr3Fc12AuGwT2FRR7hJk9KsIpfPPFSLGG4PHvVppErchh5OcmriSYUqFJzUOUQ4xV20bHIUEUwlexG8o8sAowxUIlwdpVj+FXZpdz9AKEwZBkigxTZjuwSfDLhTTJ0BByMg9KvXkS+UQRls9arxKCgDEZFTexsm7aHN3ltyTisaUEMWAxiu2urVSjY5Nc3dW20MNprso1U0Y1KTeqKMcu9QDWpY6k0Eyj+HpWO4MZwAaRZwjYNaTpxmjOM3DRnV6igljF1EdxGOlFncrdwNE/wB/pzWPY6iyHyiwKN2qV91lciZDlTycVz+z+yb89tVsQalaGNip/PFYJykhXtXaT7L6AuMZArlbyHy5CcVtSnfTqY4mG0kZtxCGywIFUpGCrtrSPzDFUJoTu6V1pnnVIa6FMncKZgbCMU9htOKa5xgAda0MCDJ3VKSdtNb6c0h6UDHg805gAc+1Q5OalzkcigLDEIDU4jNM4zwKXJNAgYZOKYF608Al+lKVIB4oAiNLijHNOFMCPoakT5W3/pTcZNOfjAFIBpOSfehRg05V45p22gBF/wBdmnuMAj1qKI/vOac5yaAFh+V6e54IqFThs04tmgBOfWj5qcFxzT+f7poA76VUY1GYgOnSm7t/SpBkDBNcV2W9SIrSgYqQKSeOaekDMfu0XJI1kcVMrsw5p62rdzUnkhO9ZyaexZCQSKckWU5qyoj29BmjCjgCk5gUXjNMERK1pFFPaoZNq0e0BaFMxUN8op0soxheDmqsspxyatXZpcHaotwOfWoXuQelLEjyguucVfKSRksgLCowzuae7EEo1OQgVYnqaGlkx5J71YuJArgj1qCKSNI+1RyTq8fJ5zWTjeTZpF2Vhb9fMiDVguNshreMiNbEHk1kyRbiSBWsNCJLUTIMPFQAEdacNyDHajryauxIDpR93ml3KB0zUbyjpiiwFgy/LUSz4em4LDApjQkHNHKgLBuPSrcExIrLwV5PNWLafBwRUyiM1FjEnNL9lJbIPHpVSO6Kd6sxXoPU1i1LcBxznZikwRU/nRuAcDPrUwjRlyMVHOxEIlIXFOjlwvPrTJIWU5BqM7selP3WWtCy0m4YzVd25+9UJZ89aUDPXmqUbASZ3U4geXtqJm29OKFfPBpWC9i3ZjbKmPWt5fJnu1RsYxWHbxtwwOKWS4khl3BjWUo8z0NIysjofLS2Y5UFWqhfL5ifKmPpTI75ZYgJPmx0zSC9CnDVmuY0dmWrN/KtcEYNRkbrtTUYu0kO0VYiaNCHfB9KauiGS3p3RR1Ts44/tDFxx60+aVmccfKOgpnb0yaeqQ2kyb7K7XatEflzT9RtXijJYZqxasqRgl+/alv7kSx48xjSU9dRuxh29uMjzAdtW763gWNfJ6f1q281utvyOaz5J0deORV8zlqRZCJEeN33cVetiqLhfu1DHcQtBtZefWhHhA2qxA9KVx2HDagdlb8KsQXLTWrqOB6VQROeT1qxHkMQGwuOlTJdhJlOXTcxmReWqq88kW1K3BkRkKfwqk1gZpMk1fMuoOPYyseawGMVqppRe3yJAPam/YCpJJ6VeLmKBVzgetDm+gKC6laPRNyrmUVlXtuYJHUNmt9bjIAByPWsm4j8yR6ITk3qKUUigCYjlDxSyh2UMcGpWs5Iwq461ansHEUfGM1tzJE8rZNpM8SEKWwcVtLewR8lga5sWMik4pUtbraSc4rJpPqWtD0DTJ7a7XCMQ1Tz6fGoO1sk9a8+sL+a0n+R2X6VvW+tTl9xYsvvUyvEEak+nbLmJQ2ARSy6K7FgH6+1QLrLNMjsgwK6G21WKQg5U8dKSkMw/wCymLCMsAfSppNDfYAFGTUN/ef8THfCC208gV1NnNFPbI7DDEVSauJnFXFu1vcLEqjjir6afNtDhBzVjVILUXhfzdp6nFbVu8DWGUcthetUpJisc80M+NvlZ98Us+mXMsCjbg10CYSMBUBPc1ZVwqAnHTpSTRVjFstOdIV3rkj1rTSLC42ipTIFVQRknmo2lb+FM0+ZBYlEafxKM0NErDLAAVCUfGWJJpN0rLtz8vrUASbFBwvSjYKrlpI/cUu9y3GaTCxKyBuaj2jOKQmQHAzSkNszjmpdtykBjTbx1qMRnPBow5oAYd6lSRQoLL1OaeGBXkYpBgN0pDhj1pANkjQrx1qLZipyqhcjk1BJIIuWPFZSaRauQsqqTmuZ8RzIIgq/ezWhqWsxQsQpzXLXlw1/PnB+lTTT5uZop7FBWcZ9anhtJHO5xxV9LRNoJUZqxwqYzxVzq/ykcrW5BDGkS5qnfX3lZAPGKS7uvLYgNgVgXt2Xc/McYq6VNzd2Kc+VaE818zocHvWbczuf4qiMxIwDTXGRzXdCmkc0pNjGfLinvJtXFRgAnpRLg1tZGY7zcx4qKNvnpRgL7U3Kg8U7ITHO+ah/iJpN9G7iqsIjA3E0FaXaQeDinDjrzTGJGPlq2g+UVWRSBVvGAMelJsZHKPkqNfl5qR8lcUFR5XTmpuK5CwwlKnK5qQgEYIpQqhCAKdxEDNnim4peA9P4NMY6zJMq1rIDvNZdrhHU46VsINzbsdaxq7jSHsvy02Vfkq2IgY+nNMMeV5FY8yGUkzvGBit7StWl0+ZVz8h5zWTInzjAqzsVoenNKajNWZpBuOqPUNO1JLmFZfMFaq6rb7doYE15Zol5KreTvbae1dHFiHdJK5UDvXnyhKMrI742lC7OzW5icfeFRSSIB8pzXOw3PnIGgYsK3La1kmRcjGam8r2DlSVyxAhb5u1W1QUscPkx7WqGWTYeK3jG25m9dhJSCKoT7SMGrTsMVSuF3HINJy0EosoyW6EEkZqi8SBuFrQYkLiqz4zWOpqU44FuJhCxqTU4I7KzITrVWUvbXHmKcH1qreXMt1wWJGOlbRKeiujNO6bLVVlj55rWS3KxHAqnPFzyK1hLUyd7GNP8gxWdKFJOa1btQB0rFuSe1dtJ6HNU0M+dV38darMlTyn58imvwme9dKucrGJFl6kVdkmKaHI5B5pplPmcnmmBdjkwpWrNpMY8mqEbY5p32kJwKhoaNiO9ZXyK1ba/VlAlNcil4Qc4qwt2X5yQfSjlRB2D6hHHGdmDUI1cCA8CucSSeT5QCQa0rXTJJk+bgHtT5UgHvcS3DbYxgGrlloxklEkzDA7GphFBZx8qu4CqUuosSdpOOmaSYNF+6v4rZTDEBx3FULdGvpjVFVa4c7epNdFYwpZqvADnvTvYaRvafaxWcPzEZxTJpizfIcjNQDzJxzkD1qteXK2aeWGy5Gc1DlZlxjdWQuoal5KbIz85qfQtPaWTz5R8xrLs7RrycSPz9a7Oyi8mNRjHFclerfRHq4ej7OF3uSXNytqI0GOai1WcR6ezcbiKx9ZmYXQwOAan1KQS6QjA84xXE1aSudUY6XMOxiMiyue5qzYjZcmjT8LAR3JqQR+XOzCtZy3QIskqScVIgBXBqtHnOcVPEcvz0rJDZZQBUqVmCoDVZTufHarBj3Jg0bMSKjkk5q7YudrZNUnbacZq3YhZMgHqasc9i/5YZi3Xihcbt2OlP2LFnB5IqPcUwCetDdjnSK93yKpJiN9xGfar12rsRtxiqbKVIz1oZaJ2VZU3hce1Y19b/MTtrYWX93gdapXIdup4qYtxZaZyVxD+9NUpYec1u3cIBJArOePPWu+E9DCpS6lKL5WHOK3LL/S7V0Iy3ash4cdqv6ROYbjAOAaKvw3XQmkmnZ7ElnOba7EUnCng1Lq1nG6F06HpRq9riQTKOvPFJaXAmhMcnzY6A1m3tNG8V9hnMywlD7VXK72xW5f2+d2wYFYrAxSGuuEro82tBxk0zNnh2sahK8itWeNWGcVnyoQeOK2TOVqxUcYkY0wHmpcZf5uai431RI7pT0I5zTTz0pnI70AO45oTrTQOakAAoFcdjFDHcmKHPSonYg8GgQj8ECgUhOeTzSclSRQA/GKQnjNNySetObG3FAA5yAaFJpoORinDq1ACJwTS0J0o4FMQh6U5RTDnNSp70AOA4P4VOBxULAj7vIp2W/v0hncwws3IFWkgH8QyatxxpAmODSYBXNebKdza1hioi9F5pc7ORSHOaaxyKlsTEMjUn3utO2ik9cUEtXG7gF4HNJuzTQDkgig8UDsP3EjrVaYksTuoafAqq8rM3tVxiVGIkjY96qSyFjjBqwT600KCa1WhTRSKYGetbujRq1pyvc81l+WCQK2rL93biIDHfNKq7oqnHUyNStilwSDxmqag7sVtTWrzSE7sr6iqMloRKcGqjJWFOOpAofpupwi9TTS+ynRyeY3FUQkiTZwcGmKmzOeasbflphUk8DNSyrEIhU9RSSQIB0q0Y89KQxHbjBNLmBozTCDnAxULW+TWqISOqmmiIZqlMmxQ2be1IckdKutGvqKYYhiqugsU1HzcilRcNVkQjPNRNHg07isM2EHpSlGDZB4p6q+OacvoetTcBFZunSpBdSKMc0EDFOKLtHIqXYdixHPJ/E2ac0yg4I5qsTilBz1FLlQE2VajA7GmgqB0qxHsI5qdikisykjrTUO04Iq2VXb1FQFPm4o5rk8pdt58DG09Kc5RoyWHNUUmMLZAyemKnWcyPhsAH1qHDqik7Elu67wMVJfRc71bjFMEG05BpzNmPa1CYyO1BDbs9ulOluXBxzTkARNwNQswLUSimx3EOpSHCY59ake5kx1zxVSSEA5HNOQts5BocUTd3JV1GeJuDViPUpn+8AapEA04YXvTlFWHcsyXEkkeBxVdXZD85zU1tluoqeSGNvSp5lHQroEcsbJxwaazMHx0HrTBH5TZXnFalpJaXMe24wjD1OKlyS1Ha5mtKw6Nmnx3DhME81oJpYmkG0HHrV9/DTKocHJI6CnzRaJ5WjFju3jUkmpo7rK7yT9KvDQZG7HOe4qyPD8owMcVMuQtXMlbhnyvr3qyYvNhVC4+taY8PFY92aqnTGXqx61F10G79SobdogEDA1SeKQO54rYaw3EZc01dIDs3L1aE/IpqrHZuwTUlzcLIyocLt96nbSFGcO3HSmnQSxD5fJ9alqN9Quyq1wqn5Tk08XwK7MYPrWhDoUh6DNTDw7KXzjAotHoPU5ZY5fNyENWo1lRhlTj0zXW2/huScZOAPUVaXwipAO/JrX4kS7I5TbJtHynH1p6meMZQsDXWt4ZHAD1aj0CONfmwajlHochDLdI5bgnvxWgupXeAqDbxXQLpMILDAzU8ejwYyVUnFS4O4aI5Zw0+XdgX6VZh1Ga1jMajKYxiujTTLZcjy8GlOl22cFeankaC5z0esyo2MEgmtCPVUKtvVue1aC6Va5/1dS/YYEGFQAfSi0ivdKC6jE4HDZq1FeLjrj6ip/s0IT7opuyJvl8vFDUgVhVmVuM5ofYPvN+FMCoF+UYNRggZ3g022haEgKHhenpQWIkAC1CZkH3BTTdlVyVOanmHYtFu9OZ8LiqJuDvx2oNxxhhzQ2CLO/dwOtRuwHU4qt57ZyoIqNpC3XJNZuVi0rllph1HNRrKGyenNVlmVetZ+p6slqhC4zip5m1oOyRoXeoRW0RZmxj3rmb7V5LoExuQKxp7+a+lI3ZX0qeCCQDHH40vZ21ZSZJHCZG3Od1SxwCKXcRx6VYjUIuajmukQc4zWbm27IrlSV2Nmk2jA4rOuLrHGaZeagCcD86xrm6LH71dNKg3uYzqCXU5LnnNZ0xzSTTEtTSSw9a74wUVockpXIiuF3ZpjSHGKbK5B20gyRzW1iR6vQ7DrUQJp2zcm4mnYAMm5NoFRgMxqRNoPUU4EZ4FNCGbPakK47VPkDrTHwaARXwd3WpUX1oVctwKmWM+hpXGGzipQuVpuD6U9KzuMaE3Nihlyu2pgAOaiOc5ouSQqOM0rjatPVeKkZAcA+lNvURQIJpVGKmkTaaaAK0vcCWBeOa3YQHhRlXpxisSDpitzT5FVgrEAH1rmrM0iXIkBIHqKY6gZFWZwkZDIwYHuDULMjDO4VyFpIr+TvGc4qSFDtb27U6Ig8A5qZQEDEc8VpdhboaPhawFzqecfKnJr0F9HtruF0dPvDH0rH8F2Sw6W10w+Zz3rooboiQjHFc06i5zrim4pGDa6FdWbCED5c/exXVW0YhiVccgdac8o2BicmoHnCjg09G+YetrEsz5NVHCnrTWuN3fmoHlNJzHyiyjjrVGXPTNSzSnNQSP+NZuRViBxxVZwc1O0naoHJPY1Nx2IJIg5y3NVmgVW4FXG6VGRz0pxY3sQbBjFZ91Hz0rVKEcgZqpdAY6c1cXqI569iyhwK5u9UqTxXZTRblORWJfWeQcLzXfQqI5KsLo5YoXbPSmTrhOtX5oTHnjHNVJ8FcZruTucjVioMimty2alKk9jSLGfSqAFYipSgxk0CP2qxsymBU3EV44ju5IrStbeM4LdapkY6c1NHPsGKTuwsdHarDHgnFPur9Ik+Qj8K55r87MDNQfaWkbD5A96VmwNC4u5bg9cCog8mdq88c1HG4ccHirdvDJI+yNCSecgU0hMs2R8sZxl+wro7CymkAlmPy9uKbpOh4QSy/e9K1Jy1vFtIworObdrIcN7EWoXAtbXIxnHauegWW9ud7nIp1zeNeSbM8A1qabaHggVhOpZHp4eh9pmtp9t5SqQOK2FIHU9Kow5iUZ9elTorSs3UCvPbu7s7pO+iMrXFydwOKoSSs9iE3dK2dVtSbYluorljOYlZGPetIx5rMtSSRpaZ8x2mrUg2XBzyDWdpk37z2q9dMfMBFTO6nYNLDo3y5Xp71IMh8VVU4GR1qcSADJ61JJNgoCR1qxGWKDLYzVVJQRzU+75VGaFcaQ2eEYzU9jHtXg85pshDKFB59KlgBjwCMVa2CWxoMmQMtg+tVbncXXsF71ZkfABNVJpNoyeRSexgkO+VvlLfjVNhlyF5A71IsqsCTwahZjHJgdDzQUWo4wByKivYvkyD+lSwl8qevNT3CsyP8oxjioswvqcveqAcVmsoLcVrahGQ2ayWyrHiuqnsatkRAOcio4F2XKkd6VmODwaZG2LhMmt7aMxlZyR0dzCZLEA8kiufCNDKD0HpXVtIhtFdR/DXN3a9W71jSd1Yua6oX5ZVPvWPe24RietXY5scE4NFwqOnUE1vG8XqYVkqsDDb5hjFV5YMruyKtSKVJyMU0DcpBroTPOcb6MxpFIJNVypDZrUmh+Y8cVRmTBrVGDVmRHnpxSFSvU5pe9K/UfSmSxo604GkA5pGNAh7HdUbDLUuaQn5uaAEPHFCkKhzzQSM57UhKlCMc0ACGlccUgwBRnJA7UAMHysKlVuTx1okUcEEUKKABeFzSY3NTnGEwKReopiHYxSZ5p45agAZoAeoYJkGm496lfAQAGmYoA9L2k9TQflO0VXjkcr8xNOjkLNivLaRsTgcZNQlgGq0YWaL71UZImTJJqVZsHEm3Zpjdc5qH7SMcVGZWcZpqN3YFEe82w9aqS3TZ4pHBzknPtUZ256VtGCLSsSM+aj3Y4p0g2jio1Geauw7scTxSZpwX2pwT2pXFcdaqhYb+tah2pHnOM8VkoQpyRSzXLscDOBUtXNoVFHoaIPkggng1RdxvJqv9oldvmJxStlug5pKNtxVJc60GTW2E3U+zsXZ85AX1qTzWVdsi7h6GrEU1u8eGJRvQUc8kjGMdRk0flnbkH3qKL79B2rMcMSCOhpFDRtuPShGliYjbTd3NO3hu1KsW6i1xiAgjBqAqSeKmeFlPB4pArCkrIlog8qmmPFWmU1E/A5q1cViuw4pGj3CnYJbFPIOMCquS7kTLioiPnqcZPXmmyLg8CncLEDHBoLcCnlAVyRQkYY8ii4hX4NKp4pzJnrSBcVNx2FJ4qdfu1CMHinoTnFJjFyTQTtFLmggMOaQCRAPLz0qSaBi3y1EoKtxV2J+OamUmh2KSyTx/eJNSpchj8/FWDGCtVJY1ycim5JvYLE7TKRhelRA5NQ4KdOKTcw7mnYRaBBqRQCmKpCXHapY5QRknFJoCXymzmjyWNSrMhGN1DSgj5WqHcYxGKcVLlic9qaFzUyqSmKTC7Dcu3HeqkkhD8VYMDZyKha2bPWmrEuXQmTVJ4FAV84rTg8R3DBdz4xxWKtvznHNSCMDtzUyhBjjNnRW+ttIxHmjOaurrDFwPOFcnGojbd0q0rL1zzWEqEd7miqHVtqMm0AkYpwuFcjGDXKy3bE7QxxUlvcSI4I6Vj7GVrpmiqRZ1K3CxvkxgirEVzbPINw2/SuZfUHIANSC8wuR1qOWp1Zd4nTCSwAZW605Lu1IUKMiuRkvWMmck561ML5lUbFquSohXR2EF9bxBjszzUr6lARwuK5KDUG/iGPWrDXyseOlHNUjoCUXudMmpIiYUYFW4NQib+IVyJvozHgtT1u4wMocU1VqR3J5Ys7AXUJ6sKeJ434DCuN+2MeFYk1Yhu5ldfeq+sSW41TR1ClWlzkVLlS3UVyy3NwBkE5qZLu4Vssx6U/rCQOkdCww2c8UnD/NurIOos6AfnQl+VTaauNdMnkNZVYjOaYWPrVR9RURLsHPeoob0u+1gcmq57i5S6zkU1ycZpjTHpsGKQzkjBWquFiP94OpqNy5fr8tWHYEdKhYLj2qGUQOGXkGgkleaJJEUenNRq/mJzkc9ahjQ/A65prOCM5qJyScLwKQrj6VDuirIXzTnGaQtjndQUBjJx071WaRSpY8AVnN+6VFakV7eR29qXdhurjLu5ku70MX+TpirGv3hnnCRsQnoKpwqiqCw5Fb04csbmc3d2Rdt/LVioXn1q55yItZpuY0U5wKpTXzZ+Ukij2Tky+dJGvPqKoMZrHu9QLOdp4xVGa4aX+I1Wkk2RnJya6adBIxlUbJXuWdjmoHkXPNV/tYOQBzUR3spY5rqjBIwbJ9yNS7go4qsIZAeSRU3lnGN2RVE3Ksw3PkU8qdlStGFGTQSNtO4iKNQBzQ5B4FPJGOai4FOwDFHzYqQcUzOGzShie1NsB7qc0KpqeReRS4AI4pcwCRxYbNSFttBcbcAYNRM3rUABk+ekEvWogc59aQYwarlQyYzYFIsuVNVnY0q8HHanyiLHmYNSb8nNVRkmnjOeKXKA+Q5pUi306KIu4yM1oRWpyMLUuVhWK8UHzCtKKH5enNOS0KNkirLDZHxxXNKpfYtIreayOFJ49KtNH8gZV+U1nXEgVt3U1FHrkifu3B2UuRvUpOzNWCMrIW/hqa3BNxtb7rHipLSSC7iESsFPrVprN02qq/OpyGrPm1sy7aXRoWeuT6db+QvQdBVu1166myfLY/QVkSwFgGZckda3tEvrKytmMyqW7ZrCUY9jrpzl2Nuzu5nt1Muaa1985Umsy41+22bYyF+lRJMtx86nNY81tLHXGKk7s2hMG6Gms/vVBJdvGaUzdzRcTirlmSTiod2QTmo2k45NRGQdqm5DSHs46Y/GozJimtJx1qJnFAh7tzSg5FV92TUikitLEEtVJ495q4uCOlQsOaBmbLDxWfPBk4rbmjOOKpmPJOeTWkJ2Jcb7nLXtgWBwKw57Jkc13U1qScnpWbcWCMc7RXdTr2OapRuccYnphjYHOcVvz2BU/KtUpLCRm+7XVGomczg0Z6q2d2acS/ary2D9NpFI1s6djVKSexLTRRQ/KaZu5NT+XgHiojHnJFO3UT7CMTtyKkVGdfu0kKkjn1rUijAjHSi4iSx09pnVMbRXWWFjBZKBkM5rmJtSKEeThSO4p9vqE5kV2cnBpXuKx2ZvPKby+BWXq15I8BAas6K4lmmMjEkYqMyvPNs5K+lZuXKbUoOU0WdMtvMIO2urtrcoE4wKztNtSoXaMV0qQHyx9K86rLmke2koxSK0SiQA9waLKbbPJG/97ilgxFKVY96pXxMF4JFbj2rGXYpK5pahtktG3da4S/ixIa6yS7WeE81zl+VcEgdK1oNp2Y3Fcuo7SlywFak6ZXd6Vl6S4UEkc1rud2B2xUVW1UuT0RWiFPCgvz0pEGBU2zcBUNlsY2A3HSlidi+T0FSCIUYBfYowKqLHYnwAwfNWmkzbEjBNVCvy4xxQDtXGO9VclovGTOM5JxVaXcDnOR6VcJAUNtH3aqsVOSDk+lFzNR1IQO9DSDoRzTjgjI4qu3JyOg61BbRbhZs5B4rQDjyOayIZP3iir9z8qKQ2F7ikS9zE1Hqc1kSY7Vq30odsVkvwprppGz2KrnJxUQXM1PZuaRGG7PeujpY5tGzr7WESWK/SsTUIdrsBWrptyWtMCq2pR7k3gYNclNuMrGr1Zy058uTcaiW5VmxmptRXCe9YwLI/U16MVzK551SbhKyL1ym4bqpxvkkehq5G/mREHmqRjMch9+atGU9Xce6bqoTxDNaPVaqzJk9KpPUxmrmXswaY/Dge1W5kCxggc5qo3L1oYisMJmoC1Tucx4qLaPSgA3bhTGbc1PAGOKYBzTJA/cqIEhqsEYTio1GTQAuc0qjFDqR04pFJxSAk4xzSF8dKQc8GkIPagCQ9M0IRjmlVTJxmntbFVzmmA0MBTlHyk0xUwealPEa470ACgkZo5qSEc47U7aPSgD0NSnK7aQFEPvUDyBWODUG4uSc15vIdDVzQa6+TatVpXLrjOKhjyH5PaldvSiMLPQ02Q1FVOvNJI+D8owtG01JsHlZ71TAgwrDpzTGgz0NSL96pMVVxW7lfy2PWpEQAdKmJX2pMZPSpch2GbQeAKUR+9TLGeuKUripbCxCIAfSkeAKO1TN8oqJ3BXqKq7G4ohVFLdKsRIi9Rmq2T1ANWImGOTSd2KNiVolc5wKUQqDwFx9KImBOM1IwIfGD0qG3cqyK0kC7sgDNI6YXBXNTSBj90UFG2801IOUrbOOBQpZWxVoAY6VGdu73p8wuUVQX60jLg09WGcdKVgKnqOxC2KiZQ1WGAPSmlMdRVITVyt5YHNIEqZwNvFR1SZNiIRY70149xqc0zOGNNXFZFcp8uPenRREU4tx0709Gp3YWQ0pziom7ip2I3HmouDmkgaIl4bNOBwaUrSYqtCRmW9acshHBGakCqe4o2DNAxUbcelSdKi4XnNHmD+9UtDRMJCRjNAjJGS1Rbsd6ejk8Cs2mgHiIE4JFI0QHvT+QOeKcrL3IppsCskQU/MtTKkTDlcGnkq1IAF7VTkOwjW6EfKcGmLblTy2akMgA4Bo831qW2CSuWY4iwz0p4QgZzUcdxjipfNVuCKzbLshjzhV6ZNQm4z/AAmpnEYGep9KiLJ6UJLqS4irIG7YpdwLU5ApHTFHlDqKBcmhIkauOaRo88AUibkboatwbSfmwPrWblZC9k2RxWTyNnpVsWEjfd4rUh+zAcGp1eIcLnNcsq0n0N1QS3MZNMnY8qcCrS6bI6fKMn6Vu20JZM4P41ejQJH9zB9TRGc2VyQXU5lNFmPLKfyqT+xZWOQpx9K65FULySfwpUSJh1YD6VslLuTeJx50t0OM8/SlTTnX5SefpXVtBbl8/MfqKctpbO3Bo5JMfunKtpQC43CnR2IUbd1dO+nw+9QNZWyMdwbPtWbpzvuNOHYxV08suVYCpGtWQp81bVvBbt8oVh9akNpA0h64HSmqLe7Bzj2MxItycZp5tiykkEADrWunlhMBAD70rojr7+1X9XVhKoYNuEiDb85Jq4htmIJ4rRaGEovyDgVA8cPZRVKlYOcrvJaYITvTo5VbCqn/AAKrOy3HSMVG7IrfKAKFGwm7kwiwu48mlKgDpUayHHHWmSM7d6bYrEhj+XOaTylJAJ61WeRxgBqV5JAVCkGp5rDsSPHCjHIziq7/AOrwAMZzSYlZ2LdKVjtj5o9pEdmQ7SR6UsaEnD8rTXnCHB4pv2tNm3coP1rKdXsUoCzHacL93vXPa5qEdsuxOvsasarrCWkLDeu7sM1wV1fveTszNxTo0nVd3sKclFWLE0oMm4jNIZwU4GKpmUEfe5qLzu2a7vZmClYsMDJ1bAqJ5kiGM1XlnIHBqL7PJPzzWyj0ZDl1RHJNuzsqNUmmGMH61opZRxcsal3RqPlxT5l0IsUobIIcvU7GLZsC8+tRzSsSQOlRxBnbAyT6UWbeoXtoEhL9ORUWGHANdbovhG51S08xWC/WtL/hXt4F6KaSrU47sr2c30PPHJ6ZphYnjFdre+Br63QyGIkDj5RXLX1jLZSFXUqfcYrWNSE/hJcJR3KDsc0nWnsmT0pRHjk8VpYi41EJbkcVcWJEAzzVffxjH40jzNuHWos2FyR2JOab5mZAtITxTV+/miwy0QAvHJqBw2elKZGDcUnmOTjHNJoNCNFI7U7YTxT9+O1PUknO00x3RSdSGxT1Uk5qaRCWztNSxR8U0SyNICV3VYht8jJqYAbeKv28CtGGNYzqWGtRkFt0OK07eHjcRgUsEa7adJPtj24xXHOblsaqNhHwp9aq3kqheDjimSzkLkmsq7mLqfmq6dN3IciK4nzk5qpGTM5zj6U3BJNauhad9qu8AEjviuyygrkpcz0LunQMHXZk45zXeaMBcJslH7wDI9xWZp+lCOB1A5Jxmtr7I1vEjxMBKg6+orza37x6HVFcoy9tMxsyDB6YrCNuS2HbgdhXaRJ9uiRwuHxgj1qez8No5LSjr61EG47mzTWpwj6eQFfBwa29OWIR7FOSK7SXR7Xb5ZjAwK5NrdbC+kwOM5FVVvI6aM01YdLCVIbGBUUsiiPk1buL6JrcZABrAubsHIArBQbHJ2LzTZFNDmstbpse1ON8qj7wp+yfYy5kaBeoXc1Qe/yOCKlimLjJo9m+qDnRdhO8Zq2icVXtwNlXF6VMnYYY2jNRE81Ngk8ioZBihajIJX9qhAzzT35NIPSqsIiZcnnkVXkhU/w1fxTWQdxVJ2BmX9i3HnH5VPHpqEgFQfwrSjgBYcVpwWoAHy0pVZbIXLHqYg0mIjGwflVafRohzs/SusFv833TSSWykdKSqT7lpQtsefXGhrg4XH4Vz97Ym3zxx9K9NurQgnjiud1CwEmQRzXXQxTvaRz1aCavFHCACME9/SnmZ2XC8VfvtMaN8qpI+lUlUKcd/SvRjJSWh58ouL1FtrRpmzzW9Z6eYyAwzmsqxkCOOG6+ldG14kFuJB1xjmolJrRBGLY+68qygCoNzEdqr6bbO8pcjg9qrRmS7nDnJBrqNLsjsHHNctapyo9TDUbe8aem27bOlaqv8uCuO1NtYWRelTOmIycc5rz5N3OmUrswdTdon3qay3u/OHzHpWpqiFlPBrmHco5Ge9bxgnqaRehKLvYSueKr3EgfgHtVO53Kcg8Vat4T9mMz8dhnvXTGKjqzN1G/dLWlAEkGtpwAQfbFZGm7Tk5Gc9K07r5UBBrlqX5mX9lDkKEYp5YAgDp61XgdamJDcDis7MpDzkjg0oX5sjrTVYL8uc08PimMa8xTvmkeQtFx3p7KrJ0yajkO1AMYqgJXunEWMdsU2KYDnByaZvGBkcUoaP6UEJahLJg8UwNuO0cE1DKxLYFW7KJnkBxxQwsXrO0zH5jLwKS9jEceS/HpWgWSJVQA81nag6uuKzbJjq9TCuSC/ArNn6kVpXA+bis2bO6uukaTdkUmUjvUG7DVZcgd6qt96upHHOVnodLokheAj0q1qILQjBxxWfoLcsvtWhdndCw9OK45/wAQ6o7I5S9+fjpisqWHceDWrecbvWs+IhpME13w0R5tZXnqOhTYMVHcp84PtVsgDpUMy5AouKS90qK+X2YpHXNM3bbgmp1bd2qzFalC4X5APSs91wTWzOgxWdInP4VpFmEo2KXJB9qaDk1KVwretQj71UQxVyKCOaXdzSM/OKBCsPk60xRg0Z5pRQBJgFaiA6/WnoPlOTTduAaAADjNSKOM0wdKenXFADxx04pJHfuabmmk/Nz0pgKrEDJqbGUHtUI5OBzUxI2YoAsQjI3etG3mkjOFUd6lxSEdUzZpYT81QFuanjIHNcjsdRMR8/NMcHtSlsmpVjJXINZrRmnQhjSTPzVKcAYqTdkc00qMcjmk9QSItgzkU8JTehNOV/lyaB2I2TD1aRV2ZPWozgjOOai3tuxnik7sdrMtgjOO1NcHPFNTPrT+amwyNxkYqP7N8uas7fWnjpg0cwWuU1hxS+Rt5q5tX0pCBS5xcqKajbIKsmT5/wAKZtBOcVG+Q/BpvUCbdhc+9RyPxUeW6ZpcE9aEhXG+YTSpy+TSeWaUKR9absGoORvpZHwlMMbE5zTHRz1NC7ibaJFb5qkY7hioVU7s1KfvcUMLkZHOKYwqxtB+tRslCuMhxQEySakxTlHBqrisVxECDmmtGR0qUEjNIWouwsiFkzSLHVkqPSmkYHFO4rEezim7BT2ztppGBTQiDYVpQadu3U0ghsUADcjBpu0VJtGKa3FUibABmng+WuabGeOaSVuPakAhmdziml3Bp0YBXI60EgdaVkBKGOasA/JVcSL6U7zc9DU8rY0PbnNRZycUjOQM5pqtzmm1YC4lSdOarrIO1KzsTgHioaLJ+OppjFKQMNmDUUjL2pWC5Ov1qRXI71SVj61OjE/ShxDmLW8MMZ5oyR3qoN3m8HipjyKnlQ1ItJelT1qdNTIYDNZORSEnGRSdGLKVRo6iDWmjx8/4Vc/4SBSuwmuKViDuyc0NK+7IY5rJ4WN9GV7byO+XxDGFxv8A1qa316LkbhXnbMwP3jT0nkTgORSeGa2Y/aRe6PSxq0MqYDAc097hAwMb8V5ut7NGMhyalTXJ4xjLUKjVWzE+Rno8Vwznl6nfDcbs157B4hmjPOWrRh8TSHny6X7yO6HZNHWhXBIVu1EKvzl6w7TX1kX96Qpq0upxNMNsmF9M0/a23QuQ1iGz1qaNmVeSMVQ+0q7Da1TFQ6Ab8fjQqqZNmWizkk8bcVECuDmmM0cEeDNTWlhEW4uMepNDqILDi+aazhVySKxrzX7aEYhw59qyJNVu7s5UMo6YqW3u9CopM6ifUYoxyw/Cs2TXEVvlyazIrWWYbnYk+9TrY47Vg6kb6s1UCyda+bKITSnXTn50wcVTkjZPpVK6bIwBSVpA0krm3Hq8ZQsZB9M1lXeuySTeVbZPvXP3cEqqdrED0qBdSFtaFcYf1rpjh9LrUwlWSZuXFyvm/vbohvTNUry4dUzHcEt7GubEzz3a72JBPeungsYJUUBBkjrmqlTjS1kKMpT0Rzl1dyTvh3JNVXRkG6tXUdONtdhtvyVY8izkgAYKDXVGrFK8SORt2ZzRdw1Rh2Lc1uyaWDJlQMVUm0xw/wAq8YrWNWD6mTjIqRyIpBYZFWDcgEbOKrSW7xN8ymq7NJu71XKpE3aLjT7/AOKnLjZyapJFITwDU4hmCck0+VIaYrEZ4q/4akt4NQka7IZewNZRDA4OaiZWRtwJBpyp80WrjjO0kz1W21+OBs221Y/QVdXxc4IBwec15JbXtyjbQxNbFvLOxAcHB7158svit2d8cUpOyR61p+vC9B3hSPeqOu+HLbVPnG0E+grm9MnMKDbnHU11ukXrXJCnp61xNzoy906p04uNzzrVfCNxZAnZkeoFc3PaPESpB/GvoGayjnjIIDA+tcXrfhIybpIYhn2r0qWLvpI8+eHT1geU+W/TFHkOa6abw/PDLiRSg+lW4NEhOCxBraeJjFHP7KfY5JYZDxtp32SUHhTXbrpdop+6tMktrVZcYXGKyWMvshui1ucctjM3AU1MumT/AH9hrrYzZxgkqtOF3Z/dwuKl4ubekSlRXc5D7A4PKmnPbOvRa6pzaNHv+WozHbGPPy80LEy7A6a6M5NoXYbdtBidFroXt4T0xSSWMbLkYrRYjuS6bMuKD5BV+NNsYWpAkcY+YACo5ruFPlGM461m5OTsLlS1JlmESc1RuLxc9aq3N220kMcVRJeZSQxrSlR6slyuWZLreKpyljwKWJDIcCtS00tpfmbpnoa6VFRI3M+3tHkxxXfeEdMjjDMRzWPHYrEBtHPoK7Hw4iRwncvzVy4io+U2pR1NOK3ihUsRkVPDYm7bdjAzgCporJ5gMjCelbdvbpGigAcVx3cnY6rWWo2ysI4EHHNXNoXpSjBGKXbWytYzbbBgA2WGaytQ0eG9ycbWPetbNBORg0IIycXocfJ4QbeP3x21WvPB4CfJPzXbOfl4qq/IJNK9iudtnnVz4bktQQZM1zd3BJFMVHIr03VY1Zzj0rjryzJmY0o1NS7XRz8atkZrYgX92KEsAxxirSWjqMVE53HGBNGduKtRyZNQx27kc1PDDhuRWTVy7kpJI4puzPWrHljPAo8v2oS6BcoNDimrFubNX/KJ6ilSAZ4FNgimYD2o8ndwavGMq3Sjywf4amzKuRwwYYVqwRnIGKhhiIYZFakCgYwKmK1FJ2FEQC52800W67SSKucYxTSOMdq6FEycmZF3bLt+7WLNaIzcrzXUyoXVgwHFZc0ABz14qHDqjSM+jON1GxB3YWuMvLPyJGbFenXkQcEAVyOr2IZThea6MNWadmZV6SktDlrZz5uKvmVrj916VnSHyZ2A4NaOlDfLlutehN6XOehC8+U3tKtcBc12djAqKprn9PhVlHOOa6COQDaqV49Sbkz3Jx5IWibdvGu3mlkjUjAqC3mIGDyKejH5s9zxU7nHrcx9WiCxt9K4m6XD/jXoGox+YmCPrXG6lCkbn5RW9KVjpjdoxVRp5xH2JrQvyI7eOFe3Wp9KsjM7y7eE5qvcgPdbSOvNbOV5CUbK/cn0yA53GtC67Cn2UISDNQ3Ry/ymuWU+abKUbCxoAKmTBFQKdq8mlSQdh3qXe5okWdgHNDEbxRneVA6d6bKhy2OoppCZIhwKjlIPWkQt3amzELVhYSRwgAqElm6Uxn3HkZq5a27SMMdKewXuJb2zMQzCuitrRI4tw6kUyG1SOLDgE1MZQE+Q8jism7sxk29hzRqUBPWsi6UF8Voh2Yc9ayriQ+aRiluOF76mZcJhjWXLy5rWnfg5rLlxkkCumkzWSuZ8yfNVfZ81XX5NQsoFdcWcc4GzoMeFLVduVO1veotGjPlbRxV+6j2pj2rhnL32dSVkkcbqCj5vWsqNf3prcv4syECskAJKeK9CDujza0WplgJgVHKOKsjBAqCf7vFNbjasjHnO2WpoWyKr3qkHIp1u/wAuO9a2ujjTalYsTJxVCRBu5rTcbk4qk6ZJyKI7DmjLnwtViO9W5UBY5HeoCvzMOwrU5mM/ipMZahevNP6dKYhuzLUv3aXPekPNIBcUlKDSqMt0zQA2pFFIww3TFOjIzzQAwdaRhnignk0qctzTAI/lbFSDk00j5+KevFAEqn94KnzVdfXvS7z60gOowc5zUqvxtxTKeinriuc6SxGPWrAY4wKrpxU6c1i9zRCbWDVKFBGTxSMj5pGLLxWZQyRlHG38aQAbetP2hhk0Ep0HNAD1QEUnkjGeKeAc4ANSgDGO/pU8zKsV0Qq3J4qTFKy0A4FFxC5B7Uu33qOMkmpwuRUsdrjQPekIqQLg0uBSDlZXqNly+KsCPPSpFhGMnrT5g5Sn5XvSEbassoD00qKfMxcpCVxUTKxkyOlW3Xio1IB6U7gNCkL0pjA+lWt429KiZxnpRdhYgB4+7QOuKmOB2phGXoJsMOegNRNuB61Y2nd0pjLTTFYYDntTuAKCuBTD0qhiBc5prKBT1J6EU16FuAm7AzS5zzUZ+7Sg8UxMRzjmms429KceaawGOoqkIiAxSE805ulRiqsSP3DGKa3XrSHpSbaBDiQoqNvmjx70u0mhhgYoAEJWPHekzk9KVOeKULzQNCMMUqjA60N1ppyKYMc5+WmhsUzLE9DRz6GlYRMr4bGakE4XqKrJ9/k04lRweaVh3JjOGOBSBSTnNRoVL1YUYFDQ73AJ71LGML1qDd70ebjjNTYC4rDPTJpQDnOKppKd3Bp5mYd6lwAlCf7Qp20bfvCqm809WPrTsxk3C9eaDtxmo2Hyg5pccdaloBJEIXdmmA4xmp5OYgO9RMmQMdcU07hYduwmaaDuPSkwQMUqA56UWGheB0zTWmkT7ppjk9gaYGJwCOapR0E2yXz5t2dxzUsd5LH1c0zK+2aglB64pckXuVzWN2DWJ0IzJV469KEAMn61xyyszYzV1EZlGc1jLDQuHtjpxrqsnOXb0zVK71C6uPkBYKfQ1QjaK3j3EfN6VKs7Mm5UP5VPslHZC57mraWcKYLNk+9acXlgcbcVyhlnUZBOPWpYtQljTBJPPWuarQlPVSLhVSOyV12fKOaYzmuft9WA++3FWl1GCQ/fGfrXHLDTizpVWL2NSUfJkiqUsOV6Z96nF0syAZFOaFimVb5ahXi7Mr4jGuYcjlgB9KzrjRzMo2EHNbU6IMiSqbNgqIyQK76c5LWLOWUI31OeOj3EMqtjOT6VsxNLalFYc1M8shZc4qjczO029jgDiuhynUVpGKtB3Rp38QngBIyTzXL3EbLKRyBXXwSxXNoEDqH+tZl9o8jEspz9Kzw9VRfLI0rRc/eiZNnf7HxJzW7aPbypuODk1gT6ZIrfdYfhTFE1sRtYke1dFSlGa91mcKjhpI6K40qK4yVwPwrBu9IKOcD9K2rHWIxEI5GAf3NbEEMN4uRtY+1c3t50fi2N/ZRqL3dzz0q1s+HHH0rd037JcwFHwHz1rU1DRt6khQfpXO3FjNaMXVWXA9K6I1oVo76mLpypvVGmfD63ALRsvX0rK1HRmg+UjHvT7HXJrWQLI2Bnoa6O4e3vbdZCckjtWfPWoySlsVy06ibWhl+F9Agu5/nGcd66W7s7CFTGI9pFUdEvotPudigHdWhqkT3ciG2GZGPaonUlOdrnXRjGME7GMmY7sJH9wjpXRW92lpbhFGGNS6T4UlZ/OvSVA7VtSaNaW8iuVyB61NTlNFURFa6mSVjwWz3raMiiMEgHiq0K2kQysa5qG7uvNVol+U44NYqyJl7z0KmqW1vcf8swSR2rzzVra6spmKN8ua9BRjHHh+W9ayLvS21O48pSNp71dGrZ2augnDmR54bu5YA5IJqJmut2W3GvX7LwXp6xL5qbmFWJPBlhI2QmB9K9CNaGyRwSpy7nijPNtIOagPm5zk17LceA7NyQoIrLk8BYf93096pV4LoSqUn1PMN8yDaSxFPWaXbgE4r0+P4fxH77n8qnXwHaJwQT+FJ16Q/Yy7nlZmlVc5NK93OE4Jr1STwTYqnIqtP4ItGX5QRUvE0U9UUqE+jPLJLmVjhnzVdmYt3r0C88EybjsHH0rKl8H3cYOAT7gVrGvRM3RqdjkmJ24IzUtvDJIMIK6i28G3s8gXYR+FdjovgmG3UG4GT6CipiqcVoxwoSb1OM0nw9NIVZYt+a7Wz8GyttMg2AjpiuustPit8KsCj3rTGU4wK5pVZzNOWENjnbbwpZQ4LrlsVoRaTawH5UrUI3duaidcd6iUXYpTRFsVVxwtKJUAwBUZVmOWNQynByAQKh6aFPXUt+YBzT949azGuDwp9asLKCQMc0c1hOJdBzTh0qINT1OTWq2IGscHFQSHatWCuWqBxk4olsVF2Ma8XLliDWRNahsnbXSTRB+1VZrXavHSudxdzaMrnNG1K8gYNSxxjuRWkbc55HFNayC/MD+FJXLKwj28dad5RFWUhx1p2BnBqiSBUOeacEyeBVoRhlp0ce09KEtQexVMPFOjh71b2DvTxGAOKGtQTsiqYQR2oEQHarBTI9qNpXtTsHMNAGRxVyIYqBV4yacku080rWJbbLecHNBOe1RCXdyOaY04B6ir5rE2Fk+UNjvVCd/wB3gjJ9asyTZHWqkz7lIFLmKUTIuTtz61zt+pIJJrpLtMgkVz98PlNTF6mrWhw+oW3+kFgRz2qzYfuyCKk1BQXpsGAOteoneBz00o1GzdtLlkOC3Wt22u8ICrZNcakzBxWha3RjPLZrjqUXuj0Y1OdWO3tLvEe1my1WGuJAqtnjNciuolnG04rRW+Z0+ZwABxzXG1JaFezTNO6vgWYZzx0rlr+fzp9oB5NXXmBBOfmxVG3UTXihvWtqa5dTRRsakJ+w6Uckbnrn43aS+yfWtbWnYP5YBCgcVjRv5Z3Y5zWtJXi33M56tI6IyeVGBntWcZsk1Xa9d8Lz0qMMxBODUQpWLUrstGVmNWYMBckc1WVQcVZXAHWlI0LcQKrnNLnDEnvUcbfLS7gTgGs02TZCZIqKVs85olkyeOlCR+Y3qMVovMTkPtohI4GK3be1MIDZH0qDS7UK25xjHrVy4nCLgVnJ6mMndWRUvbwxt1rNXUHLFQeCaivrjc54rKknKycVcKfNqUo8iOqhuWMWAfxqGdsqW71SsZiyZPpU7uDGeazUbMrRspXZGKzpCMZq3dMaz5WwK6qcdCmyF/WmEZOKa7HFNBYsMA10rQ5XI6nSQFUN7VYu8kk57VBpi/uKfcsFkAJHSuCXxs6L7HP3cZ8wnNZDpiUk1uXuA55FYU7ASHmu+k9DlxKSlcnRvlxUMi570I+R1pc5FWYboz7uHchOazoCVmIrZmX5DmsjAWYnt61tHY46mjujUhYGM8VUkIy3FPgf5DzVSRyHYUIJO9ipIw3njvVcsN5461MfvHNRFcnitDme5Dinds0h4NL/AAmqENLYGcUppAM8VKVGRQBGBipEPzUmKUDBpADMWOaYODTh3zSHBoAbTkXLZp22lUYpgOK/xUqDepPTFOGMc8cUkfCNQA8DjFHln1p0YyuTS4PoaQHUL1qdOlRAYp4J7Vys6kTrjHNSqQKrq3PNOU5NQ0aR3LDSMTTWZs80qMMZNMlkG7iosNseoJojjy9RJKx71NCSCSxodySzG3zGm5/ek1Gr7T1pysDJntWdjS4O+WxQOak2oWzjtTFZQ2MUCFRMGpCcUmaQk9allDg3NLnNNyNvvSqR3qWGpJkJTTKC3FMZhioxxzTSBsc7fNUZahmB+tIAKpIRIGytR96MkHFBIDYxTEPxkVGy81MBxmkABPNAEQB70pAApzA1EQ27rQAoJ3e1NbmndqY2fWgBcZWoivNSrx1owC/TiquTYhbgU3rUjj5sYpCoA6U7hYgphzuqTGRSAetXcmw0ZIpjDmpuMU0gelFxETCo+hxU7jjioShJqgDFITigllHWofnZutAmT0xutKM7eaaOTk0BYRThqUyYoYYORTZNoXOKdhjmbmlByKbwaX+HigTEY4FIzfLTc5PPSmswpiAGl6mmZpN5DYzTAnXg5qQSZ4qJW4oyB0pNDuDv81GcjNNIzSjpRYLio+GqYHdUGAOcU+M80rDJhS89aaSu3INAY+vFIB4l2nkZp4uB/dqPgDNNLe9S0gB5mJpUlIfmmhMjO+m4IbPX3p8qC9iZpfnpRJt5qo5y3B5q1b2k83YkUmorcLtku5KjcKXyK1YdE8zgvg1OPDpQkmQYx1rJ4ilF7lckzm5t4xt65q9Bp89xGDg1p3On2ltCrlgz56VbsruKNMDArOpiLxvBDjDW0jLh0Upy45q7DYgHaVrRMods5BFE95bQIAcB653Wm2UqcEiKPRElfdIflqS6WztbfYuCRVC815Qu1GwPaueu9VLscOaKdKtUfvMU5xitEdCl3aH93xVqK3tJkzkCuCF4wfcGOfWr1vq0iR8yHrXRPCyXwsiNZPdHTS6QjSZjfiqsumz28mVyags9XBZcscV0EWpQSlQcGuecqtPfU1ShLVaGRFeTQn5gatf206qOflzWi1hBOP4RVSfRY1XCkGo9pRn8SKcKkdmSx38F1hXGOM5pWt4JPuyAVQOmshwrc1C0c0R5JpOCb9xk8zXxI05NPyFxIv51Un0t2jKggnNZj3kynhmwKRNYkjkUGQ4zzWsaVWOqZLqQejRcFjeWuGVcj2qz9umjjAdDV3TtTiueCQTirklvDLyyA1hOvracTVU1a8GYE97G45FUGaJySMVsz6VbuDhgp9Kyp9NMbfI3FdNGULaM56il1M65hB+dOuavaHqUkF4InbiqkkcicZNVPM8m437cN611SiqkHFmcJuErnfvqkACg4rPvbu3uFMYUEmufkndlB3GpYNxOQa4oYWMNTpdeU9LGdqlhsPmL60yx1Vk/dOeBW9Pbma0bcMmuUuIfKuD2ruptVY2fQxnBwd0djpKx3U5fOAozT01g6fqoZ3ygNc5puqtCjKoIzVG+nkmcysTxWaw95u50e25YKx65H4tgmAPmYUds1UvfFKyPtjya8vtL7+EsQfWun0l0kmQswIPXNc88JGl7zdzelUUzsrXUTKB1rRiYMMmsyzeKMZ2irbXibeAM1wOSvZHRNW0RPKRjAq9pdsqDeaxln8xwK2be6VEC5qk7MyktDdh244qfNZ0Mw7GrQk967IzRyOLJWAxzTNoNBbK9c0wkirJsPYBaYNpNRySHHWoVfJx3qWy7EsgTNRF06YpGcK2GprBTyDipauhp2GTRLsrGuol3DBI9q0Z7pQSF5rNll3qzHjFYSirG0XqaGl7XRsqOO9akexTXPaPdKJZIya1ftKRyfN0rSNkiKl76GuhBGaje4VZcYzxUUcysMqeKGVA24jmt1LQwa1JWmJ6Conc96DMoHFVpZxnpS5iuUV5sVWluM8VG8yluvFUZ7pVJxWUpWRol0JJ7nY4pttqDNfKCeKybi73nmqsF5tv0Jf5azbbNEkd55yqm8HNTwybxnGKwYrnMQx0rYtWLIta053MZwsXQfm5pjqBzSjrSNzxXTcwIDGKikjBXFWcDFQnmpaNEyn5CjrTGgHarbrkVH0rOxaZXaEMMAYqE26qeTk1aLVGcFulFkO5HsxT1WlKnHFKoI70AKEVqdgEYFMCc7QefWnqNvFNCGle1IxULipgoJ5FMeMZ6UwK8jECq5k9alkfg1Qml2DOazkUkXfOIj2r1qu8wJxu5qn9rG4DdVGa7Al+U85qLspI3Ysu1K6FARinaf80e49atyoGXjrVR2B7mFcAkHisG/hbaTXVTwnac1l3duGXBXihXTKTucTe2quhKrzWOMoSCMc12dxaAAhVwK5u/tCrFgtd1GomrGM42dyoj8irKvtYGqka+tWFwetbS1NIMthyTkVZFy20A1QUkVMp3dTWEo6nVCeheNwMe+KdYNm9Q+9Z7Ag9asWLN56HPeolFKLNIzbdmdTdWS3cHT58Vgz2BjByOldfpqrNyeTiq+p6efmIHWsIVGtCb2dmcaEw1OXg1oSaeynIFRfYm7Dmt3JWNo+RXVzmrUOWPNILRl6ipoYipziolYq+hPjauKiHytmpjzSxW7SA81la2pLaK6KX429TWzYWeCCVGKls9KLKCe1aZiRYscZA61MncwnK4yQCJOAMYrBvrnaDg1oXtwI49uetc1dTF880oxbZVOOl2QzTEg1SY7mzUk0nHWoA+W613QjZBNq9je08fuqmmzGMbetQ6bOvl7cc+tWLmcEcjNczXvFX1M2UlutUZ2GenatNkEgJHArNdRvIranqW0UXfJwBSxAk1JLHg8VZs4Q56c1s3ZHKqb5ja01iqgEVanWNl3MOafaWxCjJ7U+7gCwEk1x6OVzZ7nO3yqx+UVzd0mJDXTXQGDg1z96h5Peu2icuKSsQQ9KlUdahtz61ZK4HFbM546op3TYRqxmbKtWtddCD0rIcDJC1cTlq7lu0O78qhuRhiaW1JDdabdk4NUQ9ik3IzTBwhp7nCcU3Hy1oYkMmNwobHAHpSsB6UDGORQITGOaUNQTkYqLJzQBKHy1PY8j6VFjnIp55oAaT81Kv3qaPvUjEg8GgCTBJ61MqYxVVTzUnmsGAycUwJX+Y7alWMeT1qsXBPvTg5xjPFIC5Fjy0HvU+0VSiJ+UDpU+5vWgDqMZHpSjhajMuPpT1O5a5mjquhQec1LFyajIwuaN+0cGpaHzWJyCB1phU7ck0qtmnjBGM1FrFXuMTtVhh8gxVdgQ3AqXcSuB1pNBoKykjg0sfAxnmnRjKc0Ih3ZIqHYpMeCen601R83Jp7H0FNYHGQKVrjuiTcB3pdwIxUJU+lKoYHGDRyjvclAwOtIc0q59DRgk8A0kmDIySTSclsZwKkKMOqn8qPKYrkA0WFcYV96ULSpE+77p/KnbHzgKfypARlOc5oKgnOalMb4+435VE8UmfuN+VFmA9Rx1pwXnOaZFHIOqt+VSbJP7jflTsOxGzj0phYbc4pWik/uN+VCwSMPuN+VPQRGSDQwCjPWnPBIP4G/KlWB2HKn8qNAGE5p0YA60oifP3G/Kl8hz0U/lRoIjlAJ4pgG/jGKtraSkE7W/KohazBj8rflRdC1KgGBSEfhVr7FKP4W/KmmzfHIP5VXMgsU2496QKTVgWcjPgK35U/7DKDjac/SnzIVitijZj5sVYjspSeVP5VK9jLt4Bx9KOZAkZroCcnpTAgB6/pWh9gmYcKfyo/s24x9w/lT5o9WNplE4x0pnl/Jmr39mT90YfhTW064HARvyp8yJsUtmRg0yWMFetaI0+bbyjflTX0+YjiN/yp86CxnfjRkBa0f7NuP+eR/KopLCYNgxtn6U1KPcTizNY81E7HNaL2Eq8mNvypn2B2/wCWbflVKUSbMrY96YV+fOauixkzgo35U5rCUf8ALNvyp80RWKYPFBYVZaxm/wCeT/lQNPmP/LN/ypc0QSZXDA08dKn/ALPlH/LNvyo+xyjgRufwouh2ZARmhcqan+xzHgRvn6Uv2CfujflReI1crblxjNSqwwKd/Zs2f9W/5VKunzAY8t/yobj3DUaNrDGaY4VRVkafNjO1vyqF7C4J+4/5Uvd7hdlPzVA4bNPi3yrxwM0o0q5TnYT+FPS1ulG0Rt+VN8vci8ieGGNHBkYVsWt5BGuFIFc69lds3IfH0pwsrlRwr5+lZTpRnuy1UkuhuPqag/IcfjUEurMQRvPT1rH+w3J7N+VKNNumH3X/ACqVh6SB1JvoSXV+XXG7ofWoF1Bk7n86cdHuepR8fSmHSJ/7rflW0Y00rGdpEya1Kq4yTVae+mmcuSemOtTjRrlf4D+VO/si4I+435U0qSd0HvbGVJPKR82cUzLN2Na50Sduqt+VSJo0q8FG/KrVSKJ5WZJi+XNKIiUwBWmNPkdtm059MVoW+jPuAKn8qzlWUdylB9DDVHSP0561cs7x45QWzgVvjRATtI6dqjl0qMcBcVz/AFiEtGX7KcdUWLLUt5AbP51twyRugGc1yLwmA9cVp6XcFmClu9cWIop+9E3pVHszUu2CHKdazZZi5weKv3XHPWsaYkvWdGOmpdRkEwBU8Vj3akfNnmth+mDWbcLubnpXo0nY45K5Fpd49tLhmPPeuytNQE0YUHn61wdyu0jace9WdOv3ilALcUq+GVRXRVOs6eh3c1usibg3NZFw8kRIOSKtWeqxyQYJGfTNSXDo8Y2qDmvPhzQlyyR0ytJXRhzSjb93ms2cbn3VtXUBKk4wKxnX5zzxXo0nHdHPbUurDuQfMKmiYK2KrxOzJ8vP0pFZ1JJBFTa+jNIzUdjZjlXyWU1yOrNsuTW7bSM77SeKo6xYE/Pg49aMPaE7MdaTnDQwornbJ04q1JIJExis6QBX61btyGTrmu1xtqcybsQMm0EKOfWtHTdQMO1TkEd81BIoUZqs8Z6qaVk1qOM3F6HcWutHGC361eXVAV5b9a89jvmTsan/ALWIGM/rXJLBx6I7oYvTU9EttSUsOf1rZt7oSMMNXldrrBWRea6/S9SHDZzXFiMLKGqNoV4zVjv4Lj/aq2Lscc1ylvfqf4h+dXPtWQCGriU3HQbpnUpcDj5qDd8ZzXNG+dQCMt9KsxXwaLnr6Vsqpm4Gw86t3pgkUH73NZZuc9jQZ/lzzn0q1MXKajOGHPNMeQKvtWeL8iMjac1C9yxjKetPnBRLLFCxIrNvZCD04NStK3f9Kz7iQkHr+NS7suK1EsZsagcHGRWpdzFSO9c/YEm4d/StJ5WYZINN6aFM2NP1BTBgnn61ekuxIgwccVy1swifGeKuC7AGM1HO0iXA11n2n72agmuCT96suS7O35etVHvG7mjmdtBcpoyXSqCc5rMmu+tUpL0EHJqjNdDb1q4wchuyLVxMSOvWsu4neKRSGzimS3eWxuH51SmnEgOGBb0rqhStuZOdjuNO1Dz4lw1dhpsoaEAnmvOPDUbtDlifxrvNMIUAHrXPy8k7I0lqtTcDA9KXNV0fJxg0rMQcV1JnNYezjGAKhHcEU1pww4GKiaQoOuaTY0iTcDnjpUbGhmPHoaaSO9Q5IpIY2B2ppxjOKazAg881CJSMg1PMUkSM2xgCeKBIC2M1VecMhz1zUYmHmdKlzKsaIzjg8+tPAOaggcOeDn6VcC8cDmtIO5EtAzjjFBxjOKfs45FMkwB1q7EXZRusKpwKwr2XahFblwQYzkiua1M/KcVjI3gZU9/5cnfj3qra3fnXfOeuaytSuDHIeaNMmPnhia29muW5LnrY9Ts5FEAwO1WwxHXkVg2FzujX5s1rrPhQKxhJJ2Y5bEkq5Gaz7hAe1W2lBHWqssgzWjsxIyrmHAJxWDf24KNxXUXBBWsq5iV1NZ35Xc0tdHETQmKQ0iHPFbd5ZBzwKyZYvJavQp1FJGSvFib/AGp6OM9cVAG96dkdTWjRrGbRYdwB1zU9hIDOvHSquFaPrzTbaUx3HFZzV1Y1jO0kzuNLv0hIQtz9a6Er9ti+Ujgda8yaWRJA4Yiuh0fXGBCMxxnmuKdNw1RrO035mrcxeXIExuJ9KhEG1+mc1qQtb3ZJUjd2NQXFs0YLg1K1FFuO5SNtnnjFV5FReB1qaaZ44Pc0tnZNMQ7Gr1L5rIit7VnYEj5a17axUEN0X1q7b20cY27c8GkjPlxuG5FS7mMql3ZDkKITsORWfeTeWrYPJp0l2sVs2Bhqwri6ZskniptccItu5DfXRZCOcisln65qSeQs+KqSMa6IQSR0XSVyKY96ihbMvtRI1MgOJK6UtDllJcx02nhRHkDmrssa8bhWdp7ErgHmtgoDb7mGTXDK6Z1aGPckx528Cssk7zz1rVv3HTGDWfbxiSUfWt6TXLcciGRCDzV/S1XzACRzU17aokOQRnFQ6XEWuUGe9VN3RC7nWCEbAQccVTvnVbYqWyxNaSReXDl24x3rF1OZBHtC/NnrXPHchaswrgFSQTWRdJ8pO6tO5fex7+9Ztwp2Gu2kRXWhn25wxFX1HyGspJdsuPetOJtyg1tJM4qTTWpnXzbQRisgna+TzW5qCZjJHrWO61cdjlqr3gt3w/Sn3Cll4qKPhqllyV4NUR0M58524ppbAxilkJV85oDZrQyGEZFM6VOo45qKQYPFBI0LxnNN2808/wCr96cgz1oAjVgOKdmmhBk80/AA60ARnikPNObGKbQABSO9PUU3I9aepGOtMAI70qikJpy0gLEK9DnpU28elQRng+tJuPpQB6U+heWg4zTF0o7wMYrqkCk4O0iq00DSS/IQAK8v277nbyIwjowHJfPtTzoyYrVa3IcNxjp1qYRjb2qXUkxqMTGTSomDYzUg0mNEBOa2LdEA5KinTorgKki0vaPqVZGKNOjP3etTLpaY+Uc1opalODIDxUsMW1uXFJ1H3CyM8acn92j7CitgrxWsGj/vLSMYScErUqUg0MxbBA27ZkVP9jj2/wCq/StBXiAwGUU7zox1YUOTGkjMOnoefLpBZx5/1dabXUAHDCo1uod2AwqbsLIom0jJx5eKeunxjnbV5poTyWFI08IH3xQmwKTWEYPIzUqWsYGBGKsLPAFyWBNN+1w46ildjG/ZEx/qxUYs4w2dlWBeQ4+8BUv2uDHLCjXuFyE2S7B8gpGsIj1UZqU3cHTcKU3cH94U7PuHMVjYxDnbT47KMpu209ruDH38ULfW6Lt38UtQ5hDbR/8APMVG1rGTwoFPN9bnoaBfW4OM5qbssiNgpHC0LYgH7gqRtQizgNS/bot1CbEQrYgufkFAsVD8rU4vYgcg0fb4R6ZobYDDbIP4aYLRGb7tS/bYScnFKL6AdMVN2MjezTH3aj+xLjhBVv7bCeuKT7VB7UXaCxT+w85CgGn/AGUD5ggJqdruEd6YL2FdwBFK7GQyWLBvkQYpy2bdCg21YGoRbegph1GErgtz6UO4Ef2IZPygDFItqpUimtqKDp0qP+0EFCTC5ObNW5pn2ZA2MZpjami8CkGqRbuRmmkw0Htbpn7tNMKDtUcmpxlvlGKT7ehbkU+V9wuiQRKR92mfY0kb7vSk/tBQnC80kGpqrkOKnlkuo7oVrJCckDilFnGOw/KnnUYecGk/tOEdeaXvdwtEQ2aFs+WKSS3Tp5Y4pf7TgAqtLqce7IppSYXXYnFusi8RjimJbBX+4KiXVI1Tgc0R6grNnFWlJENpl5YoW6qPyqRbK3bnYKorqeD7VONXQHpipfMVZE/2GFXBCDPvUjWke4fKv5VW/taMjpzR/aqnbxUvmDQuCyiH/LIUNaRf88wKhGsoR92o21WJmy1O0vMG0WxZw7eYxR9htz/yzqFNVhHSpP7Yi9BRaQroeNOi2/6kflUZ0yE8mMCpf7YhKcHFNOqw9yaPeBNEJ0yA8bKhbTYxLwlXP7Th6gc1F/aSsd44FHvDuuxCNKhH8FO/syLqFp41Zc8rTv7UjPYCk3LuHMuw1dPiPBWmtpsH9ypP7SjHNRtqaZqffKUkOXTou60kmnR/wrxTP7Xi7k0v9qqfu9Kd5C5l2EGnL2WkbTvn+6KcdUUDkVH/AGqhbpReYXXYyL2z+yXPnbeKdFdwqwc8AVeubpLuEqyA1yd8k0YKqSBnpW0I+2Xv7mc3yv3TsEMckZmToRWLcSt5xAq5pG/7AAxJFUb35Lg44rClC02rjqP3blG9GTVa1cxXIOcCnSyM7HJzVYBjJuzxXeo+7Y472dzpPOEiZzk4rOkOZDTrORWTHeo5W2S89KwhG0rG8tVcglcux2isu6SYA8HFbFvtWXLmrUtuky9ARW8aig9TNwctjjZVkf5TUYDR11jaVGBvKisu9sVX7oArqhWi9DKUGinbX5Qjmtmw1USTrGx4rm2hK9qdbuY7hT71NSlGSbCMnFne3XltDkdMVy85A3Y9a3N5kswc44rAnAEpGeK5cOrXRpN9SxpsnGKtTocdap6aBnrV64XvntVyspCV7DLVdkgYmtS6gE9nWPHIFbrW1ayCaMLnisat4tSNqbTVmee30JinIplpLtfYfWtvxBZ+TKW28VzoOxt3f1r1ISU4XRyyVnY2ZF3Jmq7DFEFxvjwTTm5qErAys0TVBJHyM9avfMe9VpyBLgjtWiYiIh1IK1es9VltuN1Vd24YqJkGelEoqS1BSa2Ous/EPIya24NeVgOa83Dk8p8tOTUZon2hiRXJUwUJPQ6YYmS0Z6rFq6nBzV6G/UjOa8wg1mRQNxOK17XXGK/eNclTANbHRHEQZ6El4CfvU9rkf3q5C21dT9481eS/VhndXK8PKJqpJm/9qAP3qPtKnvWIt2meTSi9TP3qXJJFK3c1zdcVTmueDWc1971DJeKRya0jCQk0Xraby3POM1da5BX71cy9+qnO6o21Qjoxq/YSeovaROie6UdGqP8AtAKOTXPG+Jpn2iSRvlBxVRwt3qQ6yR0D6oAOtUZtTBPWsiX7QGxgimSRuEyzEV0QwaiZPELoXWvC1QySSOMr0qvFPCF+YhjVuznjn/dIBuzWns+VXMZVrqxVkRzz0NFlF5spUDJq7cRMjbG61f8ADtgHvNwXilOfJG46V5Sszp9FsfKt+Vwa3LJJFl4PFLDa4jxnipoI9p/GuCKu7s65MvK5DYYinnDOPmrKurtbaUZXNOtbwXDblP4VpzWIcHuWZZCz7FXAoYgPz/dppl/edaieTrkZzTexKWpRuNRbztinheKb9rkDBm6VnX4e0mL4680yHURcpsbGRWEro6kk0bHnAR7+agabI4zzUiuDEBkEelSeVHMQB8pxQmn1JaKBc5pUJJqaayljb5cEVGitGfnBpNAkaFmPLrSWTAzWTBMB1Oasm5BXHQetaRlZGUk2XWmyKru+TVY3GF4OaZJdDbxwa057EKLY26kAQ1zOpy/u2IrRvLpgp5rm9Ruw0bc4FZxu5HRbljc5DWLvM+33qxpsuVFY2ouHuSat6fcBOCa9WVNcmh58Zvn1O+0+/wBiAZreguw4B3VwdncjI5rftrobOvNeZVhys7Iu+h0aSjBOaY7hjVCO5XZnNO84Hoaz52XaxPM4IqmxXB4zTpHBHWoN4ANGrKWhWuQChwKxLu33Gt2YhkNZsikgnvW9KViJq5zrr5bYoJAXPerN7Fg5AxVHORzXoRd1cyT6D0lOcdqerYbNQIRvxUuabQ1JmkD5kdRwsYpCckUls+5cA1Iy47Vk1bRnbe6UjXsr94h8jnOe9dJDq4uIBGQN3rXBCUg4zxV+2umToxFc86NtUaK0zuJbeCaBH447VMstuNqquMVy0OrStEFPGK0Yb9SBuILVz3ktyXSaRuTX3lgAAAYqk1wdpHrVCS5V5BluKbJcYHynNCbCNKwXc24YrJuD8lT3MwznJqlLJv6E4rSCN1GxWkGOartzU8hyKgc4bFdMUTPTQqTDBpsI/eZpZ2qOEnf1rdbHC379kbdlLsINb8U29AB93vXMwsVIxW3phMvyA4rhqnfo4lDUCPNY81Y0i1UuHYfL71NqVo6OAMnPtUks0dlZfMcNjii9opLqLmVia8gQxOccCqGm7VuQQOhqbT737fDJGxxgdaq2k6w3pQc4NNXaaYReh1rYaAs5+XFcjqF0PMcZ4B4rc1C68rTQd3XtXG3MoYk5606UeZ3Mk+W4vmg1BdOu2ogT0FJcjMddcVYwqTbTMbpKfrWnAcoBVAJmTp3rQiAUCtpM46KZFdnERFYzd61r5gENZDHKnFOOxlV1YJjNPkXK8VHGOamcfJVGVjLmHzYpg4p0+d5xTAfWtEYseDmkcADmkiYU5iGkAxxigLDJMBRSK1LMoA4qIcUCHd6cBxUSk55qRjxxQAxhQBTjzjFKMDrQBHtpwWlHWlbI6UAL2xUiCo1yaeNw6GgCSLhjRnmnxr8ue9N2UAeoJcSA53Gl8+UnhyKhPFHPvXm8qOwmklkbBDkCm+bJjG80wk45poOaOVCuSgvjlzTCzqeGb86dSE4NToO5IJ5MfebP1o86U9JDTM5FMizvOQaOW4XHgv8A3m/OnBmzgs350FvajqM0WC4b2B+83509ZD3ZvzpmAR1pMUrBclyT3NICw53UUZ7UWHdh5rs2MnFKSx7mhQM5p2B7UWC7G7mzjmpOdvU01TkdKCakoTJHqaeCW45H400Kx6CpobOZ+QrflSdlqxpNkZUhuppxB7ZNatvpLH/WGtGHTYkUAgGsZV4o1VK+5zSRSM3CmpltZW/gNdSLSFVyFGaPKUdhUPEFKlFdTmf7PuD0GKcmmzjluv0rpQie9LtXPGKj28mXyRRzh02Xqf5UhsXBzXSMgK9BUflg+lHtWPkic2bOYfwmmG3cDlTmujeM+1RiEEfMKaqC9mjnTC46g4pNmOua6F7ZCO1VZLFSeKftkHsbmRz70mSTjmrk1q0Y4NVDuUEkGtVK5EqbRGWIPemHJz15p0bgkg0pPtVEcomSB1qJgM5OSakJFMwS3TigBwPy0xutOwQfakIpoVxHXJ6UnlU8tz0pc0bDGeUPWl2c5p1ITjrxSuJ2EINIA27PGKcZB7VFJOE7ii1wViUDC9Oaacd8VTk1FEGdw/OqkmrjsM1caUmNtGmw78VBIVI5ODWY+qOVOAaptqEjk9RWsaUjNzRrNKiDk0g1CNO9Yz3DsuMGq7SSelaKl3Icux0kd8mOT+tD6lGnp+dc4hfH3qimLbsEmmqERe1OlbVothJIAoTVYXI+bGK5wD91171IqkDgU/YIXO2dRHdx4++KnjnRxkMDXJfvAPvGmCa4jPyscVk8O3sV7RI7ZeemDS8Zwa41dWuoz96tC118r/rVJqXh5IftEzps4XFAf6VnQ6rFOcZAq4HDfdOfpWLTWjLTJt/GMUnQ5B49Ki3GnFvlzSHcU5pMEnOaaGzTwQBRawAfu0zPOKcx44qLPzUWE2SMwHam7uOKazDPJpe1OwCFyeKI/mbrigihV285oGhfMKtxVW7AfGfzqcnmobkho8A80o6Mb1NvS0zagAcVQ1aII24c+1WtFvPJj2suRijWIvNXevGa4oPlrNMqXvROYeLBJzUZAWMjHNWpVKCqE0vzY9q9SOpxMfZz+XcgHoa07lFYqRznvWLGmX3CtyBGe03kE4qKtotMqErqxQnQLIADWxbKhtgCfmrNdFZ8kjNSxsQ4APFROPMrFRaiyW4JAKg1j3LljjdWrc5MZIGa5q9uCshGa0owbRNRhMo6CobWHzLpfQGhZN7cmrtgv73p3rpk3FGS3OiEa/ZQBxgVzd6oE5rpACIc9sVzt6P3xJ6Vy4f4ma1C1p0Sgir10i4wD2qlppDjrV2dCFOaJv3wWxkSMInz17VqaXLhhzWRcruOAe9XtPXDD5hWlRJwJg2mX9ctBPYlzjNcFOnlkqRzXoN0WktSpPGK4jUI9s5zV4NtR5WOruUo5PLYDFW45Qwqi4+YYpySEcCutx6mRf8ANAOMVHMA0mcdqgMnzjmrGVZeSM4qXox3IxgjgYqM8mpUHBqFj83HNUIJAB93iotvPFBYk05eZAKpCZaggaUgHpWxbWiovNR20axxhjwfSrJk4wOtZSk5aIeiCTrlOKVLiRRjJqaGzkuOikfhVoaUY+HOTTcE9wU5Iqfa3C9TSLeP15rRXTUP3iMVKmnQqnas+WHY09rLuZhvHxnmq7XjMcc1v/YrcrwAaqy2MJB2imoRtsHtZGKzEjJfFPikj6E5qeXS3+8D8tRjTyhyxx9au0UQ6jYx7oIM4q9YXaBhnHNZlzbjy8BgT7Gqsrvbsu0npSsiWdhKwkIwB65qvcKsseMYrNtNR3IAzDOO5rQDK8Wdw/Oqj5kNNGFJEEzjioYZ5LeYSI3NaF1CQDisqUhRjPOaHFNWLTOhS6a5h3Py/rXV+E0Jb1964bTXDpsLDOOma9E8JR7YScc9q8/EpJWOrD7s7WGMMnSomTbnHFW4uFximyxhuaxitDVsoyQpICXGeMVXhhW2zt6mr7RkLWbcOQ+1eT6UpFRk3oSluc5qCWQjgGkdm25wahIZhyDms230NOUbcgXEZDjJrl720khkJiJGa6gKwFVprbzTzQpNbjszCtdXljISTP1zXQ2eoxuBgjP1rGutIZuVU/gKzZLa6tW+Utim6cZaxY+bozvhMjDcSfzprTRtwAPxrirfVZ0YJK2B71fg1IOf9YD+NRJTjuCSextTOin5ODULTS4wykiqzTwFc7st7Gmx3JIIzkZqNW7mnKW1uggx2qnd3jLypzT5YhLGdpw1Y14kyHHJFXGLe4tEMutU+Qgg/nXP310Wjbg81YuN3fNZt3/qzXdRppGFWpdWOfuMtITTFkMfNWZYyQTjvVWVTjpXorVHndTYsr0FgP61vQ3WFHNcPA5gfJatq21AEgEiuatRvqjopVLaM7K3uxt5/nVgXAPQ4rnIb5BgZH51ZW+AFcM6LOuM00bLXPHXNRi67EGsYXXP3qlWcsc0o0Whe0NcPuFRMBjFV0m461Mjg9SKXK0XzozLyPcDWNKDHkGumljVh2rKvbUYzjtXVRq9DCSsY2SDmk88L1NNnfyjhhj61UeRWrttcwcrGpYXWHwa2+Nmeua5K2crOvOOa6mMjylye1YVY2Z3YOXNFpjGGTwKWOYA4Ip545qCRTnIBqd1qbPmjqi4soJ68VYjm2HIY1kqxHXiplkyfvCs50kzWnW7mysxfktx6VMJjjANY6ykHrxU8c4/vD86x9nY2VRMuNNzggGq0koJ4WozLl89qiaT5qpQFzis/tVaSXLdKlZsjpVR87q3gjCrMilk56VJbrk5qCcHsDTraXacGtWtDkUvfbZolynap4buSHlGwap+Zu6U2WTYvJxWPImdftLROqs9bhkjXz8ErWPrN4t3OSpwuKwo74FsZUfjUs84MWQRmpjR5JXMnWTjoa+jyYWUD+IVagtxFK078D3rE0y8ELZyKkvtRkdSobC0nTfM0aqrHkTLmq6oJ1CLkKO2axd7SvweKjRWmblqupAI145raMFTikjnfNV9BqgKOaa7AjFJKXzgKcUsabuvFUhXv7pSkjwdwFSg7FBPNWJwojrNnnG4AMOlNO5lNcjIb6XMZrPU8YqzcNujNV1FbLY45u7JYxipHPy01BzSykAcmmJmbKPnNVictgVZlPzGqw+/zWi2MHuOXCjpQOX3UGkHWgCVxuFV2Uipwwx1ppGaBEJGKVBuJNHWnRjmmAiDBOaPvGnAHnikbgcUgBRzTmX5c0i09vuUAEYzTzxTEO1eeKkGDQAqMQMUu3/apmc0fjQB6fxSjpxSEClXGK807AbGOaQIBzSkZpCG9aBATSr8wxSEU5MAe9SAYxxR93mlODSHnrTQxM0oNAHFIAaBDsZNLjFABFOpALikxzTlpWxigq408jFOUcUgFPUE8AUPQav0Gqp3YqzFaSSsAF49avWWmmU7n4rYhgSFdqgfWuWdXl0RvGkUbPSQrBn6Y6VrLbxxLgLSbwtO87PWuVylLVmqVtBcKO1HHal3hqaRk/epKI7ihhnFLgGmZAb1o3gU7APVBikCgUE4PFKMZwaYAcYxSbAOaRsZoySKQxrLmmhOKeTnpSHI70WAjaLiomTFTZbPWkcAj3oshqTKskYI5FU7i3QocCtB8nrVWXh8HpSUmjVaowprZkyyiqhlZTg1vyqrKQBWTcWwwSBzXTSncxqU+qK0Um4VYU8Vnpujbk1bSQMODWzRzWsSseKbRyOppCaLBcTpS9RSZzTS20UJXC4MSORUck6KPmqGe7EanmsuaSSY/eOK0jSb0YmyzNqIx8oqk91JMeuKTYPSgL89bqEURqRshPU05IMip4oS8ntUqgIWB7U3N7IpR6spugQGs8Nlyfer10SVODWV8yscVcUYzepYLnPFAYd6gy9PWJ39avlRN2IGLN8tS+Q7fM3WpIIQHyBV8rkjik3YuMLozkhOcVMF2VdWJT0UZpjwj0qHMrkK2KaYi7ZFWViHrTiNhwKOYOXuZ7Wx3c0nk7avEE9qYYWbvT5iXAzv3sXzK1WrPV54pMOSRUUkZAxVYpjiqcYyWpndo7C01KOdOTyaubwV2iuJt5JIn+RiPpW7Y6pjHm8n3rlnRcdUawnfc1gSKcWOKjEqyfdNPXPQ1ivMscrHFJ1NJnDe1ND80MB5APNAYYxTR70o2joKQ0OPrSZp3BFJgUIZExqCQ8GrDjFV3IANOyAtabMFfaa2rzYbcGuYgbZ8w65rb+0ebY4Iy1cVaD50y4S0aMGckuaqx2rTsa0ZImE20pnNaOm6eVO514z0rq9soRuc/s3KRRs9HJHI4rSuYktrPy161oOPIT5RVG4aObhhg1ye2lUld7HQ6cYrQwpExIajGQ27PFXJlU5IHNVWTJxXapXRyy0ZZEyvCVI5rldYiEchcV0nypFWBrDBhWuHfvaEzd0ZkTHaK2dNcBhn1rJgjJTNXIpPKYY6101PeVjJaM6p5AtvtHeuevmyDWpFL5tvzyfWsq+HzEVy0VZmtR3QabPskC1uXEn7jp2rl7VsX8Q7E8it+6lI+UdMU6sffQoy0MmSUeYeKs2Um1s1VkwX+7T43C9K1cbxM0/eNpnaVFC9K57WLfbIfpW7azARCs/WlDJvHpWdFtTsaz+G5yz8HFRkbDup0hzLiklIZcV6NjIQn5xU2elVwcnmpd3y0rCuTK45B9Kr7uTinLk01gE7UDBRmpYEzdItNHFWLEbrxSe3ND2A1rxCmwDritHTNP8ANxJKeKbbWTX0m9vuit1YUgiCgDb6Vjz2Vh8tyRHWJMKAKo3FyQ/Wq15fooZVGTT7KzmvMfIQp70OaWpUaUpuyRCL6QPjGaV7q5YfKhrdg0W2tjunIJ96ZNcWsR2RRKcVi6yvojvjgP5mYTT3ca/dNVxeTjcGBrUnvlP8IqlNNGwJ2jOKuNRvRoVTC01syu2qOECnioZdTDDBNQTlWPSs2RTvPpWyVzhnBJmpNcR/w9apzyBiCart8q5qESMx5OaajYgstKVIK9avWmpZ+VjWSHAfJqPJ3ZQ4p2A6w3CSrms65t15YVRtbwpwzEirsl5G4AA7UhEdpHKswYcV674Z/dWcTYya8ltrnfOqg8eleueGhm1iz0xXBjW9Dqw/U6+GUEdKkYbucVDERs4qdW4rKOxoyIpg1zN9K1tqDs3SurZdw461j6lpsN0SHkIaiUboulK0jJa7Wd0BO32rWgmjdSrKOOM1yt1DPYybgCwHenwawF++OfesLOB0XUjqfssDgkNz6U17F1GYwDWdaajGV3M4x6ZrQW+Eg+XkUueP2iGmtiGWJ0HzJx7VTnghlXHl/nW2sistRtHE33uKuy3RN7aM5S90aJkLCucubVrUtszXostrEed/FY17pysTghhVxqcujDkb1RyEF+8bAPWvb3UbLnNZ+paW8YLBCPpWTHPJDJ8zMAO1U6SqK8QVVxdpHaLJuXhqXdG3D81h22ooygBua0IZ425NczhKLN1JPYiurCNwcVjXelEodo4rpflboKY8XGO1aQrSiTKnFnDPpjKCCOKzbyxaPkCu7ntgSeBisi7tNxwRXZTxDuc1SgcRLFhqcisCCK1bmx25JWqQXYenFdykpI5HFxYC4dSKuQ3UjjFVFiMkgwK6LStEecDKVFRxitTSKk3oV4F3nODV9InI+UGuhtPD7r1T9K04tECjlADXHKtHodCgcesM4OdpqQLOP4TXYnSwq/dFVZbQRoTtFYur5Fxgc6EkHWo7hdy4Na08RA4FZk6GiMr7CaOd1i1+UMOtYpGzrXV3se+M7hmuXuEO8g16NKV1Y5qsbO5GhPmqfeulhl/cpn0rn4kC8tzWja3O5dpPSqkrlYefLc0vPycZxTg4P8VZzZbODQHZeprPkOn2zRoMQahY4PFVXuSOhoW74weafKT7RMtfaCvWk+17eaqNIHHSmFWbtTUEQ6suhsx3aMOtIZQX4rIVJV6ZqaNpFHJNJwRaxL6mkZeaimPGagEuTzUpZSvPNLlsae1UlYi37+KayFWz7VF5gV+KlM4I6Zp2MU1JCwz7cg9KS8k3R8VC7DHApPMyMNzQkJ1G1ymcxKPmrPn7osUrQiQ8CnC0I7VpdGCUlsJayssgz0q1K28VGsG0dKeyECkzSLlazJoCFqZrkKMCqeSBxUT7yc54qXG5r7ZxVkaKzbqXzAKzVmKnGaa9yR3pcge2tqTXt1sUiscy73zS3kryHAJqqAyt17VrGNkcdSo5O7LRfPFML7ahWTk8801nz3qrEc1ywsuKbNPuI+lVsn1oPNNIlyB/Wo9m6njkkH0psbcNmqIG4pDUhoVdxJPSgREalTGWqIkFiKelADQmM00NtfFPGaiYfNQBIGypFJQoobigBEanKcg1GKcOOlAEjcrQrbaYWOOtLkbaAH0U0ZxzSYb1oA9Tzmkzg07GDzQR3rzTrEzkcUoB9aaTilBoGrAOmaUHNIoO3pSqPlpWAXpSnAHWo3PH40uMjrQhDw3bFJzmminZoYDlJzTwM1GKeDSGh27nFLjNR85zg4qaJS74AJoY0rsfDGXOAK2rHT+AzAU2xtO5Ug+4rVQbF4NcdSo7nVGCSux4VVOBxSMVVKi3/MTTWceWeOc1g49TRMeH3GnFlUcmqwmGNuMGoJ3J6GrSuKUrGgr703LSq3zfMaqW7MsfOakaQA5IqnEjmLbMm3gUwketVvtQPGKBOCcYpunoNSuW1O7mlzls1Aj8+1WBjHUVm0UmIeacvHWgECj71Qxgfam4P1p+KNpI4NMZF+FNwc1Lt9TRgUmwRAy+1V5o881eYgjioXIqW2WtDMZDyOnvVKZCAQea13AI4FU5Ys9qqMrGiOfuoCRkHFVICVlwTW5PECh4rIuINo3Cu6nK6sctWOtyzkk+3rQy45zVa3uCf3Z61aJ+XJoaaMBpXFV7qYRR+pqZ5cISayLhzNJ14q4RsPcYw805zx6UjLgYFTJFtPtihlFb3CxXxSAZfFSbsdqmtoPOkLUpNLVglcltQqDcfSs65ZvObb3q3cZtyeajs4xcMWPT1qYy5U2ypaqyK00ZROTmst/lfFbt+FVTzWMq75q3pydrs56kdR8MZc5PSrUcXYU5ECirEKjPNDkylDQjjixnnpUyxE9qXbt3Y5pwdgBgGs22zVWQ+OFgc4pJEx1FPSZ15Kkj6U4nzeSMVmm76mmltCvFbB+elSG2UDkircMfy8CopEYPyDikpaj5FYrvCAmQKrOCOlaUpUW/bOaoSHNVGVzOcbFN03CqjxndwM1oBc8d/SrtjpE11ICUYJnuK29ooK7MHDm2Muxs3lmGVwMelad1poWIFeD9K6iDSYoIwu35vWmT2YbjbxXLLFXlZGyopI5G1u3gkCOpPvW7EQygg1T1CxVDuUflTLGVgu09auUlJXRm04uzLxPzHikGCelC85poPzcVmMc1IM084HWhQDzSEKMjmlzSUUDuI5BFV5E+Q1LnNNkH7s0IDOjk2S7SeK1ba42kA8isZ8edV1JFXGBk0qkE0Zxk7m9H5Ukgc4+lWzKMDYKwYrmQMOBVg3Lhxj07VxSpanQp6GnM5Zc9Pasy6IPQYNTq7MNzHiq82CetKCs7BUloZzbj3qM5HOamfAbqKilIzgHtXdE5GVZ3IBOeKwr+TzDgCte6cCM5NY6I005G0kV10oqOpnJlmytWaLpTpITG2WFa9nDtXFLc2u8cDP0qPbe9qV7PQZalBbbgefSs6/cAk4qykTxHviszUJME5opxvIUnoVLaXN9GcY2mtue43OQBXOWr5u1+tbMjYY45raotSLjGYs+KjLHNS9RnvUJBz0o6CNG1ZtoWk1CNmg54pIJdjirtwPOhyBxisG7SNFrE4qXCSnIqFRlutW9RTZK2BVNCQea9BO8bmYbSvenL8wp2AaeidcUMATpQBvOKWMYJzx9aVR89IBmcdq0NIgee6wg68VRX5jzxXX+GLQQRNOwwSeM96icuVAjYt7f7JbfN0A5NY1/qbKhCH9a2NWncWeACM1xcpaWcJnOT0rKMbu7NFvY6HRLEX02+Q8e9dbdXUNjAsNuqggZzWLpqCyssAfMRUcu+Rsk5zXLL35+R7tKkoRT6i3OoSyfMTWbJIS2eaurbtIdoUn6Cl/s5icbTn6VtFRjoZz55GQ4frmonyetdA2jyFchWx9KqSaYwbG0n6CtFNGEqEmjCYZOKgkizW6dOPJCniqU9ttNWpnPKi1uYb5Uc81BjJyOK0J4sdqplcdq0ucko2IiOaaAc1MFyaAozQIjAwM1Ij7eSM04qNtLsyBgUxFjTxm5X3New6EGS0iAPQV5PpUe68TjvXsGkpttox7V5uO3R14ZaM6WD7gGasrzVO2aroIAzWUCmPHSsG6vfKvvnGB71tbwT94VkazYfal82M/MOwpyRUGkyCWWC6jyAD7VUm0CG6g3KNjVmrcyWsgSRSBWompLJEERiKy5nF2OhpMw59HurZsoSyj0qOPUZrU7XUiupgcn7/IPrT20+zmO6SMUc0ZfEidY7GRba8m3lhn0q7/aSykfMBnvVS68NxSsTAcD2rMn0q9tSdhLAUeySXusrmT3Nue7HlFd2fpVCO5YyHLZFZf2idBiVD+VOS6XPvUOlJlpo22lSVCsig1j3+jwTZKKAfapUnJ6VIJyeAeaIylDYHFMw00vyGwRg+tatvpx2ggZqwQJBhhk+tX4BtQBWFPnbBJLYzvKKNimSZ6ZrSmQFs8VUeMHJyKQ0ykyfL6mqNxCetaMgx0PNVZlbHWqixysc/dwggjFZFxZnOB+ddPNECKqJatLJsVSSTjpXdSqWRxzgmyHw3or3l0Mr8i9TivV7HRoIYUxGAQKr+HNGSws49yfM4yciuhMix4AFZzk6j1KuoRsip9njj4IFMktxnOKuMBjLcmoS5AIPNJxRmmyjJGoU8VnXESkEYrUlYYJrOnbnpWUki4tmHdQYBrGuU5xXQ3bDBrDuZFAPGamMtdDSxj3RXYa5i7XEhroL2RQG7VhSjc5NehROWsVSwximxP5cnWpRASakjsi8g4NdLa6mCUm9CzFMGXHc1IF3e9WYNLAUMTzWjBpwA5FYyqRR3ww9SWljE+yM5p/9nSfe/pXQfZlQjC5FXI7Hzk3jAUcVm8QkbLBLqznodNZk3Hj8KuxaX2OPyro4LZFAVl/GtGK0iJHycVhPEt6o1WHpx1OVGkljgL+lNOkMSfl6e1d19gjWPdGMt6VVks2bJZTkegpRrSHan2OJbR5CDhelN/sx+mPxrtoLdQjEox7YxTvsUPlkeW3PtVquyXCnfRHBtpgJ6U19PCDpXZSWCjOFz+FVvsSvnIqlX7h7CD2OMe3ANMa1PUV01zpgDcVnyWrI2K0VVMh4ZGOkDLUgBHBFaBiHpUbRe1VzIlUGioFzTmTK1IUIPSnlflpcwlTKvljFMKAjpVnjHUUzbweKpMmUCk6A8YqvJFirzqc9KidCR0NXc5ZQ1M+SMVWmXaM+1X5VI7VVnXPHtVpmEkZWTvNO5AzRIuJKU/drQyYhbA6U0P7UMDimimJkinmmKMZGetKMHvSKuTwaCQzkUsZyCM4prcHFOiTceDQA3AGRnmhW5pTHtYmmjg0ASLy+2mOuG9aepzL7etI4AJ5FACDhc01vWnfwGmMfloAYvBp/U9MUi8U4sCaAEYfLTc8YqTqKTbQBJngcU7cPSmZ6UtAHqJ55oDcU3OeBSgALg151jrEbaRx1pVFN4B6UBsUWFckzt4oJ4pCQaTcuMUbDGMaVTSOvGRQqn1oEx560uOc0h608dKljFU06o+hqQcikAKSQBWvY2pwHrMtUMko4yK6KFlSMKBisKsnayN6S6ssr8qZo3EpTQ+RQ0irHXNy9zdt2HjhajLc1F9pG3rUL3S4I71ookOQ+SRQ3HWmb1PWqjSfNnNJ5orSMNDKUi4lwQKX7RuzmqImGMZoWTB9arkC+hY87GRUsUmXWqQYF+nFXEUbgQKJbDTZcV/lFThiQKrYxxUm/bgVgzUsLluM1IFPrUIkGRR5uH9qzktSkydHz1qYYK1WjcMcVMQVqbDuOZR1qMinbsdaQsN2KljIsY4qN0ycVI3Wg8nNJlJlcpjioXjzV5lGM4quykHmkVcyZo8is65h+StydAx+UYqvJbBk5ANbU6lnqNq5ys8bRsGXrmrUcyyxhe9XLi1GDxWJNut5Dsyv0ruhaaOSpHlZNcyYGKpxDMmKHm81wM1ZghUNuIrRe6rMUVca4I4FCpnrUkxAfgVJEisORU3Ke5RePmrloBGmTUM/EwC9KtmEi03Dg0qj0HBa3KOo7WVmqKxVltiVpLjLpszzmrassFoFVcGqb91RJWsmyhfoWHWqdrB85NT3LM8gGeKswQ7BnFbJ8sbGbjzSIlUKeafgnpTZwc/LxzUkSvuAzUt6FWRLDBJn5hV1LbeuBSIzHrVqIla55yfQ3hBFMwsr7T0pwiq07KWyetKu09qXOWoJbFHc9v1pyS+fxVq6hDrzyaoxxPC3A4ppqSv1E7xlYkeLPy496pzKEP3auRyO0+CMcU6aEM3IqoysyZe8irp1t9ouBla7mxs1hiUbfesXQbMs4O2uwSEhK5sRNylboKNorzM6ZB0ArNnyCa2JgdxrKuQcE1gkVcw7tdwNZqx+XLn1rUnyoOaoSEHmuym/dMJ6smXgfWhVw2aWIbkBp+2mTaw1iGNOAwKQR5NOKkcGgBB1p1M6Ggk7sZoJuMC4pSMg0o5FJnC0mtQMS6JS5xUyMQQahv1/f5HWpY8lBnrW0trmDepbWXkVOJec1nBsUpmPTNYuFxKbRrC7BXaTUDzq0uN1ZjyNjgmowTnOeaSoor2rNGV1xxVctxmo1YkcnNOGCtaKNiG2Ubv5gaisF/e1cnhDoQvWixtDknvWrl7okrs1rfywtSmRRGcYxVYmOMdMVUubhQmEOK5eTmZs5cqEvrnbESMZz2rlr+ZnY1rXD5U5OayLkgmu+hBRMJNtkFuds4rajO5c1hx588YrdhAEY4rSpuQOxmk20/imMSKyAN2MVoxSMY9o6YrKU5WtG1J2nms5ouL6HP6kn79vrWeVrW1CNmmYmst22Ng12U3dCbExinITuODSN0pFqgFQkvyeKefaojhRmpY2FAE+nWrXV2I+xrt7REVlj3YCjH41heHURblpWUYC8VtWeXlJB6tmsJSvIq1kLqhC27gsSe1c1YR+dqcY9639efCYU4rC0fcdSTb1zVL4WVR/iK52KROVAxWla6YZCAV5xU1nZAqGkkAroLO2kbAhjP+8RXmuTT0PdqVLLQh03w/EE3HG70rUj0aCOQFo1NWLeyuFcH5RVmeGVEBWRC1Jczd2cdStK9kyvLpcATCRjFZM+iQuxwoU1stcSwrtaMt7is+7u8LnO361Mua2g6U5X3OW1DTkt9wAxXK3luCTiuq1m6eVsk4Fc5cSKeB1rShzLVnZJKUdTnbqGs6WPBrcuwMZxWVNg54r0YM8irGzKIGGpqffqRiOo61GBzkVocrHOOalhRmYAdKaqMSFPJNdJonh+e8mQBSFPeiUlFascYuWxL4X0ma6vA2w7AeuK9UgthEAg64qTQ9Dg020CBF3nkmrrwbZNwOD615VaftJXR201yR1C1BHWrwKsuKqxkA4IqYAA56CiJLEZQOBUfRTTicZJNQu/pRLcaXUytRsUuVJAwa56ezntsspPHpXYNz2qCaJGhfKjA7mp06mqkzl7fVZFG18g+prYtdURxhmFLLplndLhWCn2rHvdHntDujJK+1Z8qk9Cm7bnSpdR7TtYVWmutgOWH41yy6hLaviQsfrUw1xGG1+aThMpWN1Zo5VIkjQqfaqVxpUEx3QHDelV0v45I8KR9KmS7wKSnKKsPR7FCaxurbk8j2qFbko3KkfWt1LlWHzciongtp23NGuemaaqJ7hqVLS48w9Kuh9nNMW0iiGUYD2pSoPVqHboMGn3UzqKZtUHrUnAGAah6sogZV7darzJkVe8kHmoZAApGMmrRBmPCWbA/Cuq8PaBCmLi4xu7KapWWjyTFZCPlHQV09nayR4d2JxwPpWybZE7JGmgQDgcDpSSBS44pPMAGR0okcFcjrV+hzddRkjjFUZ5dvIOBUsjfN0rMu5l6Gpk2jRIWeUAcNyay7ibB+9Tbm5XPB5rMmulIJJrFybZqoiXNx8xzWDe3OHIHpVm6uwR1rBvLgl8Ke1b0ad2TOVkQ3LmTIquIN1SorPyeauQw8dK7k+VEKnzkcVsnHy1YWBUbcFqzHEtWREOnasZTsd8cMraENqhkPTir6xtjAp8EaoOOKtRIBj9a5ZT1OmK5VYZFbKydDWnY2yBPLPQnNSWcatxxVz7OEcOW9qzcm0YznqQz2Z2ZjHSnWBy+xq0o0CxEZyWHFZqo8F+qn+I0LVGd7qxf/eCT5V4p6f6w7hwRUySSIeYwaJDv6AKfarsjAgby4ieODUaOJgRjaPWlniZyAG470kg2qADxVOxSVyFyqqQHG6oGtwVJBBq0ixscsATRJuVCEQH3qS1JmOluSW8wfSoZbJGP3a0wSW/eCnvCjLtUnce9F2jVTtuczLZqc4GKqtZlTg810FzZvG3qKznjIzk0+dm0WmZTW2BzVWVD0Fasqnaeapum05IrWEmS4pmeY8dKNpCnNWsKOcUyQr6VvGRhKmUW4NN61K4GelR9K1TOWUVcpXIHaqMinvWpKi9cVTn27Scc1aZy1ImPKv7ygJT3Pz0q1qcpE6YWqp5bFaT7SvSqEihX4GKZLQbcLTI32vT2bJAqIrg5pkjt24mpI8o1RdDxUmaAHkhkJ71C3WndKJFwRQARNmlkFNVSOlK2TQA3Py4pj/dpxI6Uh560wAdKTvS8dqAMtSEPHSnCmHilWgB4ALLU2wVDAMkZ55qbPNAz0ojHSmE9qQNmmtndXnnWOwSaRht70qketKOTQIQ5oHTnrTgfbimsATQCEckDrQrGgrR0pAyXqaeDhahU808nipYyQEdcU2WTyzigH5arSyBpMZoSE9Df0xVCAkdauGTDHHSsi2ugiqMipftWc896xlFtmynoai3K9MVHNPlcVnrJ82c052yOtTyF81ycyjb6VX8zJqASlxknFN8zPIrVQMnInd8Lmo9+7vURYsMUg+tVaxDJSSG608ykDAqEjnrTgu7pQNFmNycZNa0C5AbNZdvCWIBrVXEceM1jM2iWMAnqKGX5hTLceb82elWWwMViaDDwQDxQzKTnOKCQ8gFRS7RPtFIZLGSZOOKvhvl5qqqgRBu9Shhgc1mxpg7fhTOrZzTmIIpAV9KhloYzZPSnr93NNcDNJkjtUDRJuzxio5BninD9aQigortHULLwRmrwXd0qvPEQScHpSZS8zLmjxnvWBequSSK09SvxboxyM5xiuRvdWZyQBXfhqc2Y1qkYqxCZPJl55rTguVdRiudkmLjPepbG5cOFOetehKlocUKtnY6UkHnGacAwHAptuCyg4q18oXtXJKVnY7YxvqUihacE1oEh7bAPAqOOMSgk8VWkZoQy9vWl8WgL3VcqInm3mzOO9X5lRE5GcVl2jlr0sOeD0q1PIxDDBrSSfMkRGStcoSr+/AFXhhYfeqafPNmruwntxWkn0IS1IhEXOasRRjdUkaZwuKsrAoHUVjOdtGaRjcdGgz0qR1weKj8wL7VKkgbGa52brQozllfGDT4mOORVqWNHcdKb5arV86krCjFp3GfM/Oahmdo1z+lOecROB2ouB55G0dR2qluEpaEUD723YrRgtJrthsjOKn0rSTIQSpx9K7OwsEt4xgDNRKp71kZ3stShpdgbcYK1rGMovNTbQvoKZIcjrmsmrakp3M6dQ2cCsa6TANbsoHNZdygKms29SkYF1GMVkTjGQBW/dKCDismZQFPFdFOWhEkNtOY8VOeKrW74BFTk+tW2ZsVjjoKZuPcU9WzSN14FUSxjdKYTzmpCuOaYcU0SIrDFGRjpTlC46UuBt9KUgRlX6rvBpsWBgVJfx8gg8ZqIIcireqMZLUjIO7GajOd3WrDgBuart1zVxMmxSOOtOVM96iZuOtIJCKbQkTjAGM00naeGquHLU7B9aXKVcnyQhbOaltmKKSTVdThKaX+U80nG+gJ6li5lypxWa5YnGameQt3qu2d3StIQsEpXIpzx1rLmOWq/cEhTWcxDN1reCJEiOJ1rcU5UYHasFf9cK3YDmIZFFTcQ8daa4xUu0AZzUcnIrLqBFGOMVoW7BB0zVVE9qmyV4waiepS0K1+u7OOM1gTxnecmt65YsehrLuUA5rppOysJlTdntTS2O1PC0yQc8VoMRvmTjipI4iBndTFB28ipojltvegDo9LjaPS/MxyRWppoIQMaYAsGiqMYOKbYTZiH0rme7ZTKurSGRmpfC1uJdSBxkCoNRcszAd66vwXp8cdv9uuyEhB4PTNKpK0DXD6VEzsNJ0PzGW5unxGOiZrak1SKImG2QMwGAFrB+2T6nMRANkQ/WtixtFgxJs+bvmuBSb0R1z11kMittRkcyGUoD2oazvFbPnsTWqCc5LflTXwe5qmjO6Mr7XeWrFnAkHpisq7vo7/AHCZDE4PHNdDKA+QcVz2pWvyuVX5u1ZXaNYpPY57UlwSoJOBkGubkJWXLHg10pvY45Wgul6jG70rntSAhmYpgxnoa7KNzR1brlZn3jjbWPI2Qav3EoYdRWZIfmrsijhqyuyEnnFSImTjNJjnNb2haSb6UMVO31xTnJQjdmMYuTsi94e8PveTqzrgD1FepaZpcdrGoVQMe1RaTp6WsC7VGa34osKM9a8qpUdaTZ2xioKxLEg4p0sKkU5BilyCeTTUbKxLdyiRhulOkfOAOKkZRg9KruCeeaewhrN8wpr4B6U4JkjNStDkihavUpEKpu7VBqVm72blGw2K0kjxUpAxgjIquUSnY462lWIYfhhwRWip81MryfQ1X1rS3WUzwfXFYw1J42wxKEetYSpuOpupKZcv9OjmJOzBrlb2yaJzhePWu6tNQglhw4DMe9Q3ulQ3UZYMAxHrThVtuKUOx50LmW2kzkkCrdvrCE4dsfWtK88O3IVti7l9hXOXOkXUMhzE/wD3zXUoU5rVmN5weh08OoRsvB/WrUc4YdetcOiXcJAw30xW5ZyzhBvVvyrCeFtszSNdy0OkyAu7NMLgmq8cu6PBPNKAc1i4taG6dx5+ZqsKpVPWoEHrTg5Y7QepqbK4NWJCTjrWtp+mqw86bgehqCz08syvJ90c1eW4Ml6sK/cHpWqIemxrxrGifIAF9KUFt3Xioox8hAOcelIZgvGea0ukZasnaRVFVmuBnANV5Zecg5FU2n+boalzHyE8l2QSDWLe3Q3HL0t5Owzg1zV5dMrNuJoSc3oaKNlcsXF4Nx+asqe9HIz+tULi85OG5rPeZ2bvW0cOZTqF2SZpMgGoRESdzHNPQEgHBxUhGBXSkloOC5tRYkFXYAPSqsYq3COaio9DtoxVy7FACeBVyO1HUio7VGBBJrWjVdmTiuOUzobsVkt144xU6ogYrjr3qUqCMVGzBFznms73J5i3aqowQatZ86QgcBRUFntKAkVKXZHYx4wacVoYT1ZPDOEHJye1Vbt3e7iZTzVhH+RTsGc06SOKRizcYqkRF2ZfhdfsxZ2wcVlNehZyA+6o7q78tSgbK+1YjT4m3AGhalwp3Og+184zkmkkkZVOeay4JPOYFTyDV10kYnPTFJbg42HB2WPfnPtViJmcAk4HpVUbg+3B2+tMNyUYjGAKdrE2LUoXlgORUMUrgFjjI6Cqv2zJIJFM+2ZlB7Umm0acty1Jfo2VdDn61kzZwxz1PFJdz+ZLnIA9qrPKpOA2RVKBpFcozdnKmqtyVIwDT5m9DVOQE961hFjvYiZ6iLZpzGoWbD10xRzzkI5wfWmZz2oZhnNMMoHcVokcsmMl6Vn3I2oTmrLvnNUbt+wParitTlqMz87mNOBxUecNS5raxzXHCQZxmq0rBm47UxyRJxSKOuadiW7hg+YGzwKVjQeBSUEiE809uxqM/ep7kYFADxyKe5DqAOKiQ8YzS49KAHFgBQo3KT0qMZzUgJ2nimBCR89FB+9R16UAIBk09R82KULijpIKQCuO1CilPLj0pelADoeDilJOelMRtzelO8z2oA9JAxTj0paQkdK8861sRj71O3YoIA5pjdaCSYf6qkAGc0L0x2p2BSGhrYzxTe9OIHJpi8tzTTB7DxS80mRTg1JghjuVQ1QWTMpq5cn5DVFMDnHNNITLiSEVMspqm0gz8vFPSQ460coIvCcgc1Is/FUd+RShqOUd2Wi3y0xZcHFR7yRjNNVTu5pbDuWt/FIjZNJtGymRZ38nikBap8Jw+KaR8lKoORjrUNlI1LTOeOtX/Ldl6CqVmpwM9a0ypQDmsJPU2WxHbAqrVIW4pFOxTTVbfk1BYqna4NIB5kzPSKC2acPkzilYLkrPhQKkB6VA6kxjn5qsQrkDdzWbKSFbO3ihcY5pX4OAaAM9azbNEhmwnnNL0GKUgCmHpxUAgztO6nAlv+BUIpbg1KEwwHpQUIEKrxVDUrkwQFjWo5CA5rl9cut6FM5qoR5nYTdkcvqlx5znHesKWJt5NbMsYJJNZl42xCVbmvbpL3bHBNa3KLqM4FXtMt1Mo31TgjeVxzWksTwEPzVyehnBa3N9ECYC9MUpXNQ2lwssYB61YKseQeK89pp6noq1tBqPtQiqdy+QwPTFX44laIk9ayLwtGxBPFXSScmKo7RLWl28SwtJ3zioryRVJxT7IE22F4FUrpW3nJrSCvN3Jk0ooZbthq0Fk4xWfAhY8Vpw2xI3GnO17siNySI4bNWFOaZtVR0pVYBcd65nqzoihj/M9WoUUAZqBSu7latooYZAqZPQcUMkAPC9aHwE5pH+Rsiq805bjFEYtlN2RFcx7wpFbuj6d57KWXNZthZy3D4wSM8V3uk6eLeFCUCtRVb+GJlzK12T2tgkEYwMGrSoFqXqcUhWlGNjBychp29xUMm0DinvJhgD0rPublVdvnwPSs5y7FRQ2Zxg1mTMNpqG71aNMgcmsmXVdxIHSsOSTZvGy3LFwFLHFZVwvBq2k+5CTyao3MhKk54rqpprQzb0KsTYmxVknIrLWYi5XnjNawAbpW8oswEBxxTwPlprLg5oL5HFJAI3PBpu0UNnFMGc9aoTJMAUjdOKSk7UCKV3/q/xqGJsjFW7hQYjxWfakmQgmq6GclqOnqAkY5q1cKF4J5qqwAHrVRehhJELEdqbmlbHaomJBrREjwaeG7VHkUqsN1OwXJN3amMaGYA5qN24pWC4mcU12wuaGyEzmo3b5D9KtIEU55c5FU9m1t1PkOXP1psjjOK3iMiQkEE1t2sytCKxWII6VfsSDDjPOaVRaAagII4pCKjQMvOafk+tc6QmSKcU8nK1CM0u4gYzSsMRxkGsq6Xg1pseKoXCk1rTdgM+mE/NinycdKhDc571utQJ8fJip7CMSXaCquWYVo6Kmb1MihvQDrdUVI9MAHpWdYPtRj7VNr0hFtGqnA9KpwSKlvxwTWAyN1NxcKg6lq7uG1YabDaqcL1x7157Bdi3v1lY/KnNdzDqkV3HayxOQS3IrkxXMrWOjD2udrotl5UIyK2sKOBWfYy5t0wetWsnd1rmhsbzbbLAI7VG55oU4pGGa0ZHKRuuTms6ePzN35VqkfLVN0HOBWbTNYnF6tozzbmTrXJanHLAFRwSBXq00BIOelc5rWiLcr8qjNbUavK/eJlHseWTNiqpO41ualpT2rkEHFYzRFcnFelGSkro4pJp6joo98irjqa9S8MacsVooC8sK870iAzXcYNez+HrdI4oyw7Vw4yptE6cPGycjZtYAsYrRjQcVHEq9AMVZCbRWVONglJjHQAcVCwqYsAeeajLLnkcVTt1JTbIGGKjYjHNSStjrwKdEiSDoDUO3QtELbVwcURM7N93irAhX+IZqwECrwAKqMQbK7KRS87ealbmo26VexCKlzGJImU1xuq6f8zECu0fng9Kyr6z837pqJpm0LdThEu5rR/mzitO31oSKctUt/pJkbhawbjTpbYErkVDpxluXztHTDVlWNcvSrqEUnUI31FcabmSMgMTUqakF6modF9BqrE6t1s5ediA/SmmG3ZMHGfasBNUEh+9U4u8876hxqItSgXWjjR+KN6HiqRuCe+aEk5yRRNNopWLjyjqKuaZaGe4DN90c1lZwV3cDNdLaXdkluVXaG29c0otWB36l65KRREq3y47Vl6KfNvZpCTtHSqmoazEkYgiO5244ra0W2aCzBdPmfmtY66kS91ahJcyQyvt6UxbveGJ64p9+Vt2dyNykVmxyRlDIrA5/hqZyaHTSaLZmJTrVKSfDfeqtcXvl/J0J6VQkuGAJYnNT5l8qJbm63MRmue1KTgmr8ko6msvUHVkOK6KCs0Z1JNJoyAvmMal8n5aW3TnOOKusg2cCuty1OWK01GFdlmrUz72Ks3GBYqmOarpwq+uKUXob0b2JU44q1F0qqnLc1ahIzzUTO+maUJZiNvSr4kITaPrWXDOE4HFWBcAnOa5XHU1ZcW4J69qcwyM1nNOA2F6elWI7gsME1FrCsadqzCEZPWnO7ZIU8iqKXBiVVZsjPFH2nbKe+eacTOUdbmvCxMeGb5qimLhXw9U/tYUhjTGut5bHSm2SotEEzOX2k1UdykvXtip5ZUZ+BzVOTqatK5tEv2VwsbfMcZqwZmkbiQgVkRSIG5FW1uExjFFtSZIv/aCF/11V3nznL5qDz02npVGacB+tUkmTypFt5MHINQtckVTe5GODzUbT5HXmq9mHMkXZJtyrVZpCHOKrGc/3qY05655rVRJ50TtId9Ru9V2n561C859atQM5VUSlxUUjAnioWlFQvMQeGrVJo5pVEyaQ/LVOSTbSvcAKctWfNcZbrVxRzzmmTTXIUYBqi82480133UwqWGQa0irHNOVxrnjNR7jSOxXgmmo4KkmrMrjttJjBpVznk8U3JLGmIc33aZipMgDmmPk/dOKAG4xR1pwwetO2jHAoAZjik3EU457Uox3oAFpxajFNI5oAQDc2KVV2mlUc8daAGJ60AOpp60DOeTQSM9KQA3C08crSbcjPagcUAKg+elxSp60tAj0ndTG5bNPxSEc1551iFsjGKYTipNtMZfagRJkU4MNtMVM04rx1pDQhYHio14al24NOOFHrQMYTg08HAB9aTGTTyBxQwKt24X5fWqnQU7UJMTACo1bK9a0itCHuSxjHU1KOBVRXOalV+OtOwE4bBqRWzVcMPWnb8d6QFgcfNmpgwJBxVTf8lOEmCOahjLxI2U1CM1DuyuKkiHPWpY0Wlfcg4q/bQh8E1Tt1DNjtWvaRjy92e9ZTdjWK1LcEQBFSlW3ZJyPSofMAOAaUXCjjINc5qiY4ZaYgAyBThKhFR713HnFNDHxjk81KwVVySDUCMOT1FOaVTwaGhD1OT1qVCQMjmqiff61dUcDBrGZpEb8xfJ6VIpPdcUm0kfeFO5YYz0rF7mo1zTVXIp3XilAwcUAKny05mOd1G3IqMvtODQ12BFe+uCqtiuQ1CfdknrXSX7HBzXMXEDTTYAJ+grpw8Y3uyZ3toY8sjO4RVPNR31g0duGJzntXRR6Vghipzj0qC9hZhsI4rtVb3kkYOi2rs56xi29a1UQSLgioPKEcmBV6FQWABqqkuoqcCAwtGcofwqxFOWG1uD71eSDJ5FQ3NngZWsPaRlozfl5diJHeMY6j1qnfIJVyCM1PHMYR5bjOaq3jGJsgHB5q6cbSuiZu61LtjtjtMHk1n3syq54q5aL5kG/OBWbfxgsfmFVBe+xVH7iJbFhkE1rM3y4Xpisi0jIUHBraiUCDcxx9airbmHSvYrrIM4YEjNWsRjDdvSoY4wWzjK+tOuXVUAX9Kxavsaq6VyXaNw461aQqg2nrWe7OGQ1IksjybQM+9S6bZUZpFhl8wnFWLHSHnl5GB9K0dG0mSZw0g+XFdbBaRQAYUU4JmdSoULHTobcqoj5HetUA9uKR2GMgc00vg/hQ9NjC7e48+neonk29TSNJg5HNZ91K2c8gVm5WKjEiv71y4EYJx3rDnEpLPJLgVYvbxYMn9a5vUdSkljZR0HOaVOnKeqNbqKFu7iJMnOTn1qgJxI3y8Vk+fJPORngVqafalzk12On7NamKnzysjXht28uqOooYIue9dFaW5MfNYfiRGSHgGsKMuaaRtNJI56Bw90Bnoc1vZKgEc5Fc7pcJmuic8V0eNoA611VVaVjki7jwdy81EflGal4C1Cck+1YopihwR0poIz0pDwaU9OKdyQJyKF5U0n8NCkbfxoAjkX5TWbAQJiK05CNh5rnmn8u6POOauCumRI1bgIVyetZztzirb5ZMjmqLcMaqBjIb3pCme9LmmMxFaozY3NLg5zmmgjPWn9qpiGtk00ninUxzzRYQ1ySuM1A5wCCambpVK4fD4B7VSRSIHX5utQTDnOaexJ6UFNw5rZDIjnFS2jN5+0HA61G1NR9kgIoewG/GxJqTNQ27Axhsipcj1rnYmSA+1IzZNM3gdxTWPNKwIkAzUE8ZC7sVIpOeKJctHjIzQnZjMSZSDjFRBMHJq9Oo3dKryKD0I6V0pgJ5iBcYrQ0Ug3inpisc/e61uaRFtkDCnLYTNbXSVt4yeeazI3JjHarXiB2+zxjPNZcEvyYJ5rJLQYkwIJPX2rU0zU/LEUDcBTkGsidyM4PNR2zbrpMmiUFNalRbT0PfdJm3W8R9RmtcOOuOtYWiL/oUOT/AA1sRnkAmvKWx6EtyxnIpyn2qIsQ3FOD1SIZK5G2qzcA05345qEtk0MENJDdelVJFUnpU5b58VXdgD1rOSuaJmLqejR3MbNgZFcBq+iS2z8LweelerWRS7kcHIHvVbUdMjuF2FM++K0o1nTCVJT33PM9AtyL5AR0r2TSYV+zoenFcFHp62N/nGBmu90mQPCoB7Uqs1OfMCpuELM2lwvSnMxaq5bZ1NPSXcKtS7GDKl5NJFGSnLZqgdRuDxtxWpLHvPBzSR2qZ+ZamSky04ox5ri42gueT/DWrp0cixBm784qUWUbvvcdOgq0NqEDjFOMWEmnsNGd+KkLDGKa5GMioixrZOxiSnmkOOhFNBpWNGjGRPGCKr+UOTVhjxUf8JzTAz54cgnbWFe2uQcrXSzhugrMukyOoqJJFxbOJv7MZJCViTw4J4xXcXUI5zWBdW6knApxlysco31OaIePkNSLeSK3LGtWWyyOAazZ7Qh+h6VqmmZaplqLUgo+YH86srqkZHBx+NYjxcYJqtICp4Jpexi9SlWa3Ola+Ljrmqst5NtO1yprBN+8VOGqK4+YgGhYaxTrXOr8J276hrKmZsqnPPevU3kWMBfuqoryrwheeXPLKGGPrXUXfiNREwY81zVJe/ymqg2rk/iDUo44HXPUetcppN3NNcnaSVB6Vk6xqkl3JgNx9a1vCu1GJbB5pyhandlRn71joZYlZA8q/NWNdyIJsA8elb2oyq0HBA4riJJWe/IzxmohHnRtzq9jSuI8LndWPd8cZq3cXeBgms6WQuM966Kaa1M6rRLCoWOrBcBelUlfCDJpzSZHWqkm2c7skWLg5+npUI5JNNeTdgZpobBxmrS0NaLsiwHx2qZG281VU+ppwk560mrnUp2LqyCn+b2BqiW44NKkh71PIaKrct+YQ3WnfaHHQ1RaQ54oEhpezQ/aGqk5fbubpUrSkHO6sUTEH71Sidtvep9lYPaIuyXb568UqXbc+9Zry8daaJ8d6v2OhDrJG15q43ZqtPMCcjpWf9rHl4pon3L1xSjTaK9rEuiUHtTvP29iaoLJ70jXG2r5CHW0LzXB96haYEc1Ra696ia596pU7MylWRaaXmojNg5qoZ8ng1E8+OrD861UTB1jQMtRPL71Ra5GPvD86qy3fzcMKpQMpVkaJm561E9yFrNN1/tVXkuGJ45q1AxdbQ05LlQOtVXug3SswysTyaVTxjNUomTqX2J5Lk1ESx5zSbeaVuFqrGdwX13UGXsKi5pnI9adgHucilVMJUeTU+8bMUCAccnmmkgE8UpPFIBmmIM8UHgUoHPSm9TikAi8mpCdqZ61FH96rGF24JApgRE4wcUh56Uoxzk0cUAICfWgnB5pozmhjzQA7NOUEnOajzSg4oAkbgUxRk0E5pAcNSAmPHFAGaYMlhUgoAWNSR1pdpqSIfKaXAqbiPRTRmhqbuCqc1wnYKTSnpUcbhs5qXigAXpS8Y96QUjYx70kgI2Jz7Up+7SkZFA54pgMGaf2pcCjuaQGTfDM1QK22rF7xKT1qru9q3WxmyYNmnqKgGe1SIWyMmkCZYVKdspY2p+4UrjEFPEefmqJnx0oEzBetS0FyyvXFTLxVWKTnJqbeSeKhopF+FiG+XpWgtzsXaKzYgwbjgelaNlYy3ZyAQoNYzt1NojxOT170q/Idz5xWotnbWq/vApbrTZJLaZNvFYOpHaxsoMoLOAfvU8TByec1FLp7DlDxTI4mjp3i1oJpos+YUU49aWOUSHBqRYg0fIqi2YJ8k/L6UlqBqxlQatJIMVlpJ8oJNWkcEVjPc1iXcg9KSN8s4qKNvlzT1wCSOCawZoTBc805cFsmmq3y03cAeuKdxExIHSq0pyaeHBPqaYVLGkBQnRpTg0yHTwDvPWrxiNKoI4Jq+ZlNlGaIjOKx7uB2Y8V0UuKzpoy7GrpzaLa5jmZIPnqe3h2yBquS23zE4qAMUyMV1e05kYctmXFbDAmnyrvkG37tV7Umd9h+tX3iESVzS91mi1MqazDjcOtZd5G3l4bqK3XmRV6isrUJEZDjr611UqjbRnOFkyC3l8u0KVnTtuzV63CmI7xmqrRiW6WKNevaumNlJmEm3FIu2Mb+WMDNaDIxTDKQK1rPTY7C2DS4Zj0FSGaFkKyRAe9clSqubQ1jdIwhIir5YOKY06Keea2bnSIp4hJEQB3xVeLQDKcA04yha7B83QpQl7mUBRxXV6TpMYw0iVJp+grboDgbvWt+KHYAq9KiUr7Cu7aklukca7UXFWG6VEi7T7U8tmi6toZtXEPFMbBGakIzUTjjA61LGiCRlCnmsW/nyhAJrYdCQRmqU1lvPWsnvqaxscs0Uk7h3yc9q0H8NrLZGRiAxH3RWv9hRW6DAptxlEJjYg9K0VRx2E1zHAtoptpWYjvjFa2mWuD92rNwkjsSzE81b0+PEgGac6spLUqMFHU0ra2DLVDXdJ+0Wx2jmty2jx06VNcQ74zj0rOF4u4m09DyqysvsjyA9c1dq/qtk8M7OBgE81QAJrpU+fUxceVinmmnjilFDLnBFUSMIpOlSsAMcUgUHtSuKxE3SmVOVG7GKiI61SYWIpBuUiuZv02XJNdO/TisDV1w+a2o7szqbFu3k3RKKglQK5zRp7b1AzzT71GVs5pLSTMXqitkZ4prDNIeB70m6tdiGiJhh6mDcVGRnk04dKoi4pqNutPPSmGmMikaqMxBbJq3KeKoy8mtIgRbgG4pwbNQYO6ljLFsZrSw7jj9+o261KoPU0xxkgD1oQjTs2zEBV1EzVHT1wp3c4rQU46Vzy0YDTEC2aHGG/ChmweKaCS3NTawCqeajD5fFTArk8dqqAFZic8U1qWNuGQmqjlADS3DjNVzhua1ihEeA0gA9a6TTU2AGsCJB5owK6S0Q7VxTmCRV14k+VzWPDJslK571r67FtKZrFCfPuHBzTWwkieY7mpLbi7FKyEEEnNJAQsu49aLaWH1PedEdGsYf8AdrVDZAwRgVy/h25D6ZGc5IFbcGWO4sRzXiJ2umei0WY7kPKyjORU4YmoAFUHYBuNPWQjjAq1qDHSvlKYWATmhsBN7cj0qNyGxxxikCQoIOTUTIGU04KR0PFDDC8UmrFpXKHnm1uA6rhPSr/nxTjKsMmopYhMhHeuemNxYT7gzeXmoUG1oaLXctahYu8hZeasaJqBgcwufmqaxu4ruMkkFvSqN3aNDcebH8reooWqsVK7OtSXcu9jmrSyKUGBiuY0/VElj8pztZf1rXSVgoYHK04zs7M5pQsaqAEZqQYFUobgbck/hUwmU1upGbiT01hzTBKPWl3g1SZI7qMU0nFKGFBwaYrDSeKaScU400enamAwk7eaRj8tLI2OKiL0XCxFLJtbFZlwfmq9M67uRWfO6k9KynI0gjNvGrHMW8mte5G5sVV2Bei1m5mygUZLfC4FZ91bbQSa6H7OSMkVSu4VYHcAeKqM9SXHQ5OaIHJrNnTBrduo1SQgDisi6wDXXB32OaSMi5XAqmqg8+9X7oZHFUlQjmuyD0MWja0PURaM0bHg1oXmoCVeDXLodsuSeKutKvl8HmsZUYufMbwqNRsONyGlAz3rd0y9+zkEdOtcssbB81fjmZUxk06lNSVgpzadzr7rWlkgIzWJFcKZWasp52ZcZNN81kHDEVnHDqKsjR1XcuXV5l6iedjgj0qiWLtk81KGOMZrdQSRi5tkouGLYNXIzuWsk7hIOaveeI4RjrUyj0BSZPC+7LVIBzms1bsRDAGAalS9yuaXKzaNSKSVy/v4xSFqom9FJ9tWjlZXtY9y/wCZinLLkVS+0qaUTjFTyspVUXTJxUZmIqt9oFNM60+VjdQt+YAakNwAMVnmYd6PPU01Ej2paeXNM8yqr3CgVEbketUkZuoXTJimGYjpVBrzHeoJLxh0JqlC5LrWNT7Sc8mo3uh/erHa7ZjgsajZnboxqvZmTrM1XvFA61Xe9BPWqG4nqaQYB6VSgiHWbLrXeFyOtVpLl3qNWDEgimnrxVJIz52TGfoKZLkgEGol+YZ71KVO0Z5p2FcjIORk04dW+lJ3pwFAXI+DRwvNNC80446YpiEL5GRTdxNKcY4FORM0AIxwKaDlacRninLH8p4oAYBkfjT1XlqkjhycYp7KFHA5pAR7eKQjBoycdac3b6UAIKjB+enE45qM9cigByjDU6QZApsZyeaknGIwRTAhYdKUU4gbATTDntQA7GaaRinCmvkigBvelzTeQOaTNAEtIRmheRSjrSAlI2qDTl+amnlKcnAoAnGFGKXApi4ZueaXNSI9F49aaw3AqPzpMGlAwa4TsGonlrjOTTgM0hOWpQR60AOzihutJjmn4yaSYDM8YxTV+U5qbaMUbR60wI80dDn1p+BS7RxUsDH1EFW/GqQ3HvWlqyHAIGee1ZimuiOxkydRt61IGB5qJXDdeKUnHAOaQFlDjnNKTnvVcMduKcCMckUrDuSF1PalBB4qAD3qROO9DBFhB0q9bR72C4qlGQSMVu6XAGcEisakuVXNacbslW2bzVA6ZrojKlhZqAACeajitlEkZNZ+pu11fpbqcKprgcnPQ7YwsN/fXcjOc7e1Vp08oYUndW8EW3t9q4zjrVCOAPKWkHFSpotleymlfCSdT3q2Y88e/Wq11cRQXEYUDmrjTAkbRxjNOWgtyxDH+6I9qy7qI7iCc1r2p3D2xVa8iHJFEZXZMomaz7RipoZxnaarnkc0yMjfu3D86tq4RZtI+E9amVqz45ugzmrUbbu9clRWZtEtA44pCnzU3cCetP39qi4WHqqj60/y8cg1FjvUwGV607iDymPSk8kYyetO81k+XrS5G3kiqTEyrJGoJNUZF+Y4q/L0qqw5OaGzWLM2ZMKTWNOGjYnNb9wvymsi5jzGTiuihK7JqbFK3vDDOAfzq5e6oiw5z+tYN4xWTjrVKbzJRtLGuz6vGbuzkdaUVZEs2q732oSfxp6yNIPm6etZ8UaQTgMpI9a2J1R4R5Y4x2rZ8sXaxlGTlG5GG42g/jV3w/EtxrKhu3rVGJNqcmrGiS+XrHB61FS/I7FRd2jtxEJ3dmOVXpVSS3MrnJ2oKnsJcwyoeoNULq9YuY06Z7V5kFJHY3cltZ1jm+z7sgmuot7IRxh9uc1ytnCkU6yyfrXbWjs8KuwwMcCrcVzGc3ZCQZPUVYUbabwp4pxYGrMlqheSetJzUbMV5ANK0ny8daB2JMk96Tbzkmolc5p5bipuCQMATUDrzwaeW561E7c9aVyrCNhSc81QnGScdKtzNycGqEjnkGobLUWUpYwT+NWLaFUO6oyvzZzU0TdjUt6Gji7GnbMVTJFWRIMcjNUPO+UBf0qZH6ZNNSuYtWZn6tbCaJiAM1x8iFHaPofWu/mVXUjIrkNXs3SUso4rWm7FSjeJm9RUZJ9eKVTxSGug5no7Dx81L0pqkAdaCw9aQDjyc1G3GRS7qaxzTQEZXJrF1iPjfW4azNUXMNa05WkRNKxlWMhRhWndLuhB9qxYZCrCtpXWS35IzWlSPvcyOaL0Mz+LmlyPSlnG0nFQ5qxDqXoKQUjHmqMhN+Wxigik4BzSbh60xkc2AOlUJmGelWpWyKpSnLYrSIyLHz49afHHh8ZpAPnFSoD5gOKu4DXGwVAGw+cVbmXiqpXFEQLVnKRPg9DWqB8uc1gI5VwRW5bEvECayqLW4xrHnNJ5gz0qZkqFlw1Smh2I95LnHHFRuSVLU88En2qBiRGQapWuBFOoxmqy4JxnFWJz8tUxnzK0igLVtzOBXWWCZTkYxXN6dDmQMRXSwzjyyoFTMDI1yTeyisLJ3nHY1s6tkOu4Y+tYxxvODVw2Am3lsUAEGmqQD1p456UwPTvBdz5lkqntXZoy+YFHHFeX+C77ZdeSTj616DDIzXGe1eJXg4VGj0qfvQTNckAZwajWIs2ckUsThhip1dR3FNaBYY2cYPSkXHTrUjfMhqsj7XwaT3KS0J+ScYpjv221YQjrjNK8YYZ6UMSdmQxIufu1T1Sz82AgL71ooyr1IFWAEZCTg8Uou+pTdmcBA0mn3o3AhDWxeXkbxK688dKvaxpaXMO5BgjmuPld4NyOTx60NJvQ0i0D3nlXQc5Azzg10dpqbOgKNlPSuMuGDR7up9qk0nUCs+0HGD0NE6d1zETep6BDdeZ8wb8KvRTds1z1tcJKw2jB/StJWIYc1lCTvYmaVjVV+etTLJWTFIyHLHIq6k+4ggYrdTMnEuGTjGKkV8CqbSDjJqwp45NWpXJsS5FNZwvNR/jUU3X7wqrk2HM4Y5phZe5xUW84wKqzM2e9S2WkPmZSxwaznOWPFSmQBuaqSTgMQKylI0SQSqGGR1qNFXOCtNMmTmkaUKPes2zREkjBVrHvJRzVuebCnJxWFez/AD4BqokNlG8B3Fs1jXA3NWpPJnqazJvvV3UzlkZ04qEgBcYqaTk0zAIrsiZlVo81IEwvNSqmWqVo8L0p3sOw1F5GatCMMQAO1QqPmAq5GuDz6VLZrFXRVeMDNV3UtwOKtyj5jTY0yaaE4kUcWBT0h3HrirSRcdKURFTnFLmKVIoywkDNO2ZTmryRiRSpqN4Cp6cUXB07alPyQ56VKbdQOOKlTANS43DpRzgoJozmg5qNoa0/LGahkQA0c4nSKYiYd6kVTipCwFKrrtPI607sjlRCcg0059KWWULzxUYuF74p6sTaQ5juHpTcFeM5qLzxg8iq5umz0NNRZm5ItuuV64qvjLY3VE1wzDGDSpnPvVWZLkhZY8n71NKgr1obJ6c0xQTVJENkRwG4GaUkgdKmCbTuNN27z0piuRIQ1SBQQTmpEjYDO0U8RMy52/lTEVAMMaaAS1WhbkvjvTmtGxkGgRUUYTOKl5wO/FWfs2YcY5p62pUDg9Kdg5kUGUg04DAzV1rbJ6U77KNtIOZGdt+bFK0RzWj9kBkHFSNbKPrikFzGK8HijY4TcKveSNxqTy18oigZTjQHOe1OOAwwOKnVFXdx2ph28dBQAo4YcUmByTTjjIOe1RM3ynFAEDA9MU5hnHbimsGz1oYkUANk+5UYOKc+dvQ1Hz6GgCSM81LIdyAUyNeakftTe4EcvEQpimpZMFQKjAAoAXtSAbjSg8U1ThqAEcYNMqdlzTGUjtQIFGBS5w1GRjrTWPzigZYBytKKYnSnikIcpwc07NNCU7ZSsB6Msgx0pd4I6UAr2FNJOeOlcJ1CjBzxTUA3mlycUKAOaQ0SAYp3vTC1GSRU2GOPPNJRntSimgEHWnZ5pCMGnAd6YkVL1N0LVz2cORXUzIDE3FczOgSduK0g+hMwVsmplquuBUyZIq2QSscLUe75KWQnZwe9MUZHNSBIGpwJIqAkgCrMIJI9KbKLdqh3A11+jRKUGa520jDMAa63TIlWMYOK8/Ey0OqgtS5OCgGKxIWzq+XrbuifL61hyqU1BW7GuWGzOy2ljfcK2fSsrUbxLeIhDzV55QlsxrltTkMzgIetFCDk9SZuyIIHlv76PB4ro/Kbesade9ZWi2f2dfPYcdq29MlEt8c81rVknKyJjtdmqlusEIHcjmqN5nYcVozxu0n3uKzbglldR2rBNJlO7MNmwxBquzhGIFWZ1wcmqUv3uBXXHUxehaiuAAOcVeinBYfNWCQw78VPBKQeTWc6SZUaljqIpFYVIDzxWRDc4/iq7DcBsfNXNKm0bqSZeB4p4bFVvM9DT93HWsrFE2/NNZiBUaycdKazkjrijYLDXk9ajdwRQ+D1qBz71S1KSGTnk1k3L4UitGZ8qT3rJuT1ropIibsjFuxumquVyd1X5VVjnHNVL0rDH8vFemuiPPmZ92w8wKKtQyt9nA96owBrqXOOa0Xt2i2rnFXO2woJ3uhG3mBiKg0+VotQic1enZYrcADk1TtYGubkbR06VKfuu45aSTR6Fa7dzKOjDrVGSALM24Hg1YtI38lUYkMK0kt1n4YbexNeWnZ2R33RmxRtJyFYqK39P1FZJPs7ZDKvSrFnFFbw7VXcc9amisIEvPtBUBj1NVo3czqS6FiNyR0px60+PB+7jFK/WqMVsRE8YqJvl5qXHNMfnrUyLRH5h9KTzCTUm04qIg7utJotCMxBJqLfzT361XPBqbFJDXJNV5VOasHPrSbNy5NJotaGdKGA4qMSMo5q9JGVyTVCcHPFSjRsuWUrTCrbMY5MuwA96y7OaS3YgKTVS/hvr+YnzmjT2ojDoZS2OhF3BnJdSPrWVq88Mq4UisKaWKzGwSs7jrVOS9lk+6CR71rGjJsjmSEQ0N0pFUikbOcV02OZu4m7inL84xTAKevy9KCQooZgD0o4K8UAJnPFU7+PclXeAPeoZ13rTi7MHqrHJZ2vVuG4GMd6r3Eey4IPSo1O167bXONlmVyXzULPtOaUtuFQSGhKwmS+dmkMnNRAUY5p2ES7uKaWpO1JRYdhjfdqow/eVO7cVCSM5rVKwhqj56lBxUZIHNPUgjmkxgzbqicYp7HjgVAWOOaoQ3OGzWpp9zuTbWSTmrViQrcUpRuhmzI4xxUBJIyabvphk+bFYJDBuKil5FPZxmop2wvFaJARTsCvFVkBzz61O2MUkahpBxWi2A19Pj3AfSteKJU5NUrJRHGCBzipjM+DmsJMDN1xt0tYe3ac1q6pIS2T1rOALDmtobAIq7jViNdtNiTDDjir8Vo08gWJST6CqbS3BaljQpjb6irYr0/TLjzmBPpXP6H4NmljE8o2ntXRWdubRijfeBxmvMxcoSd0d+HUkrM14WCg5qTepqsD8uaTfiuO7sdHKjRjbcuKi8v581FBOOxJ+tSvLhS3T6VSbsJ7lqMdqkkU+VVa0uo3U5I3VdzuiwTmhWZLOfv7mWDHBxmtTTryO4iz3xii9tUnhIZQTXPWk0un3xSQfuietNxtqi90dXJt2YPQ1yfiDTR5ZkjXk106yJLGCnORUFwgmgKsuTTi9bkbHmIXYrK/WqNvmO7P1roNbsGgnLKML7VhQkG4yRXSneIqnRHU6fI7xjaea34nLKFzzXP6cwUrjgVtquCGjHPrXBezKlsWYg6S/OcrV9ZQSCBgVQhfzRhuKnORx0raJmy+2148jrSrKBHhm+aqfmFI+adGI5Ruc81WgiZZWbndTWnweTUZQqPlOKYVPdNw9aNEC2JPPGeOtVppzmnF4l5AO6oZCrDOKTY7EDPyapu/JNWShxVVk5IrNmkUrEJn2moJLrmnzW7H7tVGtpCe1CWo3sRz3W9TWTLMpYk9atzRlCRWXIuXNdEIowmQTyZOKpSNzU02Q1U5HOa64RRhJjG5BqNF4P1qUD5eaiyRnmtokoXGDmpmPyCqu4lsZqwmSMGm0WhYvmlBrQRdxqjAMvxWig2ipkzamtCrcJzTIl5q1KuRkio1UDoKSY+TUlWnkZFRKeetPL470jVMRVIenzKSlNWRd1K046E0tR3SVigQUNOWbinzMuOtZ88mxchsc1aVznlLk2LhnFMaUGs2S8AAAPNQG6fP3jiqUDCVcvS3CYqq11jhTxVYksOTmkSPPNaKJjKo2PkmZhTVDtUixD0qwiY7UyG77lMI3nbaaQwYgVdRNzFsc+tAgzJ061SJKiIxap44i0oFXEg2sMrU8Vv8+QMGmK5VitcsaPs21iMd60lQA8HFSGNOuAaBORmNbgkZWnrar/drR2qecCoycHihA2yB7dFj+7UaqOgXirk3zLgdKjQqkZHfNMWo1bePrjmjyowppwkG05qNnWkAiKD/AA0HGcYxTVmxwDS7gzZNO4rDmjBSozGB3pQ+cjPFNbFK4JDVfBp4KsxJ9Kj2jzMA8VGW2k880hoVQmW+tRuyLTC2M4qJyD1oKHs2agcfNmnEkDg1GW9aAF3cYpmflNAIDZPSkZx2FMYE8Uwgk8U/AI6U6OMk8UWFcYUJXBoEeKtxW7HJPSoJf3bYoAAoUVGSCaUnimcdqQx8oGBiosUOxx1pwGRTAbikxzTzSCgAJ+Wh87KX60cng9KBENKBk5pdvNKMdqAHqe1SCo0wGBNSL1pAKufMqTmmqRmpMigD0BVOetKacRiotrmb0GK4bHUOAbPSngH0pw4PPSjdjtSGgA9adjI4oJ3ULwuKQxu3Bp3Sg0mR60gHZyelSDpUS4z1FSdPpSuAj8qRXO38REhNdHjIrO1G3BXKjJ9quErMmS0MIdcVZjGFxVRjhqekhrdoz6FlyBTNw9Kjd896bu96VgJNu4Vbg4IqFVqaPhhUydkVE3LJdxH0rp7HiEGua07Bdc11UCqEABGK8yu7nbRXUsPiWPjism+XBVgPunmthNu3GKrXMKsCMdRXPA6UyuJPOs2ZQenSucY7bobxxmt62k+zMYW+6e9LNpCXOZAQPStac4xdiZxbKxlURbE6Uadcrb3uX6Vbi0UoOXFUtSsGjGYzk47URUG7XE2dJHdrdZMZ6dqjljyGGME1j+HjLHu35z71szsducgVm4pOxS1MO+XbWY5A6jmtbUGzyKyJTnmumnqjKa1I25FM5VutKSePrRjLZrQyaJFlI71Il2yNxnFVWyOxpqnNEoJjUmjZh1AlhkH860Um3rkNiuY8wr9asQ3jjgmsJ0FujWFXozpFYg43A01mPPNZUF0fM5NWvtAPcVyumzdSQ+VzioDIaVn3CmGqjEq5E78Vn3IParkjcdaqySDJFdFNNGczPdCh55rN1EM6cDFa7OHyMVWuI1aPpzXZTeupxVEUrAxRDO3mpZibm5GxsLgVWOFQ4GKhjujCTmtXG7utxKdlYuXUZRcswIHatbwzZs8okK8GudaWS6lVRnGa9K8PWW22iGMEisK8nGHL1ZVOzlc1V0/eQRw1TGxuVXCKGFaMMZU81aHJ4Yg1yQiac7OeSee2Yq6YqWTUcxZLjPpWzLDHICrpk+uKzn0WN8n9KThroVGae5JpTu1r5rflVstnnGKdHEsEIjAobGKaWhLeuhEWHpUTnJ4qUimkCiw0yIkgVE2c5qdj7VEzc9KDRERLZzioerVayCKaIgzUrFJkO3NG09ql20vQUh3KkvI2kVVaMMelX3wW6VDKyoMkgVk9x8zY2GIKvKjNQXhO18cfLVqKQOOKrX0saRlSRnHrQCdzi8kXDhsE5p2fb8qddbBMWQg5PamN93NdkdjknuIWNM6mlHNOAGK0RAgFKvNITQpwaQCsmTSqMd6CabikArjPQ0hAxSH60maRSRzGqRFJy2fwqgDkda2dbTByBWCWIau+nrE45q0i0p+XFRS8U1H6Zpz8iqsyB2/jpQDnnFM3ijfQGxKBu4pGGKar45pryE9KB3Viu/eoSeamcH0qLHrWgrCcmnrxRjFFJhYQMelMcc80oNIwyc1SCxEwA5qS3+U5pmBnkilztpvYLGiDTH+9kHtTFfeM9qcelZJAM5bkUyTLDGKeh2g0jP7VSQIgLZFWLRCz7veoVAJq/ZIKrZFI2IF/dbh+VNdzgrtpsUhRcdqBKCaxWoGLqbt5wWoguQDVi/AebI5FJBbtO6oufwrZaIRYsrGW5mVUXOfavVPDHhNIFSeaLqO4qDwh4eUQpK6ZOPSvR4ICsSpwFFefWrOb5Y7HXCmoK7IIbdFhVQo49K5/VoPKu8qOGFdTsCCsXXApCsMZrmmnyo2pyuzNQhVweailkQNjIzVm3gMw4NYur2s1tIXDHFZRi2jourmjDIGOOBVvaBGVznNcba61++CMwBz3NdRZ3SyKMkE0PmjuLTczrhri0ug4JKe1dBYXqzxg7/qKqyxLPGcjIrIDtptwRztPei19g30OvV88npWbq1ks8RZB82KmtL6OaIHIq1JIjQ8Dk960jJdTOzTOY03U5LZzbTHA9TW/54liBUgVzGs2nzmSM/NnPFQabq7lvIc4x60pQtqi1Zuxp61BuhIIyfWuHuITbz9Peu7ndpk5PFc/qdplSwGTjtV0p9CqlO6F01w8a5FdFC4AAHH1rjrScwnFa8V9uxhh+dZVKfvaGTfRnSJ5ZGe9KkmTzzWNBqIJxV+K4WT7pGfSmlYlu5ddgVpijIxmoHc4weKj88pVJ2DluaRL4ppJHBY/hVIXjtxSmcjrSbuHKy0yjGetQyjj0pqXIz1FJLIHHBpMLMaVOOtQPE27I5q0v3eajywBOOKVxrQz50YKTmsqR5Fc8Ma3pZo1U5FZd06N9zAp6BcyLlzuyazpmAOcVfuQaz5lB710wMZMpSkNk1VdMmrjJxVaTANdUXoYtFV2C8YqMsDxiiU5PFKgyua2WiBsjC4bOatxrxmqxOGwavQgFaTZUFcIlweKtLnHNQrgHrUm7jrUSOmOiJMblqNxtqRWGzrUUrZHWkW0iEuRTGl4qOVuKqvLgHmtEjnlUsWRcYaonuxnGazpJzng1XJZ261pyHPKs7WLkl6W6ZqtO8jKPmoEZIqcxjaBTSSMXJvcrKhcA56U4qDxTnIjFJGpkPANUhCIO1SqhX6ZqeK355qy0KqoGRnNBLIxEAo9TTim1N1TsoG36UyUYiOKBEa7duQKfEmJQTzTEUhKmVvnHHamBY+XcPlp6MoPIxUJkw1RSS+Z8oOKCSxGykninGRVQ1VWQKvUVXkmJB5oKsXxcLtxUfnjd0rNSUlsbqabja2M5qeoWNMyju1RvIFB+b3rO3sT1pzEnv2qgsWPP6GlDbxnOKrhcRgkjNKhwp5oGh2SjcmpA/fNVpnJIxQr4XrTAmWQknFNaQ1HG3U04qX7UhCeY2/dmo3lOSTUhQ46GoZEJBIoAaJgTTWbJOO1M8vinqmAM9+tAClhgUw89Kcy9qaq84pgNYZFCJuOM1bW3Lr90/lVq2sMnkU7Bcq29sZPara2pRuBketWUjWJTVea72AgYpE6jXyikZrKnJ381YkmdsnPFV5BuGaRSQwyZ4x0pu7aB70mPmanbchaYwxknilIOMDingYJNNYn0NACU+Ndzbc000gYqc0ASTJ5fGc008x7qa77x709gAoFAhjfczTRxT2HyU0D5aAEPI4qRXwMYqMnmlBFICVOevFSVCvzDPTFJ5h9KAPTMk80ZJNG7FANcJ1DhmlozxTSTSHceKdTFPNP7UhiH3pGxilPvRtBHSgBAAOlSLlkxTAKlUDFK4CjhcVHMm5TUvA60uNwqb2Y+hyV5B5M2KhT7tbmpWRlBkUVh4KZB7V1p3Rg1ZjsZpQtMDc1NjigFqSq+aswgEj1qtEuWrSt4V3D5aznKyNIq7NfTYWZh9K6OBSEArK09NoBAxxWzDuxXmVZanfTROqMvenEB02nr60J8w5p2DjFczkaNFEpGr7XGfep4QYuTytSPbiRcYwfWogHiXH3h602tCrlkOHWoniVyRikRkU4BqQvtXjrU6bgk0h9vbRxxlsYIqrK4LlW6GrH2gGIrWLf3JVxhsYq17z0Erp6lm6RduMVi3EIU8DFb6FbiNWxnNZ17CV3MeRW1KVnZmU9dTFk4YUK2KJwfve9MyAK6rGLZIWBWoGbbyKN4PAprEAYNO5I3zCTk0huNtMYjHFQsM0+W4rlxLsqasrfZAyaxtzA9alVuM9qTpKxSmzeF6DjJ7UjXnpWN9p7d6espYdaj2aNFUZpPcIR1qpLKCeOlVWY+tNDcc04wsKVS5IGJbihmHemBsHNRuc1qkjGTbIGQNVW4gHWrS5zTJ+RVpu5m9h+kwh7lE9a9a0q2EcEZ/uivJNMkMd/GQcc17Bprl7dD0BHNceKvzq5vSehogYqRGG7mowN3IbinLt61K2KsTEg9KTdtpmcc03flcmjmCxKxDc1C5GOKQyYHAqNmJX0pNlJC5+Wk61Hk4xmhWOetSNIG5qPgdqlxTTSKI+CelPA280nelY5GKLjIXODSkgxc018A80xjkcdKTY0Rs4wecYrEunnvJDHECMd61ZVBBGKdbQi3jLkDd61lezLMyK2vEjw7bay7+3mVWbzSRiujurlVByeK5PV9QHllVOK0ptylaw01FamXBkyncc1OxJ4FVrYE/P2NWuAOOtdrOKTuxoNO6imgU9euKQhuOaMZok46UiscdaAHYxRkEU1s0g96mwxxA6imHrTjjFAGaTQ0zI1dMw5rmSDurrdUXMJrlDkMRnvXbR+E5ay1GkEClDE8UpbikBArdIyDrS/w03cKQsfWiwWHj7tKKiBbPXipDwKVgRHK4xxVfeSeamcLjgVDjmqSC48nC5oBzTTkjFPQAdaYxNtIwwKV3w2BRuBbB9KAK7DJ/GnsvyU5wN/ApxIIxigCS2O5dlSkdqSHy0GcYNSKVJ5HNTILEZjOMioHDitEAY6VXmAzwKlMrlK0a5NXrfKDNVYFJmx2q8ikZHaqk7kkySkqaj83ANOTAbHaopQB0FKKtuMbNGHwFrqPCmhtPOrsuRmsrTNOe+ukRFJOeRXsGh6MllaIFQBupNc9erb3Ub0oX95mnpNqttCEUYrYAwtQQIFHSrA5rnjFLUucm9CJh8tZOpQh4GP93mteXgcVm3hzC646ilO1h03qZtiQEU1V1uLfA9S2JJcqBgA06/y0LgjNYRaudLPNFtGk1HaBzmt23nnsm2yA4qnAfK1TcRg5rfvYFuLcY+/jg1rVabsyIaFi2u9yg7uDS3sC3CZzXOLcyWrbJOQK04NQWVcbq55Jw1RurPYba3b2twEb7ldFFeJIgAPBrl7zG3OajsdRaJtjuTzQ07XRXKjfvfLwfU1y1zG0E5kVa6VdtyobrVW9tRt5UGnCb6hyoTTrxbmPy2PNOu7clSK5+K4bT70OThM9K6ZJ1u4lZDRJcrQ4y7nLXURgmweAant1XGd1WtYtPMQnuO9VLGymnxsJwOoro0lEwnB3NOKJQu4VfhsZsCSM0yyspRw6kgVuW8TDHy4xWLk07AkkhsFs7R/vlGacbJD/DVsK5celSjjqKpa7mdzONjCOhNNa1XIUDPNagjVu1KYFHPenyhzmSLNVZvlp3kKP4a0CBnHeo2Q0ODDnM54SfaqkytHwH4rVnCsuOc1k3ELdgSPWs5RHczbmVSpBOPesuSRQ3UmtW4txjkfhWfMFXhUANUrCZnTylh0xWdI2G65rSnRmHzGs6RUjODzW8GZPUrO3BqhK53VdmkQKcdaz2bdk11U0ZsZtqRF4pMHbUiDC+9ajSRXkT5s1ctjkYqErk81Jbna1IpaMdM2001Jt3FNmywNVkfy25o3E5NMuNOI+DTftKmqs8qFCx5NZrXD7GIY1ShcUqriX7m6UAhTzWczuxNNyWXJPNODEECtUrHNKVxoRs5PSpYo8mplTcMVIsYXpQ2SIVCioHkAPFSTOCOKrLG0je1FgFA81sVcgi8sZpkMOyQHFXWKhT8vSmJu40NinDDEGmKQw+7Sofm44pCJXU7x9KTOeKczFu/NMBx1NOwh+AFqIuF5FMebjrUJlBBzRshkjz8Zqk9yd3FNkmXdt7VA7DPFMCUXL55p/wBo45FVmbpikBIosBOJBuzimH72aUAkU8RFqdhNiq1JI7bhipUtZCehqY2TlgAtFguU5Gc4FKiyH1rXg0ppGG7getaNvoifxNQLmOeSGV+NpqzDp0jnla6yHSYIxliKsRW8UTZwGWmTznMQaUScFat/2UFYcV0KwxnL7RiopQpPy4zSYcxzc8CR8YqhcRBV4HWunlsPMOWwarTaQJEznFOwcxyywFuAMmpxZOV+6a6G20eOE+Y7AgVMVgQ4zRsHOc0NMm+8UOKuWmjFwWYY5rYe9iUbcDAqm+qKuQpxRcm7HfY4rcfMRxVSW5iiYlSOarXN+0gPzE1nuxdM46UilcmluW8tvrWc0xYc1Oz/AC4quVUtjFBeg1pCYzjrTV3mjY24kdKuQwFl6UDKaqQDTo87jmrDqF4xUWADmkA5Rwc0x89qlwCnFMZCRkdKAFEW7mmyJyB7U4Mw4BpxBJBNAEaw85pH9KlZivQ4FR9aBCN0pg6U5skU0DApjGEZNKFp23mnCgQq8ikxTkGKXBpAek7eM4pucGpA421AxJk6HFcB1Emc05RmkA+WnLwKAJQFFIcdqbtpRUlDetKp7UYpAOaQD84NPB4qI9akTpQA8DNLnFAwO9ISPWkNCTKDEVrnL60KSFgRj6V0pwRzVC8g3pkDNaQnYmaOZGVkxirSfMOlPmh2PkiljIGOK2b0uZrcnhhO7rWrax5YVXtUDGtaCD5hgVyVJG8I6mraYVBWpCRt6Vm28ZGM1qQgFRXDU3O2BYQqw4XFLjmljXAqRfvdOKwaKY0j5OlNO3Zt28VIzAtgdKAoNWthFC7tDjzIjgCqIvQp2ycGt5lzwPu1SvdHjuU3qdpoVpbj5mUJbqJVzvFc/fXiySYXJ5q1eaTcIxUMxX2qK10lnf5sk10Rpwir3E5t6G/pi7rRR3FJfIcHK8Vcs4DboARVm5iWSMcVipJyugadjirmAg8dM9KpTIVFdVdWagbuKxrm35J28etdUZ3MZQMcnbTCSec1ZkTHWoCo65ra6MRu0kU0qRU6Nxio5HGeKpAVZBjnFIrfL0qViDUeMnAFUSxARn3qRSe1IsQBzmn4C0mCHt0qI/exTww9aCATmpRVxNpI603aSakBxQG56UxEIQ0yWFiOKsFvalRWc+gp3sQ0Zyo0Uit6GvSPDGqPPEscnQe9cJcQkds81d0O+lsb4b2+SorQ543W5dJ2ep64AuQFPBqTbjpVezuYri0R1I5qwGINckWbDXB21EDxirB+ZahwAeaGAhJoHzc00U9eKTGiFuHpvQ1JIO9REgUFCMTSDcR1pokzS7s1LKFXIPPNIG56Um7HNR+ZzU3AGBJyTTW6UjscVAZiGx2qblpEgXLUyZm6dqkjfPNPwG61PUDAvi20nk1yl/C8jHsK9AubeLYeM1zWrRxpGSBiumhNRZNSDlqjJgULbY70qqc5zTYGDIeeKk4rovfU5bWA0gODSE03dQA5jmkK4FGaQHJoAc2MVHnngUrDPekBC0DFzkU9BxSAg07txUsEVNQTdD9a5KZMSsK7O4XMIzXJ3y7LlvSunDO6Ma66lBzg4pgbnFLL97io2O0ZrsRzD1BzUuw+tV/M5qzGdy5qWNiEYFBORT2Hy1HSQIiPJxUZ4OKfzv6GmnrzViG96BnPWnYpoHNA0MYFjmnIpL5zT93tTk65oGROMNzTVYbutSyY3eoqIbc9KaEyQklhg1OmSwqCIfNzVrcAwx6VMtxljPy4qB+TTWnGcZprvhck4qUtS7ktoQZzxVxiATVGy/12e1XnxtOetD3JIGkBfg1atYHuW2qpJrO8xfOwBmvUvAXhsOovJ0yp7EVNSagrlQjzOxseEPDP2WEXEyjf9K7GNNvAFWUiCKFUDb7UOnzcCuJxvqzo5raIFXinDik6CkByM9qZG7Ipn+XNZmoF1t9yDJPYVrNGGyMisyWcRSFGGRWcloawWphtK0DBgMetTR3AmUg85qxdWi3KnaRzzxWQyPaS7TkfWuaS5dTqilLcyNWsfKmEqcc+lX9Pm86EDA44q3eRrdWhIwSBWLpzGG5KM4UZ7mqcroUopO5Lf6eHJkA5rAcS28pxnFds+xlwXXn3rGvLONmyHX86cKqvZiszGNy0wxmq0hZPmqS6tXtmyrZHtVd7jKbW61tGOuhXPfRm3pOpAYjc4981vyyJLCMc15+hYNkE1vabqoI8tz09axqUuX3kXGTloM1S13ZPpUWmXjwMEZuCa3Z4knhBBB3Vz91atFOAoPWtINThYUtHzI31Q3eQBkU7T0NlfENgKaj0qRlUKQeehrQvrdREJPm3e1ZJfZKl3OlijidFK45FDQsoygz7CnacgayjO0hgO4q4F2rxjNXFaHI5FJN+MuuD6VIMHqtTnnk4zQAKtIm4wCP+6aGC+lOwBTWYAU3oIidFAJA5qMEFQcdae8meKgMhCtx06VN2CIbkgdAKzp5/kxwKnuJexPNZdwcgnNJodile3IwdvWsS5usnA4NXbnqfmH51jzj5+tUooLkVxO5Xk1lzSHJqzM/BrMuJPm4PaumnAzk9CGWU5NEXIqrIx3VPCTXTy2RmtywPu4oDZPSnADFIFwaRrZjyMrUe7FSnASqjk7uKYSVifIxzVG7dUXIPNJPc9gaz5t0jjnirjHUyqVLimVnGOcGgJmMr60pG0AAUbiOxrSxzNtiMNgC9alCfKDUZ5IJqX+ChgxUc54pGlYUwttGRyaciGXsaVgGhGY9aswJtHNSRxAdRinybUHBFMQZAOcgVBNdEkqozmom3ynYufwqWO2KcsD+NAEkErY2kc0+N8OVP1pn3H4FJvAkz7UgJy4BzVaSUkEionmO8gGo9xKnNNAK8pxVcuzHI4FSuDkcU9YgVpgVApMgNT/ZztzUiR7XyRVqFtxwRxSbApx2zO3pVpbH5h/hViPaDwKsJIocZxQ2wEh03fgEVoxaQigZxUQu1XAGPrUjXz5G05+lS2xF2KwjXsDUq2UZJPAxWYmoPtOTioRqsgLdTRdisb3lxooIxSmZFGAK57+1XYAc0f2gT3p3E4s3ZrrgECj7SGiziude/Yr1pr6mVixnmquxKJvyX4C4HA+tVo7vfLjOKxFvC65NTCcKQwouPkNtrlv71Ktz+7O485rIkvlC1B/aAKn1p3ZHKza81iCd3FUZ7gI2SQazjfMQfmwKo3F0zHg5pFKJdnuRgkZrNMpbc2e/SmtMSvJqsW4PPFMuxbVwV3UhlO3AquCVSlRt1A0KWpQhY5FWYbQzMABWtBpoRcMPemiHKxn2tnuXLU+XbFwOKszzLbkqpFZdxIZWPOKl3Y07jZDvbion54AqZVy3HNPWLJNAyCM7VwRU6KBEQe9OaMAdqChC0A3oVyArYqRsbOKicc9aZvO3FAxZOFxTFJz0pWbkUsbDPNABs29TTXODUj8niopOo+lMBc5FKB70wDPFSBDjPagBScdqd5g/u00jijFIR6Tik70+jAJrjZ0pCc44pyj1pQMClHNQxi5xxTTkHilbjk0qkHk1Nxobk0pPFBxn2pCR6UXGAOalXpTAAKcDgUXAU+9KADTCc0ZxUsCTGaaTgbSOKUGl6jmgDH1CJjJwPlrPYFa6SVA64YZrIvYPKOccVrGV9BMs6UckZro4E6MOlYOmqoxxXU2qr5YGK5K7szporQsQqTzVuH5TTEACjFTxrXE3dnSTc+tKhOSM0xV55qQYHAFIAAGDSEtnilIxTlNADkJbk08vzjHFCJxS4xxQIjeONl6ck037LDGNyrzUrYx0phOapARjJ5NI8q4xTuclAMkVWbkE7cGkBHcbWQ8ViXG8MUK8VtkZFVbmPcckc1UZWG0c1cQc1VaHFb08Ax92s2aLk44rqhUOecDNIxmqzE7qtycMQOtV3610JmTRFvzTlbimHA6CkDVVibku6kJ38VEzccGlRiO9OwXHinhsCod1OByuaRJJvpyNk1Fn5cmhG5oGWAtSIMGmg8U6Mgms9RsJF38VSlBQ9atTMyS9eMVTuCD2rSCJeh3/g7UvOtmhc5KdK7ESbkU4xXmvg4bbvC8Z616Qo+XBrhnHlm0dEXdXJQ3y1C4zTh19qR+RxSKIWO2mh93GaeQGqGRNgyODUsol5AxmoJOtN84qMnk0xpd3apcrDSHMV7UwNgmonk2npTGlJXcKlu6KSJfM4NRNJUHn47U0yg9qlvQomeb5apvcYbFEkq461VdkOTmpVyi4l8gO3PNTm7ULndXN3EgQllPNZs2qyocbsitVRciXNROpudRUIea5nU9QEuVB61TfUJ7gYANMS2eQ7pBn6100sN7N3bMpVVayJbUbY/rU9JtCqABijNaHPr1EGe9IQvWjNG3IoANw6CikEfzU5htFAxCKbt5p9KBxQAijFSr0qMmhSwPXipY1uJL80Zrl9Wj2uT7V1H8RHasXWYQVJA7VvRdmRVV0cyx5zUcvIpXyM/WmPnHWu442DAZ4qWOTbhTTDgU3cN3PWgZdDZWmjrUaSZwBUh4YYpCGHioyu45qZ8buBxS4G3gUDsQY4xSAYQ07aQ1OC8U7hYhA+bFSlQowaTA30fMx5OaGwjsMbFRjGakcDpUQAzTQx8XJqWQ7VqDO3GOKmkIZRn0pPcTIc7+fenSNvTbTAMNx0p2BQMuWmQvFTyFvLLGorUgLVhiDG+emDUdRjdEszearEhHBavoXRLVLKzjjToF5rxfwPbiXVtxXIUZHtXtVqxUYHTHNcWIneqkdVOFocxrI3FLu4qBHBFKXwvWk5XJURS3NKHXGB92oQSxxmpFj+XHaluN6DWf59y9Krtbxysd3erOzauKh2EUMadtjOmsXRyUfAHPFY+pCSWEh1+Yd66Zhwaxb11GRgVhNI3hK5zsOoGN9jDioL6FJ8ywHDAdKj1AYkJQYqnaXBjkO9qUU1qjoumrMgGp3EUnlyZ4pW1LPU1U1WZTKWTA+lY8t6E+tdMcOpK9jllVUWa1xf5HJrIurwAZXrVeW5aUcZqnIHbpmumGHSOedbsX7XUfmw5q/FcEHctc0QyjPerNneuG2sxxTnR0HCu72PRtKv0niCk/dq/d2qyxl4xk4rI8PaRLJp3nKDuJ4966WyinXMTw9eK86UVGVondCSkrsTRLVLuAwk7ZEPWt+20URSAzsXX0pmmaQbRzKfvMa3dw3KO1VCCvdmVWo9kMVFjGE6UMuRxTztHQ0i4PA6VdjEi28UmMVOQAenFIQvpQkFyAio2UVO6YPDVFJGxX5TmmJFV2CAmqskwVCankiZweaoXSBBhmwKmVrDKs8quNwrKu2IB5xmr05jjTC1k3kmR0qXqymjLnbGTmsyd+atXTbTnPHpWXPLk1rCNyGyC4fCGseSTc5FW7yYhSM1mB8knvXXTjoZyY5m3N9Ks2/WqajLVfgAHatHsENx4bBp+/5KglbaaY0wWInNTY05kiV5gqZNUbi6zxH1qCW6MilFNQRBt9aRjbc551NdB4y5zTtpLg04KVoZiBwaoyHhQx296Rl20xC+7cDzUkjgLz1pgREfPtpGc79tCsXbPf1qRIN0mCeTQSKqjGe9TxfJzTHjEfy5OaYsuJApORRuOxYklwKgBaWTA6VHvMj4B4qcYixjg0tAsWI0WIg96dcTAJVR588k81BJMW4JoESmfIJqu0+TimENjimLC27JqrICUHJyKdzS7CE4HNPSNz2NFguKOVzT4nAzn1pFgl7ZpwtJPQ07BcGcE05ZQtKllIzjINTfYDlvl6UhXRD5mOlSI2RlutWFsl44pxsyWGOlAFUsRyKctwy9qmaAr2pjRNleOtAET3RUciohcZBxU8tuWPIpn2ban3aLBcrpKeaEmO+pPszAdOtIls27pRYYwy5NNdhilaFgelBhJHSgVyJZSKf9rOMUxoyBUQj+bpQMX7U7HBppmYHim7CDQRTAkV2Y4PSmtUYZs8GnfMeposIG5FMC54qYgGLIXmpYIfmBK9qYN2K5BYYHarNrZOxzir1rpjyMW2YXNbYs0hgG1QGoIcxtlZRwR7m64qK6uQjnHQCi4usLjNZcsvmEigzSuUp5vMnLVCRuoZCGJA4zV20sXm5IpWNtEgt4cjdUyw7c+9XorTyoyCKrTNt6UmK5TkXDUO21KS4kAIxUJcuOtAyJ/v1Cn3zT5Sc8UzBHI60yhW/1gpB1pCDnJpRQA7dSE5NNLUgJNAiROGFSb/4KgBwc05Xy2e9IZIKdULMQ3BqTNAHpRFApCaVa4Ls6R3anAU3tRmkAAEjmgHjaKd34oYYGRSsAgHODSlRSDNLmiw7hmkJpBTtuTmgLjQDmnYpc8YopAgXrT6QCl70mMXisvUcscVpHgVSukDdacXZgxtjMAwWuqtDlBg1xSh45xgHH0rp9NuDjBPascRB3ujooS01OhiOR0q3HjFZ9rIGiOTzmrsbD1rgaOi5OMU7gjHekDr6U4AFsikmAzBDc9KAfXinkgttyKRkEnAOKYDw4x1o8znFQMrL05ojYk5NDAldj2FHI4xS9wcZpJJMNwKLgNL7eV61C2W5NP6009KV2BFntUUoBFSN1qKQ8UikU51GKz3iDOc1pSMCPumqsgHJAxWsZWJabMS5gUOSKzpV+bFbtxECCTWZJCNxrspzujCcbFB1AFQkelW5I+KrlcCuiLuc70IwOaUHmmk80+PBPNUTccACM0oPGMUp61PHGGXNIZCFLDFPSLBzU6oM1IEGM9vWlcCPYcYzUW1kl+9Vg9OKrTNg5pbjbFmbcc1WddzbcU4sW6VbtbF55BjnPpV25dRbmv4QikS6DN0r0lc7Qa5bQ9O8ohQQMd661FIQA9q4ptN3N46Kwzd2xQPl5PNOdcCmt0rNlDGI3YFNZSwIpAhDEmkJbaSPWkUmU5omUk54qlLI6ng1pSg7MsaozIDUSSKRTNzubk4pJJwBgOMVTuomB+XNZ8jyqp61MYNl7Go92qr1zVV74djWFcXTrnJNVGupGPGT9K3hh21qTKaRuS34A61Qn1E7vlJqkI5ZPvBh9RUq2PGS3NaqlGOrMpVW9ERGWa4bHIFSx2Qbl8mrMcYRcAc1JhselaXS2Iu2RqiL0UU8kkUYo4FQ9XcVxjLhaiJOelTkjFRMeaYDcHGaVScU8MNtMBoELg9c0p5HSjOBSb/agYgOe1PH3ajXrUmRigBu07utOLAcYo701jk8UmgQY5zVHUEEluw71odqrTrujYVUXZilqcRcJskK1Ft3cVdvk23JGKpjOeleinocjWpE3XFN281I45pwUbM0yREOMVMzZwarnjmnI2TzQNFjIPajpSHgU0k5pMY849KTIHakGSe9IaEITADZzSFwoPGaa1NxxQO4bstmmHGakK/LUZWncBknGKeG3LmomOTSg8Yp2EyQHLUE4pnOalVSRyKTGizbHip3bEbD1FVIWxVjO8gDk56Ura6gdZ4HRkLyjrwK9Qs7srhSckiuI8I2fl2DOVIz7V06Bojvrx6kv3rZ6sIWppM6OKcHjNTlsjrXNxPKpzk1q2DtK2GNEZ6mco2RoRc85qYORUe0L3FNL7a2TMWx8jd81BJOqjk0kky7TxzWFqGoLHGeamU0VGDvoaFxfqinB5+tcpqOokFjuqnfaydh2nmuemvZZyetTToTqPbQ0nUhTW+pcudQDZIOazWllkJKg1NDaEn5gTV1bbZgBTj6V6lHDKKszgqYly2Mc2dxKck/pUTaU+/5ufwrpkj2YJFPeEswO3ArqUUjBzbOeTTFVTnHHtVZ7IBunFdBIu3dxVUFPuOuOOpqbWFzHPTWg5xzWW0Jjcmuu8uJlZeM9qxry32k4FTIpPsejeBtQ+2adEkmE8v1713kUS9Qo571wXg7TymmKzjax6YrtVLwRqAS3FeNK3tG0enZ8qNAEKfmpOCc7qpLqDE7fLOfcUyS/APzRv+AquYnlNExkj/69CkIOazIrtl7SfiKn+2sV6D8aSqIOVl7cG5ppqkb11XO2oWvJ3Py4FP2iFylppFY8NUUswQHknjtUW92XhcGqkqXTA/NgUm7jSsM85kLHf+dUbq5icEyNT3tGbO6U5rPntxGpyc/Ws5NmisU76/Rm2xg/nWPc3UucZxV24EYYkcVlXDZY1pFEvYpzyluTzVGZvarEjc1QupdorphEyZl6hLzgGqAfAzUk772OSKgf5R1rsitDmctS3A2TnFW0lGcYrOhbC8VK0mwZJxQ0aRlYnu5wnbNZ0twXG0ZFNuZi545pkYLdqqMTOc2yWEAdetTLiMb+tRhcCpjGfJoM0OZwY9wH4UwqSAakCbFAPA96jkmAO0c0wJY9uMd6qzhi3FTIpA3VKY1IyaEBDDHgZqUTBG7A1HPIIyAtVpG3sD7UwLM0+/jIzUCfNJnNOWMFM0ImHzQBJCQpOaWRueTUOcGmtl2pWBjgCW+9SKpdsAVJHC2RgEmtew0/ecspFMRnxWzv/DWjBpTOu4j9K3LeyUL/AKs8e1a0FqpXgY4pktnOx6Nlen6VOukqjqvBz7dK6GCIDJZeBTz5e7dt60yLmAtjGDgr+lP+yR5wEzWrJ97hRTSUX0zSuVYzPsWwhtnGakFju3HAHFSyXQR8uRsBpranAN2DQKxX+wgHGQaclsnIbAxUbXw3ZHP0qrNeOzZwR2oCxalt4ipIwCKpyiNSvfFRyXB29ars5bvRYC1+6ZsbhUVwYsBQRVM5D55qNt27kGgdi4Xj49qRZY8/dqsVO3IBquS4bvRYLFqcKDVdpFQYK5pk0jEgc1ExJoKCSVcfdqNSM5xSHk0w5HY0AOlIXtUR5FScN1NAj3HihBciVMt1qQISeBVuGyZ2A2n8q3tN0RZOXGPrVWuS5pGTZ2Dzrt2EVuW+jrGgaQDI7YraS1it1+UAECq9xPg4JHSq5bGEp3ZG/lwRbVArLu7k9BSzTFieaqsN560hpEEzZHSqphZnyorTjsXkYZyBWlb6csOC2DS3LukjFt9Mdz82Bn1Fa0UC2qDoaszOiDgAYrOuLndxmjbcm7ZFNNnNZk7Zp883XBqk0u7PNSapEcp3OPao8nPFDvjmgOMZpFCbMdTmlAGMkims2e9MPI60xkjgbcA81FnFPx0OaY1ACgCl4ooyKBBikAwaD0pVoAaRk5zT9wpNo9aNo9aQz06jNIAacBXDc6QHJxTsYpAMGlxmkA5VxQzYpQeOaYyMcnNSkAm7mnDkVHGCDhuTUuQKAALin9qZuzS5NFgFxk80bRTSeKAaQxxOEpc8Z9qQ4IxUbtsHJ4qWNEc9xsFQI0ly2AtIytPJhTitzTrEIoPGaU5qK1NIRcgh0xHOSKtDSmV98Z+XHStKK3UDip448HGa5HVbOnkSM23EkZw3SraT7astAp4xmkNgrDOcVLaYyWKZWNWlYZrNMRi5U5p0NwR98Gs3HqVc0dgL7hTsbeahiuFK9qXzC5wDSuBJjK1HjFO+YL1prq7DCnFNoBd+KQyKetRbWPOelMYY60MBxemM5pu4HtSNwtIdhpY1C8mKezAjmq8hBNA+UjkYiq7ycHNSSSZYjNU5GJzzWkYktsjkcNkVSlxtNTucEms+4kIOAeK6IKxnMjlOBVVmyDUkjEjk1AxrpijmkQseaTzNtI/1pEieU4Ck1ukrambHxSljV+DdwBUVrpzq43VuWum72GwZFY1KkUy4QctSh5bDmnKCqFa6RdEeRQu3mmf2BOsuPKyKlTTG6bObcOF4Wqw3OSGQ16JD4Zhli5Ug08eD4FbcD+dHtY7h7Nnn9np89zMAsZ2njpXb6ZoBtirsMkdq37HRLe1QBYxkVoCJY+1ZTqORcYpFK2tFh5C1b3cVLgY4qNlHpWVimM3Zpjdak2gU1sdxUsZDu3UEYFRuwjPFNaRniJX86luxVhsvzDFUpWXOKscgAlsk1WmjB5FTL3kVFWM+4PzGsqf7prTnPU1lXTbV4pQ3LZi3ON3PrVq2giChiKo3LfvQPetFCPLArt6HM3qKVphGDUmflqJicUWuSIx4pu8nigEmlxinYBVOFpv3uKcKQYDcUWENIwMUmKkYVGeKQBimnrTx0po5amAHpTcGnHg8UA0gFRcCmscNTixxwab15NADl54pQozTRwaeQAMigBVB70yZc9KkB45qGR8HnpRca0OW1ePbPurJ3YNdDrSKxyBXOLkykHpXdTd0cs1ZgfmprjauKl245FRsdxrUzGjlKTpS9BxTGzmmMublYUnfioU461LuFQ1YB2cCm4yhoByeelSoFxjFILlXrSinFQO1JVBcD92oWqcgYqGT2phcgpRxzSUvaqC5Ig3NU7HatVonw+KtEDbkik0NEanLVsaPZNdX6ALkcVlxp5hXYOSa9O8I6KscSyvGNx5zWGIqKnH1NqMOaR0Nhai2tUiUYGOaubN3FWRDtjGeahQESe1eUk3uegpImihz1rQtUWJuKrw47095NnQ4qkrESdy4ZVJqtcXaJ3qnLcbT97FZVzdls55pNt6IlQW7Jb/VxArMGriNT1aSeQgOcGk1jUGlfyo2P4VDZWyuu6QZ5713YbD9ZHPWr8ukSFYnfBJJq3DZ45NXY4U8wAABcVbWEY4Ga9CMbLQ4G23dkEcGKnEfOKkKbelDHuOK11I0IlUMTntT1yxwelQqTvwO9SjPrTsTuyrMmc1Slhyn41flcY6YqqXU8FqmTuUjNnhKruHWqMgMkm01tyx7k4asVtw1OJB0LYIrCo/dZvSXvWPWvD1sF06P6V0Maf7INZOjxstnCBwMVsKCoFeRDXU9Co7OyB4R1CDNM8kd0FTjHXvSHBrSxndkJjQ9qY1ujc4qbAoNTylXZEsChemaaIwjZ2ipMkVGeTzSskF2N2DBNVZ5FCsfarLNhaz5ipJz0qZOyGtSpJICuRWJfTEA1pXMipkLxXP38/JG6ou2zRWM66uM1nSyZp1xJz1qhNNjoa6IJkNjJpMAmsS+u+cVZurvapyaw5pPNkNdtKBzzn0QhO85prn5aACOlIwNdJzjo22rmmzSlxigA4wKNvqKB6iKmasRJg0kKjvU6gbuKRNxAgMoz0qR5k27ai3YcknNQBS0hJGRSC5K8rSHFKkB3bjSooTlql88YpiBmVVwOtV5pHxxSPIC+RSZLUJDIxvk609flGCKnhXI6U/yctnHFUIamGTGKVkwKsRwFjgcCpvsbn+EtQBnpCz1LHbc8itS3sZAceUfyrRg0eZ2G2LC+pp2JckZEUG0gha37OBuDtq3HpkMABkIZvSrQkjjI2gAChJEuV9hkUEgVsmrMZMajJ7VQuNSWLgNxVVtVLsqquRQC1Np7mNflJxnmqb6lGjY61nFLi6mwoapV0a4LD5KVx8oxtRZ84qrJdyOxIJ6VpxaFNu2MNvvU40cQ/Kq7vU0IHoc4gmmkI5IqxFaOW5WuhtrEK3MYFWhaoP4RTEc3BYOTyuKfLpy55NdG8ChegqtJCB0FFxWRhLpiH1pzacisK2HQKBUMiAuKGx+hkvaxbcBajlslYJxV9o8SY7USjCr9aES2zPNsiEqR2qJrKPCmrcvMhzUUsiquD2oC7M6a0XzKpTQhGwK0ZZQ3I61UlywyeTSbNI3KDJzTvJytTCFnOBx71p2eky3DAAE00hOVjHjtXdgBGa29P0FpSGcY56V0lroqRYJUEitFbfau7GCOKqxm5mTHpscAGFy1WkiKrwAKtSkAj1qrOfvY7U1oQVp5cA1mTtvNXJyDDwPmqssRcjincXKVPsxYcVbt9PXq1XorYKuSKV+OM1LL6DBCFGfSopJ1XinSz7Vxmsm5m6809ibOQy8uhzg1lTTljRPIWc81V3Evgms27m0Y6DpD8tVQRg/WpXJI61BgdaC7DHB69qb0p7sduBQYzszQBGpyamRV70xYz6VJtx1pDHmNdvHWoWXFSAnOAacVBHvQBXNIBlc08rzQw28CmIaDxilFNUHfz0qTAoAjY5NLijGZPapMCkM9PIpOhxTqQ1wHQFOWo8804GgBW60NnjB4oPWg9KQDOsmRxxTsU1T81PzSGNUc9adnFNBoJ5oAU8ikLbVyRSbtoJPSsO+1YxTFF5HtQouT0B7HQMdyllU7fWsu5meR9q9PWrOieJrV4zb3aDDcA1Zm0rzZd9kVlQ8gKcmnbldmUtdSSwth5a5xu9a3YINqj5qx41ntcCSEr+FaFtOzdciuOspdTrpuJsRACrCIDziqcD7j1q3uIHBrmNGS7cc9KdgEVCGY+4qRD60XENKAjimEfIRgfWpm9ulJkYxxQNFZIlTOCc08ZXvSsoHOajY1LRSLEUuRgmpjKM8VSjTA608AjnNFgJmbJ4GBTTg9RTQ3Y01mosArRgDIqF+VqRJNwwTTWwDQUUJHK9VNRGQGr8oQrjFUSixsT1qk0hpXKjk5JqrISM1dlPtVKbnJraDuZyKkrkA5qjMcmrFwxwcVnyuc11Qjc55SYjvVZ3w2KR5CKs2Np57+Y/3emK3tZXMG9QtbVrgglflrYitkiACqAaljjEUYVFxWvpekvdyAuCB71jOoaRhcqWdi0437fl9cVtWKRW8iqV71tCxjitfLhAFZNwksD5VRgV59dy5ro66fLaxvoqAqVHarQ45wKy7K58yAEghq0UfK4p03czasyZWGzbinA4HPNQKalBGK2iZji5A4pu7ceaCcCmgZNDAXdg0pOe1RE807fii4wc4GcVAxJ7YqwXG2onANSwRUlGai3FVIHQ1LJmqsjlaymzRCseAfSqlxIQOKkeb5aqzSZFTcqxSnk46VlXjZWrtw2BWXcSZXFbQVwb0Mq4/1o+tXkfcoFULjAcNnvVqA7sY5rqasjme5bB4xUbDnFIzEU0ScZpIQ9RilqPzM/Sjd707iJDTRwc0pII4NNyPWmwFLY5xTGOe1OPSm7vapATOB60invimgEUE02A8nJppNAPNOGDRYAC5HWjGBS5waJDwAKQBinbhjFMzxTGYiiwEruEWs64uQflANOmm+U81mu5JJrSMLktiXzh4ScVgdJCcVtudykVlOgVjnj61009DGpqNY/LgCoBGwBzVgSKPSgyqelaXMyqVb0ppXHWp2kA7VEx3GmmwAjikBIOKew4pgHPNPcRMqk96kXI4pI8eoqQLzntUdQIGFIBxmpXUAZNIMBOSKYyEv2xUTH2qVl71E2KoRFjNKFJ+WgEZp6ttbnpVAQqpEuKuOf3YFVQ2ZastyoxzSZRt+FtNe91FR/AD6V7TYWiQwKoGMDFcT4I0zyYBIR8xr0SFMIM9a8ivUdSq10R3UockLsDFkDHamCEZq2oxSeXuNK1h8xTXKdaZNzyGq1JEWHAqE2xVNx6VOpVzNn3MQCCBXMa/qHk/uIW/eVu67qiWds2MbugFefxGS5unmkJJzxmuvD0Nbs561bSyLFvbMw3Sct61c8tolXbyDVpUXy8Ac0qAkhSOK9VRR5zbFhA6HrUpLoPlamqo3njHPWpJU+cAdKbVgTuEJMiks2Kbk7tvak24HBxSRuc4IpiLCw/xZFGO2KlX5kqIkq1O4rdStNEzdsis24gKPkHjFbO87SDVOZOCDyaljMrzwrbTmqtqon1eH2apryIgFh61BoKltajByfmrmr6QZ0UfjR7JpnFtGP7orTVuKp2sflwqPari9K8ynex3VPiYu6kJpcZpdvtVmY2kJxTuKY4BHWk1YoacMOtRuRjFOyEGTULyrUgRyt8tZtw+FPNWZ5CRWVdzBV+8PzrN6lxM68m2E81zl7chietX9SueuGH51zs8+c5NOELjbIJ5cnFZd5dqmRgnipLucIx+YfnWJPKZJuTxXoUoLqc8520Ell80H+VVlXq1PIw/HIpSMMB610pI59RFGaeY/cVFuAPBp4Jbmi4WG4w3TNO2E9qQvtHSnLKfSi4xyjB20mSr4HNEas4zg5q7FbDy8mggpBGzkmpxsXAI59adKFRSQRUAJZSe9NBYSVwWIHalC/us+tPjtWkkOATWpFpZdV7fWqQjHEJParMFoz/w1vJpIUrxkVqW2nIi/dp2uK5g2+mO3VcfhV6LSA3ykjPXOK30gBIAAFTtbKgBBBJosSZlppcCDDjNX1s7aMfcqUqsa5p2A68A07pCaZGSFIIRQPpRLdgLxgfSkl4XJORWdcyjbhRRzE8rG3Nyck5yaom4dgVXJNWBCZcYU5+laFnpQHzN1pWuUtDNi02WYqXBwa27bRII9u/73WtBI1VEGACKtgDGWFO1h7lWOOKLICjHrU4KE5BxTfkIOaYmC3HSpY9i1mMJuzk0FoyvGORVQOCSO1R+YTkD1pBcmYqgJ4NV3mFRuxyQTVWViO9NCJZLjPfFV2mOKiZC7ZJxTnQbRzTsS2JI7HFQvKQ2ac7HIGKhcetDYraA+S26o5XATJ7GonkYd6rSl2bk8YouKw2a4DE7Qc1VlcnAweae8e05B5pjKxKUFJELqduabFE7sFxnNXrexluDgAnnsK6fTNCWNQ8g59DT5R3MzTdF8wqzjA9MV0kFrFbYCLzVnakS4VelQl90vPApkE2UXtUE0oC4FJJ7GqsucVRAyZuQahY7s9s06T86aIy3tSGiv5WTipYoAgLHH0qRYyoJJqF3OcE0kwFkkweOlVJJMjOaJyQhOaou5CnJphZsZcS5OM1mXMwzjPaluJyGPNZczs7nmpbLjHQV3G/Oc0wH5s0wDByTTWfHSpNR/wDCaq7iWNWAfkqFV+fFOwDlXd2q0se5cUscYAzUudvakxFfy9ppkowM1M/TNV3OaQ0MJxzSAnPWkkPIxTQTTAkLDrimudxB6UinJ5pXXkUAKoyM0rDaM0sa0jA5wRQA1Dzux3xU3l+9RhcL+NT9qQHplNbHehiQaa3NcB0hwDRgGm4496UDFIYuc0c5x2pKM8UDsKVAGe9JTNxB5PFLnPSgQvShpERMtUdxOsKHJ5rDur95SVDHHpTjDm3G2W7rUByqnisScBnLHvTgSTyaUgMOa6IxSIk7lOWJ9oI+X6VYtNSvrBw0MzYHanbcjHamtHntVtJ7k6rY6iy8eoqhL228zjrWlb6/pN6dwm8k+hrgTFntULwNnisZUIMpVJI9et76zkXEd7GW+oqyksoG0OHHqK8ZQTocrIwPsauQ6tqNvgJcPx71jPCJ7GkcRLqewiUqPmyPepRdQ7eGGa8lXxPqhG03L4/CpE8SXi8tISawlgZN6Gv1ldUerLdRsPvCgTJnrXli+KrqP/loDU8XjOdchhWX1KqiliIHpzMrLgGmOvHWuEtPGwC/v179a2rLxLbXTDLDH1rKdGrH7JrCpF7M3fN2nFSh/lFUEnjlG4GpY51PesepqrsusD19qiYHZThOpXrUTTfIeat6AhhbaaGlzUDzDvULSHqDxUNFlkuCagkYZqF7gAe9RGTd3pqLGOlOBVGZ+tWJXyOtUpWABz1rogncyk9CjO3UiqUmD1q1O45qg8gJNd0EckiJIzK4BrobOFY4guOetZGmxNKwY8+1drpmll4jJIvPYGs607aChC+47S9MN0wZhhRXV29ukUQRRj3qvaxLDboq4HqBV5cFea5Yu7udEtFoOCALiqlzYrKrdc1eXBPSpFwOgq5RTVjPmszlsy2bYAJGelatpfLIwB4NXLi1DgkAc1hT201rKXBNck6bp6xOhSU9zoSynpQKx7TUNx2uefetVH3AY5rWE09zKcWmSluKYG5pZPYYFQ7ueK0ZBKxUdKbnjFMLDtQrZ5qW9Ckh2/BxSFs0043ZqIuc8GobGkEp4qlMeDVxzleapS1DLRQZmDnPTFQu/wAhqe54PFZtxIUGAaSjcorTvkGsu4zk1blkJYjNU5HyCK6qasZyZkXjNtOPWo7e9eI1anTfmqZhCnmuuNmrMwbZqR3sc/B4qZlUphDkVirGQeKuW8zQj5icVDhbYLskMpjbaelTrIHWnPBFcQ7+B71nv5sDYXLLQknoJprU0A+OKcMde9U47hZD6Gpy2D96psK5IWO/HakJzTMnqTS7qAJKacZ5pN9H3uaBigAmncCkAA5pDikAMeaKQ80oximAvaq0sm01Kz4FUpnyelOO4mQyNmoMZBp7Z9ajL7RjNbohkbjArLv1wM1pl85zVG9AaOtIaMiWqM+nIBnNCgGlIx0rYysMkxvpi9aU43ZPWlA7ikIkpCM80EHtSqDjn1oAaTt/OrHmfJUEqjIFLkBaAHSvmIUyT/VrTMkjB6UPnb14oAf/AMs6hdd1ODkrih2wvHWmBCUw1JIccU/eDTXG45qgGIvINammWxuriOP/AGqzACDxXXeD7QXOoxnbwDzWVWXJBs0pxvJHqnh+zWCBRt7V0YX5flAqhpqfuhWls4zjNeRDU7pkP7/d8qg1Iu/+MYpyqxX8akRclh6VqlqZ30Dyh3qhqt3DYWbyyEbQM49a0GchcnkV5t4v1h7y5+xxP+7Xrj1roo0ubcyq1GtjCv76TUrl5f4M/KKksrfHJotbUbM9R3q6i7BwK9GMehxuVyWNdr4qTYecUkeN3I5q7HASCc9qokpKr7/apWYKvNT7CAOar3KpjrzVJktsiB3DNCjOTVfzChwDipo92M5qyLliMsyle1SMBjce1RxyhDSs4YY7UWKTGkiq04ycj0p75zwaYwLCpegWvqZVy3yke9XfCdj52sh9v3ar3MeMkiuk8CwMbmSQiuHFu0fU68MryO7VcYqU0bfWl4rhjodUtRy9afUWeeDQ0m0VSZPKBGKacU0y1DK7YyDik2VYexU8VTmdFNNmkdehrNubk/jUyehUYsfc3KqMZrn9SnG04qW6uc/xVi31xuGM9qyjdmjSRl30+QcVhXN0FPNadw+cnNcxqUp8wgGu6jC+5hVlYr3Vz5rVATv4qLBpy5BrtSsjkbuSFdqj60MpaUVIPm4NWhGu0NgZpXAzvKw5pNrAnFXtikE45qJF+c5HFFxlbYzcVPHC2KmKqDwKfu2ii4rEkMaxrk1FPc4+VOlRSTORjcagQFuacSWOG6U4q5Bbcc0yEBWHFXUcbgAKoRbs0RGHFayEEgBaz7OEyOPSugt7baBgU0JiRQEgE9KvJEAtPSIBRkVI6qMbRgVRI0hRHwKQjdg4pWcBelVvtDEnnijlFclJA4IyKZIxA+U4qPzC4OOtSrbSzLypHvRyqwJsglJZQqjrTlsgygla0Y7WNB8zVMqLggNQlYbK0NpEq4A+ap1iCUuwxybscYoL5/hotbUT10HLsJ+brUrEbMVXUKxyRzUmR0OMVLZSQ3jB4zUS9Dg4qwnl54JzjpUDbWcrg0hiREYORTHIUgqO9Cy8EYqF5iFPbmgTZBJNmZuKryPmnO+7JzzVd3ANX0IbGyXQU4zQZyQMDNZs7fvOanjuFVcVCbDdlkNg7iajeVW4qtLLkZU4qq0jZ4ehDZLKCTnNMLZXGc1WknKpkmo1nLDKnFVuJEzHe2KtWWmz3Mw4OKfpunPdSqQMg121jZrbQg+WA3rSQ2V9M0yO2TLDmrruI8gCnTMDC2DhqqCTbDlzmmpO4cug1mZ1YhqgQMXwTThwjOOKiIZDv3U22ydCSSQDgVUkdm4o3HPJprPg8UK5N0LjkCpcqBzUW7uaikfPencAklqrJJzupxORzVO4fanBosiRJ5tyEVm3c21amkkAXk1l30u4MFNS2aRj1KUszM5qFCSST60jORznmo1lOfWlY1SHM3zVGxpz5znFCpv7U0AIrOuKu29ryCw5q1a2YEQyOatBAv4UEtlOUBVwBVNpPmxVq6k5IFUXx1HWkwJHbMdVpDwKkzkYqOUHcPpSLQjDpTRwhpQT3NMU5bB6UwGbvnFWSocAk9qhCrnpSyHkD2oAkyE5Bp2dzCq4UZyRUqZB60CHnrUnamYFLmkB6WxyaB1zQabnFeeddkO4zmmswFB5pCue9HQQbhSH1oC+9I5CrkkYo3GKQCtVp7gQ+9VrnUFQEKw6+tZct00rda0jTbZLdiSa4eY8nioCoLZxSISTzT24NbWtsK4wjBzSU4kYphPNMQ4EGlJA4xTQtBHNAxDj0ppxnpTjxTe9AhxjxTDGD1qZhTO1JDsiIxL2zmo2g561ZUZahk56Uw5Sr5A7AUeQMZqztoK8UXCyKUsQ2+2ajjmngfdG5FXHXIwagZBmncTjroammeKrq3kAuPmWuxsfE+m3CAPJsk/uk15y0KvTFh2OSvHvWE8NCfkaQq1IbM9jhuoJ0zDIpP1oaTaMNke+K8jgv7m0bck0gIrUi8ZajGgVmEoHYiuWeAfRm0cV3PQnZWO4MMUBldeOlcbaeKo7qUC5HlH1HSujgm89QYJo5F/2WBrnnh5xZ0wrwmWHCk4zzVWVyp4NNuJZIzhlwaqvNnqaI031KlJdCV5jVSaXrSuxIyOlUppOtdMIdTGTI55vlPWqJJZwB3pZpM8Z71FFcIl4gZgFHcmuhaK5zS3PQPDGjCO1E86j2FdFCxdm2LgDjNc/Ya5Z3GxElUbe26t2C4VsjGM88V5kpycnzI6UtNC1GxDfMKuxSbhisS7u1hdQjZPerdpciRQQwz9amO5TXc2E571JyFqpE+anMgx1rdarUzaJgxK81FNGsowwzSeZxShs96LLYWq1RgXlq8Uu5BtAp9pqG1thbpW1IqTAq2KwL7T/ACGLxn8q5Z03F3R0xkpKzNmK43oSWyKUHByTxWJBdGJcGr0F9HcfLkfnThUvoxShYuHFKD8uKhDhuhBp2cVbaexmkx5OFqFXBanlsDmoy6A9KzYx7uoXGKqSfNyKccnrTG4GKV+5aKNxk9KyL1WrakGc4NZd4jE8c1URmNKCrZJzVR1JY1euBzVbgNzXVHYyluQpB5nWoLq02jitW3UEVLNbB16U1PUSjoc8CoOKe0YZcA1JNalZRUnlbWHpitOYizK8cjLiNs7av7VMYxj8aiMSkcVEGYNg8CpfvbFK6K8tq6AlDVT7RLE+1sn3rdiZJE5xmqdxbIxLcVcJp6MiUOxVjvRnDZqykyv0rMnh25INVTdvBxzWip3MbtOzN8vinI+R1xWamoxsmSR+dVZdZSMkAj86j2Um7IpzSN/eByWpdynoa5f+3uTwSKfbeIFMmHUge9DoVF0EqiOl3Y7Ubht9KoreqwyGBH1pkuoxIMF1z9ajlm+hVyzNINpwapvNg+tUpdUjzjcPzqI38TfxD860VOQnJFl3IJBqs8w5JNUZ9S3McGqD3TsD1rojSZlKZteevrUUzq6YrG+0v7043Lkd6v2bJ5i0vrmkZwTiqxlINPVsmqsSPK8ZpVqTblaNuOtTcLCqPmxStwaF+/SkZNFxWGN8zA0ySpcYprD1poREtJJ021LtApGQMM0ARqv7vHeo2VqnKFUyKZhvWmMh27TzT8DpStHxnNMTrVBYf5fevRvAli3ktKByelefKpIGK9g8HQeTp0PHLda4sdK0Ldzpw0bu52NshjiwOtWonbYfWm25BXFP4Rif0riirbG8tWKsmF+Y96VDgls5zUJO4E9qrT34t1JIOB3q0m9iGZ/ibWGsrFlj4Z+AM9K8+hiNxOJZCSc81c1bUm1W+PzfKOgp9vAyAcYr06MeVanDUk2yQgou1QAppypxk0PuB5p4cYx3re6MxVIB+7n3qdZWUHuDVHDlvlbHtVqMjy8HrmmImWYFcEVUuWQd6mdMR5zis27DetUokuViJn3TACry8KOazbVwJcEitEgDnNUpakSj1Hnp0qMyEUofJxUMrYNNsSiKZDj1qMTFTjNG7YuKrshJyKhlodLJk8nIrsPBjIsEmBg+tcWyEISa6DwzcmKNxnBPSuHG/AdmE1k0d6LgM20VKMnvWLZTM8uTmteMkjmvPhK9zslG2hIc4oYfLzTscU1yMda0RI3bkUx1G3GeaXeMdajMgA5GTUgVrlGUZxxXPXhk3EjpW/cvJMdmCB61m3VuVjqXG5pB2Ry9yWVCSaw7qbrzXQ6gnyEdK5S+yimtacBTfcpXk4jiPrXOSOJZjmrN9cOX24NUAfmya74QSRxznzaCcZpRjOKi3c04HnNasglzg9asLJlcVS3/ADdeKlZiqZFIC2jKByaikkVTxVeMk96R1J96QFoNnFNcluBTo0woJo280ITYhjzT0h2r1FNDfN1qY5wBTSsSyMcMAOa2tOsWlIcioLDTmndTtP5V2Njpvkwg1QgtdPjiwSKvBEUgCrBVdowpqA/e+6atLQm4+QKq4zzVYzARNkUtzIRjANUXcn5RQImd2ZOKW1tZJQc8ZPeo4o3cg84rYTCKoAHT1pDWwlvYLF9/BqyHA+UDiogxY84H40jvsHFCQEbM27tS+/fFRuxZhwalK4x9KGMQu7N14xQpJPSnKmT0qRMKelJydgUVciROCd1RsoJ3c8cVYkdlOAoNJsY8suKkojEu1cheaGl4yFGaJV2imHBHBo2EVlfBINVrh8ginT5LkjtVCSZixBBppkMVuEPzc1XZwGweabKX96rnd5nNNsVrjLo85Ck1WklymcY7VO1xjK7c1TueUyKLghGZ9md1V/NcnFRyXDKmCDUMdxl+RQUizKx2Y61o6Ppr3cgGPlzVK0T7RMqjnntXe6XbpawLtAyeafoK5f06ySzRfk5HerVxKR8oqN7j5eMVSkugcnIyKaiwbSQ95FXdnnNVZJlKYA4qtNfLg1VN4pUmm0RcvNOCu1elVXuCDgniqpu1wSDVSSfc2c0hGkzkjg0wSlVP1qss2Vxmm+Z709bE3LRlcjrxTMk/xYqNHG3OaRm3dDSHckJAXrWfdSgHFTTthOGFY08/PWhiirjrp/lyDWQ8hEjE85qzcynZ1rOZ8t1qbG0VoMkYZ60xW2mmvyetPSMlxTKHIWdvb0rTsrQsc0lnaDGSK0UYQDpikS2PY+VVV5CAWPT0qSWXcarTvlODRcCpM4clqrg96Vn6gmowfkNA0KrYNJK43DjtTATSPk9qRQ5fmHHFRD5XqWMgDk1EeX45pgOFBG5s0tJ3oAftyuKd0GKbyBT1GetAh46UUu33o2UgPSRS8d6j30u4HrXAdQ/ijioywxVaa7VOAeaErgOubhYhWTc6kzAqvSobu4eU4DHFUSCDjNbRhYhyHOS+SaWJeaVB61KoUdqsW4L1pzDigYpCaLljSuVpu2nnpSUBYBS4+aoySO9LuO3rzTJFbk4oC0i5JyafSKQp5FNIp1LjIpDI14OaUtSkU0igBM03d81K3FMzzmmIV+ahZMmpGPFNzTAYF20nVs08nNC7c8ii9iSBxvOKjMYFWnCg8DmoyoPammSV5FG0EVYt765tiDC7Lj0qHBxjtS7QV5oaT3Gi9L4kvyoV3B56mrNn4o2yAXEO4etYjoOwqJl9al04PoNTktj0GE2d/EXt7oKf7pNZt0JInKblb3FcerSRnKOy/Q1YS7udmDKxrNUWupTqNmpKZCTyKpSxux+8KrmaV+C5qNmk/vGtVF3JcrjxPNaz745TivU/D+pO+lws5LPjrXlGMcH1r0bw9fWcenxq0iq4425rkxsfdTS1N8NL3tToSGuSQBhj3p0SzWp2REs3rSWkqy9D16EVtRQxqgJbn1rzYPU7ZNMktrrzIxu+U+lXRIpxzWZLGGOVyR6003CqQpbn1NU5akctzXLDbwaar4P3qoiUcYanGQY4PNWncmxoCUUkhjlTaRzWb5+FzmpY5xgEnmjfcdrbFe5087WYGsjY1sSVY5rpBKH4z1qjc2e7JTArBw10NYyTWpXs9TV2Ctwa1hJkZzmubnsvLbzFO3HYVPaapyI3PTvRcTizdZsjGagdSTwaaJBIAVPFKTtHBqlYmw/PrTHx2pAxPWlK/LxSdikVX71WkTdVxozk56VEU5qU7bDMGeBvMNUnt23V0EsW7nHNVmt+eRWkalhOFyhBAVwTWgsOVpBEc4FWI1YDBNRKV2WoqxlXduCNwWsqTpXSXC/KR2rGuYMOTjit6c9DOUSvAu4YpssXNPjyj8cCp3AdeBzV3sS9UZ1tE3nbc1PdWkiLx0oKNDMGFa0JF1EPyxSnNqV+gKKOWeBipJrOntsmuuu7HYDxx6Vj3Fvg/drpp1UzCdM5toig21BLZsVLYrZngwckVFxt2sMiulT7HO4nPPGUFREGti5twclV4rLZHDkVtGVzJxsAuZY+PMNRySSPzvNBG889aY4INNJCuxCsm4EtThuHegKSvvTgnrVDQwA07608DA56009aAsCjBzSN1pQcdaRuelAWH4puSGpxOBUZfJx3pWGWBcEDFK0pYVV3YOD1pwk460uVCuXN5xTlc7qiQk96mjHz81EtBEnJakkXIp/8YFOIBqUFyGRcCqzlgeDxVtwSvWqpU7uaaAbufZ1phZqm2/LxUL7getWmAbyy1GCQ1Sopx1pMdc0wuye1YyTInvXunhmFUsICfSvEdHi8zUIgRn5q960WDFrEoGABXn413aR14bqzeRVA4prtgdOfWlB2DGKSQ5T6c1zrQ0e5FjbyTxXM+LNRW3t/KiPzNW9NOojZ84C159q0xvr8uDlVPSuihDmmY1JpIr2lumdx61ob8DPpUEEIQZfmnTN8nynFeicY15c96Y28OCDSAKcZ5qQAU0iWyQKwO6nYbANAkAXB6U3cScZ4q72ETsSANx4rNvW9KvFhIvyjp2qjcLy27gCqTuiWrO5lwyYlrXRi4HpWICFm9s1twOvljAqbalMsKAoP0qrOR8tOEjEnvUDgseTinLUSaILmcpUVvd+Y2KbqBBHFZ0MnlyjBoYWNyQ7hitDQZQt6iP0rJjlEgx3xU0UxgnSQHBHeuevT54M2oT5Zo9KiiVHBQ8VfMiqoG7muf069WaFTvye9aAw8m4vx6V5EbJ2PTmuppxSNnk/LTnkQ9apGbaMDpVZpGDZZiRV3J5WXJJVHSoPtHNVJJ/mwBUKzEt0rO5rys1N+4VTujuGKFkk3DrilkjdhnFN3FazOa1JcseK5e+hLE8V3d7bZbpXOX9pgnC1dOdmKUUzz7UrRlO4Csh1K9a7S/tt2QVzXL3UBEpBHFejSmmcNSPLqjPK4pygGM59alkVewpFVcdK2uZ3GCMbKlK4QUp2qnSmPICMCkFxYkp+MNSI2KkGGegLjj9yoyxqRwegpYoHc+tIGRRQvJIABXQ2GkvMVDKam03SGJViuK7SwsooI1ZsZqiStY6ZHaxDK84rSiVAhyvFTOUdOFqLk/IenpVktDHIUYFQlgilm61K5G7AXPvVOcEttJqiSKZvNzg1WQb32gYPrUxQgGpreDzFLgdKQEsEOEqcpjFPVSAAOBTpFIFBRXLYqIzZbFDNhuTTVi3NkCk2EUT56VPGA45NRyIQgO2liHzDIqbgkWFCo+M1G5CqTTZUIfcppSFkTbjmlcbQ0uhIIJp5mAi5PenJEsY+YA0yZU2HIFJsexBLMNvrUOe4OKjLfPilYjIB6UIlsibHQ1WniXqKsOVxzVSaXnHaiwMhlAAFU5CtF1OQ4HaqUlyAeTVaEibk8w1DMVI4qG4lVWyvFRNIXwFHNA0hJ0DDFQxWjSPgCtGGzkcAspNbWmaVmUMV4poGTaFo6RR+ay810KAKOlLGqxIEAwPSpeCuAOKeyIWrIChUE561kT7wxIraKkn1qpPCeflqou24Sjc56YuDiq8m5YzWrPDz92oJINycii5LVjJR25BqKWXaF+tXJY/LyccVQmUMelAEguMLxUf2s9zioXcKWAHaqMtwAeetS2ylG5txXJIxmp1nNc/b3YDjmteKRXQY60rsTjYlnb92awZ5MPWpczbEOTWJLKruaHqVBWQksmSBVM8uallbnimKMv0plDShbpWzp1gZV3OOBUFnZGRwe3pXRRIIotqjFMictCr5AjBC1WuHLOFq5LJtBwazZ5QGznmpYop7hM21aoSTGnTXQZOvNVGfig0SGu4JPrSof3LVEcZzT87YiPWgYganbs8VGBT1x170DFCZ4pEG16eDzx1ppODmgQzOTTwKYOtPHSi4x4NOFMHWn0ASCnVGDwtS0hHoWymONp609jgcVTuJtoOTiuDqdIlzcCOPPXmseWYyMeafPOWJB6VUyd1bwiiWOYUzBz0zT2zSKCe9WLcVfpS4NOQc8kUrY9aQxoNBp4WggUiiPNBNOxzSFfamA0rmmn5eKkqJ/vCmJEi8cUuaTuKWpbGOyKXcAOlRZNIW4poLjzIDximFqiLYOaaZPenYVyVmqPdzUJl9TSbwe9AXJ85pCRURfAphkNMOYlzSZ5zUYf3pdwx1oEPPrRURekEg9RQIe30pB0xTTJTWfjNMLjiQGpjAGmZJ5waOfQ0xXQpAoABpWQ4pgBB6GhAOzg05HUnBFREMW6GnbMCgB0uPMYjnPamo8qEMrsCKNpU8808tntQBs6d4lurSRQzFlHau80zxLHfKvPPpmvKNoHJq3Z3T2zZjYrXJWw0Jarc2jWa3PX11b5tiMMVWurgTMF8wCuM0/VDJgk81qPeLuXnmuP2PLodUZpo6KG98lNpbIFSx36seuK5iO7Bc5cY+tPe7CD5Tn6VLpMalY6lblWXGaX7QM/erlI9UwwB4q8t15i7ww/Op5GtR8yZ0i3Hygg1MLrIxmucivtvBOasreBqloo1Z9ksZz1rHlgw2QcCra3Kgc9KHKyrlajlLjLuV4r825EbE7fXNacV4kiDBzXP3kYL4IqKO4kiOFDY+lHJdXQPU61HB71IDuOAax7W+STjIzWgr8ZqGBOx520zgGmLJualyKQDJMY4WoNmeoqxnFIzDFMZX2c8Ck71Lu56U0LuNTILkEq5HSqNxAWBGPxrUPPao2QHtTjKw7HOSxFBjNLEwHBrQu7YAE1lPhG6iumLuiJKxMwVxRBIbeTH8PWnQgMeQasyWweP5RScl8LCwskwlXOOKy7nByQtTvIbcEMDiovPjZDkU4xaehDM24h3DIrOkTbwRW44wtUJlUk5wD712QkYyiin5QeDAGTWTd23ltuNbcTBJcHpiob+FZRkYrWMrOxjKJzTxFRkCocbyc8YrSwCpBGD6VRlG05xxXSmc7Q2PAHSnfePHFNPbHI9qdwBTuCK7Ft+M07+HJPtSsv7ylKHy/xqhjeKa4PUGg8d6QHJ5oAXORShePekAPpTqBMawwue9QkkGpmwRUZGTxQIljmIIzV6BwzZrLOQ1WLeXD8nFS43A0w2Xp5OBVWN8tnNWEOevArO1hMYcjjNMKdyacc7uhoahDIywA6VE2GqRgKTbVAR9Ezmmpzmhh8uAacgA79qoDY8Mx+Zq0Q969106N1iTHpivFvBsBm1aIqMgHkivdLVCkScivLxetRI7KGkGSxCQKd5zQeFO45qZgSvBqlM5iOGFQkVfqYXiO9S2tykZ5bsK5SBCqsx5J7Ve1eQXWoMN3C+9VmIRQw7dq9ShDlRw15tjnOR97FVJJMcZpZZQF5BrPeXc2Qa20MUy6khZx9KtDIGao2rEt07VdRyT0poGOmUyRjYcGljJBUHnik+6tNaTABp2DmLQ4lUqMD0qnqWBuBqaOVjyATVa+Bkjc4OaAbVjnp3Al++OK0bKcsoUNmsq6gwWPNS6W5U4PSgHsbSzMj4PNSqBI3JqqCC+c8VFHc4uthOPQUXBInvYAUOKw2QpLk810dyP3fNYkyDJNMCS2fLjHFWpATGwzye9Z0TbXq6H3DrUyQ1oaOg6k0cphYk56HNdUl2QAcmvNxMbadXBxzXbWL+dbI24HIryMTScJ3XU9bC1OeNmb0d1vjyT+FRm5LNjtVSONh3qdICea5tTpcUIZWzuNS25LP1pTDuTpU1rCEPTJpoTaNCJRtBxUzAjgYqvFMu/ZjBq0zcitEYSeplXMbMScYrGu4QyEmugu2JGBWPdJ8vWpbtsUnc5LUIcE8Vy+oW3zEjFdtfoGU4Fc5fRA10UZ2MaiTOMkBDc03d7Vbv4tj9KqAV6CZxNCMcrimoOeamCAjngUzZg8GqQh61InDjikRc9KtRRZ5IosA5I/MYVp2dtlgMDmoIlVRnrxWrpls9xMmw0WE2bdip4XINbccOFG7moLTTxFgk1dZ1HGRVsmw8BVQDtmoJziddvSmyP8v3qqvMQcmhDHSuyElWGKpPITJuqRm3d6aIGY8AmmTYTJkPFX7WMqAucA0W9sowWFWSURhgUFbEjBUGO9Up5CuRTpg7vndgVWkLbsHmkIi2PI2QcVpW0Hy81FDH+7ziravtWpbKihsykpwRUAbDAHrU5O5aglXDA+1IHoNlY9AaQTKgBxyajZsEnPaq+4uyiiwrlkXROd2TUEkrt0zijzWwcKKiaY7STgUBcdkY560x2G4YPFQPdKFPrUX2hcbfXvUtMCWU4U1l3E5RulW3n+XFZdy4Y9aq5KVyrdXGWBNZk8/PANT3YIbIOapMCxxT3K2JIg8zAYNb+l6WZGyw6e1M0bTTKwLDA967C3tEtUzwTSuBUhtIwuAnI7VaSFkTCDB9alRV8zOQD6VZiXnnAHvV3SM2rkaxlsE1ISOABT+/tSsqhOCCaltlpERIA461FO2VqZYxjJIqCWNt3Q4oEzMugy1Tbd3rWmVW46ms6dhG2KtbEyRUdA4wVqlcW3oMVdM4DVXuLkAU0zJtmLKnzNlTWRd4DdOlbV1cgtgCsO8bcTUvc2gn1I7aQGUDFbdu4RQa56AhXBzWqkh8sYpDkht7c7iRWYWy2RT5mJlOTUYHX0oQ0PVd5FaFtaF3FR2cBkZQATXVWlkiIrEU+hMnZkNpZhRnpUs7IinHarE8iRoQCBWHeXJAODSI3Ibi5AzxWXcT5PemyzksarO2aDRIBnHJprnOMdqUHikUZBNBQwnIxUsg4FRuMClc9KYDzwKRTQeRSKcNSEPVuelIxzSAdTS5oAQVIBUQzmnZ5oGShfelVucYpEbnk0q430AP7DjpS+b/smlB4pufakI9Anm8uM1z91dtJKQOgq9f3O4EKeKxmJDHmuaEDaUiYMXGTTgKZEflxUlaWsIG6UiinEZpBxUlDgKXZmgUuTQAUlLRQUJjNHSlHWkagBhqJuop5JzTG+8KCSb0pwpOOKWkyxNuaYyVJnFNJyadxELpkYqBo8VcI4qJhTTFYotHUZypxVxl9qiMe5vaqJsQBiTilbpSPiOT2pXYbeBVE3EzSFscU3d7U1gSMigZJmmrH82adCufvc1NgDtSuK1wWGnmAY5qRWHapBycGi5XKiv5QVaTYKkm+X6VXZzSAsHYVqLC9qaFYHrxUgQHoKAGMoxxUTHFWhGKiaMA8immFiEg0Dgc1MBxzUMoIXIoEJu5xRmmID3p2KYFiG6eOQEdKvPqLuwIPGKy+i8UxJNvB9ahxT1RSk0bkd2c8mrC3pIxWJDKN1XI2B6Gs5QW5cZmlvd2yKu28sqgA5xVW3IU9avxyKc1hJmkb7l2KTIGetXI34rLgcMDg81aSXaOTXPKNzeLNISZSpo5CmD2qjE4YYzVhT8vJ4rKxdyd1E3Peq0ibDU0UgDYFLIA1Q20WmUlfym3LWjbahvGGPNZrRMvWm/d5BwaOVFHQR3A25qZJN9Y1vPxtar8UoxwalqxNi6W5pTgjmod3ygnk07cCKljHcChTzTcik3Y6VNhjnHpUXOeafvpGYEZxzSBFadQwIIrDvIdrZC1vE7mxVW6izHnFaU5WYNX0KNqMkVpKuPlrPjUxzDBwtaS9iac97oaRXu7NZIzxk1hyRmJyGXiusAUiqV5YrMOKqFS2jInG5gY31FNbqOSueKuNC1u2GFNkdycBMjFdCdnoZJXRiXC/KQi4NUll3tsatqdDycYNYc0ZilLYrrg1IwmrFS4h2ndWfdJiLNbd5tMIwKzr1FFoDjmtoSMJIzIzhKXOaPlCgYpucVsiBpbmpPM+TFRkUuPkzTEyM8tminAetAAzQIdnNJ3P0oxQRxQAxRnNCjBpRwTRGctzQAx/9ZQPWnuBnNN2n8KYFiB+gq6G3Lis6Ngp6Vdtm3NyKzkgSJeaQ5IqykYYUGIipuhpMphPm56VHISp4qxIcKR3qvyTyKpCGBeKFGM+9SheOlBT/AGaYHd/Du0CEytgDNer2MhkQ/MMA15z4GjH2YJnBPNemWyJDEAuOeteNUles7nfFWposSELGSK53V9SWG3ck/NjityaUBWyOMV574jvBLciFOta01zS5SZO0blJW85jIepPNEnAqW3iEacioLmQA16ieljz2indvtGM5qnH83OMUksu5qkj+aqRNi1Afm/CrcIJHWqSYRsnpVyE8fKKZLRK1Rvt8rnrmkaXnFMnyEzmr6CXmW7U/JUF2W2HFLYPujIzzT7jpipi7ltHN3hZeDVe1fDY96v3qhgSRWUjhJ8dqpiWxvJgpk1nvk6gjDtVyFwyde1U0/wCPzr0pPYUbpm9OjPbLWNLGfmz61vO48lcdKybgEscdKcdQkrMzwuDUyNio3BBpA2KT1GRXI3Mfau08KSR3NiVP3lNcRcP1x3rofBN0I75oWPDdq4sUrxudmGk4yO08tl57U9GIrSW3VkC4HrVeWAIeBXm9LnoqSbIVkPSrEOVOe9R+WoNTAKGBzSCTLEQRznGG9aHn2cdagSXc7KDUg2jqKpMyIH3MxJrPmwdwrRuHVRvB+X0rOmUYLZ680Ow0Yd6QuawLxAWzXQXiK2c81hXa81dN2ZMzl9Uh71loFwSetb+pKCDx2rnHJRzXpUndHHU3GZO4g9KmRQaj+8tWIoSxAUVqkZNgq4OFq5Dbyu2MHmtPS9AkuCGIrr7PRYIFXcgzTbROrOb0rRJJZAXB2+9dfYafBbKNq4b1qyqpFHhOnpinkHbnNA7ELSAcZNNxxu605uH5oLrtJPAHalcLFeTcAT2qmzlmxVySfcgVVHNVWTacjaT6UXYWId7PINg4rWtUY4yO1FlaIibmAzV1QF6U7glYQKADmq8q7TkVbJTb0qrPMoGAKa3FIrSy4fbUIlUsc9uKWQjO49aps4DHjmgE9DUgmG0jtVneCtY9tIecnirsLljyeKQalkkLUUjBmyKe6cVF5bAZoF1K7/fqA/I2atMucnHNV5V4XNUgsV2uBtOBis6e5Koec81emh+U4FZNzCwU4/KlYRXlvPWmSX4jTOailhIGWH4VQm5Qg0AjUa+BOM9RVKSYmXA71UVyWFaFrGjOGcDNLpcEQSW8pG7HFNsbJ57vbiulWGCaHyxgHHWn6fbQ2rlsAt6mne6KNOxtUt1Cn0q3NPGq9e2KxZtRw3GM1Vmv2ZfU0KJDZoPfjzcg1OuollxmuZa5YHO2ljv3JxtxVKKIbZ1i6gpi60qXrHlMY965hLxiMEYFO+2OrcNxin0C7OjF4C2C3OakkvFLEbu1ciL9g5OKa2oOxypwaiS0KUnc60uudwrG1AkS7u2KNNv/ADgVkP0pdRZSAFOeKI3uEtjLaUYzmqV45K8NTLpmAYA4qlJcfKoJ5pt9BRiRyS/NVKb94CakkbLdaikbamB3qTQrKuHq+kuyMVRZsc4pRISMZpjBzvY/Wp4IC5AqGFd79MV0GnWashYnpTJk7F/S9PCKrEVpSypAmKgNwlvbDB5rHvdRLcUrmaux9zeCRzzWNdXPUUyW5Iyc1TeTzDmkapWAtlSajJoB5x2prGmMA2akDYGKYFFLgUwA880H7woHXnpSlSTxQA4UEZYU4AYo/iGKQiQL8tQuMVMzbcioyN/egBACOtIzAninMeMVGMUAPzUqVBUikigCfO2lxSlRxjmnbV/vUgN5gXPNQzxYG6rKYzUkkYaPjmsU7GzjczI3welWFO6q0qlH6GnxvVuxKJ8Yo60A560HrxUFijinDmmc5p69KQ0LijFLRSuMaRRSmkxRcCBsk9KQqeDU3AqKQ/N7UwsOLZApy9KQD5AaVeBQMQtQOadijgdKQ7BjimMtOzSHJoEyu1RswRd1S3GEHUCs+WUk4HSrJeg1sySZ7VaEAKCmQR7gDir20BcCncmMblTyBTXiGMA1YfAHFQMTii47EI+Q4xmnbs9qegVm5IzUnljtRcQkSkDJNSo4zuqPpxTckNx0pDJpMPUDR81MpHqKCoNADUXjB5pSuOhoHB54p5I29aAsQ8561KihxjFQOSpzU8b/AC8UdBohZTupJEyuKsso25qFWycdad7A0VdhXOaQHI6VcdAUx0qsAEBFNNEDQdy9KhZcGpwADxSyp+7yKEwKxJAyKmiuSg5Bpij5eRTWTNO4LQ1LbUA3XP51oR6igU8H865f5kPBq1bzY4Y1nKmmVGbOmt7wYOM5q4k5YdDXNw3OxuK07e8GOornnTsbxmbNrclT82RWnFKHTIbisWC5jc4ZauqQCCmQtc849jeMrmoh5zmpA+KoxzDoWH51NvrBotFgkN2qN4hnOKcvHepCwI96g0KmSG9BU0U+3gg0x03HpikwG+XIFOS0A045gQBnNWQwxxWSuUbk1djl3Ac1DQy2GGeaUgbc1BuwualRsx9eahjSDHtSEjpinE7hTduKTQCBOc0joHjxUgFOC/JSGYkqMCe2KtwNvjA7068hJwVU4PXio7TCyFSRir6AXYRgYNS7A1NRfm9qsKtIzvqZt7aB16DNYzq9uxQjjrnFdXIg71nX9qJIThcGrjNrRiaOZnZWOMg1TurVZI92RVma3aOQ5pu3dFiu2LtqZNX0OZuSUIQj8ar35BiCj0rX1KAbd4HHrWJNkpzXZBo5JqzszMYEnPpTOpqyyEJnFQAfNXQjEcRSr9zFKvPWnEYPFMBhXiohw1T0xl9KAsGKTrxTSacPuZoERvxSRjBzSnmlAxQAMKRRwfbmhT60pOGGO9AEttGZWGFPNdHpvh+5nYbFzn2qDwubf7X+/wBu0A4Br0nQriD7WFQKF964cTiXT2R14egqm7OftfDYZtuASPanPoiZKbcEetdlcadIkpngYbT2FVGtpQ24x7iTXC683qdnsqexw114clAJRc/QVTi8NXsz4WBvyr2OxswbYO0Az7irlvZxh87FX8K6FippbGE6FM8eXwbqDLnyf0qMeFr1blY3hIHXpXughQDG39KX7FA4LNGCTxnFV9YqPdGfs6Zyfh/Qo7W0TGN+O1bnzI4XoB3NSm2jtZdyE59+lLcRmYAqfxFcfJeV2b30sjL1K9MFuzH0rhSTdXZlI5zW74luyj+Tnn0rJtoSpDDp3r0MLT05nucmIlb3USlsAqayrxsZOa07uRQhA4PrWLcnchGea7TkKqpu5zViFcUkcRxUqJjvVLYlkoZc4IqYFcdcfSq2Pn9akLqBjFAFgBdvPJqF23Rlf1poLY5zTSMISTzTjsKRLp5KSY61auVJGcVSsWJkx3rSlVime1CVmHQwrmP92ea5+U7Ziv610t2uIyCcGuauxtcnvTkOGxct7kqccnigS5m3VTt3yMk1IrfPUXKsdlFtexXPBrMmcFyNuMVoWSebZqc1TnTDNxVx0RnJXZQkXIqrICDVp+tVpQc9KTKjsVZDubFW9GultdTiJOMt1qizAPyai37Zdw6jkGsasbxZtCVpI91t5w1urq27IFOb5uawPCV59s0tUJyw966M4QY7+leOn0Z6C3v0KZCnmkBDEH0olAB61Go+brSuaE8KqjluuaV33HjioCxR6BKM8mi4mJMmU2k8VUl27PoKszMSKz5nO0ikBQulAGfWsS6GTWxdNlRWRcEE9auDYpLQ5/UTgniudkXdIeK6K/8AmY1nW1m1xcbcHGa9ShexwVtyG1sHlI44NdZpfh/G15AMfStXR9ERFRmG4V0TQpAo4GK3uZMp29pHbxjCgVZZhwNvaobiYPjacVKnzRgmp5R3JFCMMEAe9ROPLkwWBFO3DHFRnayljSemw9xjYDZPSoJ9rgleOMU+c/LwarITgjOeaaiS5jFDAAcGr9vbKwzgZpkUQZc1djUItVsCdx+1FXaBULtg4FSZy9RsMv0pJDI9xDVGyg5Yj8KkYEHpUMkmIzVJ2JZVuEPXpVM43881buJSy9DWexIPQ0gsSA4bAq3bzdsGqMfzHmrMZ8vkUwNpDvH3cUkqlV4GarQTsRVjcx6nikNkRGEPy8mqjrvx2xWlH8wO4iomhU5p3EUHClayrqPD5FbbW+Tgc0f2cjrlutUhPY5K5jLqT3rMa1kfIA/Su/GkQtwcU6HSIEblM0E2ODXTZVI/dk1O1jOWASMjivQRYxY+6KaLaNX4QGgaOKg06/BGxDn3q5FpV47fOdtdcPlOAoA+lDIp+vtQDRzDaEx5JqWPQ1UDdzmugaEbeCaCuAuKASZgtoMZPpUc3h5BgIQD64royCSQelSKE2ZOM0c1h2Zyw0HaPnP6VGdGjGcGupfBU7sVVZE5wKHJEWZz66PCMhu/eqEulxifahJrp3i35A496ryJFCpbHzetNtBqjJtdNFswkLYx2NJO6u7elF3dljywA+tV1IbnOKEQ2Z16gAYiuamZvOx6Gutu41IOSK5i+j2Sk4pMuDKjlt3WmM5ZeuMGml8t1qItyRUGhISWGDT4wCcVGnIxVq3hyaYF2wthIcleBWwjxwRkKCB9aqWzpFGeQDUEtxuzzik2RuOmvN8gUZGPes+4nyaikkw5bNVHlJahFWsK7c4NGAqZqNzkinMf3dMY0HvSEUKCR0qZ1AjHrQBHn5c0A800H5eakUDg5oAcF96VXHpTed3tTsYQ0XAOtKow4PpTMj1oDc0ASTfMxxxUYBHelzlqRs9qBCnkdaQL70bakRDigBmMGnYOcCniMntUyoFYcUhj41+Xik2LUsY4NG0+lTcRsZKtViKXPy1GAMZbk1EGIk4NZM2TY+5izzVEna1abHfHjvWdcRlWzVRCStqSxndU+MVShYg9ath8ihhHYdRuxTQTmlxUlXHZozSUhzmlYY7NGabzRRYBrc1G3EbU4k5psgOz2pgOQ5VRUjfdqKLpzUwwRSY1qN60YoFBPagdxhNRtNspZJFQHNZs0zM/yniqWrFJ2C4nMrU6G3L4Jp0VqSwJFXlQRjAGKq6WhFm9WCxrEnHWmbuac7YGTVdnOeKmxY5hk07au3BpiK+eWpzKc5zTERtCF+ZaTJWpM9qZJz92gTE3bqcBxioN2DUqsDTFcUoRyKcrhetSKVIwRTWRD2oARvm5pF6UgJHWnjBXgc0ik7jGXcMUz5k6VJkg0ZB60xMWNty1H9x80itsOB0p0gDDikO5IuJBk1WnQg8VJGSpxnipZI8rkUITVyktTY/d0xl2GgPxjNMlEZFJipWxt4qOmKxHszTkjI6Cjfk8CrUIfaPShsFqRDfjAFSLJIlXEVSOV5p/kK38NS2uppyi2t784zW3Hegx8Gufe22cquKkgmdBhicVjOCexcZNbm6tzucYq/FdhmCk1gRTAv8AL1q9CGJ3Ac1hOC6m8Z6G9HLuNWEYDk1lROyHmrkcm/Fcso9jVM0AFcc1DJb4ORTkYbQBUoORg1FirsgHAwwz702NjHNjPy1baH5eBVR1MYyRUWNdzRU7sY6VMo281nQzttHPFX1kEiDB5pMLEwxQevFIMUvGaTJQHpSg00kk8dKXjFRYoey7oyKzXh8p81pq1Q3Me9SQO1FxJCQPuQCtBBlaw7eYxy7W6VswXBkXCRjNUhNEoiDLk9arSqSCCKvAOeoA+lRSfI3PSm1chM5rULLKMyrzWIqFSQa7K5G4EEda5fU4jCxKD8q6KU76MmSs7ozL2DfCYxXNyRETBD2rq1cZLPySKwL2JluS46V2UpNaHPWs3czrmEJa5HXNZqr89a10waLaKz0T5+ldcHoc0kRtHtNMkzV0xk9QKjaEk5xn2rS/czRVGSKXFWBbuV+Vc89akjsZJOQhxS5kVq9jPKMWp7RkRDPrWkNOlJ4jY/hUx0m5dQfKbH0p86JUJdjDK4IpK0bixeNtrIRVNoSrUJphZrciIpuOcVMUwOaiCnOaYrk0M7QOCpwRWnp/iK4t70Hd8lYuCXp3l4GMVEoRnpJFwnKLumepW/jAeQAZM/jXRaP4ghvFVWALE9a8PjZ0X5WIrf8ADmrTW12PMkJUHoa86rgVGN4HbTxKbtJH0FFOn2bsBVJbjbMfm4riovFJKAFuKePEYZwM1wv2iVmjoUE9T0RbhWx81SiYAfe4rgIfEQDAF61ItZEyYD4NP2rjuhOj2OmmMciHJBrNN8sGQx4Ws77dIOjZrI1rUSluQoAc9TRGTm7ImUOVamRqDtqGqvLnipljMafeqrZDILH7x71LIxCEnmvcprlVjy5y5ncrXc3BFZsh71JcSNg59arnc/etSCyhI4qVTj5SKijz3qwo/ipwZMyNn2tgCpY0yMmmkKW6VMCvlcDmqZKYOBmopcUzdJubK9OlRGRmGWoiEiaBgkqn8K1wd0TL6isSBS8ygetbSB+Rx0o3BGNfDLVg3MAJJNdHdISCe9YkwO4g0miosoKoRaFZc0TAjgetRuNuMcVmtDRnZae7G2QL0pLpeTTdHbzLMFeMVNOma1MzKZKiljyKttGd2O1QN8zbRTZK7nP3SFWqJSeK1L2IbScVl7tuazaNU7nX+DdX8q48gtjmvRTOfv5zxXh1jcm1u1kU455r1jS74XFkhzk45ryMVT9nPm6M9CjLmjY1N+/mml9ppmSo4AFNbLDPeuY6Cbdu5qNqRG2rzSv8o3GgCJ3YDBqpK2DViZsiqEzH1poRTuW5NY87fPWjcOTnmsqUkvW9KN2ZzZQa3M8wA6VvadpsUBG5M980aZaoy5ZBu9a1XcQQkDg16tOLsefUaZPFMsa7V4FMluA/GTVG3nYsdxzV+3iFw+VXAq2iFqLDAX+Y1OODj+GpX2xDC8UxMbW7ipuUMYhelRM2Pl9akkOFGE49aiYAjIOTT2EyFiWGDSRxjORTynGTUihVxincnlJ4kEa4PQ04OM4PSoWn3EKBk0csMHApIZO5HZqjUknrTVQMOtPWMBT83OaChxZV71UkwVK+tTmJSM55qtL8pouwtcrSqSvWqXllgzZ6cVedQYjg81TCNGG7g0hvYjCttXA/Gp4896crkxAYAxS4I5NUQWI5V3Y6LUvmnO0HIqp8pwMcVYVVGMUkgLcbA8E1MUUr1qnuULnHNRxysz4LHFOwF1UAen96jDqCPmqdNjA4Pai9gQbVAyOtAOKazgELjr3oyPWi7HZE+QBTcBWqMmgAvg7u+KLhoEhAPHrTJmxjb1qSSLac5yKaVUc45ppktDDLtFRNKcj0p7Rq3U1E6YHBouOxOZBtFRiUZqBiduM81DuKnlqEkItNKO9RvMoU4qlJPiTlvlqt9qGWJPA7UEl4zDB5rLv52PAp4m3glTxVO4JJ61UURJ6mbcHe22nqwCjPaleIls0hUAc1RD3Em2tgmsrUbXcmRWixDfLVa9YiPANJsuOhyjpsJFQkYfNXruIqc1UK8g1LNieCMMwJ6VeR0jqik6ouBSNMpqQLbXGAartOXziq8jknA6U9FCjmgFoI5OM1CRmnysTwDSBeKYChOKCmFpUY55pzsMcUwIlO05p27dTF+Z8HpUoUDoKVgIytKgxTwOOeaFAbtQFhy9KAPlNOK4XjrT44yRzSCxEIqcIc9quxwA9qsraj+7SuWoNmWsHPSnGLFbIslxkKM0z7Fk/dpc5XsWZPkZYVZ+z4x9KutZlTkCl2EEAik5CcJIqeVgUojq75a45FNKqO1TcViERYFLsqU9KSgLF5/mHHFQchqlc88UBQVzRYY+I5PPpSXEfmDjim7thzU8bBhUvctaqxksfLPSpYpcr0qW7hxyBVFWKvjtV7ojVM0VPFOqOI5WnmpZQ4cigGhfu0gIzSKHkZFNIxTgeKaSKBkOcmn4DR00JSsNoqrEjAQOKmQ8VSZwpzkU9J6XKwTsWcYpjMNx+lDOPWq00mBkHNCQ2yrdTbpCgBpbaAytzxTAN0mSK0E2xIDwKt6KxC1dyfYIx2NRM1R/aC/TmmPNjg1Fi+bQcxz2zTl2Y5FV1cu2B1qwvA+YUBe5CxZRmkSbPBqR2G2qyxljuANMl7lplBTIPNRA7DzzShWA701hTGMkUDmmB+elStzVeT5XpoknWXJ29PepUcGqh5jyDzSRyFDyaLBcv/ACt0GKaRsbPUVCjnNTqdwxUljGO/pxQFPrSlNrZpRQSI8feiPkVI2CvWoUOHxQAkqkHg1IsnygGiXG33qLOKYx1zHv8AmBxVU8Gr2Q68HNVJYzk0IT02G7gwxTGbHakjGH5qRlp2ES2sKyNmtqC2TyulZGnsAcEgGt+3xtAyKyqOxtSV0V2gAPFOiAzg1dMO49KpzoYjxWalc05bE4iVuopk1mpHy4BqOC4y2M1pRIZOoqW3B6lxipo59ma3l6Vq2N+mACeakvLBZFPrXPzW8lrISCcVbSqqxi4um7ncRyRyAECrIt2C7lHFcro2oM5AY/nXa20iOgOa4akXTdjopvnVyCMlT82atR8jioLqQn5AuBnrQjvGuWUge4rG19TbYvq+R0pREkg5qGN9461Zg2r15qHcq5Wkt9mSvT0qOKUxnJ6VqZR+MVTuLQFSRUXKRZRg4yDTicjFUIX8n5SatxEM+Ac/Si4NWJUGOtN3YantwarzNt6Gna5NyZGBPWrKbSCM5rGhuMNtz1rUtQAw+YHPvU2tuNMo3MBSUsvFXbMoVUZIY1NdQB0OB05rKDvHcq3IApXKsmjpY4QuDuJz60XCh1wOo7063PmxKQaa6ld2fWqu7GNtTMucDoOlZbW4mDOy7lFassTXLlIz35NNuofKhCR8bevvW1PTUUnbQ4W6jaC6O77vpVO8USRkL1ra1OzeaUvnp6VQithIpGfmzjFdqmlqczTZyM4YSEH6Ve03R7m8f5IyQe+K62w8JC4k82fhOuDxXRWywWREVtGCw7gUVcakrR3KhhJS1exysfgyREDy/L+FFxoFtZw7ywJPtXSXdzdFiozj3FYl0JZ2KSHFYRrVJu8mdLw9OC0MEwxQkhUyD3rqtA021ltN8kefwrHNsQNoXJ+lbuk6j9ii2PF+lOtUbjZE04JS2Nk6VZxEfuV/Kn/YIGOfLUD0xVI6m07g4xVn7UWjzXC5z6s25UYms6NbSAsqgGuKv9HwxK4/KvQLuXeh5rBm285FduHqTitWctaCZwdxZyJ/D+lV/KIHIrtJYo5uNoqrNpKupKDP0r0IV7rU45UexyG3EmalCFsYHB71pTaa0bnKNj6VoaXob31xHAvU1o6qsZKErnPeUVU5xxQInVdwyDXVan4Wu7NeYicnrUs3hmW10pLuXAHpR7WLHys5iG8njAyx4q1Hqkitk5pl1AM7gMCq3lcZHSi0XrYrmkupfXWHMgPI/Gta3110AIYj8a5ryCW4psyMnRqmVKElsXGtNO56RY615qDc2fxqvd3Au7nYHrjdOvXjYBm4xXSaYu9/NauanhlCdzWriXOnY14XEabQOarXJOPvGrDYHcVTuWruSR59yrIQ3Y0wEDpTlIJoWLa26qAmWnliBimKpqRRzgmhITZJHjGSKkC4Wmop3DjipT04rRInmKcp5fGarkGOL5jyeatzsoxjgnrVdiGOG5osFyzYLuYHNaCklz1qtbbI48jrVlGzyKlJj0Kdyp5WsS4Qhyc5roJvmycYrFuAQW4Jp6j06GRKfm6VDNIMKcVYl5J4qnOeFrNlnW6Iwa22qcfhV2ZiTgA1j6FNsXBk/Cth5BgtnNUmyCmx59DUDAdR1qaU7gXFViTtOasgpXLZQjFYssbBzW/JHnqKqTwKEJOAazZrEwHco1dl4R1di3kufpzXIXUeOcd6dpl01neiYNgDtWGIpc9Nm9GbjK57WCGHBNOUHBrJ0m+W5tA4cNx2NaSsWGc4rxetj09NyQZzz0prMTwelITgZ3A03cPWmAyU4qlOcCrUrc9ap3J9Ka3EZV0dueaqWqebIc1LfPjvUdrMqLkEE16OFgm9TixE+VaGrakRMRimXEnYnqajVypyaq3Exz15zXoNpHCk7mjZw/aHAB2gdc1vxxrAg2/jWDpMp2twQa1nm+Qc1LLWg6bY79cVE06KCo61UllIk4ao3bjJ60WByRZluf3e0EVAJQj8Hk01NrKc0RqpyW4+tEkKOo4s8g44pV3lwM5qaMA8EYqUBU+tK9i7DRHgggc0bAfvMRT/ADVJxkCl82IfeIqXNDUGO8vCjB60wKdxUmj7QpC4IphnUOTuH50c6K5GShTjGagkQnrUscuVJNI0ik9RS5kPlKLQ7kODVbYd4BBwKu7tpqNnG7AHOKakibEWxVfI4HpUjgbOKhbLNxVpIwyDJp3Fyld1KjNQiVgeTVqaJivBrPkUo3JqiGjQjmXbyM07cOoGKz0Y7eDU4kO2qQiyZMEcGrUZyuBkE96zhJk81bhkOzp3okCZcU7QA3PvS7kBxzUSSZ4OM+9OYtvGAKzKHuwHTmhcsRj1ojj3A5PNNHD4ORTYItMM9aif7maYz47mmu+cAGhAxjHioJHIbI6elJJNsPWqNzfbBnvVITZYnmCpnoazp7r5eGprTPcngHFLHBGqkucn0qiGQM0ki8A5quUl3YIIFaDyKPuYqvNI2eSOlNMhka7o4zzUGTLnHFK7se+adCuJQDxn1pisMIIHSqkoYHrWvMqgdqzbgDIoE9yqeDUUvzcYzVl1BAxUXA61EnqWkY9/FvXIGMVkFSM5ropdrAise7j2vwOMVNzUz8ZancClA/eU2Q46UwEJDNwMU/dzimLUgHNAEXVs1MPu9KbjANSBvloAjJwfumlAyORiguCelPA3ngUAM24OaXFWVtyR0NOFt7UXHZlRATwamRNox61MsOD0qURe1TcpRIAlTxp7VKkXPSp0ix2pXLURsSEGraUxE9qsxx5qWzeEX0HqRjpUiLnnFOSAntU6xlB0NYuSOlRfUi2oPvVXliRuVIq40O7saga0Y8g49qIyuE0Z7oynPaoXzWhJC4GCp/Kq7x46itFqcdSFivu4pM0oHPSnbaowuXMUhOOKcxxTDzzSKGycr+NKj7aQ88VE2R0oFezLLtvWs64Qqc1bjkwME0SKHXkZoWg3qinDMV4NWkk3CqjR7D04qSOQKOaq1yU7FoEkdaVQMZNVjIMfLxTTMyjGaixpzFtpAq0wybqqJIZHwelTjAFOwuYFmwacXL/SqTkhuDVuE/u+aLILjTAG5qNoyvSrQNNYZNMLFYF2607yyVqbbTgvai47FNkI5pszF1xVt09qruuD0oJasLajBwaszWwb5h6VWjfDdavo++Opk7MtaozSrRPmneYz8ValjBBGKrKDG3PSqvcTVhYYST81WfKC8CoVnzUgmHrUalKw7bjtRtB6rSrMM9aC4NAyGSEbcrVJkJyTWiTgYFRGMHPFWiGjOHytQy7uanlhIJxTCpWPPencloIm55qyjjIxVINipY3ptAmXD81MY7aVXz35pJEJGagoYr5pH+8DUSNg81KxBFMRIecGmEUxXZm25qwqgjmkF7kETbPlqZ49wqAja2aswtuHPNALsUXXYac3KVJcJ8/tUa56GqewrDYxslBro7BldVJrmmfnPer2n3pRsM1RUV0XTnZ6nYoilRiobq0DrVe1uw653ZrRSUSLzzXBrFnoK0kc+sHlyitm2bIAqndRndlRiltp9gwx5zWs/fVzKPuOxfkTcayr613VrpKrjPeo54t4zWcJOLNZwTRyWyW0nBA4rqdLvpJQoB4rOubfcTkZpdKkMEu09M1tUSnG5ywThKx3MFuHQM/NTBUl+Qjiqtrc7oxzxWjAqHnHNeY07nYndGc1tJA/HIqxG+QOK0PLBX+9VO5j8qPzAABnpTEmSJUpi3iqUc29QQcVbhmboTms3EtMpXdsyHKjioreYwvntW8IlmTDCs+600RAuv3adtAUr7kiuHXPc1HJDvqtE7q3BJA7VdhmWV8dKzTsy3FbmRIhV8qvFX7GUOwGcVpfYYpIyBxWRPZzWVwJI8mOtnaRlsdPFADCSTxisC+t3DMccVpWuoCSEDpx0qK9ZjESpLewFZvsOMrMi0q+YExN1HStNpHYYI61yRuWtbqOTkYPNdNDqCSorjBFVZoUmWXiijhAj4c8msq8ZpPlBwfWnNcl52ySFPes2/vsyeVGcn+9WjbtoZqN9yO4jG3YvLHvUcFhHbEPjdIecU60d5BuHX1q+sRDhmGamUmtGbxgupJHFLOg52j0q1BbRRckfN60guoo4+QOKzrvWI1Q4cA1EUm9Cm7FjViggyn3qxURWGXHNUJ/EUZbmTNRLrcT8hhW3s6nYh1IdzZ8qMLkCoSVzjFV49SVk+8KQ3QJyuKmMZrcpzi1oWlIHSrMcvGDWVHcknirsTFlzQ49wiXzDHKuM81mXtgBkg1Y8xlPU1FczllxmlCTT0Jmro56VDGcU+GRl+lTXBVucc1VD44rsWqucjVmXjbJOhJ6mokWXTZEnhHzLRDORgZ4q156sPn5rLVaMtKMi8ddkmIaQIf9k9KBcHWLyG0kwIurBelZF1CrRkKcfSm6Pf8A9m3mZPm+tNQsuaJnLezMnWdPaO+kgRDtDccdqo/Y3jXaVr0uzTT9c1ONWCruGeKw9c0xrPVWiC4jz8pNdUa91ZmDpnMjTiqbyKpvZ7i2PSt6Z3WMxsMYrJabcWCcHpVRk2S0kZ9rbF5cAd67G3i8i3VR1xWRpNr5jF9tdEqqoBYZIrfWxi9yF24qpcPxip5n546VWmIboKtEvQijyORViMjYc1ArBFzipUO4cCqQkideadgB+e9C/wC7TyASCRyK0SJb0LCgbAPSkJxSRg4zmmu+KtIzbKN2+GqGM7nBqS5GUyetR2qliTUspGtbrkAYzVkKo+9x9Krxgqi81ZXhaS3KRFcDC4rIuh5ak+ta0+SvWsq5DMCGOaLaiuYkxwSPU1RkXca0LhOScVmOz78A1D3NUzQ0ubFwAa6cYZOK46zYpeKMV10QPlA5xTWxMkNYY4qpM201bY/NzVOcZLVT2FYpTXPPFU7iVnAzRKrKc1BJJkCpZYTxggE+lY03yyHFaskmcZNZ8wUnIFIEjq/BurbD5Eh4rvopVcY9eleLWl21rMGViCDXqGj34vLWIqctjBNeTi6PLLnXU9LD1OaPK+h0WwbeKiZcU4SdBjHrTWauU3Ks71VkfirEoBqpKPlNVHcTMe+5VqrWijC1YuxuVvpWdaOwYgt0r0cMzgxC1Nl5uKjgQT3KL71Qa6xHg/erX0i3Z2Ex4INdjfY5oo37azSJfeklQA09piE46+tVpZmPTrQmUQuEAOetVWc7uadK+DyM1Ezh3GBg46VVzOxOpzU6KAMv0qIxtHB5uOlU5Lya5+SNMY9KylUSN6dJy0NKS9gTkNk1Tae5ll/dqdp71oWOkxSFWcdsnNbCW0KKABjA9K4J4nsenDCQj8epzq2dw5yxIqwumO0Zy5rf8qPHHJoEYxgDisHWk0bxjBPYwE044x81Nk01tvDMK6ARKFzSOi4XjNSqsi24voYH2KZVC7zSfYZl53VulQcgjpUZRe9P20gUIPdGIyuvUVC06xtkrzWu6buDVK5tAVzitIYiSepE8HTnqtCqrjO71qwhz0qrLCyr8o5piXEsJ5ziuuNdM4Z4OcdtS8VODWddoc5NXI76Nxhjg02eMyx5UZ963UkzjnBrQzY5McVOrZqB0Eb9OaashB61ojNl+Mg/e61JufHymqynJBqYyY7dqtiLcQOzJPNWVzuFZ0MrM3NalvhuTzUS2KjuSYKvxUbscgn1qUsC/FV5ck9ai+hQjPksajlmRU4PNRTOVOM9azbqcKhIPNNEsS8uQjZ3VkyXQmmVc55qpf3hOcsc1U0yXzLs5OQBmtL2M7XOm81YYyO9VWuwWqnd3RDDmqwuM9qLiSNFroFOKaZt2Aaox8mrBO3BxVJk2JvpUynLBj2qrHN6ika4wpp6CZauG96pTONvJqOa5yODVSW4BXrUOWo0iy0gUZqjLcfPUUtyeADVV5fmbJqdy0ibzRVS7cMePSo2lwOtV2kLNyc0JFEZXJyKjZTU5ODRt3UwIEXJqwI+KbEmGqzwBQBB5fPNMdSOlTSH5eKibdjg80AMVeatWyfPUUaFjV2GPaaTKitSwicU8RZqRANtSqtQ2dMYkItxTvIxVkJUscW5qnmNfZlMQntTwhFacdplhxVhdPB/hrP2li1R6makY4qxEig81e/s30U05dMfPQ1DqqxtGFhISgIzU37s037C/wB1RzTPskwbGDWTSfUtPyJ/LQOKcYV9M1EVcMM5zTzK6Mo2kg1Oo7jHgDLgLVG5tePu1qpPnd+757U1w0v8NVGbTFOKlozlpovK3H0qMcitS8hUuwK9qoiLjpXUp6XOF0VzMcxpm7ipmApm2rOUaDzSMuaVsAU0HPQ5oGQshByDU0bfJg0jCmjI7cUCWgkwBFVmjParH3m9qdwO1O4WIFjI60rRg1Z2CmMKQyBUCtmhmx2qQilCA0wKxjJbOanUYGKdtpMUAhyfep9RZI5FAbnmlZlFjZjijZhqcSCeDQeTSKSGOMDNVJRk1eIyMVXlTHWmgZn4KnNW7ecDqKjkQCocEGm4pmadjSchwCDio5FDDFV0lwcZqUPnvU2NL3IZI8Dg1ASwPJq8QDUUkAbkEVRLXYrrLtPXNTLLmoTAQ3Q0mCtFkydUWxIPSnA55qoHNSK/FBSlcmYZqGRcriplIPekYDNILFHy/amNlX6Vf2+1MkiBXOOaq9yCKNjgVYVsiq6DB5pxcDvSY0JKAr9KD8w4pzYZc96hjbnBNAwVtknNWY3LLkVWkXPSnRPtTHenYRNIu4ZFJHJ5YwRUmQV61WlO1sUAXGAkjyOKpv8Auz0zVi3cEYJFNmjzzikuw33KjgAZqJyUOQafITtFMkBK5xVIk09LvSGCNnpXWWUisgOa4G3k8tgTXTaXeBgBmuetS6o6aNTozoWhDIeKzZrJ8naQK17Zt/UVO8K4ziuJVHD3TrcOZXMCKKaM4JrQjV9vJqysau+3FTNCFXim6iHGFjHuIyATWXh433g8Z6V0Fwo2dKxJx85XFb0ndGNQ6DS7sPEFJ5rorWYLgNx71wdjOYJhnpXSWtyxwXb5a5q9Ozuh056WZ0SyKOFOaebNLgb5CcDsDWdb3Rk+6BVyOdjkE8+1cjbRtZFOfYkuyJTgVasXST6Zxmni287kkKM8mooYjDL5UK7hnk03sVobMQVhntUskCSR7ex7VWiJWPnircDBhz1q4q5k2Zk+n+VkoOcVmqhRHY8MO1dZHA8sntUV1oX2ncU+U0ex5i/bdGc1bajNC+JhkVrRypejbGAwPaqOoaY9uPmBI9QKq2d1JYS7kGUrNx5BpcyujXj0Odm4XC5rUSO1tkEON8neobLWBex7c4b0qXy8P5nGa2jJS+EwfMnqchrlptumwvynpWbZakYXNuwIPY5rsNSs3uLQTbTuXqMVwN5Gy3xkAIxWjhfctO6udHeT/ZrIPuG5qyIYZJY2lfIzVmR/tEMbtyqjpWZfa7BbDazKAOwNRFOStFFJpayZv200MEPzDH41m6l4ijhYqjdB61xt94klmUrHnHtWG8808nzMxJropYJvWZjUxSWkTpbvxXKSQpb86yZdUurjP3sH3p1lpM92QsUbMx9q6bTPBNywDzuFHpXValS3Ofmq1dEcpFbzztxuzWrZ+HL64YFUcCvRtN8OWVpglAze9arhIVwiAH1ArmqY1bRNo4XuziLbwxLCmZZe3SqtxaGFiqyV1l3cqqkn71czdyGSUmuaFacpanQ6UYx0KsTvEeTmtG21FFwGQ/nVNkGKRUFXJRktQV0bJuIph8owaryLk8VWhAV85xV6PBHY1hbkNV7yMiYdeKqkDOa1byIKpxWS2Qehrqpu6OSrG0iQcLkVGZDnGaXJ2VAW+atLGbZcWTcMHNRTxg/dPzetReaD0Ipdxxyanlsx3H6fczWF4k6yfMprrpNSh1NI3uFDMK4zAY1JBdGBupIqakL+8iYWTN3xHZItnHcQoAr+/SuSKKWCqMNnmvRf7Li1exVzKViUZArj4tPUao6j7ingmtqGsEZVUrl2wtvLjGMDirDEE4p4Ow7AOMdahkIB611anMldlWUZzVV1xzmrDuG7ioHIA6irQMjwW4FPQspwKQEAZBzU0XLjiriiS3GCe4qTbk4P50wAA8EVOq5XH61qvIhgqkd8imMo709mKLgcmq7MT14qrMkoXkgQbetPs1IXPrWffyMZQBk1p2RwgB9Ki40aMQ3KCTjFSludtVPNIXA9asxnOCaQxkwIXrWdN0OavzNkVRmBK8AmqE9zJuk4NZLja/NbF3wvNY02d2ccVlI1iMtpjHcBm55rq7aVniHNcWWIkBHrXXaS3mWuc5PSiISLzRtsDVXkTGT61fZx5IXFUnbLYxVWbEZ00QKnIrIuYyp+UVuySBgRVKRFCknFIaZhu2eOhqBga0JbYGTf+lQtEKTKRmyD5s113g3UfLuhCxNctOuD0q3oczwalCRxlsc1hWjzQN6MuWdz2JNzZbtQQSabA0nlqGxgjNTFcDNeO1Y9HcqyIRVKfgEVozPuFUZeh4px3E9jDugdrVjREozHPet+6UlW4Nc1K+1mA656V6GH6nFXWw2S63XCKvrXc2DLFaISOSK4DTo/M1BQT3rvtgECAHoK61ozlZZ80n6VB5pySaXOFFV5m2oTmrJbEkm3PtAzU0axxAyyDOO1U4jtBdqgZ5b5ykeduccVlUmoo2pUnUehce5kvZjFECI/zrb03To4YcuhLHvin6Vp0dsgDDDkdTW0EwmA36V5tSrzOx7EIKmrDI4whACgDFTiNQvIFR/Mx2Z/GpgQF2nk1gK5GUDDAHNAjI7U/cvQcNTlye4pMLlNtudtNBUkcdDVp4U2570zyl25BFAXIHQHJBxVWVWUE5zVtwMEAiomH7sikaoogEdaZP8AcyOlTSEYx0qrI207T35osbLQaybos4xVeSNWO0jmp5ZMKAOlQbyZBxVxbHdoqS2qdcHNQpcywEhuUrRJBBzVK4QOCoreE2iZ0oVFZogd0mJbIFQAYbkcetQSo0JzkkZq7DcRTRhCAD71306lzxMRh5QdyWIYB9qduI5xTUcDcPajzQABXUtTibsyxBycdM1qW42kA/nWTFzgir8Uu4hahopSsy3Iu05Bqoznfk9Kslt3GarTlUByKjR7FtlS7mUnPSuevrgLkZq9d3S7iM8VgX06E9R+dXy2M7tmZeTZz1pNJmAuT7iqt2/BpNPk2uWzSaGat3IRNnPSmJPwTjpVN5S8hz60hlCo2SBRqFjRjuQOSaedQQjH9a56WdugJqHdIedxqrMVjozfKBkNVeS+4I3Vib3/AL1Idx6GhILGu94oTOc1Tkudx4OBVEltuMmgAkUrDLjXK4HBJFQNcbmOAeai289aQJzRYAkbJwDQFIIJNIykNUnUDtQAvFL+OKRRhhmrC2vmdTigpK5XGcZHNTojsmSKuxWaqvrVsQptAwBUuRoqTMjyi3empH82DWm9uA2RUSw/P0NCkHJYhSMduKmjFOZQvSm5waGNFpKsImaqxHJFXY6zZ0Qs2Kqk1ZgQhuaYn0qdHAYdKzkdMUjUt4+hNXo1XOKy4bpVxkip1vk3iuScZNnQrI1oyQu4gYFP3q7AkAVnLfBsr2pi3gUtk96y5GxGmZI1cADn1pgKLMASDms17tSM1B9ty2eaapyJZo3UlupzkVC08LFSoHArFuXJyd3eoTclcAN2reNBkOa6m01yiFjgc1A9+QeOKxXumLdaiMzHvWqodyXWXQ0ZpBJl/Wq+0VAJiWx2p3mVp7PSxl7ZXuNzSE8UEgVE7nOAa0OAHbtQqbPmoVO7c1ITkYoAbmmSN8uKUsBUEjktweKAJ41yKGGDSW7nIGasSKNucUmWtSJeaUpzShSKevWncdiPy6UR088Gl3UgsRCOlMQzzU4WmPw1IdkRtENvFQtHzVoc00rmi7CyIU61Op5pu0AcCmBjnrQBKQd3FNkTI5pods9aUsT1OaRRUkTioSvFXHwRVeQEdKu5EloUyNrZqaNuKRkBX3qM5XocVW6IWhY30qtlqpl2B61LFJ8/JosNMt9TzTGiDUxpfn4NKkuT1pWC6InjZaRTgYq0cN15qNkXPAouFhinBzUoG6mbcU4HFIaJKRhkUzJB61IOaBleRcDNQMKuygbPxqAqvcU0yGQb8cU3o+aV1xTc5X3piLIG5M1XztepYnwME1E4AYmn1GWFNMmTd81NRqkZsrikh9CvFJtkxWgDujrLYbZM1ft5AVwTRLuEdNCCUYNNxlKklB71CGOMZ4oWxJCV+etPTX2Sis4n56t2jBZhTnqhw0Z32mMZBzWnKvycVi6TL8o5reYjbxXjVdJHrU9YmWhdbjJ6VczuWkljBGQKjV8cE0nrqUo2GSR5jNY88QDk1tSOMYFZtym5iR6VvSk1oZTirGTLlfunnNbGnTecgVmrLkh5NJZymCTk1vUXNE5vhdzt7XYkI2/erQgQsRt71i6YwlUHfuNdHbYjQA/WvOkmmbx2JPIEOPNJwewq9BbwRkOkbEn1qqzBiDVsS4Qc0cw3ckdEQDjIq9B9nKAhRWUZj5eDyajF+Y5NuO1WppEOLZ0QCFfkGDSGRum6qdpO8qbhVgKD94kV0RatdGLHyxRTKySLkY61yWqabJblpEUlAc12DFUTkis3U5d1g6RsA571E4xktS6c3E4pbiSE74vlPetzTdeiYBJuCO5rO1Czig07zjMvmjqM1yU+poq7lOGHb1rn9k0/dN3OMlqeqyapaPGVVhgiuE8RQxIzNEwAIzWGdckhjyJDWDqniSec7Q7EV0RpVJPUwdSMNjSXVZIImQvla5i/uTcTk1eidbm3PdsZrKdSkpz6130acYHPUnJo1NM0Oe8jDIpwfaupsfC0UEim4Hznt7U3SfEFpb2YQbVqaTxNEZNxkBwK46lWu9EjrpU6MdWzr7K0s7OACONQ/rUk10gGAyiuBuPGIU4Q1m3PieeXlSa544atN+8auvShseiyavHGp+cVl3XiNACBIK4GXVrydSASKotJcyH52Jrojl6+0zCWN7I6668QoxOXBql/bMbN1rnFs3c5wxNWYtLuW5WNvyrpWGpRRk8TNs6BdSRu9SLfKT1rnDb3MPDbgantvMYckk5qPYwtoxqtJ9DpUuFbHNaNvOmOtc3HuVRk1eilIUVz1Kaex1QmzQu5M1mufmqxJJuHPNV3AzxRBJE1NdSNjxUD1Mc0wgdxWqZzsr4wamB3LTXA9KRCQcU3qSTqmFzUJHzVIZGAxnimbgT71KHc6uPUJLTw+ir1Y4FVYIsncep5rOF69w8FuudkQ6VpxbtgJOD6V0UKfKtTmrzUnoOdgrVUuCBzU0mWbkfjVS4YYxW3UzS01KMh2nFQzt8op0rHdyKhdt3WqETxHpVyBhmqUYytW7dOa0Qi6jKD0qcNleKrRg55NWRgLwKtEPUiLEGq0snNWX5ByKz5nG7FVci12Z5bdc1rW6YFZsUamTcRzWnC+Dis7ltEqY381YP3eKiCjaWxk0glJ5zgDtTsIdIy44qsz7QakbFV5uV4ouO2pl3hL5xWXJypBrWuBtNZMsbbzk8Vm2aIokYeug0ZsDG7HPSsNxzWhpjZkBz3pXKZ1JYFcVAyYOaVAQBinOTt6VsjEzp0CjIrNuN2OtaUzMWIxWbMGaTB6VDLRXwwIJNRPzUkgIqBmI71Ei0VrhfmpbT5LmNv9oU9xvpsaHd9OalrQpPU9osV+02ELryQopxhkU4bOKyfC97c/YI/kYgDGcV0ciXUqbtnHvXkT0Z60XojImQqKoSk4JrVnSQdUJqlIoJ5TAqI3vsU0rGJNLyynpiuTvn23JIrsru3Uk7VxXJavBsYlRg13YaXvHFiIu1xdChabUwB0ru5MBQgHSua8L2jKDMV+bsa6oIQmCOepau65xblWXKKCTxVJn82X/Yq3d7nHy8AdTWY8wkl+zQDGerColOxdOm5uw6V2uZlghHy966XStLW3VRjLdarabpiRYcqN3rXRQEQqGUV5lWq5s9iFNUY26lhY1YA7cMKckTA5PSnJJ5i5xT/ADH2YNZCbu9RgUA7qayHfvU0HOyjkEfSlYi4vHUj5vWkB+U0/OetMbAHtSaGN+bvSFfensxI4qPHPNMpETYHaq0s2w9KuO21c1TkZCfmXNK5aKkxL8gYqBlycE5OKtTSKBjFVG+UE9zSudESANvYg9BSjbu3elMLBQSOCajL4q0XoSNjBquwwCR60rsR3poORg9KpMCldJjr3qiw2citKdd788iqMinODXTCRNSKkrMfb3KzDBODUjBlfk5rJl/cHcvFS2eppK3lv19TXXGo0eDXocrOgt2Xbz6VNE3zLj1rOjk/uHPvVlJioGByK1cjnUTUaUJtaqeoTgIcd6Y1wCBvGRWfqVyGiypwaUdxS2Mm7kyGPvXP302DWvM48kknJrDuwHbpVsUSpvLn5ulPBWNeKjkUg8cUCJ3wBRYYplYtkU8qXXmrVtpkj44rTTRicccUyWzC8guQAtWYtNkccriujt9LjTllFPuTHbp8qjpTFzX2Obk09Ily1U2hVW+WtOeY3TlAOtPh0p3GcUijGeDjioxE2K6E6SwH3agbT2UHIpNhcwxGQ3NSi371ptZqCM4FV7l0iXCjJpAjNkG00wnJFOZiXwe9JtIOT0pjJAMyIK0SNpWs5M+ehHTFaSEOBnk1LNYoljkyasryKpMCrjbxVqN8YrOWptB9ywseaDFUkbCn5FRexuoplB4cVXdMGtOQAjpVORRu6VSZlKNhkZwtWkf5hVYrheKmix3phG6LiMadGCWzUYbFSqcdKix0R1Jl4U05TUat69KfuAqDXQspIMVFLLhuKh34pjNQoicrErTEjFRmQ1E7HHFNRsqSarlIcyQy5Bqq54NSH5aglkU9BVJGc5DC2FNAJNMGW4qVUNWYbi4JXimZepT8qccUlIGkhXNNjXJyaOtOUYNM50KeuKZvpzHmoScGkUNc84pPKYjNNQ73FXztSEetAJFSLKNyKuBhInTFVydw4FTRcR80hxH8UnQ5pM0vagsRjzSdaRvakGaQEpfHemZ3GkZfelQUAOU4anFh6U08HNNJpMaDOQaaoycUo6UL1pgG3BprU7PzU1iKQxh5pjrkU/OaCOKpCZVZaiZasSCoSRmquQ0VnBJpMEGrJQZpTGCMindE2KmTnNORiDmnumO1RnijcWxcDgigOD2qpG5I5zTy5H0pFXLO4HjFI3HOagSTJ5PakMvPWgVyy3PSnKcDFRRnJqXpSLHMNy4qB1I71Mp55prjJoEyoWDdqhb5ZfarRTHSonQk5xVJkDOQ27t6UN8w4pG4GMUq9OaYDA201LuyM1A/WhWOBRYSY+ZMjrSQyEHFPlI2ZqvGfno6DNCX50yOKpA/NirZP7s1UUfPQgEP36fC+2akZcyCklTYQRTsK9jqtKu9pAJrqoLgSKK860+dlYZOK6izvdqAbq8/EUdbnfQq6HSFgRVOUENxUC3o9R+dO+0q3cVzKDOvmvsDNjrVaZ+vFPd896qytzWsUZTZDIeSapTHJ44qeVuKqyNXVA5pGjpmoNakKST711ltrMTRDe/zD3rzh5WVSR1qomrzRO3NRUw3O7olVeXQ9fTVoCoGcZ71I+sQAbd9eVp4mcIoK5pf+EnJflDXN9UmV7dHqiakuclxj61DNeqxLK4/OvMl8QyEcDP41Xm8Q3R4UlR6VX1OTH9YXQ9l03WkjHltIo980668YWtrL5bXEf1rw5tXvWGfOZfoaqPczTPueRmPua3jhWtGzB1bs9g1Lx7bLkJNu+hrmb3x/K2RCpx6k1wZGXzyRTW4GBWsMNCO5Lqs3brxTe3QYMxGazGv5mkDk9O1VAOMml4rZU4rZEObZrw3LSxncaryR+YSVGBVSKYoMDpV+0IfIPely2He47TBid0PQA81DdbSz4PStaxs8pO/RscCoP7HlmhLbHyT6VKmr6luErWMR2KgKpIppL5HzGrlxblHwykfUVDJGQ3TtWu5nqiPG/Cnua6zSvDhuoA+8AH1rkt+xge4NdFZ+I1hgEe4jHpWFf2lvcNqHs7vnOgsvCaOTukBxWlD4Zs4yCwzXPweKIYWbMh/Opv+EuhI+/n8a4JrEt2O2Lw6Ovh0qwjUYhXNWfJtYF4jT8q4tPF0WOGGfc0P4oST+NfzrCVCuzRVKK2Ld4kD3RBQYqj9mhRyUXA9KiN2JG3bwfxoabuDW6jJGbcGwZlEoGOKvJGnlggg+1YclwBNncPzqW3vWVuuRWkoOxEZq5qsMdqjbntUIu91L5wNZqLKbQpGOagk61NvDConxmrV0ZSiMHNSIoB5qPIHeguOgNWkZtkj7eaghw84Qf8A6qlaCby9+xuenHWrkGjyW9qblshn6A1rGPQylKxJYw7ZCw6nvWsUAAPoKrWieWMEVbbAU8it72VjnSv7xVkY5NZNyzb+taU5wCayZzljVJDZDPJx1qsH3Hmlkcb8YqSNUPSmLYmj5XAPNW4m8sZNV1wvQc1YCllFaEFxDvGQcU9JSqkH1qrA2zvU28MduKtMljnkyp9KyZATKea0ndQCgqiR89K7GkhI1wauIAoz1qAYJqYZDbai5TRMjFRSjazc8D0qNXCvz0p5dDV3IaI2OSR6VBJnbu7U9nPmtxxSyn9z0pBHcybsknPSqNw37vIFXrr5lxVE42EGoaNEUnHy0tnP9mkBOTk9qSUgcVXJIcUmimdtBLlEb1FTO5IrN06TfCvPQVoE8Cri9DOSKMoIOciqTqS2a0Z1wKzZd4bjpQ9wT0ILhAB1Gaz5BzV24cEcdaoSEioZoIBjBznNdD4Z0Y6rqSR4+TjJIrAgjZyFwT6V7N4I0hLHT4p2T529RWNafLE2pQuzorLTraxto4Yoh8o5qeSJZBggge1TAbck96XIrhtodN2U5baPbgoKxr20RckL2rflbis28YGMisnoaRbucldW+QxGBXL6lbb5QnGTXaXKDa1c8YRNfKOozWuGd5ixFlA0dLtVt7FFwM+tWpNzIY165p4Ty4VFAIjDytxgd69G55yWhk6jMYIvJX7zU/SNPAiLuPnPc1AiG+uzLglQeK3rUhkGBjFcFepd8p7OGpKEFJlyBAFC4q9Ei429aqw/MKswKVYsa5blTeupYUBRwcUrMQ6nsaikYBGcnpUUUjMFL9OwouZl3G47f1pHQjpzUUEpZScc1JIwADsSKZI0qcc8U2UkR5AzSllfDhuMU0v8hyOKTKQJ0yaGYE8CkVtwoxihFEbjiq8sYZcjirLGqs0hVDxUFRKk4VEyeTVKQ5XrV1yrHBFUZh1xwKtI6YlZh/tVETwTSSHk801Wwhq7GiFX5upxSswUdKhkbkEcCo5ZSQKpRHsS7gTVSVct0wKFcscZqZ8OmO9XsF7mXOoKFSM1hyI0cxC10UyjmssxgznIrppysjzsVTTmS2V48CYbJFakF4rnJbFZpiBGMcU0pt6ZFPmZzyw5q3Nzk7VYGsK9upCShzSq7o24k02XbM24kDjFbRmcc6NiqGdxjrUZtyTk1OH8qTgZFW4VE/atk7mElYxXt2znpWlY6czYc4x61cOnmST2FWFt5OIwSoFWSSpAIwBgD3qZWKJjbn3qVYkwuSTiobmQY2rxUitcQPu4AqvNbNOpUCq4uikvNT/2h5YLDGKXMPlFtdOjib5gC1XXMcSYC1mHWEY5yAfrVOfUy7HmlzByl6W+AyMVRuLndVUybgTmqskxB5NTuyrBcTnOKznch8nkU95C0uKgkPNVYEJsMs4xx7VLcKFUKOtS2yBX8xuOO9RSHfK2DnmgYQoTg+lTxPtbBqSCPbHkioHB39MVJolYughqdyDUMbdKnGCKk0jqTRzYI4NWQ+RnFVUUZFW1X5elQzeGwhORUMiHOauLFimypnHFJOxo4XKZXAoBxVlkGBUZT0FO5DjZig8ip1PFVGODUgf5aY4yLQOR1o59arpIc1MpzUWNFIdSZoz60x2A7igG0Kw4qMcDFIXzTC3vVIzckDsW4qIxkmpdwpynI6VRNrjY4wvUVOoHpTM+xpQaVxqKRHJwp9qi38dKll5Vqr5HrTM5blgDFBNAoOMUHOMY1FL0qTHNMYZNMBIEwasSHIxSIlLIMUt2UthiHnFT/wANVQTvq0vK0mNbjT1pxOBimt1pDkmmygX71Ppg4NKSakA605eBTVxTsHFDGgbpTaUZJ5pSBQhjGOKQHK05gO9NGMcUAHeo34qWomGTQKwgG2nbsij60oAxQFiF1yDVYrhquuOOKqyDBqkS0NbpToz8n403rQOOlMgJRlfxqHy81MxOOaFxTBkWymSIQrVIxIbAqTAKcincVijyAM0ZzU8iDHSmBAO1ADlkK1KsuagZh6U1X+alYSZeDZparpJ82M1KHzSaLQrLtpp5WnMSepoA+SgGViPmo21Jt+agimmSVnWmAYFWZFGOKh2nbTTFYjY5XFMU4NPKHNAT2pgywhylQsMNmplI2cVVdm34zxSSDoSBsHNJIdwpANwxTwlMEEJYHNX471kAFVBIgOBRJIgbgVPLfctaGl/aL4wDzR/aUo/irMWZc07zAal00V7R9zUTV5AeTVqPUlkX5jzXP+YKVZMHg4peyRXtWdDJMrJxUB+as+OdhjLHFWEuFxyanlsHPcdIuQaw7gYkIrZL7iQGrKu0IkJq4ETIV4WjGaFxt5ozitTMlQBE4qPJbk1KRiPiofakMeT+7xTF60vJGKVUpgPVsDFMbpTsUhGT7UEjf4aVRmlbaq9KmhhMrKq9TRsABCwAVa6jwxobTy+dMvyDoKtaF4TmuSskw2KO1d7aafZ2EOBgY7VwYnEWVonZh6F2pSOU1uyh07ZJHgZ6itXRZLO/svLUAP61geLbsSOUVjnOAKyfDurNp975TucGueVKU6SnfVHSqsY1eXodbq/hiKeIsi4auEv9LmspG3KTXrtrMbmzWQ/MDWZqujJeRkeUN1FDEyTtIdbDxnrE8ckTBPHNMRea6LV9HazmIKcCsEDEh44r1IyUloeZKLi7MhlHNNA4qSQc0oUCPPerJRHk9BRvZaRWw1OJzQMnjvpY+M1ZTVpANjGsxvvc0cF/wqHBMcZs1WuRKOvNTWkhDferD3svQ1YhuCnWpcOxUZ2d2dRHKlTeYpPFc5HfnPSrAvmI4JFY+y1Nvam8JBjio5pOKzIbqRyACSa0EtridchCaXIluNzuAYysNg5Patu08PX9wglW3O3sSKba2ttpAS61EgsORHmtmH4jwKxRbYBVGFUCpcl9nUzuay2iQaXD9oRNygkg1y0t5Lf3LgfLEhwAKivvFNxq8hiWIxxnuKt6dbBUDYwaqnBp8zIm76FyKLC80kyDBwaskrtqnLg5rpSuZPRmbc7gDzxVGQjvVu6JGeay5pDgnNUkSyCYYfdT4TjHvUTSB+CKfuCkY60wv3LYPNWA5C1RjkbdyeKtI+RzTsQ2kWI+lSK23NQKwA60biQcGqEOU7mJpGUUIMDFOwD2oBIZnd90YpVVs7s80ZwcU44/h4NTYbFdeQQfrSEFRmnxr60rIWGN3FWxJhioZw2ODxUq5xUE8hwQKi40jOmUhCSaot901fcbsg1Rkwpx2pFJFSZN0uaryDD59qutg845qtIAHwRnigs19HmG3aa3Uwyj/ZrkLC4KXAVeBXU27Fos+vWlHRilsJN8wzWbctgVfG5pCp4FZ16pUMc5FORETNdsk1G0TS8CpIUaeXaorr/DPhd72YGdB5fvWU6kYbm0IOehmeHNEmnvUdkbyge4r122mFvCkQAwB2rOaKDTbQqiKqD0qCwv1uJzGvYZry6teU5XR6NOhyROmW63DBFDncOGxWYL6Nfkz81Q3d+YVyykDHBqFNi5DQkKkffNVJ13R4U5NQwzvIhcg7cZqex3XKO44UDH4073GlZ3Oe1RzBCxPWsXT8tKG960/Ek+ZBEvPPJqvZxbIAQMH1rtw1NW5jmxVRt2LxJcbc1naxceTZkbjlvlq6uFiDH73rWHqk4lnjgAz82cV0SdkzGkuaSRq6TAEtY+TuPNbEJSJ/u5XvVS1i2woW4AXFXYsIhLH5a8Zu7ue81ZWLiKo5FSbmJ46VChTbncanDAD5eaDCW4/wAsSLtYdaXCqwUD7vFJHId4yOKe74yR1NUmSKNo4AwabJwjZ54qMyhu3NSp9zJ9amTdw5bESMCgGMCmBjg56VLKoGDUE54AHFVcdiTgd6az471DnikBqbhYV5DjiopGBHNKSA1RswJ56UFpELkE9KinQMv3anyOP1qWJBMxHammaJ2ObvD5bdMVFEylDmtPV7MrnArB3FcqBit4q6sbKWhYkOUqCTiOhpeg7U5mVk6VcdC29Cvu2kGniWopSMcVEGrSxipJMsMu5Dis142ElaCNngGlmiAYHHakp20Jq0+fUqxKac0WaezqgzTFlyeTxVK5NorRkDwZFVZLfaa0mPvUEmCeeaqMmYVKUWtDMcbRTobgxHNSSpl8DpVKcFa2i3c4alNI24dQR8Ddir8M0RPLg/jXILuHrTt8gYYLVd2YOmjrLh+f3bDH1rPmSRz98VnxGZ8LuapmtpsZDmp5+41Qb1Qy4gkB+8KiNvKyE+YKZPb3B/iaqrxXKLw7VSkTKk0Itq5cgkU2SN4+2aizcx/MGbNEd+6N+9G76iqVzNrTUnjV9tROvXIqwt/CONnWl8yNmzgHNVcVjP8AL+bgU77Lnk1fzDu+4Kgup1VcIMUuYLFSdwVwO1MtIS7lj60kY81+laUMIjTpzSkzSEG9QPyriqcjfNVuTJFVXTmpLlsKhqwjVVQEGp0psIluM9KvRn5RWfGwyBV2JuKzkdNN3LQziopd24Y9KlDHA5pxHHIyazR02uimVakyRVk88U3yx3qrmbg0VHXdzTA2DVh1AHFV2XniqTMZaC7uKlSXFVjkCm7yO9VYnmLfnZqNjvNQqcmpgKVhqVwztGKjY5qcKCeRTWQelArDFqeMcVGFA7VNGODRccEPxxTTT8cVE5waRbdiGSTbx7VU3U65c5PNQg8VRzOXvM0QeKTOWpAeKVOaDMcRhc0wrmrG35aZgdqCkiMMVbFLIeajfIepeq5pDIehq0g+Wqr5H51PGTtptaAhxXJ60tJzQDmkMG6UzdjtTyQRTSKQwU4qVWBHSoqd0T3oAUuAelJuzUbZxmkBNA7kr9KYOKXOaKVxhTTyaU00ketMQNwKQNxig80w5DUMY89KhkXvU6802VeKExMrheM1GTUw+7UBB9O9WZsGHalUUvVqDgUCI2Qk5pwYbakONvUVAw96ABmBHSmGkIwacMdyKYiJgKib5TmpWNMbkCmKwgJ3ZqzG3FQFRtGKkjGByaBosCng8YpgNL3qCh23vTG4PSpT92om60BYRxxTQny1I2MdaZvxxTEyMx00x1MW4pu6ndiK0bbTtNMdcvmnldsmTSMfmqiSM5UZBpN7DvUm3dxR5NFxogAc81OsZbGamSMbRxUpAVRRcZVMJB4pwjYdqsoRnJFScY6VLYWKGw4zilUHGaubRtqBgBmqvcVhm7Ix0pNx/vUw8k00A5osgRLDMytyc06Y+YCargY71ID8uM80WGQ5wcUhNKw5pQKZJLIdtvuqLHANDvlNuaYG5AzQMfmnKxppxtzmgEetAyTPOKk2gDqKY8ZyCOlP2buh5oJIymT1ruPA3h46jdrLKmIx61haLoz6hdJGqsR1JAr2XSNLh0qxSMNtbHUVy4mtyxsjooU+Z3ZNPBFZQYUYxXN6lqICkr1HerevaupjIU153q2slQyK2T9a82lRdVpnozqKmtdyHUrr7bfY6Y5rOcr9qDgYIqvDcs029s5PFTOu45HU9q9aMeXToeXOXNqeleFdXSS2VHbgdjXTPOsg+Xj3rgvDeg3ToszFkT06V10m2GDCE8cc15VeEVPRno0qj5VcxfEMUUtu+QC3rXmdzDslcA969C1SUtE+TXFvb+dO1dmFdo6nPileSsZTITzioHJBxW5LpzhCQD+VZM0BR+a7U0zkaaZAAMe9GPenFdtMY81QglGDSKuOaVzlqUkY60EiKuTmpUVfSmJU0QGeaTGieGIN2q2ltuFR25AYCtaKNSoNYynY2jG5BDbmPDKRmtCG7uoxhCPypFjGKmiUA8DNc8p3N1ArXUdxdMHkctj1qCG1xMSwFag3EHinRxBlLHrThPSyMpJCWMKiUDHFdMiCOEbTzWVp8IEgLCth2EWCFJFdKTS1Ofm1IJH2jBzVaQ8Eg1akk3L0AqhM+FOa0RMmULputY9w3UVo3THBrNl5pkjQATxTgDkVGD6VLGx6EUAywig4qdcKQMZqOJR1zU6gFcnrVIhkqouKEAFIp4pw4p3QAeuabv56USH5eDzTY+vNIEKwOakhG58U0jJqVRtXI60xkmVB56UwlSeDinNnjAzSEMB0FFxWEU4QiqjE5Iq0euBUMwAGaSQ7mZcK+SdwxWecsxya0rjBjPNZyryeaksiOVNBQMu4091Gaa/CcUDuVMeS+8etdHY3ZMYHeubkJI/Grmn3B8wAmkD2OlVwZCTWXqRABA6GtKHDDOKxdZlKgBQetNkq1zY8KW1rcXY84gDBFei/Z1toNkEyrx1FeL29zJaOroxH0rcTxTM0ZUu3ArzsRh6kndM9ChWglZnbazfKtv5RkBIHXNXfDNoHt/PKnLHANeYjUp7+8SIlvnYCvW7C4SwsIIFAJC84rGVL2MUpbm/t+fRFdY1bXUQnAGc1f1GJJUAJGAcYrEe5P9sCVefpTrvUWyc9OtZOVnqVys3rh4YrLamM7cVm2morbwPGXG0ZJrEuddTazE8Y9a4nU/EUgd1iY4PpVwhOpsiJyUVqdBPctqGpOI+QGrbVfKjVSO1cx4Z3bfPbknJ5rRudaAughGfpXq04KnE8yc3KVy80mCAawypm1tVBHatRnLSZHTGaydLcS63IxP3azrO0WzowutRHXRyOo2nGAKtWZLA7l496zZJwCoBGD3rSt5xgLjHvXj69T2pF1VAGCBUqgk4C4wKjiIAy/JpTMy47ZOKDB6kzjYgYimlwyZ2mhJAwbcQQKiN0iAjbVRXclpjWKhuuKmD7sAHj1rPeZHbg1MArKFDc9eKTKLE8ojHzGolZbgb0YEContfPkB3nA4NSCFLePy4j160wH5UEj0qLILA9Ae9IVy7fN2qvOJljVUHelYtIkYguQGzimORiolZ1baRzSM9Fi0gP8VPinWFASefSq5f73NJ5iqvIBNFiuUs3TpNF13E1jXOn5jLqOauwsSxyRg1e+QgKQCKuMrDWmhx80LRdRUYzjArrJtOWcZC1UOgNICEODXQpphzXOWlyOoqAtW1e6TNbMVdSfoKzntiOxrdNWMZX6ECS4NWWmBjye1VvJI6A05Y3IxtP5UmlcI1JJWsVp5dykDimo/GM1JLbsTgKfypUtG9D+VXdIwtNu9hSWKZzURJzkmrn2OXyvun8qSPS5ZecN+VLQq072SKDnNV2jDnk4/Cujj0GViODn3FWRoOwfMgJo9rFEuhKRysNoZX2gY96v2+lgttYjP0roo9LSNc7cGpGs1RNw+9WUsQnsbQwkVqzLi0wKM4HFT/ZowMYyaskSDgHio2I7cGsHOTZuoqOhny2wbsBVWS1XHIFakrDsRVeUqRxitYzYvZRerRkyWibD8vNUJtPVj0FbjDg8VCyg9q6FNnJUox7HOvYYHGM1GltKp55reeIDmovJL/MvArRVDklQ7GT5UgOShqN7Z3P3a2/LIHODSAAelPnJVAzobQRYPGamI4qV2FRbsikndg48uxCy1XcCrEp+U4quTk1ZlJEQ69KlQ8Uw4FOQigSJk4YGrkTcVTU9KsRnila5rB2NGJs1YQB6owtxVqJ/m61k1Y7acroWQBTgdagbNWXGWphQGlcc12K0g4qLbgGpWGGpDyKtGElfQqSDg1Dg1alX5TUOKtMwkrMQfLUqSD0qsxpUbiglMuLIM9KCwPaoAaXcaLFXZNuFCt6VEgyetSkbaLFJslUnqTVeaQA0GTFU55TmixNSdkMnbcTjvTQpx1ppO7mk3VVjk5tbmmamgTPNR4FTQnaKlmiJG6YqD7jZp7Md/XimuMjNSWI696apyKkQ7l55qIcSYHSgY5hkYp6fKKCMCmAnPWqepJITlaanenrjb71GMhjQMQd6kWo+/HSnr0pMYMeaRmpOpoI5oAbuozSlR2ph4oAfml60zIpdwFIBT0qPHNSbs0KBnpQNERyKQGntUfegB+7bzSsdy03GRS9BinoIhC4psg5qWgoCuaolldRzSN1p5IzgDmk20E2GN0plPIJPtRtFNARN0qOQ4FTuvHFQyKccimIgDfPSjnmgJzmpVQbOlO4EeakzxUZwDSg5pATq1Sq3FQDApdxB9qVh3LO7NKBmq/me9SJIcdaVh3EkX5KYF4zUjk4xTT/AKvNAmiMt2qNnIqdQCMkc1FIBnpTQiJyW5qPOTU6gEkdqgYfvMDpViJEqUU1F4zUi471LGNJYdKYxcgZqfctOG1hzSuMiIcqKcrORipwBim8A8UmwsOC44qGaMVJvz3prncOaENkCoDwKXy6WMYk9qm49KdySgVpoG1s1aZB6VA688VSYDG5OaTpQcihh+7z3pkjETcpNNHWpgQqYFRY5oAcfu0CjGRTgtAE6sSgFaukaTNqFyqRqfc1V0+yku5kRVPJr1vw1o0dhAp8sBzyTXNiK6przN6FLn1exZ0DQodKtAxH7wjrVnUL4R25Gfmq7cvtQjsK43Urx3mKgmvKblUd2elGMYrQyNbvCIWC1xTK0zl265rs7nSbq5XgOc+1Vo/CV27fdYD0Ir06DhTja5xV1OctDlVTawOO9b3h3Tm1DVF3r+7rVg8FzvJ8w+Wus0bQBppBGDWdfEx5WosdHDyck2bUSw21usajtWPeyA7gPWr1xJtkJPQVhXt0NzMTxXkxu5XO+ysYGsTlFbHWsjT4XmuFbb3qbULszXOwHitzQLUFgzAYr1XL2dI5VH2lQuRaVGLU+YOcVxuuaesTM6DivQL64jERAri9XkDwsDyKxws5uVy8RGLRyDVEetSupDn0pjgAV6p5gKOKVVGMmkzgUAjbTJsPBHQVItVwcNkVKjUrDRowsmQaurdqi4zWREdo5qXKkZxWTimaxk0bUd4GXANTwzODkVgRy7H4OK0ba7PQtWUqZrCd3qakN18pFT20u+TZ+NZcGGf2rY0y0zLub1xVU6etzOtKyNuxQcMRnFSTM7SY6Cp4Ilij61G4Vm61u9TmirblKVjiqFw5Aq9cKy9+Ky7mT5sZ4xTSG7FK4lJ4NUHbKmp7l89DVZmGMVLBCKCO9Sq2DUY246Uikh8Zpx0E0aETVODVaIdKnLKCMVVxWLCNkZoB3NTEbsKdjDcUEg6ntQo9aeWwuaacMKYAuc1IGIpinFKXq2QSFmI4qRM96iVjt96VJTg5FIroPB25b+9VaXmrDcqB2FVpeB70XBFKWPdwaqGMK1XGY1WblqgtMpyKc1E2QMVbYetROFPalcZWMYKH1qKI+U+asPwOOKqy5zRcdjr9OcTwcelY+swsGzTNDv5EfYWOK6Z7CK/jDN1qYy6MGupxywsyDirEdqT/AA106+Hjj5DUp0gxrkKK0Juzn7KD7LdxykZ2nOa7CPWkWHLNyax5LTZGflrMlRgpAz1rCth1Usa0ayg3c2zrqRXO4niqd/4iQjg1z9yjMcE81m3EbHgk1msNG5v9ZkT3ep3EjEI/ymqWS8oGck0m0qMCpNPiDXyDGRnkV0Rilsc8pOWrO809ks9JXP3itYUlzm+B96vXcxCrGBhQKw0O+7Ud91NmcbHbxTLHpcs8nXbxWJ4cl3Xc7kcknBqxq8xg0gR5xleRWd4Yn/eEE9a56y9xnbhH+8R0twXUpzxW9pxEsQJbpXN30vzLg8Vr6SxaHANeZNPlPaktDosDys5qGSRWUDPem7ysJDrWXNKVdMMeWqN0Yxj0NON/3jAnipJFVh1rOibMr7m4qcuCwGSB609QaQvlKOlOUFWyDikWVWbAXHvUrKvBzUhYniBj5J602RCxyGxRG28BT+dJOuCAGqkS1qRSHYfl60zziDub6U5gS3FQSHcPmyMVZQM2H3etRO2TUM1wFYKCelRxzbgdxzUcrRsloNbcTmmEszAZpWucdqjEys2cc1RaSBGKuwJqY3LbgA1VZe5FRo4Dc0+W47G3baiMbGNaVvcocFSOtcgJHUlqkt71hJkkihxaM5Uro7WUW85AkUciqVzo9i8RCkAmsH+1ZC3Dk1Yjvt3LuaE5IzUGtiQ6BHGuSyn8akTSLc9QM4qr9vU8EnH1p/28KvynFHNMbTQn9iQ+bncOtW4dJtYixYA1S+2oHDGon1PkgMcUOUmNRb6mvFbW27BVdtSFLeI4VExXOyajhPlYioW1IkA7iTR7zDkfVnSS3ixuPkUD1qtJqSf7Fc89+ZDgk1VN0TnmjkbNFFLc2570E8Gqz3WRk1lGdv71N+0EjlqpUym0ty615hqrNcF2qq8o9aiMp7Gt409DFz1LfmZBqPPNRCSk8zmq5ROqixmonpvmcdaYZM96aQpTUkMYZSlCfuutDMMVC0mOCeK0sczaQHCjOarSSgVXurjbnaapNOzd61UbnNOrbRF7eKCQV4qh5jetSRynaQT3p2Mue45zg1Cpy9SsQRUaj5uKZDYMlNRcVPjPWkIA7UAC+lTIcVXzzxT1fHWgdy9G2BU8L81nRz84zVlJMdKho2pzNJWyRUgGaox3KhgTV2CZHNZyVtTshJPQrOvJqMDBq/JEp5AquUHpTUkyJU2tSlNycVX6GrcyHJxVQg7q0WhzTWoxlpEGKkXDdqRhtBqjIUU4DNNT7uTTwaBodGAtI8oHFBI7VEwGaB81kBOTVSbrVhztXIqrK27pTRhNiRglTSbGpykqODTsn1pmRpjmn/dFNRuelK7ZxUGqHsvyg5pD93FBPyim5pFjYjgYpG4kzR92mFvm60DJTJx0pobBzijgr1pjU0SyZZAaVvm6VEqGplGFpDEUU7OKQEZ60GgYgGaG4NIr05iCM0ANB5pjcmgfeoNADDxQGA4xSE00dadgJQRTl4pg6UEmkANTO9PYjFM70hsetI1AIoJGaYIbQSdtTbFprKBTQmitjDZpSw9Kdj5uaQimSNUcUBacBxTCcGgVhwAB55pkqqR0pc01zxTuIgMXuKQjYuOtWePUUx1BoEUW+90pN+O1WHjwM1AyHPSqQEnmZ7UhbihEJ7GlkjNAiNWy1To3aq2Npp6NzSaGi4x4pNwMeKjVs0/bkVIxEODimSdaftxzTWoER52kmoxy2akfBFRjrWgE2QPlxSgZph+8KepqWAwqwGaaGYVYVgRg01kGM0hixue9PLCoQOMUYNJhcfzSjrRupy4PNABt2jNGac33aiY4NA7ARkZqJhTnbB4qMmmhEUgwKQ8pilkzjoaVxhOKslEb8tgU0Dd+FKMlc4q3bwb+cUXCxDDE0h4FTpbOz7QK2bGxVV3EdqvafaLJeYK/pWMqtjSFJydje8J6OEAldR+Vd/Cu0DpisKwTyoQqjBrbiJCgE141SfPK7PUUFBWRLL5bAhhmsuTSbeWQsE5rRKAnORSx4U0LQCO2sFjAU4P4Ve8mGMYKjNRCQA8U6SUEA96lu4rtjxCmNu0c96rXISBDt60yS5ZTkNkVmXV/uJGaRUYsiuZAYjnrXK6nMFiZgDWrdXWEI3CufvH8wFe1a4eOuoVnbYzLaITT78fnXTwSfZrYBetY9tGI+ana64wTXXU9/Qxh7gt5dFlPJrDud06EAVPPOWkwDmpwEWHkjNaQioIzb5zlJ4ijFT19arSDArU1EjecetZUre9dkXdHDJWdiMmgZp6qCvNN6VRIYoD9sUp+7TVGWoAsIxA5qZTlPTmoVGaeAc1FihSCOc0+J2B60pX5OtLGvNA1ua+nB3YCurso2O0AdO9c7o0TMQa6+yjZVyelNbEyd2TyNiMHPTjFQ71HJqSRwflx3qCVOOuKaRLK9xMNpyawruTJOK1Jyu0jNY1z3xTJKbNnNQHIPWnyHAquzVBZMvzHrT/uuKro/epvvHNUJl1JQFp8cgAIY5qonHWplI9KLEtlyJ8GrOd3NU4qs57Cq5WTce2CuM00g4wDil24Gc0xiRTVxOxJj5c0A4PI/CollwvWnlskP7Yp3JRODkZHFMw3PIpivk5zUgOaBvYRiR3pjHHUZpc561BKGJ4PFA47EUuN3SqrfeqeYEEHOahbHrUMpEbrx1qs3WpizYOQahPTmpNCJqryL3qZ81G/IoAiglME4Oa67TNSyFGciuOdN4z0qaxunt5Nufei1xXPVrS7EqYAwcVOcCI7uTXHafqhKqpbFb8d8flC4YU0rCvYW7jBjIC1iSWjgnjNdC8ocVCIwx6VdzFuxyN3auG3Y/CsueF8/drurmxBUnise5sjnhf0pW7GimclJGc4xUulR/6cCR0q7c2xVzRpsJWUsRSRVy3dztuORwKztOUz6soHABzWjcKDG+SM4qppTrFfFzgcd6Utw6Gn4hSSWIAfKqjvWboR2TgD6V1F0qX+nyKuCcdRXL6YPs9+Yz1FRV+FnRhn+8R0Nw+SARWvo84VdpNYszZPFaWjsu/DCvNqL3D3V8R0wl2wbjzmsK7nLTIcjAatyUKbQfKa5q7wspJPAPSsYK7sKKtqa9kfMkdiflqeeYsvGABWXZzMU+QHB61bkzwDQ10Eld6jkuSXwTirXmgr15rJaQCYDBp0rtxsapsaOOhrJKyuMn5TVxmjOMtzWRExZBuNXY1WUhy2MdiaHojJrUZLM0dwBn5andl4OBjGabLGk46Yx3polTGw9himmLoZmpyKFyo5rLjlbB+bFbl9bI0YYEE46Vhm2bceCBWySaNoO46SfjrTFnVRk81HNEwGRnFVJgwFUoIq6NITB+c8VC74ORzVCJ2Hep1kpuAuYsCcsMU5VwpOagAHYilL7eM0rFrbUTcUbOas78xjJqmxyOtMMh6Zp8rI5kjSDqMUruABWejk96lySmc96nlHuWZHG0VWLgHJqKWQjoagMh71cYaCk0h7S5UjBqIOQMU0mo2bBq0kYuVibzPWmbwM1XeTjioTKatRMXVsWpJwo61B9pBrPuJjg4NURcup71caRzzxWpumQkZpVf3rKjvCVwTj61Ktx/tCq5LE+2TNDzKTzOarCQHvSF+aOUfOi6G4zmmGSq3mnFMaQ0co3UVi00gA61XmmGOKhkcgdar5LGqjExnUu7Ihmy3eowuDg1bEWTzTZI8OMCquY6sZsAFMYYPFSvwKi5J6UwFzxTkHOabj2pw4oESA0jCowxp6nI5pDTuhnQ5psuQM1MV701l3cU0Johi3Fq0I1ITBOTTLeAdSKslcUpPsXCDtdlfOH61btX+bg1Sl+9TrLeZehpSV0XCVpI6UAeWPpVcqAx5qQttQZ9KqtId/Fc0T0pyS3ElSqMibWrRxuNV5oyTwDWsWc1SF1coD5RxULszcCrDLgHioREzHIrU45JghKrg1IHFHksBzTSuKBaoN/NJncaafahM80IL6DJ2wuKqr96nzv+8xTYxzVGMtSUU6minUrk2NL+M0lPI71G/A4qTREv8AyzpmabuJj60wMc9aLDuEjc1E54oJJ60xmAGKYidD8lOfpTYRlM0rA1LLJFbNPJ4qvG2KsLyvNFgQzqalX5himbRnpTlO2kMjpy4K4owN3tTRwaYCtheKYTTmIxnvULNRYA60DikXpSimA9aU0g9qQ5pMAApSKco4pRjHPWhFETLtGaZmpnGVqFl9KZLHmQHpSA880xFwaJWx0oSC4O2DzSB1qJmJHJpFxTJbJ80xvvZpoY96GOaBMN1NIzSDlqV+BxQIMYpwFNVsjmnIy5oGIVyKYY6mZgOlRbznrQJihdtMkXcCalzmmE9u1AMosMMaVOTSTA+ZgdKTO0VYidW5qQPxVZGqbI2+9JoCXOaY3Wmq1KWpAMIwtRqM/nUz9KjAxVMQ7NOXpSAClHFIY4Cl6cU5sKKj3bjmlYY4DmnUDpSGkFhMU5eBSCgmgYu7tTGNKajagTG0w/6ypiB6U3aM5qhDHOBURapHIJxTdo9KaASP7oFbNhbl4unGaxQ2WULxXTwZt7NSAMdTWcy6cTp7DRlNikjOAB1qKBI1vyY/ur0NamkxPqPh2Vo0yQO1ZMEUlrJtdTgdQa4neUWmdMFaSZ1NnJvYVrrJjAxxWBYvgDBrcRsoMGvO5bHa3cshgV6c0zOGpAfl96geQqaCSw0oQ4pkk421Wd8jJGTWfPelZvLxxjrTWoWsWLi6AU4NYdxORk7qfd3A2kZ5rHmmySM8VrCDBysLcTs5yapu25qbJMc9aYrjOTXXCNjGUrjml8tapTXXNFzLl8DpVQoWOSa3jExlJ9CVW+YGnTz/AMqgkcIMjpUa5lGe1XbqZ83QoX8/zVnZ3NV/UogpziqKACto7GEndjs0h5xTsCmtwaomw5/uhaRDiQUhbd9aVFJbNArEiNg1YUhsGqq9amQ0mWmWWClKF46UzOVqQFQtQM6fSCvlriurTPkDmvP9GvfLYK7d67iGbzLTKnLY61K00FYSQODnPFQSlmGM0SSSKo35xVeWXHQ4rRMloryqcnmsm5bapGe9W7qfAODWRPPnOTmkKxDcSZHFQBx3pGcsagkY56VSGWldT8tTRyDOBVBGycjrVmMHGe9MVi4jZBqdHxVaPCrk1MPm6UEMvx/cqdPu1WiztxmpUdg23tVpkWHs2BTZX+Sh25wRxUcjAikFhqyDdVjeGGBVGMAvk9Kswnkk9O1K7sUkSDg4qQNioUfcTnr2ppZs9alOwEwfNNdwBzTcjtUUhyeaq4JakTuCcVD3qVlUSDA4xVdyQ3BpFiu2arSGpGzimbcjmosVcjx8tRlM1IeOvSo3Yh8CmBFKoxxVJtyy5q+QS2M1XkQlqALNneskgzXS2d+SgrjSGT5s1pWd4QuN1Mho7mG43R1chcEc1ztrdFowQeK04LoMAOhpmbiaxAbiqs0IJoS4APJzUpZWGRTvYSVjmtTtdjuR6VUsIyEJPrW1qiboiw6+tZdqMRsD1zREt6orzpvJrKkbyZDW2UJyaxr2MlzxQylsbuhXu+JkPes+9QW2pCX1qro1z5d2EzgelbOsWu+BZgOlQ9rGkJWmmSk5jVvUVf0qT95ism3nEtuozyBirdhJsuODiuCrD3Wj34zTasdfcyuIF29K5nUHJkzXRbmltsg8AVzF/J8zDvWNBajk7XLuk3JyRV6W4yzN6Vh6W5D5zWhcMB079aU4e+y4SvFDJJzuqUS5TNUi2TzUm/jANHIa3uXEu26Z4q2l2Qw+asXec8niphIoANDgQkrm8l6CMZqWCMTSFmNc+twAuQeav2l6QQGas+RrUymrs1Ft8OS3I7UG1R1Py05LhJMc1bhZMc4qVJolNpGDcwBG8vbWJfwsmcDjFdjJAtyjThcYrEvoAwYYySOK3hPUpSvGxzcaOwpx3LWjDZspHP4VJPZgRZxzWzmrjUbIyxKR0pdxZsmopkaNuOKaZCE5PNUoq10S52dmSySYFNDbqi3bkJPWmpJtPWnysz50XY6sE4WqsbDrUjSjb1qHqdMNhjmq7tzSSS89ahaUd6tJmFSaHGWo2kyKgZvSkBJ4rRJHLKo2K0nNNwXp6wsTk8irKRAdqd0hKDluZcluzVD9jb0re8hfQU1oQOwpKoTLC9TAa1IFATAxWxJECOlU3hAPArRSMXSsQLG3rUyxkJzUeSvWl8/tnAoBJIlCcUfKOtR+ccdaickvyeKaQ+ZAzbiRT4UHf1qFY23cGrIIQc0MiK11HFADmmlM0jzACmC4FTqae6NlSmbB3pzTZqMuT3qzOVugNgDioyaXBJpAMmgzYp4FIG5prE+tC80CJgdwxT1WovujNSRNk80FItxjEdSDlaiBOMdqdnC1B0LaxDIm6TFaFnb+WN1VY0LOCea00O2MVMnpZGlKHvXYTPnioloYgnmgMM0o7GjlqTKcdaRmWmlhtqJjSsW5K1hjRAtTxCirz1ppf0qN5Djk1aRi7LUJMdBVOXg09pSD1qtK5J61ojnnJPYCcUxpsDNNeQYqrI5KkA00rmEpDmO999SLUUQIj5qZRTsZkmKMU4/czTc1I7Go3FRO2Vp5OaiekUAOVxSYwaUdKaaYDWFQuOM1K2ajf7nNAEkDHpU5PHSqsJGetWGYY60rFJkW7a1WUbIqsw+epl60MaJtw6YqNzzS85pDUjH53LjvQyHHWkTrT2PFNCKzdcUwqT3qUDL80jYHcUwQwHaKAc0oANBGDigBy9acRTV60/rSGCtxjFBHGaY3FKhJ60x3FJ+Wm7h6VIR2phWgQm3FQyjJpzuB3qFnz3piZGTjiimO+ORQsoxyaaRDHO2KFf5cVXdzmm+ZTsJssCUB+lK0qniqRYs/Wlwd/WjlFzE4k5IpyPzVYE7zT0Y0WHcuDnvTSuD1piye9O3ZpWAkphHz9aTd701m96LFMjkX581BIe2KtqN3WopEGadySBeDUynjOahBGaXPPWqESA/PT2XAzmoTwAc093yvWlYY/fkdKaGyaYG460KaGBMOlIWw2MUDOBTX+/SAkJLDrTQccUwE4pyDNAyYPx0pC/tRjC0wkUWC5IGzQTimqRnrRIOhqQuDGmFhSsAcYIphXNNIQpbNJk59qRuBTC1VYBxwWzRjPeoyxoDGmAPhWGB0rqbSMXOnYJ5xXKvyCa6PS3c2wAOOKyqrTQ0pato9G8CXH2LRpF8suwPT1rW13T4Lqy+2rH5cpH3RXB6RqM9hJt8wCMnmvQdFuDfnBAkQDv0rz5K0joTOdtSVwp4PpWzBJwOaz9VEdvqRK4A9KIZw/IP4Vz1ItHVGV9TVaRuxxVeSfZ95hVWS4Y/KDg1nXrSSjAfFZqDYzQkuyFNZVzdZyc4NMluMJjcKzJpCxJzW1OnqJyHT3PBycmqTyknNMkyT1pFOBXWoqK0Mm7gyknOaCMJmkLVG8u1SKsiyRUlb5+lV5LgDgdaknkGDiqy2+5t2a1SOeTY3LSJt7+tWYgUQCnLCBTnKonJFU3fRCUWtWZup8is4cVavZg8m0HNVa1gu5lLcdmmP1oY4FNB3LmqRI0Z3VIrFTTB96nZoAkBwalU1C2AetKG96Q0W1bNObkcGoEb3qVWB71DGGWQZU4IrT03X5rU7ZCSvpWWXGcVHKUB9/am43A7yDWIb3apIHHrRcTR5wrCuCjuWhIZCc1aGpSkjLGlZoLGvdzgA85rNeXd8uKrteZPzVes1Sf5iPah6FRhzEA6YA5qJ0c1rSQIp+UVA8Y9KSkU6TRnAbaljkOMU946YPlq0zNxLKv8ALg1MkmDgCqkbhm2kgVPCwEvtQnqZmikhUdKnUnOc1WjdSnUVKJOetUiB8rmkKkrnNI+COtM39s0XAVEIXGealB2jHWog+aC+Dim3oSiwrLnpzTGPNM6DNJnNZyKQ8Go5G3U0McUwng0IqwrOKiPJzTHY5pm/PeqGPJBpCQB0qPd70F8cGpAY+KT5Sc0rrlcg1Fj3oGMIO7OabsJPWpSOKjPDe1AIilTapyc1AjeW2c1PKd3GaqsppoZrW+oMoCg4rctp90YbdzXHBiuMGta0uSoB3fhTIsdbFcALlutWVuQcAVgRXPmKOQKtLIdwwc01sRLc1rgebAQBWQqGNiMZq1De4+Ru/rUh2Kd+QaYIqYwpyMVlXkeGzjNa8r724FVZot45FIo5mMGC5Vwe9dgkwu7AR45xXMXcIWbjpWjpt0UGD0zipZQkBMErRsD1rRtTtnBzVK8P7wOBU1q+ZVNYVI6aHp4abdrnZwyD7IcHtXN3+PObFbts6m0I9qw9QwJSenFcVH4juqbFWym2ThTWpK+5Qa5/zNkwINawk324wcmtqkeqIoVNHFit1608ZAqNT/e4+tPBzU2Nk2L1oPTGaUgbeKjI96ViXLoPRuKnjlGOhyKqKcDk0ofHehxTKTNSK5ZSDk1cjvm9TWCs3PWphOR3rKVJXHY6mO8Hlhc/Ke1K9vFKA4rnkutqjrVpdTIIGeMVm4yWxNkSyxGOYsBxTJlLx7c4pzXiyA5xUSOJEOSKlqT1GmZd7bnbuFZcyEYGa6sQrMhBrGurLliB0NdVKqloyJ02zLX5Rg96ikUg5BqSdXRwAp/KoXfjGea6dzlk9LMtQyAp1pjS9eaqxuVU5OKgaVhkUKASr6WRYeTA3VA0uaYGLjFPER9Ku1jBybFzyBVmFB3qERfMKvRIBjkVnI2pxu9R6oAKeABQ2AKZuHrUHUrIUnFMYk+1L5gNNZs1SQOV0MPXmoXANSHrUbECqRzyKzxZqpNGVYYPar5I9RUUqZ/KrTOecV0KAYg81KHDn0qOYbc1WEpVq0SML2NBZAvvUMsmTxVcMT3pwBPrSsDlcUEs2KdsJ705UqUJ7UE2bISmBSKD6VKBmnhQKCkiLHtTehqw2NtVnOKAaGvzSJwDQxGKQH0p2JHsdy4p8SEHrUOaniOaGOL1LINOBycUi1Kq81BvEniTC5qxnK4qFPSpRWbOiPYiYmmgH1pzk+lMVietMlkvOKjYH1p4PNNaiwPYgOR3qNzkUrtyearSyY71ephN2GyNjvUWc1G8mTjNQvIRWlmczmMd8kimoDvyaYGyamQCnsZ9SxgFeKBxTVNKSKQyUt8mKTNHYUlKwXNKkIJpA3PNPB44pFIZgg0xjzUjn5ahJoGGail5qVuOlQvkrTENi4apyciq6damfIUYpDTJCaVWxTRzTWyG46UFXLIfIxSE1BvIHWn7uKTQ7kgbD0nmdaZnjNM680wuS7s0xuaFzmncYoC41etPxzmo1zmpMnbSGLnjFKDimDpmlBoAe2KbnHSjrTG60wHl8VE0nWhulQnNArkbNUZbinmozjFUkSyPcCxzTWK0pXmmBcyY7VRFxW+5QF3AUIN3BqxGoDcjihsLESwc5oZcVb4PTpTGjz2qeZj5SpQDyaVlIqPJzVEj1PWpVfFQDinFuOKB2JN1IWqLcfWgk4pWuMlEmKikl5pgPNNbBp2Qri5G+hSKjPrSqDimIkZxt4pm6kIOKQUASKeamXnmq6dKlViBSY0WFNBXdTEbJqTOKkYzFOQ4OKbSqRnJp3Ac7ZplI5y3HSo2LetCAkU55pTJuOKaOI80gGDmiwDxxSB8GkLcU3IoAHbNRinP04pi5LYpgOpCcUuDvx2oK5oEwHQiuj09CIUAPUVz8ShpwMcV0FrIqKM9qzqPQ0oqz1LrQODgnjrXZ+Bb7zDJatJtYdK4lrnzWAB4FS2l49leCaFyhHcVyyi2journpWraAvlyTmXc/WuYtrkJKR6Vf0/xnDfSLBIMFhgk96o6xbG0nMsO0xtyMGuezlpI0hK2xI1xuYnNUZpzuPzVSe7KkZbr2qrLc5PWhUi/aJonnucmqxmy1QPID1NRmUDvXTGCRk5EzP89HmVVeYdjzTJbkKnBwavlJ5iw0uKqz3A71UlvOODVCa5Zj96rUNTKVQv+cp6nik+1KvSswuxXO6mMxx1rXlMuc1pb4KODVOS+MneqzuGFNVQV4pqKQudgzZYkdacpGzmmBcNTgBimQI5yKYucYpzkZ4o7cVQxMHrSGlyehNGKBWDO6nqAF96jQ4NSdaVhgrEN7VIsuDUR6U2iwJkofmgtmoxSkigdxe9DNgU3OOaRm3JRYLjgS+K6HTYiIBn1rAiwZQBXV6cn7oAisqmxvh1dk3l1BLHzWhtwpOKpy/eNYxep1zjoZjrURTNXGQelRFea1TOTlKxhK/NUgdQuB1qVgSuKqtHtORwatMzlEtwPVpDkZrJScquB1q9BODHyeaFcxaLqsM808IOtV42BbnpUhfsDTbJsDnalIrbuaTIYYNKoCjikrjsiQt8tQ7yGpwbDc9KRhk8UMBCSKUElaRs4oT7pzQhET81AF2tmrT4xwOah6nmqGmyLOKaWycUrcPjtTT1zSGKzbVqP3obkc0hPFIY5jxTCfkpC1GRsOaLAmQgZNREYan+Z8+F4pDypPehIdyrhic1LGzf3sUm8gVEfm5PWqEzVguCpGXrUtrsbx81cwhwcmr9o4ZutKwrHR+cpbJ61GLt9xFUTNk8GnhsjjrQwsjSSYtwDzT8+prPidg3WnPK9AWRRveGNVoblo5gB0q1djcuazDlSPrSvcaN+4nVrbPemW0+NtUYH3qQ3NPQ7W9hUSRvRnZ2O30+cSR49qp6omW4qHS5CB1q7eKHi34rgS5ah7F7xOcuU2MGq3ZS5jxTbhA45GarQMY3wDgV1O0kckfdnrsahOW5qxwE4qujKw561IGPc8VidyHoeeaGxTQeMil4PWkyiJlNR528GrBNRSDJpohrQYr4apA9RbcHNLT3JTa3JPMYfxUomIPJqIY70mBRZBdlo3OVwDQtww/iqoMZoJApKmhczNqC72xkbqYJg+cnPNZSyH1qRZNveplRW6NVU7l2SGNway57NQ5Iqz5/HWmNLnqaceZCmoNGe9sc9KUWYYZaru8Y5qNpBniteaRz+ygtSGO0VXzUhiQUjS4HWoWlJ701cHyJWRJtFGQtRhj60jE560WJ5mSmXjFIDuqNVBPNTKFHai1h3bG4xSE09ivpTOMUDE3c1XlPNTAfNTXjB7UIyepTkbHNRm53NjNTyx7xgCoFtCGzitdDnd2xko3DNUXT5q02hYfSoGg56VSZnKN9ygG+arKvxUTRYJOKRc78Z4qm9DPZlxPmOKmJ2rUFuw3c1NIQRxUmiGBxmkZhniozt9Kb8xbjpQS2yQvxULtmnMjetKsDN2phqyAgtSBGHSryWpz0qf7Gcfdp8yBU5MzFDA81PF1q4tplsFafFYnd93ipc0XGlIYi4NTDrVkWyg/dqX7Mox8tZ86N402kQqMDNSDmpfJGMYpRGB2qLm6TIWXioivzVadDjioCCp5ppktEbDBzVeSXaakmlwOtUJpMmtEjCU+gPJwapSy5NSysccGqEjEHGatI5ZyFaXDZoB31BjJ5qaPgVoYiCPBqZVoXk1IKQxQvFGKXPFGaVhjt1G6mA07ilygXAd1Sq20Y61GcL7UgcHvSsNPQkkf5OlQB884qRzhCarh8DpQMsH5qjYY4oDU1z81MAA5qbG5cVX3AHk1MjDHWkBIFx3pCuTin1Hk+b0OKRTI3Q7sZoB7VI/3qi70xEgPalxtHrTRyak4JpDQKc80EUHg0maAHYoJ7UZHrSEjNA0xQcCjrQMUhIHegYucU0nnpQDTWYLQDdhSMio24ppmphkzQTdDHbFROcDdSSNk8GmMcx4q0S2I0u5eBjmmpnfuoUcc1YjQYpkjUGOtSn5l44pn3qegwtSUOU7V55qRWB7VA5AHWlR8dTSY7hMBiqbcGr0oyOKpuBmqRL0Gbs8ULkH1puMting7aYCUHgUopcUDI+9NbrU20UxlGaCRIk3nGcUvTikRtspxSA5z9aYDsbuKayY705CM9aVjzSGMVcU7bSjFPA4zQAkZ2tUvme1RN8opycjmiwXJHHFNwSmB1oJJpAcCpGKqlRzzQVJ7UBsc07zaaAZ0TFIelKxHrRj5aYiLOTignFOUfPQwGaBXGg5p6rg5pAMDNO7UDFC5fNBXjNNVsMfpSFiUOKBMdbEebV4yndtFZsDYkq8hB5zUyRcWaEMoVDwc460GbEJGOfWqwbjilLfu8d6ixaYyO6aC4VujdsV20Zln09XuGYZXIzXBXS+ZMuOoFdjaaq8+iR2xCll4z3rKslo0VBmVNIRIwzkA8VF5uaW4VvM6HP0qvcB4lyVYfUVSsJuwry+9QvOB3qnJOemarSSt61ooEuZea4APWqst1uOBmqnmMT1poyTVqJDk2Shi7baeYjjrTI2xLyKslxg9KH5GMm7lUZPFI3pShvmNIx5qjQaKcTgYFNBpG607AAbmn7sCouc05Tk80WAD1zSq3zdKG6U1D81AD2HzZphbFPYio25NAhRT1PFMpy9KAFJ4pKcoyaa/HSgQGkHJpSKFByaLFC4+U0KABzRHySDQ/FAiWwQyXIGe9djZx4ArktMH+kiuxtuFFYVmdmGS3J5SEjNZ0jZarNzIMYyKolsmsoI6Jy1EYUwpzSseaTfg1ojnbIyQGxiopCD2qR2zJ7VC9UQ2Q7AGz2pFbDcdKVzgGq28hqoxlqa0T8CrGPlzmsqKbnrVyOYMMZFBm0TRHJqfcMVTjlxTw+7vQhEwYbqU+1MXAOcinZB707CYp5pM7RjFIDQWpJARucc4pnTmpG54xURznFUNET/ezTCfanjk0pAHcUmMi70xql4zUTUgIiDjrSYOKkHPWkYAHimBBgK2aQDrUpXNNIxTGgKqB0qtKuGwBxVljUL5zjFJAyHGBT4pTEc0hQ9aNgPeqAuwXAY96vRPjrWEjlH45rQjnJxSYjVEmDkClZyRnNVElwM09X3nrUDSFlYEVnzjBFWiSTUEy/LnFNDEgk25OKnLZTcKqRniraDMNNgtHc3NJmyQDW5dY+zcGuS06fZIATg10ybp4Oa4asbSuezQneBRO0xn1qg67WLVoyR7CRmqMo+U1cGTVj1JbeYGrYbcvpWPGxjatCKXcRzRKNh06l1qWlbC4pwNRAjzAM0+s72Ohajse9IVyaM+9KDx1oLSsMYfLioyMVK3SozzTRExrAmjPalPSmE/NVEMazYNMLU9sE1E9NIiQokxTjJmq5bFJuOKqxk5k3m801psdiagySeaXdj3p2RPtGWDLlai3GoixoVsiiwua5Jkk8mnbc1GDz1oL4oAlBpSMmot1PVuOaCuYd0pc03OaUGkO4c0maUkUwnmkO5IDTsj0qNafkUAhuwdaTgHpTsjFNwDnmmDI5F3Diqzqat7eaYyimjGUbmdJHmqxTYc1qvGKryxDafWtFK5jOBTVsVYRtwqseGxU8fApma31JEgL+1SJblTVmFgAMCpTjI4qG7Gyp3RUMPerMUAC5OKnVAwpygA4qeZm8KaWoqQqO1TiNdvSo/NA70GbFZ6nRaKHGIZ4qZIwBVQ3HvTjc8cGk0xKSRZCAmnuuCOKqLdgU/7YMc1NmPmROOeMUjLiq63gL4yBUnnA9xT5WHMrCsvHWqU7YPSrIkBzzVO5YBvwq6ZnU2KE2WY81QlJ3Yq+7jOap3BAGa6UefIpySnFVWbc1DsSTSJyauxzt3JkTNSBD60RjkVLTENVcVIBTF61JxSAO1Jg0tFAxtLmlxRigLlycZNNQAL71LIM1FjFAxGckYqJutS4ppXJpWAcBikdhwKU5qNly1Fh3FdAcUq+lLjilUAdqLDTJd1OQ/NTMZ6UAMDU2KCXlqrOSDVsLnk9ahlTJ4piewRNxUgbjNQJxUwwV4oaBbDi2eKSk2mjBpWAU0DpR9aUDNMYA5OKJOlLtxzTXIA5pWCxHuNI3I5pWwKiZqaQm2I2B0qJnxT+SaYyEnpTJuRYqRVUpz1qQQn0pfKwOlMZBs+bFSKuBShDup+xqAIQaUMd2KcI/alK4NAETg9aZuzxU7DI5qFlweKBXLA5SqjryavRpmM1AU65pJDepUxtOaM5qZ4+DxUaocVViLjVJBqUHIpAhNSBMLyKLDIjSYqQr7UFQB0oAhVPmNNCdasheM1EUbdQBHtxT1GaeU+XpSqtAXG7cUpOABTgCaCmDyKAuNZMkUme1SjnjFNaPngUAM3Gms1ADd6cUz1osK4gb5aM0FCBxTvLOKLBcaR89TMcDFM2nfUzR5FIdyvn5siozktVjyiDTChBpiYo/wBXSZwMUo6Y7UEDHSiwXIz3pisQpqTnPFNCnNFguIhwasxt8tQBMVLEPmx2oaGmXlbEeaM7qhL/AMPalDYqGi0wk/19TR3k1tJ8gymKiyC2T1pH5OO1Jq+4XZo2+ulZNzRBsetaa6va6tD5bQqjiuXaJQnAptuWhk3KSDUSopq63GpdGWr2z8uTNZ1wuG/Ctd9SjnjPmQ/N61jzyeZISBxWlPmtqROxFjikpSCRxQENaED801iaUikwScUWHcYCS1OoKHdS7TQA3GKWpClNKHNAXG0Yp4SlKUCI2XimqPmqXae9LsHXFMCJhzQFqQqaVRQBFtpcYp4U0uz2oAYvWkY4qQLg01lz2oATNAPJo2mgI2aABOMmlIzTthxQw2igC3pMebsV19vGAuDXOaHGDLvZa6iId65K256WFj7pWuIRnNUpFCmtKfGcVQmQE9KUDSpFEDCoHzVgj1ppUE9K0OVpECqSOaayVYxgU0qTTJsim0ZPWo2hFXfLJqKSIg8VRLiUmQrzSQuVerLKx4JpqwAHOKCXFE4OakQVAhIPNTqwIpJGTRMBTkHNR5bsaFdgetUQyfZinKoJyaTeDS544pghHxmq/wDFUp5NRsOeKBkJ4qNmGelTMhpFjzyaVgITgr0pAuamdcfSgAelFikRMgphT0qwUHpTNuDikMhKYqJhVl1NQheeaaEyNeaGT5h9KcqEGpCtCQyrIhxxVdlIrQKk1FJGCOBTBlIDFSLJhqlaIY6VC8eGyBVbiL0cgIwamDelUI8gVajJxUNWGmWAc02YExkCmoTnrUrcikNmcoKmtC0/1fNVnQjkU+MuowDTJY/aY7kH3rqbS4PkqK5uTkK3et7TSrxjPNYVj0MHLoSTkFs96qsu6rE6nzDjpUDbh0NZROucr6MzrkFWqS2lwMmpbhAw5FVQCnFbrVHHJuMtDSD7iDUu8hhVS3lGQDVrIbmsmrHTB31JAaa7kdKYCfWkdjnBpcppz6DhIcc0m/bzSAg8UjDPFPlJ5yQvuFMNMyAfvU2aYJ37UWYOdhzUwmohcbqQy1SizF1EL1pcYpnmAU5XyKdieZCMcjFIBT/lz0pDjtTsBEfem5AOBUrAEVGUA5xTsQPUc5NO2g0wE4xQWxSaGmkKKf8Aw00EEU0uQpo5R8xKOlGahVyacSaOUOYduzSjg0wHA5oBOaXKPmJ88U0mmBjS5pWK50PPSm5pC3FM3U7EuWpITgVGTmmlieKM0conLQCajfGcGkMmKidyxzVKJnKSZXnQZzTI5Nx21LJkqarKCjZHBrRI527M1YjhBVtWXaCaz434FPebA4NQ4nRGpZF5rhVXg81Xe7561nPM27rUTSMe9NQJlXfQ0BcNmhrhsZqnBKScMatSNGI+ozRawlJtXuQtdtnFOW5NUpiQ2ValjLEdarlI9oy95/8AtUv2sKME1nPvHeoslqFAPayNZLlS/Wphc46NWKobdTgz570OCGq0kbiXGBnNRTTeYaqRs23k1E85U9aShqXKroSSOBkGqE8+75RSzzkocdarqCTnbzV8pzylcbtpyL81SbDS7CBkdapmYpBFSJ70wh+Oacqk0gHUUhpATn2oAeTgU7OFzTTz2p5xtxiiwDcGjmnk9KXj0pAXyuRUTLzU/amN938aBsgKY704LgZpT98VIfu0CuRFTQIyRmpTSj7tDGiArjtTSpParBpKBjIwSeRU2zjNNXrUv8FKxSYwJSGOpUpTSK3KbR+1LGMDBqw1RH71MQ4JkUvl05OlKaLAhrRgU0LUr9KYtFh9RjkDiq0uW6VPLUdMm4xlOKaIyx6VO3Snw9qAsMW2OKeIQO1W/wCCmGpuWkiv5WO1NZOOlWTSHpVCZSWIh8mnlfapj1pp60EkOymtF/FVikb7lAmU2XjpTWiOcVY7inv1poQ2BcLimSxYJqWHpT36UdR9CiYzjpTBEQOlXD0pKZJXSPvUoQFelOXpSjpQCIvKGc0kkYx0qYdaH6UWGVwh29KasftVofdpF6UWFcrtGdvSkCHHSrLdKQdKYiqiEHpUxTIztp69alH3aVhop7MHpSgZ7VO1NTrRYZAYiO1AjNWzTD1oJK/l0/ZkdKlHWnigCBovmzTipPSpW605elFiitsPcUhjzVlulNoEyqU/2aBHx0q3TT1oEVTCfSmiI56VdHWgdaAKZjPpTkjIOcVYNKvSgERmLdyBim7COKuJ0qu/3qVtS3oiIK1OCmp6Q9adiSIrx0qNlPYVZ7U09aLBcrsrHtUZg5q5TG60ITK/lYHSk8ontVinDpTAqiL2ppT58gVcHSmHrQBX8sk9KXyTVletPoAqGM+lIIiecVaNOT7tAFPyz6Uvln0q21NoAqGI+lKsR29KuGgdKAKflEnpT1i9qsd6cKAKflkHG2lMZzjFW3HNC9aAKRiOelOEeP4atP1ptAFXyTTliOOlWqBQIqtEccUhiJHIq5S0DNDSYNkIOK3E4Udqz9N/4960T1H0rkqas9fD6QRWmGWqs4wauS9DVSTrSgKoVm69KTBA6VI3WnD7tbWOVkJUkZxRjBxirH8NNb7wppIRWIwaZIhqVutL/DTJZQKsGpQD6VO3WgU7GdyIx56Cm7WRqtimSdaLCbBWBXb3pTAwGaii/wBcK0h9ygzaKRBQ1MoytNl+9Ui9KBDChprKQOlTjrSv0oBFFg1KqtsIqd6O1Ayuqkg5pwT2qSPvUlAFd121GV5zVmXrUZ6UrDuR7Nw6VEYiMnFXI6a33TVJCKgjPpTSjZ+7VxelCjihDuVRGcdKZ5RzVykNAXKDIfSozESOlXDQOlOwiiIiO1SoCO1TmgUwuMQHPSp8E/w0J1qwv3amyHcquuR0pgB3Y21Z/ipf+WlCQhgjbyelaekseh9agH+pqzp3+s/Gs6i906sK2ppGjNF3qmw56VoS1Tb71YRWh6VR2ZXeMntVaWLjOK0mqCXpWkTmmZ6AqavQnjJqs3SrMX3apxREJO9iQfShlz2pwp1RY3TuiHbg0oBNPPWlFFiepUaPJprwluKsnqacvSqJZnm3KikER71ot92oGpmbRW8o0CNu1Wj0oFAWKxjYDNAVjVl/uUi0AQ7T6UpjJXpUx61J2p2BlDaV7VGyse1XT1ppoRnJ6ldEanGIhanTrT2+7SZSKixmlCGpx0ooArshzTwhxUjdacOtNoIkPltmgIxNXP4aYOtIoqMrUgQ45FWX60ClYRW8s+lHltVqinYopGDPamNDjtV6kbpTRm0ZrL221A0JzmtB+tRmrsc7KgRqkEbFealHWpU6U2hIz2gbrigWzN2rSYDbTkA9KBmX9lcdKa1vKRya1QOaJAM9KAsZJt2OOKekDCr5FKKBLcoG3ZuKctiwq73qyg4oehcVcz0siTjFO+xBTzitNQM1DN1qWzXkViiyqARiqcsBJzV56aPumrSOecr6GZ9nJOBUiwMvUVbH36kpmZQMJ9KBA2Kv0CiwFMxEjGKBER2q7RSsBTMPtQIPlPFXj0pD900WApLF7U4xEjGKsp96pKAKXkk9qd5J9KuCnUWA/9k=\" />"
            ]
          },
          "metadata": {}
        }
      ]
    },
    {
      "cell_type": "markdown",
      "source": [
        "Image = ChatOpenAI(model=\"gpt-4-vision-preview\", max_tokens=1024)\n",
        "text = ChatOpenAI(temperature=0, model=\"gpt-4\")\n",
        "See : https://github.com/sudarshan-koirala/youtube-stuffs/blob/main/langchain/LangChain_Multi_modal_RAG.ipynb\n"
      ],
      "metadata": {
        "id": "qVGL6Pve6EA7"
      }
    }
  ]
}